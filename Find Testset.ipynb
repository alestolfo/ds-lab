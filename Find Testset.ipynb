{
 "cells": [
  {
   "cell_type": "markdown",
   "metadata": {},
   "source": [
    "# First approach: generate test set in such a way that the percentage of test data is constant for every experiment (mri only, eeg only, mixed, mri+dti)"
   ]
  },
  {
   "cell_type": "code",
   "execution_count": 1,
   "metadata": {},
   "outputs": [
    {
     "name": "stderr",
     "output_type": "stream",
     "text": [
      "/home/camillca/anaconda3/envs/dslab/lib/python3.6/site-packages/tensorflow/python/framework/dtypes.py:517: FutureWarning: Passing (type, 1) or '1type' as a synonym of type is deprecated; in a future version of numpy, it will be understood as (type, (1,)) / '(1,)type'.\n",
      "  _np_qint8 = np.dtype([(\"qint8\", np.int8, 1)])\n",
      "/home/camillca/anaconda3/envs/dslab/lib/python3.6/site-packages/tensorflow/python/framework/dtypes.py:518: FutureWarning: Passing (type, 1) or '1type' as a synonym of type is deprecated; in a future version of numpy, it will be understood as (type, (1,)) / '(1,)type'.\n",
      "  _np_quint8 = np.dtype([(\"quint8\", np.uint8, 1)])\n",
      "/home/camillca/anaconda3/envs/dslab/lib/python3.6/site-packages/tensorflow/python/framework/dtypes.py:519: FutureWarning: Passing (type, 1) or '1type' as a synonym of type is deprecated; in a future version of numpy, it will be understood as (type, (1,)) / '(1,)type'.\n",
      "  _np_qint16 = np.dtype([(\"qint16\", np.int16, 1)])\n",
      "/home/camillca/anaconda3/envs/dslab/lib/python3.6/site-packages/tensorflow/python/framework/dtypes.py:520: FutureWarning: Passing (type, 1) or '1type' as a synonym of type is deprecated; in a future version of numpy, it will be understood as (type, (1,)) / '(1,)type'.\n",
      "  _np_quint16 = np.dtype([(\"quint16\", np.uint16, 1)])\n",
      "/home/camillca/anaconda3/envs/dslab/lib/python3.6/site-packages/tensorflow/python/framework/dtypes.py:521: FutureWarning: Passing (type, 1) or '1type' as a synonym of type is deprecated; in a future version of numpy, it will be understood as (type, (1,)) / '(1,)type'.\n",
      "  _np_qint32 = np.dtype([(\"qint32\", np.int32, 1)])\n",
      "/home/camillca/anaconda3/envs/dslab/lib/python3.6/site-packages/tensorflow/python/framework/dtypes.py:526: FutureWarning: Passing (type, 1) or '1type' as a synonym of type is deprecated; in a future version of numpy, it will be understood as (type, (1,)) / '(1,)type'.\n",
      "  np_resource = np.dtype([(\"resource\", np.ubyte, 1)])\n"
     ]
    }
   ],
   "source": [
    "from utils import visualize, create_dataset_age, create_dataset_eeg, cv\n",
    "from utils import create_dataset_mri, create_dataset_eeg\n",
    "import pandas as pd"
   ]
  },
  {
   "cell_type": "code",
   "execution_count": 2,
   "metadata": {},
   "outputs": [],
   "source": [
    "def find_test_split(TEST_PERC=0.15, repetitions = 200):\n",
    "    # Load the datasets\n",
    "    data_dti = create_dataset_mri(DTI = True)\n",
    "    data_mri = create_dataset_mri()\n",
    "    data_eeg = create_dataset_eeg()\n",
    "    data_eeg = data_eeg.rename(columns={'id': 'ID'})\n",
    "    # Mixed dataset eeg + mri\n",
    "    data_mixed = pd.merge(data_mri, data_eeg, on='ID', how='inner')\n",
    "    behavioral = pd.read_csv('data/Behavioral/cleaned/HBNFinalSummaries.csv')\n",
    "    # Extract the IDs\n",
    "    id_mri = data_mri[['ID']]\n",
    "    id_dti = data_dti[['ID']]\n",
    "    id_eeg = data_eeg[['ID']]\n",
    "    id_mixed = data_mixed[['ID']]\n",
    "    id_behavioral = behavioral[['EID']]\n",
    "    # Compute the target number of test samples\n",
    "    target_mri = id_mri.shape[0]*TEST_PERC\n",
    "    target_dti = id_dti.shape[0]*TEST_PERC\n",
    "    target_eeg = id_eeg.shape[0]*TEST_PERC\n",
    "    target_mixed = id_mixed.shape[0]*TEST_PERC\n",
    "    # Delete indices that are not in MRI, DTI or EEG from behavioral\n",
    "    union = set(id_mri.iloc[:,0]).union(set(id_dti.iloc[:,0])).union(set(id_eeg.iloc[:,0]))\n",
    "    id_behavioral = pd.DataFrame(set(id_behavioral.iloc[:,0]).intersection(union))\n",
    "    # Store lowest possible error and corresponding random_state\n",
    "    error = float('inf')\n",
    "    seed = 0\n",
    "    for i in range(repetitions):\n",
    "        # Extract potential test indices\n",
    "        test_indices = id_behavioral.sample(frac=TEST_PERC, random_state = i)\n",
    "        # Compute intersection with the three datasets\n",
    "        common_mri = len(set(test_indices.iloc[:,0]).intersection(set(id_mri.iloc[:,0])))\n",
    "        common_dti = len(set(test_indices.iloc[:,0]).intersection(set(id_dti.iloc[:,0])))\n",
    "        common_eeg = len(set(test_indices.iloc[:,0]).intersection(set(id_eeg.iloc[:,0])))\n",
    "        common_mixed = len(set(test_indices.iloc[:,0]).intersection(set(id_mixed.iloc[:,0])))\n",
    "        cur_error = (abs(target_mri-common_mri)/id_mri.shape[0] + abs(target_dti-common_dti)/id_dti.shape[0]\n",
    "                     + abs(target_eeg-common_eeg)/id_eeg.shape[0] + abs(target_mixed-common_mixed)/id_mixed.shape[0])\n",
    "        if cur_error < error:\n",
    "            error = cur_error\n",
    "            seed = i\n",
    "    selected_test_indices = id_behavioral.sample(frac=TEST_PERC, random_state = seed)\n",
    "    return selected_test_indices\n",
    "        \n",
    "        "
   ]
  },
  {
   "cell_type": "code",
   "execution_count": 3,
   "metadata": {},
   "outputs": [
    {
     "name": "stderr",
     "output_type": "stream",
     "text": [
      "/home/camillca/anaconda3/envs/dslab/lib/python3.6/site-packages/IPython/core/interactiveshell.py:3326: DtypeWarning: Columns (50,78,80,91,92,93,94,95,105,106,107,108,109,119,120,121,123,133,134,135,137,276,291,292,295,296,297,300,301,302,305,306,307) have mixed types. Specify dtype option on import or set low_memory=False.\n",
      "  exec(code_obj, self.user_global_ns, self.user_ns)\n",
      "/home/camillca/anaconda3/envs/dslab/lib/python3.6/site-packages/IPython/core/interactiveshell.py:3249: DtypeWarning: Columns (50,78,80,91,92,93,94,95,105,106,107,108,109,119,120,121,123,133,134,135,137,276,291,292,295,296,297,300,301,302,305,306,307) have mixed types. Specify dtype option on import or set low_memory=False.\n",
      "  if (await self.run_code(code, result,  async_=asy)):\n"
     ]
    }
   ],
   "source": [
    "indices = find_test_split()"
   ]
  },
  {
   "cell_type": "markdown",
   "metadata": {},
   "source": [
    "## Verify if the intersections are good"
   ]
  },
  {
   "cell_type": "code",
   "execution_count": 2,
   "metadata": {},
   "outputs": [
    {
     "name": "stderr",
     "output_type": "stream",
     "text": [
      "/home/camillca/anaconda3/envs/dslab/lib/python3.6/site-packages/IPython/core/interactiveshell.py:3249: DtypeWarning: Columns (50,78,80,91,92,93,94,95,105,106,107,108,109,119,120,121,123,133,134,135,137,276,291,292,295,296,297,300,301,302,305,306,307) have mixed types. Specify dtype option on import or set low_memory=False.\n",
      "  if (await self.run_code(code, result,  async_=asy)):\n",
      "/home/camillca/anaconda3/envs/dslab/lib/python3.6/site-packages/IPython/core/interactiveshell.py:3058: DtypeWarning: Columns (50,78,80,91,92,93,94,95,105,106,107,108,109,119,120,121,123,133,134,135,137,276,291,292,295,296,297,300,301,302,305,306,307) have mixed types. Specify dtype option on import or set low_memory=False.\n",
      "  interactivity=interactivity, compiler=compiler, result=result)\n"
     ]
    }
   ],
   "source": [
    "TEST_PERC = 0.15\n",
    "data_dti = create_dataset_mri(DTI = True)\n",
    "data_mri = create_dataset_mri()\n",
    "data_eeg = create_dataset_eeg()\n",
    "data_eeg = data_eeg.rename(columns={'id': 'ID'})\n",
    "# Mixed dataset eeg + mri\n",
    "data_mixed = pd.merge(data_mri, data_eeg, on='ID', how='inner')\n",
    "behavioral = pd.read_csv('data/Behavioral/cleaned/HBNFinalSummaries.csv')\n",
    "# Extract the IDs\n",
    "id_mri = data_mri[['ID']]\n",
    "id_dti = data_dti[['ID']]\n",
    "id_eeg = data_eeg[['ID']]\n",
    "id_mixed = data_mixed[['ID']]\n",
    "id_behavioral = behavioral[['EID']]\n",
    "# Compute the target number of test samples\n",
    "target_mri = id_mri.shape[0]*TEST_PERC\n",
    "target_dti = id_dti.shape[0]*TEST_PERC\n",
    "target_eeg = id_eeg.shape[0]*TEST_PERC\n",
    "target_mixed = id_mixed.shape[0]*TEST_PERC"
   ]
  },
  {
   "cell_type": "code",
   "execution_count": 5,
   "metadata": {},
   "outputs": [],
   "source": [
    "# Write to disk\n",
    "indices = set(indices.iloc[:,0])\n",
    "indices = pd.DataFrame(indices)\n",
    "indices.columns = ['ID']\n",
    "indices.to_csv('test_indices.csv', index = False)"
   ]
  },
  {
   "cell_type": "markdown",
   "metadata": {},
   "source": [
    "As can be seen from the following cells, the result is very precise!"
   ]
  },
  {
   "cell_type": "code",
   "execution_count": 6,
   "metadata": {},
   "outputs": [
    {
     "name": "stdout",
     "output_type": "stream",
     "text": [
      "171.9\n",
      "172\n"
     ]
    }
   ],
   "source": [
    "print(target_mri)\n",
    "print(len(set(id_mri.iloc[:,0]).intersection(set(indices.iloc[:,0]))))"
   ]
  },
  {
   "cell_type": "code",
   "execution_count": 7,
   "metadata": {},
   "outputs": [
    {
     "name": "stdout",
     "output_type": "stream",
     "text": [
      "125.69999999999999\n",
      "123\n"
     ]
    }
   ],
   "source": [
    "print(target_dti)\n",
    "print(len(set(id_dti.iloc[:,0]).intersection(set(indices.iloc[:,0]))))"
   ]
  },
  {
   "cell_type": "code",
   "execution_count": 8,
   "metadata": {},
   "outputs": [
    {
     "name": "stdout",
     "output_type": "stream",
     "text": [
      "195.9\n",
      "196\n"
     ]
    }
   ],
   "source": [
    "print(target_eeg)\n",
    "print(len(set(id_eeg.iloc[:,0]).intersection(set(indices.iloc[:,0]))))"
   ]
  },
  {
   "cell_type": "code",
   "execution_count": 9,
   "metadata": {},
   "outputs": [
    {
     "name": "stdout",
     "output_type": "stream",
     "text": [
      "120.75\n",
      "121\n"
     ]
    }
   ],
   "source": [
    "print(target_mixed)\n",
    "print(len(set(id_mixed.iloc[:,0]).intersection(set(indices.iloc[:,0]))))"
   ]
  },
  {
   "cell_type": "markdown",
   "metadata": {},
   "source": [
    "# Second approach: take a fixed test set in the intersection of MRI, EEG and DTI"
   ]
  },
  {
   "cell_type": "code",
   "execution_count": 47,
   "metadata": {},
   "outputs": [],
   "source": [
    "data_dti = create_dataset_mri(DTI = True)\n",
    "data_mri = create_dataset_mri()\n",
    "data_eeg = create_dataset_eeg()\n",
    "data_eeg = data_eeg.rename(columns={'id': 'ID'})\n",
    "\n",
    "# Mixed dataset eeg + mri\n",
    "data_mixed = pd.merge(data_mri, data_eeg, on=['ID', 'Age', 'DX_01_Cat', 'DX_01', 'DX_01_Sub'], how='inner')\n",
    "\n",
    "# Extract the IDs\n",
    "id_mri = data_mri[['ID']]\n",
    "id_dti = data_dti[['ID']]\n",
    "id_eeg = data_eeg[['ID']]\n",
    "id_mixed = data_mixed[['ID']]\n",
    "\n",
    "\n",
    "data_eeg.drop(columns=['DX_01_Cat', 'DX_01', 'DX_01_Sub'], inplace=True)\n",
    "data_mri.drop(columns=['DX_01_Cat', 'DX_01', 'DX_01_Sub'], inplace=True)\n",
    "data_mixed.drop(columns=['DX_01_Cat', 'DX_01', 'DX_01_Sub'], inplace=True)"
   ]
  },
  {
   "cell_type": "code",
   "execution_count": 48,
   "metadata": {},
   "outputs": [],
   "source": [
    "data_mixed.dropna(axis = 0, inplace = True)\n",
    "data_eeg.dropna(axis = 0, inplace = True)"
   ]
  },
  {
   "cell_type": "code",
   "execution_count": 49,
   "metadata": {},
   "outputs": [],
   "source": [
    "total = pd.merge(data_mixed, data_dti, on=['ID', 'Age'], how='inner')"
   ]
  },
  {
   "cell_type": "code",
   "execution_count": 50,
   "metadata": {},
   "outputs": [
    {
     "data": {
      "text/plain": [
       "(355, 824)"
      ]
     },
     "execution_count": 50,
     "metadata": {},
     "output_type": "execute_result"
    }
   ],
   "source": [
    "total.shape"
   ]
  },
  {
   "cell_type": "code",
   "execution_count": 51,
   "metadata": {},
   "outputs": [],
   "source": [
    "id_total = total[['ID']]"
   ]
  },
  {
   "cell_type": "code",
   "execution_count": 52,
   "metadata": {},
   "outputs": [],
   "source": [
    "indices_test = id_total.sample(frac=0.48, random_state = 70)"
   ]
  },
  {
   "cell_type": "code",
   "execution_count": 53,
   "metadata": {},
   "outputs": [
    {
     "data": {
      "text/plain": [
       "(170, 1)"
      ]
     },
     "execution_count": 53,
     "metadata": {},
     "output_type": "execute_result"
    }
   ],
   "source": [
    "indices_fixed.shape"
   ]
  },
  {
   "cell_type": "code",
   "execution_count": 54,
   "metadata": {},
   "outputs": [],
   "source": [
    "# Write to disk\n",
    "indices_fixed.to_csv('test_IDS.csv', index=False)"
   ]
  },
  {
   "cell_type": "code",
   "execution_count": 56,
   "metadata": {},
   "outputs": [
    {
     "data": {
      "text/plain": [
       "0"
      ]
     },
     "execution_count": 56,
     "metadata": {},
     "output_type": "execute_result"
    }
   ],
   "source": [
    "data_mixed.isna().sum().sum()"
   ]
  },
  {
   "cell_type": "code",
   "execution_count": null,
   "metadata": {},
   "outputs": [],
   "source": []
  }
 ],
 "metadata": {
  "kernelspec": {
   "display_name": "dslab",
   "language": "python",
   "name": "dslab"
  },
  "language_info": {
   "codemirror_mode": {
    "name": "ipython",
    "version": 3
   },
   "file_extension": ".py",
   "mimetype": "text/x-python",
   "name": "python",
   "nbconvert_exporter": "python",
   "pygments_lexer": "ipython3",
   "version": "3.6.9"
  }
 },
 "nbformat": 4,
 "nbformat_minor": 2
}
