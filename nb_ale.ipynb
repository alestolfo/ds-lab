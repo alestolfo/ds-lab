{
 "cells": [
  {
   "cell_type": "code",
   "execution_count": 3,
   "metadata": {},
   "outputs": [],
   "source": [
    "# libraries\n",
    "import pandas as pd\n",
    "import numpy as np\n",
    "from sklearn.ensemble import RandomForestRegressor\n",
    "from sklearn.svm import SVR\n",
    "from sklearn.impute import SimpleImputer\n",
    "from sklearn.model_selection import cross_val_score\n",
    "from sklearn.preprocessing import StandardScaler\n",
    "from sklearn.feature_selection import RFECV\n",
    "from sklearn.model_selection import KFold\n",
    "from sklearn.linear_model import LinearRegression\n",
    "import matplotlib.pyplot as plt\n",
    "import seaborn as sns\n",
    "from utils import create_dataset_mri, cv\n",
    "\n",
    "#CDE\n",
    "from cde.density_estimator import MixtureDensityNetwork\n",
    "from tensorflow.python.keras.activations import tanh"
   ]
  },
  {
   "cell_type": "code",
   "execution_count": 4,
   "metadata": {},
   "outputs": [],
   "source": [
    "import warnings\n",
    "warnings.filterwarnings('ignore')"
   ]
  },
  {
   "cell_type": "code",
   "execution_count": 5,
   "metadata": {},
   "outputs": [
    {
     "name": "stdout",
     "output_type": "stream",
     "text": [
      "(2096, 7042)\n"
     ]
    }
   ],
   "source": [
    "# load the data\n",
    "behavioral = pd.read_csv(\"data/Behavioral/AllData.csv\")\n",
    "# eeg_average = pd.read_csv(\"data/EEG/resting_eeg_average.csv\")\n",
    "# eeg_channels = pd.read_csv(\"data/EEG/resting_eeg_channels.csv\")\n",
    "# eeg_clusters = pd.read_csv(\"data/EEG/resting_eeg_clusters.csv\")\n",
    "\n",
    "# general info\n",
    "shape = behavioral.shape  #2096, 7042\n",
    "print(shape)"
   ]
  },
  {
   "cell_type": "code",
   "execution_count": 4,
   "metadata": {},
   "outputs": [
    {
     "data": {
      "text/plain": [
       "['SWAN_01',\n",
       " 'SWAN_02',\n",
       " 'SWAN_03',\n",
       " 'SWAN_04',\n",
       " 'SWAN_05',\n",
       " 'SWAN_06',\n",
       " 'SWAN_07',\n",
       " 'SWAN_08',\n",
       " 'SWAN_09',\n",
       " 'SWAN_10',\n",
       " 'SWAN_11',\n",
       " 'SWAN_12',\n",
       " 'SWAN_13',\n",
       " 'SWAN_14',\n",
       " 'SWAN_15',\n",
       " 'SWAN_16',\n",
       " 'SWAN_17',\n",
       " 'SWAN_18',\n",
       " 'SWAN_IN_Avg',\n",
       " 'SWAN_HY_Avg',\n",
       " 'SWAN_Avg']"
      ]
     },
     "execution_count": 4,
     "metadata": {},
     "output_type": "execute_result"
    }
   ],
   "source": [
    "list(filter(lambda x: \"SWAN\" in x, behavioral.columns))"
   ]
  },
  {
   "cell_type": "code",
   "execution_count": 5,
   "metadata": {},
   "outputs": [],
   "source": [
    "target = 'SWAN_HY_Avg'\n",
    "#disease = None\n",
    "disease = 'Attention-Deficit/Hyperactivity Disorder'\n",
    "category = 'DX_01_Sub' #Irrelevant since we are dropping the columns after"
   ]
  },
  {
   "cell_type": "code",
   "execution_count": 6,
   "metadata": {},
   "outputs": [
    {
     "name": "stdout",
     "output_type": "stream",
     "text": [
      "(463, 371)\n",
      "(450, 371)\n"
     ]
    }
   ],
   "source": [
    "# Create the dataset dropping the diagnosis columns since we are not interested in them\n",
    "data = create_dataset_mri(select_disease = disease, select_category = category, SCORE = target)\n",
    "try:\n",
    "    data.drop(columns=['DX_01_Cat'], inplace=True)\n",
    "except:\n",
    "    pass\n",
    "try:\n",
    "    data.drop(columns=['DX_01_Sub'], inplace=True)\n",
    "except:\n",
    "    pass\n",
    "try:\n",
    "    data.drop(columns=['DX_01'], inplace=True)\n",
    "except:\n",
    "    pass\n",
    "\n",
    "\n",
    "# Drop the rows with some NaNs\n",
    "\n",
    "print(data.shape)\n",
    "data.dropna(axis=0, inplace=True)\n",
    "print(data.shape)\n",
    "column_names = data.columns[2:]"
   ]
  },
  {
   "cell_type": "code",
   "execution_count": 7,
   "metadata": {},
   "outputs": [
    {
     "data": {
      "text/plain": [
       "array([ 1.888888,  0.666666,  1.444444,  1.222222,  0.777777,  0.555555,\n",
       "        1.666666,  2.      ,  2.222222, -0.444444,  0.888888,  0.444444,\n",
       "        0.333333,  2.333333,  0.111111,  0.      ,  2.777777,  1.      ,\n",
       "       -0.888888,  1.333333, -0.222222,  2.555555, -0.555555,  1.555555,\n",
       "       -0.111111, -1.222222, -0.666666,  1.777777,  1.111111,  0.222222,\n",
       "       -2.      , -0.333333,  2.111111, -1.333333,  2.666666,  3.      ,\n",
       "       -1.      , -2.333333, -1.555555, -1.777777, -2.222222, -2.666666,\n",
       "       -1.111111, -2.444444, -1.444444, -3.      ])"
      ]
     },
     "execution_count": 7,
     "metadata": {},
     "output_type": "execute_result"
    }
   ],
   "source": [
    "data[target].unique()"
   ]
  },
  {
   "cell_type": "code",
   "execution_count": 8,
   "metadata": {},
   "outputs": [],
   "source": [
    "# Define the labels and the features for regression\n",
    "y = data[target]\n",
    "X = data.drop([target, 'ID'], axis=1)\n",
    "scaler = StandardScaler()\n",
    "X_scaled = scaler.fit_transform(X)\n",
    "\n",
    "\n",
    "# Store the dimensionality of the input\n",
    "input_dim = X.shape[1]"
   ]
  },
  {
   "cell_type": "markdown",
   "metadata": {},
   "source": [
    "# Naive regression with the whole dataset"
   ]
  },
  {
   "cell_type": "code",
   "execution_count": 9,
   "metadata": {},
   "outputs": [
    {
     "name": "stdout",
     "output_type": "stream",
     "text": [
      "Prediction: 0.7597527822222222\n",
      "MSE: 0.9256829746520547\n"
     ]
    }
   ],
   "source": [
    "# Baseline: predict always the average\n",
    "pred = np.mean(y)\n",
    "mse = sum((pred - y)**2)/len(y)\n",
    "print('Prediction: {}'.format(pred))\n",
    "print('MSE: {}'.format(mse))"
   ]
  },
  {
   "cell_type": "code",
   "execution_count": 12,
   "metadata": {
    "scrolled": true
   },
   "outputs": [
    {
     "name": "stdout",
     "output_type": "stream",
     "text": [
      "[13.726560390426256, 11.678536111101463, 11.40741113624376, 12.85375674955374, 11.716286563128588, 15.611747385700253, 10.012030029087073, 11.264819270522063, 9.632618068242783, 11.125105621389595]\n",
      "\n",
      "Average MSE: 11.902887132539556\n"
     ]
    }
   ],
   "source": [
    "# Linear regression (qua c'è qualche errore, mse troppo alto)\n",
    "lr = LinearRegression()\n",
    "lr_cv_res = cv(lr, data=X_scaled, labels=y, n_splits=10)\n",
    "print(lr_cv_res)\n",
    "print('\\nAverage MSE: {}'.format(np.mean(lr_cv_res)))"
   ]
  },
  {
   "cell_type": "code",
   "execution_count": 13,
   "metadata": {},
   "outputs": [
    {
     "name": "stdout",
     "output_type": "stream",
     "text": [
      "[0.8483457900096906, 0.7687666163904371, 0.668689510659259, 0.9255312289404063, 0.7811757224152662, 0.9049823396092317, 0.5725072199709732, 1.2024298917934781, 0.6560587212247352, 1.5134209496891367]\n",
      "\n",
      "Average MSE: 0.8841907990702614\n"
     ]
    }
   ],
   "source": [
    "# SVM\n",
    "svm = SVR(kernel='rbf', C=1, epsilon=0.1)\n",
    "svm_cv_res = cv(svm, data=X_scaled, labels=y, n_splits=10)\n",
    "print(svm_cv_res)\n",
    "print('\\nAverage MSE: {}'.format(np.mean(svm_cv_res)))"
   ]
  },
  {
   "cell_type": "code",
   "execution_count": 20,
   "metadata": {},
   "outputs": [
    {
     "name": "stdout",
     "output_type": "stream",
     "text": [
      "[0.9603309230879913, 0.7381232281546996, 0.6909680717355688, 0.8991162780639032, 0.7641234922496699, 1.0029958895540394, 0.5430251589022541, 1.2087339005808402, 0.6761842523224478, 1.5458710015622639]\n",
      "\n",
      "Average MSE: 0.9029472196213678\n"
     ]
    }
   ],
   "source": [
    "# Random Forest\n",
    "rf = RandomForestRegressor(n_estimators=200, criterion='mse', n_jobs=4)\n",
    "rf_cv_res = cv(rf, data=X, labels=y, n_splits=10)\n",
    "print(rf_cv_res)\n",
    "print('\\nAverage MSE: {}'.format(np.mean(rf_cv_res)))"
   ]
  },
  {
   "cell_type": "code",
   "execution_count": 16,
   "metadata": {},
   "outputs": [],
   "source": [
    "# CDE\n",
    "def cv_for_cde(data, labels, n_splits = 5):\n",
    "    '''\n",
    "    model: must be a sklearn object with .fit and .predict methods\n",
    "    data: the X matrix containing the features, can be a pd.DataFrame or a np object (array or matrix)\n",
    "    labels: y, can be a pd.DataFrame or a np array\n",
    "    n_splits: number of desired folds\n",
    "    => returns array of mean suqared error calculated on each fold\n",
    "    '''\n",
    "    kf = KFold(n_splits=n_splits)\n",
    "    data = np.array(data)\n",
    "    labels = np.array(labels)\n",
    "    mses = []\n",
    "    i = 1\n",
    "    for train, test in kf.split(data):\n",
    "        model = MixtureDensityNetwork(name=\"MDN\" + str(i),\n",
    "                              ndim_x=input_dim,\n",
    "                              ndim_y=1,\n",
    "                              n_centers=10,\n",
    "                              hidden_sizes=(16, 16),\n",
    "                              hidden_nonlinearity=tanh,\n",
    "                              n_training_epochs=1000,\n",
    "                              x_noise_std=1,\n",
    "                              y_noise_std=1\n",
    "                             )\n",
    "        \n",
    "        print(\"Split: {}\".format(i), end=\"\\r\")\n",
    "        X_train, X_test, y_train, y_test = data[train], data[test], labels[train], labels[test]\n",
    "        model.fit(X=X_train, Y=y_train, verbose=True)\n",
    "        pred = model.mean_(X_test)\n",
    "        pred = pred.reshape((-1,1)).flatten()\n",
    "        mse = sum((pred - y_test)**2)/len(test)\n",
    "        mses.append(mse)\n",
    "        i = i+1\n",
    "    return mses\n",
    "\n",
    "res = cv_for_cde(data=X, labels=y, n_splits=5)\n",
    "np.mean(res)"
   ]
  },
  {
   "cell_type": "markdown",
   "metadata": {},
   "source": [
    "# Feature Selection"
   ]
  },
  {
   "cell_type": "code",
   "execution_count": 24,
   "metadata": {},
   "outputs": [],
   "source": [
    "from sklearn.ensemble import ExtraTreesRegressor"
   ]
  },
  {
   "cell_type": "code",
   "execution_count": 25,
   "metadata": {},
   "outputs": [
    {
     "name": "stdout",
     "output_type": "stream",
     "text": [
      "Most relevant feature: lh_G_oc.temp_med.Lingual_thickness\n"
     ]
    },
    {
     "data": {
      "text/plain": [
       "<matplotlib.axes._subplots.AxesSubplot at 0x1a19aff7b8>"
      ]
     },
     "execution_count": 25,
     "metadata": {},
     "output_type": "execute_result"
    },
    {
     "data": {
      "image/png": "[encoded data removed]",
      "text/plain": [
       "<Figure size 432x288 with 1 Axes>"
      ]
     },
     "metadata": {
      "needs_background": "light"
     },
     "output_type": "display_data"
    }
   ],
   "source": [
    "# Tree-based feature selection\n",
    "tree = ExtraTreesRegressor(n_estimators=100, n_jobs=4)\n",
    "tree = tree.fit(X=X, y=y)\n",
    "weights = tree.feature_importances_\n",
    "\n",
    "# Display correlation between most relevant feature and signal\n",
    "most_relevant_feature = column_names[weights == max(weights)][0]\n",
    "dataset = data[[target, most_relevant_feature]]\n",
    "print('Most relevant feature: {}'.format(most_relevant_feature))\n",
    "sns.regplot(x = most_relevant_feature, y = target ,data = dataset)"
   ]
  },
  {
   "cell_type": "code",
   "execution_count": 26,
   "metadata": {
    "scrolled": false
   },
   "outputs": [
    {
     "name": "stdout",
     "output_type": "stream",
     "text": [
      "Index(['lh_G.S_frontomargin_thickness', 'lh_G.S_occipital_inf_thickness',\n",
      "       'lh_G_cuneus_thickness', 'lh_G_oc.temp_med.Lingual_thickness',\n",
      "       'lh_G_precentral_thickness', 'lh_G_temp_sup.Plan_polar_thickness',\n",
      "       'lh_S_calcarine_thickness', 'rh_G_front_inf.Opercular_thickness',\n",
      "       'rh_G_oc.temp_med.Lingual_thickness', 'rh_G_rectus_thickness',\n",
      "       'rh_S_calcarine_thickness', 'rh_S_circular_insula_ant_thickness',\n",
      "       'rh_S_suborbital_thickness', 'lh_G_cingul.Post.dorsal_volume',\n",
      "       'lh_S_orbital_med.olfact_volume', 'rh_G_cingul.Post.dorsal_volume',\n",
      "       'rh_G_front_inf.Triangul_volume', 'rh_S_collat_transv_post_volume',\n",
      "       'rh_S_interm_prim.Jensen_volume', 'rh_S_temporal_transverse_volume',\n",
      "       'rh_entorhinal_volume'],\n",
      "      dtype='object')\n"
     ]
    }
   ],
   "source": [
    "# Take the k most relevant features\n",
    "k = 20\n",
    "kth_weight = np.sort(weights)[::-1][k]\n",
    "k_most_relevant = column_names[weights>= kth_weight]\n",
    "print(k_most_relevant)"
   ]
  },
  {
   "cell_type": "markdown",
   "metadata": {},
   "source": [
    "# Regression with selected features"
   ]
  },
  {
   "cell_type": "markdown",
   "metadata": {},
   "source": [
    "Nota: in teoria questo sarebbe cheating, visto che in cross validation la feature selection andrebbe fatta solo sul training set mentre qua la stiamo facendo su tutti i dati, però lo stiamo facendo giusto per orientarci con le features e per capire se le cose migliorano in questo verso."
   ]
  },
  {
   "cell_type": "code",
   "execution_count": 27,
   "metadata": {},
   "outputs": [
    {
     "data": {
      "text/plain": [
       "(450, 21)"
      ]
     },
     "execution_count": 27,
     "metadata": {},
     "output_type": "execute_result"
    }
   ],
   "source": [
    "X_selected = data[list(k_most_relevant)]\n",
    "X_selected_scaled = scaler.fit_transform(X_selected)\n",
    "X_selected.shape"
   ]
  },
  {
   "cell_type": "code",
   "execution_count": 28,
   "metadata": {
    "scrolled": true
   },
   "outputs": [
    {
     "name": "stdout",
     "output_type": "stream",
     "text": [
      "Split: 1\r",
      "Split: 2\r",
      "Split: 3\r",
      "Split: 4\r",
      "Split: 5\r",
      "Split: 6\r",
      "Split: 7\r",
      "Split: 8\r",
      "Split: 9\r",
      "Split: 10\r",
      "[0.7568071475259921, 0.8595089041674716, 0.7699736431507157, 0.8360510111441076, 0.7428008272862954, 0.9785967347381208, 0.5747998935980297, 1.288538225260472, 0.6712359020618728, 1.3596309348518945]\n",
      "\n",
      "Average MSE: 0.8837943223784972\n"
     ]
    }
   ],
   "source": [
    "# Linear regression\n",
    "lr = LinearRegression()\n",
    "lr_cv_res = cv(lr, data=X_selected, labels=y, n_splits=10)\n",
    "print(lr_cv_res)\n",
    "print('\\nAverage MSE: {}'.format(np.mean(lr_cv_res)))"
   ]
  },
  {
   "cell_type": "code",
   "execution_count": 29,
   "metadata": {},
   "outputs": [
    {
     "name": "stdout",
     "output_type": "stream",
     "text": [
      "Split: 1\r",
      "Split: 2\r",
      "Split: 3\r",
      "Split: 4\r",
      "Split: 5\r",
      "Split: 6\r",
      "Split: 7\r",
      "Split: 8\r",
      "Split: 9\r",
      "Split: 10\r",
      "[0.7731502884872627, 0.8562380000886708, 0.6689584629758495, 0.8283563159436553, 0.7534722468304352, 0.9306524548512616, 0.5519923964752101, 1.3153520760552562, 0.5892271027189195, 1.4606603944185048]\n",
      "\n",
      "Average MSE: 0.8728059738845027\n"
     ]
    }
   ],
   "source": [
    "# SVM\n",
    "svm = SVR(kernel='rbf', C=1, epsilon=0.1)\n",
    "svm_cv_res = cv(svm, data=X_selected_scaled, labels=y, n_splits=10)\n",
    "print(svm_cv_res)\n",
    "print('\\nAverage MSE: {}'.format(np.mean(svm_cv_res)))"
   ]
  },
  {
   "cell_type": "code",
   "execution_count": 30,
   "metadata": {},
   "outputs": [
    {
     "name": "stdout",
     "output_type": "stream",
     "text": [
      "[0.8556876706213861, 0.7268044343922216, 0.7103945659255292, 0.9977770187099921, 0.7003671876507555, 0.9166054138733887, 0.5792472544375927, 1.2744871003165748, 0.5775947542658713, 1.4556195531378266]\n",
      "\n",
      "Average MSE: 0.8794584953331139\n"
     ]
    }
   ],
   "source": [
    "# Random Forest\n",
    "rf = RandomForestRegressor(n_estimators=100, criterion='mse', n_jobs=4)\n",
    "rf_cv_res = cv(rf, data=X_selected, labels=y, n_splits=10)\n",
    "print(rf_cv_res)\n",
    "print('\\nAverage MSE: {}'.format(np.mean(rf_cv_res)))"
   ]
  }
 ],
 "metadata": {
  "kernelspec": {
   "display_name": "py36",
   "language": "python",
   "name": "py36"
  },
  "language_info": {
   "codemirror_mode": {
    "name": "ipython",
    "version": 3
   },
   "file_extension": ".py",
   "mimetype": "text/x-python",
   "name": "python",
   "nbconvert_exporter": "python",
   "pygments_lexer": "ipython3",
   "version": "3.6.7"
  }
 },
 "nbformat": 4,
 "nbformat_minor": 2
}
