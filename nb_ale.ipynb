{
 "cells": [
  {
   "cell_type": "code",
   "execution_count": 37,
   "metadata": {},
   "outputs": [],
   "source": [
    "# libraries\n",
    "import pandas as pd\n",
    "import numpy as np\n",
    "from sklearn.ensemble import RandomForestRegressor\n",
    "from sklearn.svm import SVR\n",
    "from sklearn.impute import SimpleImputer\n",
    "from sklearn.model_selection import cross_val_score\n",
    "from sklearn.preprocessing import StandardScaler\n",
    "from sklearn.feature_selection import RFECV\n",
    "from sklearn.model_selection import KFold\n",
    "from sklearn.linear_model import LinearRegression\n",
    "import matplotlib.pyplot as plt\n",
    "import seaborn as sns\n",
    "import utils"
   ]
  },
  {
   "cell_type": "code",
   "execution_count": 2,
   "metadata": {},
   "outputs": [],
   "source": [
    "import warnings\n",
    "warnings.filterwarnings('ignore')"
   ]
  },
  {
   "cell_type": "code",
   "execution_count": 3,
   "metadata": {},
   "outputs": [
    {
     "name": "stdout",
     "output_type": "stream",
     "text": [
      "(2096, 7042)\n"
     ]
    }
   ],
   "source": [
    "# load the data\n",
    "behavioral = pd.read_csv(\"data/Behavioral/AllData.csv\")\n",
    "# eeg_average = pd.read_csv(\"data/EEG/resting_eeg_average.csv\")\n",
    "# eeg_channels = pd.read_csv(\"data/EEG/resting_eeg_channels.csv\")\n",
    "# eeg_clusters = pd.read_csv(\"data/EEG/resting_eeg_clusters.csv\")\n",
    "\n",
    "# general info\n",
    "shape = behavioral.shape  #2096, 7042\n",
    "print(shape)"
   ]
  },
  {
   "cell_type": "code",
   "execution_count": 4,
   "metadata": {},
   "outputs": [
    {
     "data": {
      "text/plain": [
       "['SWAN_01',\n",
       " 'SWAN_02',\n",
       " 'SWAN_03',\n",
       " 'SWAN_04',\n",
       " 'SWAN_05',\n",
       " 'SWAN_06',\n",
       " 'SWAN_07',\n",
       " 'SWAN_08',\n",
       " 'SWAN_09',\n",
       " 'SWAN_10',\n",
       " 'SWAN_11',\n",
       " 'SWAN_12',\n",
       " 'SWAN_13',\n",
       " 'SWAN_14',\n",
       " 'SWAN_15',\n",
       " 'SWAN_16',\n",
       " 'SWAN_17',\n",
       " 'SWAN_18',\n",
       " 'SWAN_IN_Avg',\n",
       " 'SWAN_HY_Avg',\n",
       " 'SWAN_Avg']"
      ]
     },
     "execution_count": 4,
     "metadata": {},
     "output_type": "execute_result"
    }
   ],
   "source": [
    "list(filter(lambda x: \"SWAN\" in x, behavioral.columns))"
   ]
  },
  {
   "cell_type": "code",
   "execution_count": 173,
   "metadata": {},
   "outputs": [],
   "source": [
    "target = 'SWAN_HY_Avg'\n",
    "#disease = None\n",
    "disease = 'Attention-Deficit/Hyperactivity Disorder'\n",
    "category = 'DX_01_Cat' #Irrelevant since we are dropping the columns after"
   ]
  },
  {
   "cell_type": "code",
   "execution_count": 174,
   "metadata": {},
   "outputs": [
    {
     "name": "stdout",
     "output_type": "stream",
     "text": [
      "(463, 371)\n",
      "(450, 371)\n"
     ]
    }
   ],
   "source": [
    "# Create the dataset dropping the diagnosis columns since we are not interested in them\n",
    "data = utils.create_dataset(select_disease = disease, select_category = category, SCORE = target)\n",
    "try:\n",
    "    data.drop(columns=['DX_01_Cat'], inplace=True)\n",
    "except:\n",
    "    pass\n",
    "try:\n",
    "    data.drop(columns=['DX_01_Sub'], inplace=True)\n",
    "except:\n",
    "    pass\n",
    "try:\n",
    "    data.drop(columns=['DX_01'], inplace=True)\n",
    "except:\n",
    "    pass\n",
    "\n",
    "\n",
    "# Drop the rows with some NaNs\n",
    "\n",
    "print(data.shape)\n",
    "data.dropna(axis=0, inplace=True)\n",
    "print(data.shape)\n",
    "column_names = data.columns[2:]"
   ]
  },
  {
   "cell_type": "code",
   "execution_count": 175,
   "metadata": {},
   "outputs": [
    {
     "data": {
      "text/plain": [
       "array([ 1.888888,  0.666666,  1.444444,  1.222222,  0.777777,  0.555555,\n",
       "        1.666666,  2.      ,  2.222222, -0.444444,  0.888888,  0.444444,\n",
       "        0.333333,  2.333333,  0.111111,  0.      ,  2.777777,  1.      ,\n",
       "       -0.888888,  1.333333, -0.222222,  2.555555, -0.555555,  1.555555,\n",
       "       -0.111111, -1.222222, -0.666666,  1.777777,  1.111111,  0.222222,\n",
       "       -2.      , -0.333333,  2.111111, -1.333333,  2.666666,  3.      ,\n",
       "       -1.      , -2.333333, -1.555555, -1.777777, -2.222222, -2.666666,\n",
       "       -1.111111, -2.444444, -1.444444, -3.      ])"
      ]
     },
     "execution_count": 175,
     "metadata": {},
     "output_type": "execute_result"
    }
   ],
   "source": [
    "data[target].unique()"
   ]
  },
  {
   "cell_type": "code",
   "execution_count": 176,
   "metadata": {},
   "outputs": [],
   "source": [
    "# Define the labels and the features for regression\n",
    "y = data[target]\n",
    "X = data.drop([target, 'ID'], axis=1)\n",
    "scaler = StandardScaler()\n",
    "X_scaled = scaler.fit_transform(X)"
   ]
  },
  {
   "cell_type": "code",
   "execution_count": 177,
   "metadata": {},
   "outputs": [],
   "source": [
    "# Helper function for cross-validation\n",
    "def cv(model, data, labels, n_splits = 5):\n",
    "    '''\n",
    "    model: must be a sklearn object with .fit and .predict methods\n",
    "    data: the X matrix containing the features, can be a pd.DataFrame or a np object (array or matrix)\n",
    "    labels: y, can be a pd.DataFrame or a np array\n",
    "    n_splits: number of desired folds\n",
    "    => returns array of mean suqared error calculated on each fold\n",
    "    '''\n",
    "    kf = KFold(n_splits=n_splits)\n",
    "    data = np.array(data)\n",
    "    labels = np.array(labels)\n",
    "    mses = []\n",
    "    i = 1\n",
    "    for train, test in kf.split(data):\n",
    "        print(\"Split: {}\".format(i), end=\"\\r\")\n",
    "        X_train, X_test, y_train, y_test = data[train], data[test], labels[train], labels[test]\n",
    "        model.fit(X=X_train, y=y_train)\n",
    "        pred = model.predict(X_test)\n",
    "        mse = sum((pred - y_test)**2)/len(test)\n",
    "        mses.append(mse)\n",
    "        i = i+1\n",
    "    return mses"
   ]
  },
  {
   "cell_type": "markdown",
   "metadata": {},
   "source": [
    "# Naive regression with the whole dataset"
   ]
  },
  {
   "cell_type": "code",
   "execution_count": 178,
   "metadata": {},
   "outputs": [
    {
     "name": "stdout",
     "output_type": "stream",
     "text": [
      "Prediction: 0.7597527822222222\n",
      "MSE: 0.9256829746520547\n"
     ]
    }
   ],
   "source": [
    "# Baseline: predict always the average\n",
    "pred = np.mean(y)\n",
    "mse = sum((pred - y)**2)/len(y)\n",
    "print('Prediction: {}'.format(pred))\n",
    "print('MSE: {}'.format(mse))"
   ]
  },
  {
   "cell_type": "code",
   "execution_count": 179,
   "metadata": {
    "scrolled": true
   },
   "outputs": [
    {
     "name": "stdout",
     "output_type": "stream",
     "text": [
      "[13.726560390428839, 11.678536111101089, 11.407411136243203, 12.853756749553499, 11.716286563128183, 15.611747385701554, 10.012030029087036, 11.264819270521318, 9.632618068242701, 11.12510562138996]\n",
      "\n",
      "Average MSE: 11.902887132539739\n"
     ]
    }
   ],
   "source": [
    "# Linear regression (qua c'è qualche errore, mse troppo alto)\n",
    "lr = LinearRegression()\n",
    "lr_cv_res = cv(lr, data=X_scaled, labels=y, n_splits=10)\n",
    "print(lr_cv_res)\n",
    "print('\\nAverage MSE: {}'.format(np.mean(lr_cv_res)))"
   ]
  },
  {
   "cell_type": "code",
   "execution_count": 180,
   "metadata": {},
   "outputs": [
    {
     "name": "stdout",
     "output_type": "stream",
     "text": [
      "[0.8483457900096906, 0.7687666163904371, 0.668689510659259, 0.9255312289404063, 0.7811757224152662, 0.9049823396092317, 0.5725072199709732, 1.2024298917934781, 0.6560587212247352, 1.5134209496891367]\n",
      "\n",
      "Average MSE: 0.8841907990702614\n"
     ]
    }
   ],
   "source": [
    "# SVM\n",
    "svm = SVR(kernel='rbf', C=1, epsilon=0.1)\n",
    "svm_cv_res = cv(svm, data=X_scaled, labels=y, n_splits=10)\n",
    "print(svm_cv_res)\n",
    "print('\\nAverage MSE: {}'.format(np.mean(svm_cv_res)))"
   ]
  },
  {
   "cell_type": "code",
   "execution_count": 181,
   "metadata": {},
   "outputs": [
    {
     "name": "stdout",
     "output_type": "stream",
     "text": [
      "[0.9335581510502703, 0.7300891439670038, 0.6787408144159226, 0.8897119836469162, 0.7701335854737061, 1.0391687293024119, 0.5541615108180572, 1.238519859482776, 0.6811699135918613, 1.5342310681148017]\n",
      "\n",
      "Average MSE: 0.9049484759863727\n"
     ]
    }
   ],
   "source": [
    "# Random Forest\n",
    "rf = RandomForestRegressor(n_estimators=200, criterion='mse', n_jobs=4)\n",
    "rf_cv_res = cv(rf, data=X, labels=y, n_splits=10)\n",
    "print(rf_cv_res)\n",
    "print('\\nAverage MSE: {}'.format(np.mean(rf_cv_res)))"
   ]
  },
  {
   "cell_type": "markdown",
   "metadata": {},
   "source": [
    "# Feature Selection"
   ]
  },
  {
   "cell_type": "code",
   "execution_count": 17,
   "metadata": {},
   "outputs": [],
   "source": [
    "from sklearn.ensemble import ExtraTreesRegressor\n",
    "from sklearn.feature_selection"
   ]
  },
  {
   "cell_type": "code",
   "execution_count": 182,
   "metadata": {},
   "outputs": [
    {
     "name": "stdout",
     "output_type": "stream",
     "text": [
      "Most relevant feature: lh_G_oc.temp_med.Lingual_thickness\n"
     ]
    },
    {
     "data": {
      "text/plain": [
       "<matplotlib.axes._subplots.AxesSubplot at 0x1a4ad0c940>"
      ]
     },
     "execution_count": 182,
     "metadata": {},
     "output_type": "execute_result"
    },
    {
     "data": {
      "image/png": "[encoded data removed]",
      "text/plain": [
       "<Figure size 432x288 with 1 Axes>"
      ]
     },
     "metadata": {
      "needs_background": "light"
     },
     "output_type": "display_data"
    }
   ],
   "source": [
    "# Tree-based feature selection\n",
    "tree = ExtraTreesRegressor(n_estimators=100, n_jobs=4)\n",
    "tree = tree.fit(X=X, y=y)\n",
    "weights = tree.feature_importances_\n",
    "\n",
    "# Display correlation between most relevant feature and signal\n",
    "most_relevant_feature = column_names[weights == max(weights)][0]\n",
    "dataset = data[[target, most_relevant_feature]]\n",
    "print('Most relevant feature: {}'.format(most_relevant_feature))\n",
    "sns.regplot(x = most_relevant_feature, y = target ,data = dataset)"
   ]
  },
  {
   "cell_type": "code",
   "execution_count": 183,
   "metadata": {
    "scrolled": false
   },
   "outputs": [
    {
     "name": "stdout",
     "output_type": "stream",
     "text": [
      "Index(['lh_G_oc.temp_med.Lingual_thickness', 'lh_G_subcallosal_thickness',\n",
      "       'lh_G_temp_sup.Plan_polar_thickness',\n",
      "       'lh_Lat_Fis.ant.Horizont_thickness',\n",
      "       'lh_Lat_Fis.ant.Vertical_thickness', 'lh_S_calcarine_thickness',\n",
      "       'lh_S_collat_transv_ant_thickness', 'rh_G.S_transv_frontopol_thickness',\n",
      "       'rh_G_oc.temp_med.Lingual_thickness', 'rh_G_rectus_thickness',\n",
      "       'rh_S_calcarine_thickness', 'rh_S_cingul.Marginalis_thickness',\n",
      "       'rh_S_circular_insula_ant_thickness', 'lh_G_cingul.Post.dorsal_volume',\n",
      "       'lh_G_precuneus_volume', 'lh_S_orbital_med.olfact_volume',\n",
      "       'rh_G_cingul.Post.dorsal_volume', 'rh_G_front_inf.Triangul_volume',\n",
      "       'rh_S_collat_transv_post_volume', 'rh_S_interm_prim.Jensen_volume',\n",
      "       'rh_precuneus_volume'],\n",
      "      dtype='object')\n"
     ]
    }
   ],
   "source": [
    "# Take the k most relevant features\n",
    "k = 20\n",
    "kth_weight = np.sort(weights)[::-1][k]\n",
    "k_most_relevant = column_names[weights>= kth_weight]\n",
    "print(k_most_relevant)"
   ]
  },
  {
   "cell_type": "markdown",
   "metadata": {},
   "source": [
    "# Regression with selected features"
   ]
  },
  {
   "cell_type": "markdown",
   "metadata": {},
   "source": [
    "Nota: in teoria questo sarebbe cheating, visto che in cross validation la feature selection andrebbe fatta solo sul training set mentre qua la stiamo facendo su tutti i dati, però lo stiamo facendo giusto per orientarci con le features e per capire se le cose migliorano in questo verso."
   ]
  },
  {
   "cell_type": "code",
   "execution_count": 185,
   "metadata": {},
   "outputs": [
    {
     "data": {
      "text/plain": [
       "(450, 21)"
      ]
     },
     "execution_count": 185,
     "metadata": {},
     "output_type": "execute_result"
    }
   ],
   "source": [
    "X_selected = data[list(k_most_relevant)]\n",
    "X_selected_scaled = scaler.fit_transform(X_selected)\n",
    "X_selected.shape"
   ]
  },
  {
   "cell_type": "code",
   "execution_count": 186,
   "metadata": {
    "scrolled": true
   },
   "outputs": [
    {
     "name": "stdout",
     "output_type": "stream",
     "text": [
      "Split: 1\r",
      "Split: 2\r",
      "Split: 3\r",
      "Split: 4\r",
      "Split: 5\r",
      "Split: 6\r",
      "Split: 7\r",
      "Split: 8\r",
      "Split: 9\r",
      "Split: 10\r",
      "[0.7537402124625618, 0.9309739098252343, 0.7541839873496503, 0.919300400792957, 0.7360145821590538, 0.9778816987576648, 0.5470779475604204, 1.1379808086103758, 0.6876074813133918, 1.4456730667251343]\n",
      "\n",
      "Average MSE: 0.8890434095556443\n"
     ]
    }
   ],
   "source": [
    "# Linear regression\n",
    "lr = LinearRegression()\n",
    "lr_cv_res = cv(lr, data=X_selected, labels=y, n_splits=10)\n",
    "print(lr_cv_res)\n",
    "print('\\nAverage MSE: {}'.format(np.mean(lr_cv_res)))"
   ]
  },
  {
   "cell_type": "code",
   "execution_count": 187,
   "metadata": {},
   "outputs": [
    {
     "name": "stdout",
     "output_type": "stream",
     "text": [
      "Split: 1\r",
      "Split: 2\r",
      "Split: 3\r",
      "Split: 4\r",
      "Split: 5\r",
      "Split: 6\r",
      "Split: 7\r",
      "Split: 8\r",
      "Split: 9\r",
      "Split: 10\r",
      "[0.856163214322674, 0.9162690162773414, 0.5742647004464811, 0.9209680034377334, 0.848863196088377, 0.9014026855508258, 0.6259935924465103, 1.3182642369470712, 0.7017501239064305, 1.4892403835207202]\n",
      "\n",
      "Average MSE: 0.9153179152944164\n"
     ]
    }
   ],
   "source": [
    "# SVM\n",
    "svm = SVR(kernel='rbf', C=1, epsilon=0.1)\n",
    "svm_cv_res = cv(svm, data=X_selected_scaled, labels=y, n_splits=10)\n",
    "print(svm_cv_res)\n",
    "print('\\nAverage MSE: {}'.format(np.mean(svm_cv_res)))"
   ]
  },
  {
   "cell_type": "code",
   "execution_count": 188,
   "metadata": {},
   "outputs": [
    {
     "name": "stdout",
     "output_type": "stream",
     "text": [
      "[0.9292397111843924, 0.6884188816736464, 0.6871483045873654, 0.9065949006210384, 0.8616359139955498, 0.9445020277597069, 0.5433135865999406, 1.1733358733043997, 0.6642924147172983, 1.381625950961804]\n",
      "\n",
      "Average MSE: 0.8780107565405142\n"
     ]
    }
   ],
   "source": [
    "# Random Forest\n",
    "rf = RandomForestRegressor(n_estimators=100, criterion='mse', n_jobs=4)\n",
    "rf_cv_res = cv(rf, data=X_selected, labels=y, n_splits=10)\n",
    "print(rf_cv_res)\n",
    "print('\\nAverage MSE: {}'.format(np.mean(rf_cv_res)))"
   ]
  }
 ],
 "metadata": {
  "kernelspec": {
   "display_name": "py36",
   "language": "python",
   "name": "py36"
  },
  "language_info": {
   "codemirror_mode": {
    "name": "ipython",
    "version": 3
   },
   "file_extension": ".py",
   "mimetype": "text/x-python",
   "name": "python",
   "nbconvert_exporter": "python",
   "pygments_lexer": "ipython3",
   "version": "3.6.7"
  }
 },
 "nbformat": 4,
 "nbformat_minor": 2
}
