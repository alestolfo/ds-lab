{
 "cells": [
  {
   "cell_type": "code",
   "execution_count": 2,
   "metadata": {},
   "outputs": [],
   "source": [
    "# libraries\n",
    "import pandas as pd\n",
    "import numpy as np\n",
    "from sklearn.ensemble import RandomForestRegressor, ExtraTreesRegressor\n",
    "from sklearn.svm import SVR\n",
    "from sklearn.impute import SimpleImputer\n",
    "from sklearn.model_selection import cross_val_score\n",
    "from sklearn.preprocessing import StandardScaler\n",
    "from sklearn.feature_selection import RFECV, SelectKBest, SelectFromModel\n",
    "from sklearn.model_selection import KFold\n",
    "from sklearn.linear_model import LinearRegression\n",
    "from sklearn.pipeline import Pipeline\n",
    "from sklearn.metrics import r2_score\n",
    "import matplotlib.pyplot as plt\n",
    "import seaborn as sns\n",
    "from utils import create_dataset_mri, cv\n",
    "\n",
    "\n",
    "#CDE\n",
    "#from cde.density_estimator import MixtureDensityNetwork\n",
    "from tensorflow.python.keras.activations import tanh\n",
    "\n",
    "#TF\n",
    "import tensorflow as tf\n",
    "import tensorflow.keras as keras"
   ]
  },
  {
   "cell_type": "code",
   "execution_count": 3,
   "metadata": {},
   "outputs": [],
   "source": [
    "import warnings\n",
    "warnings.filterwarnings('ignore')"
   ]
  },
  {
   "cell_type": "code",
   "execution_count": 4,
   "metadata": {},
   "outputs": [
    {
     "name": "stdout",
     "output_type": "stream",
     "text": [
      "(2096, 7042)\n"
     ]
    }
   ],
   "source": [
    "# load the data\n",
    "behavioral = pd.read_csv(\"data/Behavioral/AllData.csv\")\n",
    "\n",
    "# general info\n",
    "shape = behavioral.shape  #2096, 7042\n",
    "print(shape)"
   ]
  },
  {
   "cell_type": "code",
   "execution_count": 5,
   "metadata": {},
   "outputs": [
    {
     "data": {
      "text/plain": [
       "['WISC_complete',\n",
       " 'WISC_incomplete_reason',\n",
       " 'WISC_BD_Raw',\n",
       " 'WISC_BD_Scaled',\n",
       " 'WISC_Similarities_Raw',\n",
       " 'WISC_Similarities_Scaled',\n",
       " 'WISC_MR_Raw',\n",
       " 'WISC_MR_Scaled',\n",
       " 'WISC_DS_Raw',\n",
       " 'WISC_DS_Scaled',\n",
       " 'WISC_Coding_Raw',\n",
       " 'WISC_Coding_Scaled',\n",
       " 'WISC_Vocab_Raw',\n",
       " 'WISC_Vocab_Scaled',\n",
       " 'WISC_FW_Raw',\n",
       " 'WISC_FW_Scaled',\n",
       " 'WISC_VP_Raw',\n",
       " 'WISC_VP_Scaled',\n",
       " 'WISC_PS_Raw',\n",
       " 'WISC_PS_Scaled',\n",
       " 'WISC_SS_Raw',\n",
       " 'WISC_SS_Scaled',\n",
       " 'WISC_VSI_Sum',\n",
       " 'WISC_VSI',\n",
       " 'WISC_VSI_Percentile',\n",
       " 'WISC_VCI_Sum',\n",
       " 'WISC_VCI',\n",
       " 'WISC_VCI_Percentile',\n",
       " 'WISC_FRI_Sum',\n",
       " 'WISC_FRI',\n",
       " 'WISC_FRI_Percentile',\n",
       " 'WISC_WMI_Sum',\n",
       " 'WISC_WMI',\n",
       " 'WISC_WMI_Percentile',\n",
       " 'WISC_PSI_Sum',\n",
       " 'WISC_PSI',\n",
       " 'WISC_PSI_Percentile',\n",
       " 'WISC_FSIQ_Sum',\n",
       " 'WISC_FSIQ',\n",
       " 'WISC_FSIQ_Percentile']"
      ]
     },
     "execution_count": 5,
     "metadata": {},
     "output_type": "execute_result"
    }
   ],
   "source": [
    "list(filter(lambda x: \"WISC\" in x, behavioral.columns))"
   ]
  },
  {
   "cell_type": "markdown",
   "metadata": {},
   "source": [
    "# Consider the dataset with all patients"
   ]
  },
  {
   "cell_type": "code",
   "execution_count": 5,
   "metadata": {},
   "outputs": [
    {
     "name": "stdout",
     "output_type": "stream",
     "text": [
      "(1146, 371)\n",
      "(842, 371)\n"
     ]
    },
    {
     "data": {
      "image/png": "[encoded data removed]",
      "text/plain": [
       "<Figure size 432x288 with 1 Axes>"
      ]
     },
     "metadata": {
      "needs_background": "light"
     },
     "output_type": "display_data"
    },
    {
     "name": "stdout",
     "output_type": "stream",
     "text": [
      "97.50118764845605\n",
      "284.05047364887355\n"
     ]
    }
   ],
   "source": [
    "target = 'WISC_FSIQ'\n",
    "disease = None\n",
    "#disease = 'Attention-Deficit/Hyperactivity Disorder'\n",
    "category = None\n",
    "#category = 'DX_01_Sub' #Irrelevant since we are dropping the columns after\n",
    "\n",
    "# Create the dataset dropping the diagnosis columns since we are not interested in them\n",
    "data = create_dataset_mri(select_disease = disease, select_category = category, SCORE = target)\n",
    "try:\n",
    "    data.drop(columns=['DX_01_Cat'], inplace=True)\n",
    "except:\n",
    "    pass\n",
    "try:\n",
    "    data.drop(columns=['DX_01_Sub'], inplace=True)\n",
    "except:\n",
    "    pass\n",
    "try:\n",
    "    data.drop(columns=['DX_01'], inplace=True)\n",
    "except:\n",
    "    pass\n",
    "\n",
    "\n",
    "# Drop the rows with some NaNs\n",
    "\n",
    "print(data.shape)\n",
    "data.dropna(axis=0, inplace=True)\n",
    "print(data.shape)\n",
    "column_names = data.columns[2:]\n",
    "\n",
    "\n",
    "# Plot distribution of the target variable\n",
    "plt.hist(data[target], 50, density=False, facecolor='g')\n",
    "plt.xlabel('{} values'.format(target))\n",
    "plt.ylabel('Occurrences')\n",
    "plt.title('Histogram of {} in all patients'.format(target))\n",
    "plt.show()\n",
    "\n",
    "print(np.mean(data[target]))\n",
    "print(np.var(data[target]))"
   ]
  },
  {
   "cell_type": "code",
   "execution_count": 6,
   "metadata": {},
   "outputs": [],
   "source": [
    "# Define the labels and the features for regression\n",
    "y = data[target]\n",
    "X = data.drop([target, 'ID'], axis=1)\n",
    "scaler = StandardScaler()\n",
    "X_scaled = scaler.fit_transform(X)\n",
    "\n",
    "\n",
    "# Store the dimensionality of the input\n",
    "input_dim = X.shape[1]"
   ]
  },
  {
   "cell_type": "markdown",
   "metadata": {},
   "source": [
    "## Define baseline"
   ]
  },
  {
   "cell_type": "code",
   "execution_count": 7,
   "metadata": {},
   "outputs": [
    {
     "name": "stdout",
     "output_type": "stream",
     "text": [
      "Prediction mean: 97.50118764845605\n",
      "MSE mean: 284.0504736488733\n",
      "R2 mean: 0.0\n",
      "\n",
      "Prediction median: 97.5\n",
      "MSE median: 284.05047505938245\n",
      "R2 median: -4.9656978529100115e-09\n"
     ]
    }
   ],
   "source": [
    "# Baseline: predict always the average\n",
    "pred = np.full_like(np.zeros(len(y)), fill_value=np.mean(y))\n",
    "mse = sum((pred - y)**2)/len(y)\n",
    "print('Prediction mean: {}'.format(np.mean(y)))\n",
    "print('MSE mean: {}'.format(mse))\n",
    "r2 = r2_score(y_pred=(pred), y_true=y)\n",
    "print('R2 mean: {}'.format(r2))\n",
    "\n",
    "pred = np.full_like(np.zeros(len(y)), fill_value=np.median(y))\n",
    "mse = sum((pred - y)**2)/len(y)\n",
    "print('\\nPrediction median: {}'.format(np.median(y)))\n",
    "print('MSE median: {}'.format(mse))\n",
    "r2 = r2_score(y_pred=pred, y_true=y)\n",
    "print('R2 median: {}'.format(r2))"
   ]
  },
  {
   "cell_type": "markdown",
   "metadata": {},
   "source": [
    "**Note:** the r^2 is defined as 1 minus the ratio between the MSE of the model and the MSE of the sample mean, so it does not give us any additional info but it makes the comparison with the baseline more immediate."
   ]
  },
  {
   "cell_type": "markdown",
   "metadata": {},
   "source": [
    "### Simple Linear Regression"
   ]
  },
  {
   "cell_type": "code",
   "execution_count": 8,
   "metadata": {},
   "outputs": [
    {
     "name": "stdout",
     "output_type": "stream",
     "text": [
      "MSE: 592.2573487421924\n",
      "R squared: -1.1311892692629426\n"
     ]
    }
   ],
   "source": [
    "pipe = Pipeline([ ('scaling', StandardScaler()),\n",
    "  ('lr', LinearRegression())\n",
    "])\n",
    "(mses, r2s) = cv(model=pipe, data=X, labels=y, n_splits=8, want_r2=True)\n",
    "\n",
    "mse = np.mean(mses)\n",
    "print('MSE: {}'.format(mse))\n",
    "r2 = np.mean(r2s)\n",
    "print('R squared: {}'.format(r2))"
   ]
  },
  {
   "cell_type": "markdown",
   "metadata": {},
   "source": [
    "### Linear Regression + Tree-based feature selection"
   ]
  },
  {
   "cell_type": "code",
   "execution_count": 9,
   "metadata": {},
   "outputs": [
    {
     "name": "stdout",
     "output_type": "stream",
     "text": [
      "MSE: 330.47819560313616\n",
      "R squared: -0.1772700310734136\n"
     ]
    }
   ],
   "source": [
    "pipe = Pipeline([ ('scaling', StandardScaler()),\n",
    "  ('feat_select', SelectFromModel(ExtraTreesRegressor(100))),\n",
    "  ('lr', LinearRegression())\n",
    "])\n",
    "(mses, r2s) = cv(model=pipe, data=X, labels=y, n_splits=8, want_r2=True)\n",
    "\n",
    "mse = np.mean(mses)\n",
    "print('MSE: {}'.format(mse))\n",
    "r2 = np.mean(r2s)\n",
    "print('R squared: {}'.format(r2))"
   ]
  },
  {
   "cell_type": "markdown",
   "metadata": {},
   "source": [
    "### SVR + Tree-based feature selection"
   ]
  },
  {
   "cell_type": "code",
   "execution_count": 12,
   "metadata": {},
   "outputs": [
    {
     "name": "stdout",
     "output_type": "stream",
     "text": [
      "MSE: 266.2007189337445\n",
      "R squared: 0.05869768975026417\n"
     ]
    }
   ],
   "source": [
    "pipe = Pipeline([ ('scaling', StandardScaler()),\n",
    "  ('feat_select', SelectFromModel(ExtraTreesRegressor(100))),\n",
    "  ('regression', SVR())\n",
    "])\n",
    "(mses, r2s) = cv(model=pipe, data=X, labels=y, n_splits=8, want_r2=True)\n",
    "\n",
    "mse = np.mean(mses)\n",
    "print('MSE: {}'.format(mse))\n",
    "r2 = np.mean(r2s)\n",
    "print('R squared: {}'.format(r2))"
   ]
  },
  {
   "cell_type": "markdown",
   "metadata": {},
   "source": [
    "### Random Forest"
   ]
  },
  {
   "cell_type": "code",
   "execution_count": 13,
   "metadata": {},
   "outputs": [
    {
     "name": "stdout",
     "output_type": "stream",
     "text": [
      "MSE: 526.613432165319\n",
      "R squared: -0.8766926366529124\n",
      "MSE: 308.770765049416\n",
      "R squared: -0.11395149078224781\n",
      "MSE: 301.56511601527404\n",
      "R squared: -0.07158182383428295\n",
      "MSE: 276.6250777178796\n",
      "R squared: 0.017152141185468095\n",
      "MSE: 268.68266742163314\n",
      "R squared: 0.020041634734319913\n",
      "MSE: 270.7311899696766\n",
      "R squared: 0.02785763418295506\n",
      "MSE: 268.6880430651954\n",
      "R squared: 0.04144324990555928\n"
     ]
    }
   ],
   "source": [
    "search_space = [1,5,10,30,60,100,200]\n",
    "mses_to_plot = []\n",
    "for n_trees in search_space:\n",
    "\n",
    "    pipe = Pipeline([ ('scaling', StandardScaler()),\n",
    "      ('rf', RandomForestRegressor(n_estimators=n_trees, n_jobs=4))\n",
    "    ])\n",
    "    (mses, r2s) = cv(model=pipe, data=X, labels=y, n_splits=8, want_r2=True)\n",
    "\n",
    "    mse = np.mean(mses)\n",
    "    mses_to_plot.append(mse)\n",
    "    print('MSE: {}'.format(mse))\n",
    "    r2 = np.mean(r2s)\n",
    "    print('R squared: {}'.format(r2))"
   ]
  },
  {
   "cell_type": "code",
   "execution_count": 14,
   "metadata": {
    "scrolled": true
   },
   "outputs": [
    {
     "data": {
      "image/png": "[encoded data removed]",
      "text/plain": [
       "<Figure size 432x288 with 1 Axes>"
      ]
     },
     "metadata": {
      "needs_background": "light"
     },
     "output_type": "display_data"
    }
   ],
   "source": [
    "# Show relationship between size of the forest and error\n",
    "plt.plot(search_space, mses_to_plot)\n",
    "plt.ylabel('MSE')\n",
    "plt.xlabel('n_trees')\n",
    "plt.show()"
   ]
  },
  {
   "cell_type": "markdown",
   "metadata": {},
   "source": [
    "### Neural Net"
   ]
  },
  {
   "cell_type": "code",
   "execution_count": 20,
   "metadata": {},
   "outputs": [],
   "source": [
    "model = tf.keras.models.Sequential([\n",
    "  tf.keras.layers.InputLayer(input_shape=(input_dim,)),\n",
    "  tf.keras.layers.Dense(64, activation='tanh'),\n",
    "  tf.keras.layers.Dense(64, activation='tanh'),\n",
    "  #tf.keras.layers.Dropout(0.2),\n",
    "  tf.keras.layers.Dense(1, activation='linear')\n",
    "])\n",
    "\n",
    "model.compile(optimizer='adam',\n",
    "              loss='mean_squared_error',\n",
    "              metrics=['accuracy'])\n",
    "\n",
    "def reset_weights(model):\n",
    "    session = keras.backend.get_session()\n",
    "    for layer in model.layers: \n",
    "        if hasattr(layer, 'kernel_initializer'):\n",
    "            layer.kernel.initializer.run(session=session)"
   ]
  },
  {
   "cell_type": "code",
   "execution_count": 19,
   "metadata": {},
   "outputs": [
    {
     "name": "stdout",
     "output_type": "stream",
     "text": [
      "169/169 [==============================] - 0s 193us/sample - loss: 403.8488 - acc: 0.0000e+00\n",
      "MSE: 403.8487723536745\n",
      "169/169 [==============================] - 0s 30us/sample - loss: 378.9919 - acc: 0.0000e+00\n",
      "MSE: 378.99191893628364\n",
      "168/168 [==============================] - 0s 31us/sample - loss: 371.4829 - acc: 0.0000e+00\n",
      "MSE: 371.48285493396577\n",
      "168/168 [==============================] - 0s 29us/sample - loss: 451.7048 - acc: 0.0000e+00\n",
      "MSE: 451.70480274018786\n",
      "168/168 [==============================] - 0s 30us/sample - loss: 296.0667 - acc: 0.0000e+00\n",
      "MSE: 296.0667245047433\n"
     ]
    },
    {
     "data": {
      "text/plain": [
       "380.4190146937711"
      ]
     },
     "execution_count": 19,
     "metadata": {},
     "output_type": "execute_result"
    }
   ],
   "source": [
    "def cv_for_nn(model, data, labels, n_splits = 5):\n",
    "    '''\n",
    "    model: must be a sklearn object with .fit and .predict methods\n",
    "    data: the X matrix containing the features, can be a pd.DataFrame or a np object (array or matrix)\n",
    "    labels: y, can be a pd.DataFrame or a np array\n",
    "    n_splits: number of desired folds\n",
    "    => returns array of mean suqared error calculated on each fold\n",
    "    '''\n",
    "    kf = KFold(n_splits=n_splits, shuffle=True)\n",
    "    data = np.array(data).astype('float32')\n",
    "    labels = np.array(labels).astype('float32')\n",
    "    mses = []\n",
    "    i = 1\n",
    "    for train, test in kf.split(data):\n",
    "        print(\"Split: {}\".format(i), end=\"\\r\")\n",
    "        X_train, X_test, y_train, y_test = data[train], data[test], labels[train], labels[test]\n",
    "        \n",
    "        reset_weights(model)\n",
    "        \n",
    "        model.fit(x=X_train, y=y_train, verbose=0, epochs=1000)\n",
    "        mse = model.evaluate(x=X_test,  y=y_test, verbose=1)[0]\n",
    "        \n",
    "        pred = model.predict(x=X_test)\n",
    "        \n",
    "        mse2 = sum((pred.flatten()-y_test)**2)/len(y_test)\n",
    "        \n",
    "        print('MSE: {}'.format(mse))\n",
    "        mses.append(mse)\n",
    "        i = i+1\n",
    "    return mses\n",
    "\n",
    "res = cv_for_nn(model=model, data=X_scaled, labels=y, n_splits=5)\n",
    "np.mean(res)"
   ]
  },
  {
   "cell_type": "markdown",
   "metadata": {},
   "source": [
    "### Conclusions\n",
    "There seems to be almost no relationship between the MRI data and the results to the WISC test, if all patients are considered regardless the diagnosis."
   ]
  },
  {
   "cell_type": "markdown",
   "metadata": {},
   "source": [
    "# Consider only patients with ADHD"
   ]
  },
  {
   "cell_type": "code",
   "execution_count": 6,
   "metadata": {},
   "outputs": [
    {
     "data": {
      "text/plain": [
       "Neurodevelopmental Disorders                                  1167\n",
       "No Diagnosis Given: Incomplete Eval                            278\n",
       "No Diagnosis Given                                             235\n",
       "Anxiety Disorders                                              189\n",
       "Depressive Disorders                                            94\n",
       "Disruptive                                                      40\n",
       "Trauma and Stressor Related Disorders                           35\n",
       "Obsessive Compulsive and Related Disorders                      16\n",
       "Elimination Disorders                                           11\n",
       "Other Conditions That May Be a Focus of Clinical Attention       8\n",
       "Bipolar and Related Disorders                                    6\n",
       "Disruptive, Impulse Control and Conduct Disorders                5\n",
       "Neurocognitive Disorders                                         3\n",
       "Schizophrenia Spectrum and other Psychotic Disorders             3\n",
       "Gender Dysphoria                                                 1\n",
       "Substance Related and Addictive Disorders                        1\n",
       "Name: DX_01_Cat, dtype: int64"
      ]
     },
     "execution_count": 6,
     "metadata": {},
     "output_type": "execute_result"
    }
   ],
   "source": [
    "behavioral['DX_01_Cat'].value_counts()"
   ]
  },
  {
   "cell_type": "code",
   "execution_count": 7,
   "metadata": {},
   "outputs": [
    {
     "name": "stdout",
     "output_type": "stream",
     "text": [
      "(576, 372)\n",
      "(436, 372)\n"
     ]
    },
    {
     "data": {
      "image/png": "[encoded data removed]",
      "text/plain": [
       "<Figure size 432x288 with 1 Axes>"
      ]
     },
     "metadata": {
      "needs_background": "light"
     },
     "output_type": "display_data"
    },
    {
     "name": "stdout",
     "output_type": "stream",
     "text": [
      "99.98853211009174\n",
      "278.51592353337264\n"
     ]
    }
   ],
   "source": [
    "target = 'WISC_FSIQ'\n",
    "disease = None\n",
    "#disease = 'Attention-Deficit/Hyperactivity Disorder'\n",
    "#disease = 'No Diagnosis Given'\n",
    "category = None\n",
    "#category = 'DX_01_Cat' \n",
    "\n",
    "# Create the dataset dropping the diagnosis columns since we are not interested in them\n",
    "data = create_dataset_mri(select_disease = disease, select_category = category, SCORE = target, age_less_than=10)\n",
    "try:\n",
    "    data.drop(columns=['DX_01_Cat'], inplace=True)\n",
    "except:\n",
    "    pass\n",
    "try:\n",
    "    data.drop(columns=['DX_01_Sub'], inplace=True)\n",
    "except:\n",
    "    pass\n",
    "try:\n",
    "    data.drop(columns=['DX_01'], inplace=True)\n",
    "except:\n",
    "    pass\n",
    "\n",
    "\n",
    "# Drop the rows with some NaNs\n",
    "\n",
    "print(data.shape)\n",
    "data.dropna(axis=0, inplace=True)\n",
    "print(data.shape)\n",
    "column_names = data.columns[2:]\n",
    "\n",
    "\n",
    "plt.hist(data[target], 50, density=False, facecolor='g')\n",
    "plt.xlabel('{} values'.format(target))\n",
    "plt.ylabel('Occurrences')\n",
    "plt.title('Histogram of {}'.format(target))\n",
    "plt.show()\n",
    "\n",
    "\n",
    "print(np.mean(data[target]))\n",
    "print(np.var(data[target]))"
   ]
  },
  {
   "cell_type": "code",
   "execution_count": 8,
   "metadata": {},
   "outputs": [],
   "source": [
    "# Define the labels and the features for regression\n",
    "y = data[target]\n",
    "X = data.drop([target, 'ID'], axis=1)\n",
    "scaler = StandardScaler()\n",
    "X_scaled = scaler.fit_transform(X)\n",
    "\n",
    "\n",
    "# Store the dimensionality of the input\n",
    "input_dim = X.shape[1]"
   ]
  },
  {
   "cell_type": "markdown",
   "metadata": {},
   "source": [
    "## Define baseline"
   ]
  },
  {
   "cell_type": "code",
   "execution_count": 10,
   "metadata": {},
   "outputs": [
    {
     "name": "stdout",
     "output_type": "stream",
     "text": [
      "Prediction mean: 99.98853211009174\n",
      "MSE mean: 278.51592353337236\n",
      "R2 mean: 0.0\n",
      "\n",
      "Prediction median: 101.0\n",
      "MSE median: 279.5389908256881\n",
      "R2 median: -0.003673281151527652\n"
     ]
    }
   ],
   "source": [
    "# Baseline: predict always the average\n",
    "pred = np.full_like(np.zeros(len(y)), fill_value=np.mean(y))\n",
    "mse = sum((pred - y)**2)/len(y)\n",
    "print('Prediction mean: {}'.format(np.mean(y)))\n",
    "print('MSE mean: {}'.format(mse))\n",
    "r2 = r2_score(y_pred=(pred), y_true=y)\n",
    "print('R2 mean: {}'.format(r2))\n",
    "\n",
    "pred = np.full_like(np.zeros(len(y)), fill_value=np.median(y))\n",
    "mse = sum((pred - y)**2)/len(y)\n",
    "print('\\nPrediction median: {}'.format(np.median(y)))\n",
    "print('MSE median: {}'.format(mse))\n",
    "r2 = r2_score(y_pred=pred, y_true=y)\n",
    "print('R2 median: {}'.format(r2))"
   ]
  },
  {
   "cell_type": "markdown",
   "metadata": {},
   "source": [
    "**Note:** the r^2 is defined as 1 minus the ratio between the MSE of the model and the MSE of the sample mean, so it does not give us any additional info but it makes the comparison with the baseline more immediate."
   ]
  },
  {
   "cell_type": "markdown",
   "metadata": {},
   "source": [
    "### Simple Linear Regression"
   ]
  },
  {
   "cell_type": "code",
   "execution_count": 11,
   "metadata": {},
   "outputs": [
    {
     "name": "stdout",
     "output_type": "stream",
     "text": [
      "MSE: 11457.322565334825\n",
      "R squared: -42.17434822862076\n"
     ]
    }
   ],
   "source": [
    "pipe = Pipeline([ ('scaling', StandardScaler()),\n",
    "  ('lr', LinearRegression())\n",
    "])\n",
    "(mses, r2s) = cv(model=pipe, data=X, labels=y, n_splits=8, want_r2=True)\n",
    "\n",
    "mse = np.mean(mses)\n",
    "print('MSE: {}'.format(mse))\n",
    "r2 = np.mean(r2s)\n",
    "print('R squared: {}'.format(r2))"
   ]
  },
  {
   "cell_type": "markdown",
   "metadata": {},
   "source": [
    "### Linear Regression + Tree-based feature selection"
   ]
  },
  {
   "cell_type": "code",
   "execution_count": 12,
   "metadata": {},
   "outputs": [
    {
     "name": "stdout",
     "output_type": "stream",
     "text": [
      "MSE: 368.39472952507276\n",
      "R squared: -0.35255311876158824\n"
     ]
    }
   ],
   "source": [
    "pipe = Pipeline([ ('scaling', StandardScaler()),\n",
    "  ('feat_select', SelectFromModel(ExtraTreesRegressor(100))),\n",
    "  ('lr', LinearRegression())\n",
    "])\n",
    "(mses, r2s) = cv(model=pipe, data=X, labels=y, n_splits=8, want_r2=True)\n",
    "\n",
    "mse = np.mean(mses)\n",
    "print('MSE: {}'.format(mse))\n",
    "r2 = np.mean(r2s)\n",
    "print('R squared: {}'.format(r2))"
   ]
  },
  {
   "cell_type": "markdown",
   "metadata": {},
   "source": [
    "### SVR + Tree-based feature selection"
   ]
  },
  {
   "cell_type": "code",
   "execution_count": 13,
   "metadata": {},
   "outputs": [
    {
     "name": "stdout",
     "output_type": "stream",
     "text": [
      "MSE: 263.3343973843566\n",
      "R squared: 0.04133827751923516\n"
     ]
    }
   ],
   "source": [
    "pipe = Pipeline([ ('scaling', StandardScaler()),\n",
    "  ('feat_select', SelectFromModel(ExtraTreesRegressor(100))),\n",
    "  ('regression', SVR())\n",
    "])\n",
    "(mses, r2s) = cv(model=pipe, data=X, labels=y, n_splits=8, want_r2=True)\n",
    "\n",
    "mse = np.mean(mses)\n",
    "print('MSE: {}'.format(mse))\n",
    "r2 = np.mean(r2s)\n",
    "print('R squared: {}'.format(r2))"
   ]
  },
  {
   "cell_type": "markdown",
   "metadata": {},
   "source": [
    "### Random Forest"
   ]
  },
  {
   "cell_type": "code",
   "execution_count": 14,
   "metadata": {},
   "outputs": [
    {
     "name": "stdout",
     "output_type": "stream",
     "text": [
      "MSE: 592.5629208754209\n",
      "R squared: -1.2006330696656262\n",
      "MSE: 318.5175269360269\n",
      "R squared: -0.1681065820106879\n",
      "MSE: 300.3871094276095\n",
      "R squared: -0.09472760945543258\n",
      "MSE: 264.2147620183314\n",
      "R squared: 0.034592947915886546\n",
      "MSE: 261.8459856200898\n",
      "R squared: 0.04726557199248474\n",
      "MSE: 262.5309991161616\n",
      "R squared: 0.04634662656047776\n"
     ]
    }
   ],
   "source": [
    "search_space = [1,5,10,30,60,100]\n",
    "mses_to_plot = []\n",
    "for n_trees in search_space:\n",
    "\n",
    "    pipe = Pipeline([ ('scaling', StandardScaler()),\n",
    "      ('rf', RandomForestRegressor(n_estimators=n_trees, n_jobs=4))\n",
    "    ])\n",
    "    (mses, r2s) = cv(model=pipe, data=X, labels=y, n_splits=8, want_r2=True)\n",
    "\n",
    "    mse = np.mean(mses)\n",
    "    mses_to_plot.append(mse)\n",
    "    print('MSE: {}'.format(mse))\n",
    "    r2 = np.mean(r2s)\n",
    "    print('R squared: {}'.format(r2))"
   ]
  },
  {
   "cell_type": "code",
   "execution_count": 44,
   "metadata": {
    "scrolled": true
   },
   "outputs": [
    {
     "data": {
      "image/png": "[encoded data removed]",
      "text/plain": [
       "<Figure size 432x288 with 1 Axes>"
      ]
     },
     "metadata": {
      "needs_background": "light"
     },
     "output_type": "display_data"
    }
   ],
   "source": [
    "# Show relationship between size of the forest and error\n",
    "plt.plot(search_space, mses_to_plot)\n",
    "plt.ylabel('MSE')\n",
    "plt.xlabel('n_trees')\n",
    "plt.show()"
   ]
  },
  {
   "cell_type": "markdown",
   "metadata": {},
   "source": [
    "### Conclusions\n",
    "Even if we consider the subset of patients who were diagnosed ADHD, there still seems to be almost no relationship between the MRI data and the results to the WISC test to measure the full scale IQ."
   ]
  }
 ],
 "metadata": {
  "kernelspec": {
   "display_name": "Python 3.6 (ds-lab) tf 1.14",
   "language": "python",
   "name": "ds-lab-tf114"
  },
  "language_info": {
   "codemirror_mode": {
    "name": "ipython",
    "version": 3
   },
   "file_extension": ".py",
   "mimetype": "text/x-python",
   "name": "python",
   "nbconvert_exporter": "python",
   "pygments_lexer": "ipython3",
   "version": "3.6.7"
  }
 },
 "nbformat": 4,
 "nbformat_minor": 2
}
