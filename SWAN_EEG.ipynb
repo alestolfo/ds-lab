{
 "cells": [
  {
   "cell_type": "code",
   "execution_count": 3,
   "metadata": {},
   "outputs": [],
   "source": [
    "# libraries\n",
    "import pandas as pd\n",
    "import numpy as np\n",
    "from sklearn.ensemble import RandomForestRegressor, ExtraTreesRegressor\n",
    "from sklearn.svm import SVR\n",
    "from sklearn.impute import SimpleImputer\n",
    "from sklearn.model_selection import cross_val_score\n",
    "from sklearn.preprocessing import StandardScaler\n",
    "from sklearn.feature_selection import RFECV, SelectKBest, SelectFromModel\n",
    "from sklearn.model_selection import KFold\n",
    "from sklearn.linear_model import LinearRegression\n",
    "from sklearn.pipeline import Pipeline\n",
    "from sklearn.metrics import r2_score\n",
    "import matplotlib.pyplot as plt\n",
    "import seaborn as sns\n",
    "from utils import create_dataset_mri, cv, create_dataset_eeg\n",
    "\n",
    "\n",
    "#CDE\n",
    "#from cde.density_estimator import MixtureDensityNetwork\n",
    "from tensorflow.python.keras.activations import tanh\n",
    "\n",
    "#TF\n",
    "import tensorflow as tf\n",
    "import tensorflow.keras as keras"
   ]
  },
  {
   "cell_type": "code",
   "execution_count": 4,
   "metadata": {},
   "outputs": [],
   "source": [
    "import warnings\n",
    "warnings.filterwarnings('ignore')"
   ]
  },
  {
   "cell_type": "code",
   "execution_count": 6,
   "metadata": {},
   "outputs": [
    {
     "name": "stdout",
     "output_type": "stream",
     "text": [
      "(2096, 7042)\n"
     ]
    }
   ],
   "source": [
    "# load the data\n",
    "behavioral = pd.read_csv(\"data/Behavioral/AllData.csv\")\n",
    "\n",
    "# general info\n",
    "shape = behavioral.shape  #2096, 7042\n",
    "print(shape)"
   ]
  },
  {
   "cell_type": "code",
   "execution_count": 7,
   "metadata": {},
   "outputs": [
    {
     "data": {
      "text/plain": [
       "['SWAN_01',\n",
       " 'SWAN_02',\n",
       " 'SWAN_03',\n",
       " 'SWAN_04',\n",
       " 'SWAN_05',\n",
       " 'SWAN_06',\n",
       " 'SWAN_07',\n",
       " 'SWAN_08',\n",
       " 'SWAN_09',\n",
       " 'SWAN_10',\n",
       " 'SWAN_11',\n",
       " 'SWAN_12',\n",
       " 'SWAN_13',\n",
       " 'SWAN_14',\n",
       " 'SWAN_15',\n",
       " 'SWAN_16',\n",
       " 'SWAN_17',\n",
       " 'SWAN_18',\n",
       " 'SWAN_IN_Avg',\n",
       " 'SWAN_HY_Avg',\n",
       " 'SWAN_Avg']"
      ]
     },
     "execution_count": 7,
     "metadata": {},
     "output_type": "execute_result"
    }
   ],
   "source": [
    "list(filter(lambda x: \"SWAN\" in x, behavioral.columns))"
   ]
  },
  {
   "cell_type": "markdown",
   "metadata": {},
   "source": [
    "# Consider the dataset with all patients"
   ]
  },
  {
   "cell_type": "code",
   "execution_count": 9,
   "metadata": {},
   "outputs": [
    {
     "name": "stdout",
     "output_type": "stream",
     "text": [
      "(1306, 62)\n",
      "(749, 62)\n"
     ]
    },
    {
     "data": {
      "image/png": "[encoded data removed]",
      "text/plain": [
       "<Figure size 432x288 with 1 Axes>"
      ]
     },
     "metadata": {
      "needs_background": "light"
     },
     "output_type": "display_data"
    },
    {
     "name": "stdout",
     "output_type": "stream",
     "text": [
      "0.4992580431682243\n",
      "1.0994153124778594\n"
     ]
    }
   ],
   "source": [
    "target = 'SWAN_Avg'\n",
    "disease = None\n",
    "#disease = 'Attention-Deficit/Hyperactivity Disorder'\n",
    "category = None\n",
    "#category = 'DX_01_Sub' #Irrelevant since we are dropping the columns after\n",
    "\n",
    "# Create the dataset dropping the diagnosis columns since we are not interested in them\n",
    "data = create_dataset_eeg(spectro= True, disease = disease, category = category, SCORE = target)\n",
    "try:\n",
    "    data.drop(columns=['DX_01_Cat'], inplace=True)\n",
    "except:\n",
    "    pass\n",
    "try:\n",
    "    data.drop(columns=['DX_01_Sub'], inplace=True)\n",
    "except:\n",
    "    pass\n",
    "try:\n",
    "    data.drop(columns=['DX_01'], inplace=True)\n",
    "except:\n",
    "    pass\n",
    "\n",
    "\n",
    "# Drop the rows with some NaNs\n",
    "\n",
    "print(data.shape)\n",
    "data.dropna(axis=0, inplace=True)\n",
    "print(data.shape)\n",
    "column_names = data.columns[2:]\n",
    "\n",
    "\n",
    "# Plot distribution of the target variable\n",
    "plt.hist(data[target], 50, density=False, facecolor='g')\n",
    "plt.xlabel('SWAN values')\n",
    "plt.ylabel('Probability')\n",
    "plt.title('Histogram of SWAN in all patients')\n",
    "plt.show()\n",
    "\n",
    "print(np.mean(data[target]))\n",
    "print(np.var(data[target]))"
   ]
  },
  {
   "cell_type": "code",
   "execution_count": 11,
   "metadata": {},
   "outputs": [],
   "source": [
    "# Define the labels and the features for regression\n",
    "y = data[target]\n",
    "X = data.drop([target, 'id'], axis=1)\n",
    "scaler = StandardScaler()\n",
    "X_scaled = scaler.fit_transform(X)\n",
    "\n",
    "\n",
    "# Store the dimensionality of the input\n",
    "input_dim = X.shape[1]"
   ]
  },
  {
   "cell_type": "markdown",
   "metadata": {},
   "source": [
    "## Define baseline"
   ]
  },
  {
   "cell_type": "code",
   "execution_count": 12,
   "metadata": {},
   "outputs": [
    {
     "name": "stdout",
     "output_type": "stream",
     "text": [
      "Prediction mean: 0.4992580431682243\n",
      "MSE mean: 1.09941531247786\n",
      "R2 mean: 0.0\n",
      "\n",
      "Prediction median: 0.555555\n",
      "MSE median: 1.1025846598263782\n",
      "R2 median: -0.0028827571460467993\n"
     ]
    }
   ],
   "source": [
    "# Baseline: predict always the average\n",
    "pred = np.full_like(np.zeros(len(y)), fill_value=np.mean(y))\n",
    "mse = sum((pred - y)**2)/len(y)\n",
    "print('Prediction mean: {}'.format(np.mean(y)))\n",
    "print('MSE mean: {}'.format(mse))\n",
    "r2 = r2_score(y_pred=(pred), y_true=y)\n",
    "print('R2 mean: {}'.format(r2))\n",
    "\n",
    "pred = np.full_like(np.zeros(len(y)), fill_value=np.median(y))\n",
    "mse = sum((pred - y)**2)/len(y)\n",
    "print('\\nPrediction median: {}'.format(np.median(y)))\n",
    "print('MSE median: {}'.format(mse))\n",
    "r2 = r2_score(y_pred=pred, y_true=y)\n",
    "print('R2 median: {}'.format(r2))"
   ]
  },
  {
   "cell_type": "markdown",
   "metadata": {},
   "source": [
    "**Note:** the r^2 is defined as 1 minus the ratio between the MSE of the model and the MSE of the sample mean, so it does not give us any additional info but it makes the comparison with the baseline more immediate."
   ]
  },
  {
   "cell_type": "markdown",
   "metadata": {},
   "source": [
    "### Simple Linear Regression"
   ]
  },
  {
   "cell_type": "code",
   "execution_count": 13,
   "metadata": {},
   "outputs": [
    {
     "name": "stdout",
     "output_type": "stream",
     "text": [
      "Split: 1\r",
      "Split: 2\r",
      "Split: 3\r",
      "Split: 4\r",
      "Split: 5\r",
      "Split: 6\r",
      "Split: 7\r",
      "Split: 8\r",
      "MSE: 1.2274195655143005\n",
      "R squared: -0.12098394278992775\n"
     ]
    }
   ],
   "source": [
    "pipe = Pipeline([ ('scaling', StandardScaler()),\n",
    "  ('lr', LinearRegression())\n",
    "])\n",
    "(mses, r2s) = cv(model=pipe, data=X, labels=y, n_splits=8, want_r2=True)\n",
    "\n",
    "mse = np.mean(mses)\n",
    "print('MSE: {}'.format(mse))\n",
    "r2 = np.mean(r2s)\n",
    "print('R squared: {}'.format(r2))"
   ]
  },
  {
   "cell_type": "markdown",
   "metadata": {},
   "source": [
    "### Linear Regression + Tree-based feature selection"
   ]
  },
  {
   "cell_type": "code",
   "execution_count": 14,
   "metadata": {},
   "outputs": [
    {
     "name": "stdout",
     "output_type": "stream",
     "text": [
      "MSE: 1.1286364048824478\n",
      "R squared: -0.03954319225429813\n"
     ]
    }
   ],
   "source": [
    "pipe = Pipeline([ ('scaling', StandardScaler()),\n",
    "  ('feat_select', SelectFromModel(ExtraTreesRegressor(100))),\n",
    "  ('lr', LinearRegression())\n",
    "])\n",
    "(mses, r2s) = cv(model=pipe, data=X, labels=y, n_splits=8, want_r2=True)\n",
    "\n",
    "mse = np.mean(mses)\n",
    "print('MSE: {}'.format(mse))\n",
    "r2 = np.mean(r2s)\n",
    "print('R squared: {}'.format(r2))"
   ]
  },
  {
   "cell_type": "markdown",
   "metadata": {},
   "source": [
    "### SVR + Tree-based feature selection"
   ]
  },
  {
   "cell_type": "code",
   "execution_count": 15,
   "metadata": {},
   "outputs": [
    {
     "name": "stdout",
     "output_type": "stream",
     "text": [
      "MSE: 1.152629306830803\n",
      "R squared: -0.06028380653739053\n"
     ]
    }
   ],
   "source": [
    "pipe = Pipeline([ ('scaling', StandardScaler()),\n",
    "  ('feat_select', SelectFromModel(ExtraTreesRegressor(100))),\n",
    "  ('regression', SVR())\n",
    "])\n",
    "(mses, r2s) = cv(model=pipe, data=X, labels=y, n_splits=8, want_r2=True)\n",
    "\n",
    "mse = np.mean(mses)\n",
    "print('MSE: {}'.format(mse))\n",
    "r2 = np.mean(r2s)\n",
    "print('R squared: {}'.format(r2))"
   ]
  },
  {
   "cell_type": "markdown",
   "metadata": {},
   "source": [
    "### Random Forest"
   ]
  },
  {
   "cell_type": "code",
   "execution_count": 16,
   "metadata": {},
   "outputs": [
    {
     "name": "stdout",
     "output_type": "stream",
     "text": [
      "MSE: 2.363128704298073\n",
      "R squared: -1.2031925254859843\n",
      "MSE: 1.4302053704672124\n",
      "R squared: -0.37708676256715024\n",
      "MSE: 1.2532849920057805\n",
      "R squared: -0.14375570575085841\n",
      "MSE: 1.1673180594391042\n",
      "R squared: -0.07402709867280705\n",
      "MSE: 1.2208446189865496\n",
      "R squared: -0.12271751927707975\n",
      "MSE: 1.1917596183308672\n",
      "R squared: -0.1020557612487263\n",
      "MSE: 1.1760173236169136\n",
      "R squared: -0.07445406776390759\n"
     ]
    }
   ],
   "source": [
    "search_space = [1,5,10,30,60,100,200]\n",
    "mses_to_plot = []\n",
    "for n_trees in search_space:\n",
    "\n",
    "    pipe = Pipeline([ ('scaling', StandardScaler()),\n",
    "      ('rf', RandomForestRegressor(n_estimators=n_trees, n_jobs=4))\n",
    "    ])\n",
    "    (mses, r2s) = cv(model=pipe, data=X, labels=y, n_splits=8, want_r2=True)\n",
    "\n",
    "    mse = np.mean(mses)\n",
    "    mses_to_plot.append(mse)\n",
    "    print('MSE: {}'.format(mse))\n",
    "    r2 = np.mean(r2s)\n",
    "    print('R squared: {}'.format(r2))"
   ]
  },
  {
   "cell_type": "code",
   "execution_count": 17,
   "metadata": {
    "scrolled": true
   },
   "outputs": [
    {
     "data": {
      "image/png": "[encoded data removed]",
      "text/plain": [
       "<Figure size 432x288 with 1 Axes>"
      ]
     },
     "metadata": {
      "needs_background": "light"
     },
     "output_type": "display_data"
    }
   ],
   "source": [
    "# Show relationship between size of the forest and error\n",
    "plt.plot(search_space, mses_to_plot)\n",
    "plt.ylabel('MSE')\n",
    "plt.xlabel('n_trees')\n",
    "plt.show()"
   ]
  },
  {
   "cell_type": "markdown",
   "metadata": {},
   "source": [
    "### Neural Net"
   ]
  },
  {
   "cell_type": "code",
   "execution_count": 18,
   "metadata": {},
   "outputs": [
    {
     "name": "stdout",
     "output_type": "stream",
     "text": [
      "WARNING:tensorflow:From /Users/alestolfo/anaconda2/envs/py36/lib/python3.6/site-packages/tensorflow/python/ops/init_ops.py:1251: calling VarianceScaling.__init__ (from tensorflow.python.ops.init_ops) with dtype is deprecated and will be removed in a future version.\n",
      "Instructions for updating:\n",
      "Call initializer instance with the dtype argument instead of passing it to the constructor\n"
     ]
    }
   ],
   "source": [
    "model = tf.keras.models.Sequential([\n",
    "  tf.keras.layers.InputLayer(input_shape=(input_dim,)),\n",
    "  tf.keras.layers.Dense(64, activation='tanh'),\n",
    "  tf.keras.layers.Dense(64, activation='tanh'),\n",
    "  #tf.keras.layers.Dropout(0.2),\n",
    "  tf.keras.layers.Dense(1, activation='linear')\n",
    "])\n",
    "\n",
    "model.compile(optimizer='adam',\n",
    "              loss='mean_squared_error',\n",
    "              metrics=['accuracy'])\n",
    "\n",
    "def reset_weights(model):\n",
    "    session = keras.backend.get_session()\n",
    "    for layer in model.layers: \n",
    "        if hasattr(layer, 'kernel_initializer'):\n",
    "            layer.kernel.initializer.run(session=session)"
   ]
  },
  {
   "cell_type": "code",
   "execution_count": 19,
   "metadata": {},
   "outputs": [
    {
     "name": "stdout",
     "output_type": "stream",
     "text": [
      "150/150 [==============================] - 0s 167us/sample - loss: 1.6231 - acc: 0.0267\n",
      "MSE: 1.6231479851404826\n",
      "150/150 [==============================] - 0s 25us/sample - loss: 1.7058 - acc: 0.0200\n",
      "MSE: 1.7058124860127768\n",
      "150/150 [==============================] - 0s 25us/sample - loss: 1.8537 - acc: 0.0333\n",
      "MSE: 1.853744894663493\n",
      "150/150 [==============================] - 0s 29us/sample - loss: 1.9107 - acc: 0.0533\n",
      "MSE: 1.9106853969891866\n",
      "149/149 [==============================] - 0s 29us/sample - loss: 2.1050 - acc: 0.0067\n",
      "MSE: 2.105041448701948\n"
     ]
    },
    {
     "data": {
      "text/plain": [
       "1.8396864423015775"
      ]
     },
     "execution_count": 19,
     "metadata": {},
     "output_type": "execute_result"
    }
   ],
   "source": [
    "def cv_for_nn(model, data, labels, n_splits = 5):\n",
    "    '''\n",
    "    model: must be a sklearn object with .fit and .predict methods\n",
    "    data: the X matrix containing the features, can be a pd.DataFrame or a np object (array or matrix)\n",
    "    labels: y, can be a pd.DataFrame or a np array\n",
    "    n_splits: number of desired folds\n",
    "    => returns array of mean suqared error calculated on each fold\n",
    "    '''\n",
    "    kf = KFold(n_splits=n_splits, shuffle=True)\n",
    "    data = np.array(data).astype('float32')\n",
    "    labels = np.array(labels).astype('float32')\n",
    "    mses = []\n",
    "    i = 1\n",
    "    for train, test in kf.split(data):\n",
    "        print(\"Split: {}\".format(i), end=\"\\r\")\n",
    "        X_train, X_test, y_train, y_test = data[train], data[test], labels[train], labels[test]\n",
    "        \n",
    "        reset_weights(model)\n",
    "        \n",
    "        model.fit(x=X_train, y=y_train, verbose=0, epochs=1000)\n",
    "        mse = model.evaluate(x=X_test,  y=y_test, verbose=1)[0]\n",
    "        \n",
    "        pred = model.predict(x=X_test)\n",
    "        \n",
    "        mse2 = sum((pred.flatten()-y_test)**2)/len(y_test)\n",
    "        \n",
    "        print('MSE: {}'.format(mse))\n",
    "        mses.append(mse)\n",
    "        i = i+1\n",
    "    return mses\n",
    "\n",
    "res = cv_for_nn(model=model, data=X_scaled, labels=y, n_splits=5)\n",
    "np.mean(res)"
   ]
  },
  {
   "cell_type": "markdown",
   "metadata": {},
   "source": [
    "### Conclusions\n",
    "There seems to be almost no relationship between the EEG data and the results to the SWAN test, if all patients are considered regardless the diagnosis."
   ]
  },
  {
   "cell_type": "markdown",
   "metadata": {},
   "source": [
    "# Consider only patients with ADHD"
   ]
  },
  {
   "cell_type": "code",
   "execution_count": 21,
   "metadata": {},
   "outputs": [
    {
     "name": "stdout",
     "output_type": "stream",
     "text": [
      "(578, 62)\n",
      "(339, 62)\n"
     ]
    },
    {
     "data": {
      "image/png": "[encoded data removed]",
      "text/plain": [
       "<Figure size 432x288 with 1 Axes>"
      ]
     },
     "metadata": {
      "needs_background": "light"
     },
     "output_type": "display_data"
    },
    {
     "name": "stdout",
     "output_type": "stream",
     "text": [
      "0.9401831681415929\n",
      "0.6049926935949305\n"
     ]
    }
   ],
   "source": [
    "target = 'SWAN_Avg'\n",
    "#disease = None\n",
    "disease = 'Attention-Deficit/Hyperactivity Disorder'\n",
    "#category = None\n",
    "category = 'DX_01_Sub' #Irrelevant since we are dropping the columns after\n",
    "\n",
    "# Create the dataset dropping the diagnosis columns since we are not interested in them\n",
    "data = create_dataset_eeg(disease = disease, category = category, SCORE = target)\n",
    "try:\n",
    "    data.drop(columns=['DX_01_Cat'], inplace=True)\n",
    "except:\n",
    "    pass\n",
    "try:\n",
    "    data.drop(columns=['DX_01_Sub'], inplace=True)\n",
    "except:\n",
    "    pass\n",
    "try:\n",
    "    data.drop(columns=['DX_01'], inplace=True)\n",
    "except:\n",
    "    pass\n",
    "\n",
    "\n",
    "# Drop the rows with some NaNs\n",
    "\n",
    "print(data.shape)\n",
    "data.dropna(axis=0, inplace=True)\n",
    "print(data.shape)\n",
    "column_names = data.columns[2:]\n",
    "\n",
    "\n",
    "plt.hist(data[target], 50, density=False, facecolor='g')\n",
    "plt.xlabel('SWAN values')\n",
    "plt.ylabel('Probability')\n",
    "plt.title('Histogram of SWAN')\n",
    "plt.show()\n",
    "\n",
    "\n",
    "print(np.mean(data[target]))\n",
    "print(np.var(data[target]))"
   ]
  },
  {
   "cell_type": "code",
   "execution_count": 23,
   "metadata": {},
   "outputs": [],
   "source": [
    "# Define the labels and the features for regression\n",
    "y = data[target]\n",
    "X = data.drop([target, 'id'], axis=1)\n",
    "scaler = StandardScaler()\n",
    "X_scaled = scaler.fit_transform(X)\n",
    "\n",
    "\n",
    "# Store the dimensionality of the input\n",
    "input_dim = X.shape[1]"
   ]
  },
  {
   "cell_type": "markdown",
   "metadata": {},
   "source": [
    "## Define baseline"
   ]
  },
  {
   "cell_type": "code",
   "execution_count": 24,
   "metadata": {},
   "outputs": [
    {
     "name": "stdout",
     "output_type": "stream",
     "text": [
      "Prediction mean: 0.9401831681415929\n",
      "MSE mean: 0.6049926935949299\n",
      "R2 mean: 0.0\n",
      "\n",
      "Prediction median: 0.8888879999999999\n",
      "MSE median: 0.6076238878696051\n",
      "R2 median: -0.0043491339689401\n"
     ]
    }
   ],
   "source": [
    "# Baseline: predict always the average\n",
    "pred = np.full_like(np.zeros(len(y)), fill_value=np.mean(y))\n",
    "mse = sum((pred - y)**2)/len(y)\n",
    "print('Prediction mean: {}'.format(np.mean(y)))\n",
    "print('MSE mean: {}'.format(mse))\n",
    "r2 = r2_score(y_pred=(pred), y_true=y)\n",
    "print('R2 mean: {}'.format(r2))\n",
    "\n",
    "pred = np.full_like(np.zeros(len(y)), fill_value=np.median(y))\n",
    "mse = sum((pred - y)**2)/len(y)\n",
    "print('\\nPrediction median: {}'.format(np.median(y)))\n",
    "print('MSE median: {}'.format(mse))\n",
    "r2 = r2_score(y_pred=pred, y_true=y)\n",
    "print('R2 median: {}'.format(r2))"
   ]
  },
  {
   "cell_type": "markdown",
   "metadata": {},
   "source": [
    "**Note:** the r^2 is defined as 1 minus the ratio between the MSE of the model and the MSE of the sample mean, so it does not give us any additional info but it makes the comparison with the baseline more immediate."
   ]
  },
  {
   "cell_type": "markdown",
   "metadata": {},
   "source": [
    "### Simple Linear Regression"
   ]
  },
  {
   "cell_type": "code",
   "execution_count": 25,
   "metadata": {},
   "outputs": [
    {
     "name": "stdout",
     "output_type": "stream",
     "text": [
      "Split: 1\r",
      "Split: 2\r",
      "Split: 3\r",
      "Split: 4\r",
      "Split: 5\r",
      "Split: 6\r",
      "Split: 7\r",
      "Split: 8\r",
      "MSE: 0.8431456647575176\n",
      "R squared: -0.4569005529725205\n"
     ]
    }
   ],
   "source": [
    "pipe = Pipeline([ ('scaling', StandardScaler()),\n",
    "  ('lr', LinearRegression())\n",
    "])\n",
    "(mses, r2s) = cv(model=pipe, data=X, labels=y, n_splits=8, want_r2=True)\n",
    "\n",
    "mse = np.mean(mses)\n",
    "print('MSE: {}'.format(mse))\n",
    "r2 = np.mean(r2s)\n",
    "print('R squared: {}'.format(r2))"
   ]
  },
  {
   "cell_type": "markdown",
   "metadata": {},
   "source": [
    "### Linear Regression + Tree-based feature selection"
   ]
  },
  {
   "cell_type": "code",
   "execution_count": 26,
   "metadata": {},
   "outputs": [
    {
     "name": "stdout",
     "output_type": "stream",
     "text": [
      "MSE: 0.7013898325068404\n",
      "R squared: -0.1865737247386006\n"
     ]
    }
   ],
   "source": [
    "pipe = Pipeline([ ('scaling', StandardScaler()),\n",
    "  ('feat_select', SelectFromModel(ExtraTreesRegressor(100))),\n",
    "  ('lr', LinearRegression())\n",
    "])\n",
    "(mses, r2s) = cv(model=pipe, data=X, labels=y, n_splits=8, want_r2=True)\n",
    "\n",
    "mse = np.mean(mses)\n",
    "print('MSE: {}'.format(mse))\n",
    "r2 = np.mean(r2s)\n",
    "print('R squared: {}'.format(r2))"
   ]
  },
  {
   "cell_type": "markdown",
   "metadata": {},
   "source": [
    "### SVR + Tree-based feature selection"
   ]
  },
  {
   "cell_type": "code",
   "execution_count": 27,
   "metadata": {},
   "outputs": [
    {
     "name": "stdout",
     "output_type": "stream",
     "text": [
      "MSE: 0.6787011695244547\n",
      "R squared: -0.14755398082849697\n"
     ]
    }
   ],
   "source": [
    "pipe = Pipeline([ ('scaling', StandardScaler()),\n",
    "  ('feat_select', SelectFromModel(ExtraTreesRegressor(100))),\n",
    "  ('regression', SVR())\n",
    "])\n",
    "(mses, r2s) = cv(model=pipe, data=X, labels=y, n_splits=8, want_r2=True)\n",
    "\n",
    "mse = np.mean(mses)\n",
    "print('MSE: {}'.format(mse))\n",
    "r2 = np.mean(r2s)\n",
    "print('R squared: {}'.format(r2))"
   ]
  },
  {
   "cell_type": "markdown",
   "metadata": {},
   "source": [
    "### Random Forest"
   ]
  },
  {
   "cell_type": "code",
   "execution_count": 28,
   "metadata": {},
   "outputs": [
    {
     "name": "stdout",
     "output_type": "stream",
     "text": [
      "MSE: 1.4697949126876537\n",
      "R squared: -1.5193043136009214\n",
      "MSE: 0.8094330323411583\n",
      "R squared: -0.3794981235752497\n",
      "MSE: 0.6792462525919709\n",
      "R squared: -0.15915260009140564\n",
      "MSE: 0.6410291629628205\n",
      "R squared: -0.061093029803808985\n",
      "MSE: 0.6657764736274501\n",
      "R squared: -0.14928343515913323\n",
      "MSE: 0.644228619009497\n",
      "R squared: -0.09160440279601684\n",
      "MSE: 0.6512383608776998\n",
      "R squared: -0.08630896912054574\n"
     ]
    }
   ],
   "source": [
    "search_space = [1,5,10,30,60,100,200]\n",
    "mses_to_plot = []\n",
    "for n_trees in search_space:\n",
    "\n",
    "    pipe = Pipeline([ ('scaling', StandardScaler()),\n",
    "      ('rf', RandomForestRegressor(n_estimators=n_trees, n_jobs=4))\n",
    "    ])\n",
    "    (mses, r2s) = cv(model=pipe, data=X, labels=y, n_splits=8, want_r2=True)\n",
    "\n",
    "    mse = np.mean(mses)\n",
    "    mses_to_plot.append(mse)\n",
    "    print('MSE: {}'.format(mse))\n",
    "    r2 = np.mean(r2s)\n",
    "    print('R squared: {}'.format(r2))"
   ]
  },
  {
   "cell_type": "code",
   "execution_count": 29,
   "metadata": {
    "scrolled": true
   },
   "outputs": [
    {
     "data": {
      "image/png": "[encoded data removed]",
      "text/plain": [
       "<Figure size 432x288 with 1 Axes>"
      ]
     },
     "metadata": {
      "needs_background": "light"
     },
     "output_type": "display_data"
    }
   ],
   "source": [
    "# Show relationship between size of the forest and error\n",
    "plt.plot(search_space, mses_to_plot)\n",
    "plt.ylabel('MSE')\n",
    "plt.xlabel('n_trees')\n",
    "plt.show()"
   ]
  },
  {
   "cell_type": "markdown",
   "metadata": {},
   "source": [
    "### Conclusions\n",
    "Even if we consider the subset of patients who were diagnosed ADHD, there still seems to be almost no relationship between the MRI data and the results to the SWAN test."
   ]
  }
 ],
 "metadata": {
  "kernelspec": {
   "display_name": "py36",
   "language": "python",
   "name": "py36"
  },
  "language_info": {
   "codemirror_mode": {
    "name": "ipython",
    "version": 3
   },
   "file_extension": ".py",
   "mimetype": "text/x-python",
   "name": "python",
   "nbconvert_exporter": "python",
   "pygments_lexer": "ipython3",
   "version": "3.6.7"
  }
 },
 "nbformat": 4,
 "nbformat_minor": 2
}
