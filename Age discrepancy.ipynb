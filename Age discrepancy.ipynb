{
 "cells": [
  {
   "cell_type": "markdown",
   "metadata": {},
   "source": [
    "# Age discrepancy"
   ]
  },
  {
   "cell_type": "markdown",
   "metadata": {},
   "source": [
    "Now we will try to correlate age discrepancy with some scores of the behavioral dataset. Our model to predict age uses only the structural MRI features."
   ]
  },
  {
   "cell_type": "code",
   "execution_count": 1,
   "metadata": {},
   "outputs": [
    {
     "name": "stdout",
     "output_type": "stream",
     "text": [
      "WARNING:tensorflow:From /home/camillca/anaconda3/envs/dslab/lib/python3.6/site-packages/tensorflow/contrib/learn/python/learn/datasets/base.py:198: retry (from tensorflow.contrib.learn.python.learn.datasets.base) is deprecated and will be removed in a future version.\n",
      "Instructions for updating:\n",
      "Use the retry module or similar alternatives.\n"
     ]
    }
   ],
   "source": [
    "import warnings\n",
    "warnings.filterwarnings('ignore')\n",
    "from utils import create_dataset_mri, cv_for_cde, create_dataset_eeg\n",
    "from cde.density_estimator import MixtureDensityNetwork\n",
    "import numpy as np\n",
    "import tensorflow as tf\n",
    "from sklearn.model_selection import cross_val_score, train_test_split\n",
    "from sklearn.metrics import mean_squared_error\n",
    "from sklearn.preprocessing import StandardScaler\n",
    "from sklearn.model_selection import KFold\n",
    "from tensorflow.python.keras.activations import tanh\n",
    "from sklearn.impute import SimpleImputer\n",
    "import pandas as pd\n",
    "import tensorflow as tf\n",
    "import statsmodels.api as sm\n",
    "from statsmodels.formula.api import ols\n",
    "from scipy.stats import ttest_ind"
   ]
  },
  {
   "cell_type": "code",
   "execution_count": 2,
   "metadata": {},
   "outputs": [],
   "source": [
    "# Behavioral data\n",
    "behavioral = pd.read_csv('data/Behavioral/cleaned/HBNFinalSummaries.csv')\n",
    "# Create dataset MRI\n",
    "target = 'Age'\n",
    "data = create_dataset_mri(SCORE = target)\n",
    "data.drop(columns=['DX_01_Cat', 'DX_01_Sub', 'DX_01'], inplace=True)"
   ]
  },
  {
   "cell_type": "code",
   "execution_count": 3,
   "metadata": {},
   "outputs": [
    {
     "name": "stdout",
     "output_type": "stream",
     "text": [
      "(573, 369)\n"
     ]
    }
   ],
   "source": [
    "# labels and features\n",
    "y = data[target]\n",
    "X = data.drop([target], axis=1)\n",
    "X = np.array(X)\n",
    "y = np.array(y)\n",
    "\n",
    "# split the dataset\n",
    "X_train, X_test, y_train, y_test = train_test_split(X, y, test_size=0.5, random_state=12)   #rs=2\n",
    "y_train = y_train.reshape((-1,1))\n",
    "y_test = y_test.reshape((-1,1))\n",
    "ID_train = X_train[:,0]\n",
    "X_train = X_train[:,1:]\n",
    "ID_test = X_test[:,0]\n",
    "X_test = X_test[:,1:]\n",
    "y_train = np.array(y_train, dtype=np.float64)\n",
    "X_train = np.array(X_train, dtype=np.float64)\n",
    "y_test = np.array(y_test, dtype=np.float64)\n",
    "X_test = np.array(X_test, dtype=np.float64)\n",
    "print(X_train.shape)"
   ]
  },
  {
   "cell_type": "code",
   "execution_count": 4,
   "metadata": {},
   "outputs": [
    {
     "name": "stdout",
     "output_type": "stream",
     "text": [
      "1000/1000 [100%] ██████████████████████████████ Elapsed: 12s | loss: 839.704\n",
      "mean log-loss train: 1.4655\n",
      "Test MSE: 5.401501241648076\n"
     ]
    }
   ],
   "source": [
    "# Set model parameters\n",
    "ndim_x=X_train.shape[1]\n",
    "ndim_y=y_train.shape[1]\n",
    "# We try the \"faster decay rate for non-gaussian data\" proposed in the paper: h = n^(-1/(d+1))\n",
    "n = X_train.shape[0]\n",
    "d = X_train.shape[1]+y_train.shape[1]\n",
    "h = n**(-1/(d+1))\n",
    "# Define the model\n",
    "model = MixtureDensityNetwork('MDN', ndim_x, ndim_y, n_centers=10, hidden_sizes=(16, 16), hidden_nonlinearity=tf.nn.tanh,\n",
    "               n_training_epochs=1000, x_noise_std=h, y_noise_std=h, adaptive_noise_fn=None, entropy_reg_coef=0.0,\n",
    "               weight_decay=0.0, weight_normalization=True, data_normalization=True, dropout=0.0, l2_reg=0.0, l1_reg=0.0,\n",
    "               random_seed=42)\n",
    "# Fit\n",
    "model.fit(X_train, y_train)\n",
    "# Predict\n",
    "y_pred = model.mean_(X_test)\n",
    "y_pred = y_pred.reshape((-1,1))\n",
    "y_pred.shape\n",
    "print('Test MSE: {}'.format(mean_squared_error(y_pred, y_test)))"
   ]
  },
  {
   "cell_type": "code",
   "execution_count": 5,
   "metadata": {},
   "outputs": [],
   "source": [
    "# Define discrepancy\n",
    "std = model.std_(X_test)\n",
    "discrepancy = np.divide((y_test-y_pred), std)\n",
    "#discrepancy = y_test-y_pred"
   ]
  },
  {
   "cell_type": "code",
   "execution_count": 6,
   "metadata": {},
   "outputs": [],
   "source": [
    "# Get dataframe for test observations with behavioral data + discrepancy\n",
    "data = {'discrepancy':discrepancy[:,0]}\n",
    "discrepancy_df = pd.DataFrame(data)\n",
    "ID_df = pd.DataFrame({'EID':ID_test})\n",
    "discrepancy_merged = pd.concat([ID_df, discrepancy_df], axis=1)\n",
    "dataframe = pd.merge(discrepancy_merged, behavioral, how='inner', on='EID')\n",
    "dataframe = dataframe.drop(['Anonymized.ID', 'Study.Site'], axis = 1)"
   ]
  },
  {
   "cell_type": "code",
   "execution_count": 7,
   "metadata": {},
   "outputs": [
    {
     "data": {
      "text/plain": [
       "discrepancy                        1.000000\n",
       "Age                                0.475241\n",
       "DX_08_ByHx                         1.000000\n",
       "CBCL_Pre_WD                        0.417865\n",
       "CBCL_Pre_Ext                       0.303648\n",
       "CBCL_Pre_Int                       0.343902\n",
       "CBCL_Pre_Total                     0.358477\n",
       "CLEF5M_FL_Raw                      0.339486\n",
       "KBIT_NV_Raw                        0.336798\n",
       "KBIT_V_Raw                         0.502948\n",
       "Picture_Seq_Raw                    0.325119\n",
       "SRS_Pre_COM                        0.359951\n",
       "SRS_Pre_MOT                        0.450541\n",
       "SRS_Pre_SCI                        0.377398\n",
       "SRS_Pre_Total                      0.370962\n",
       "TRF_Pre_Attention_Raw              0.579834\n",
       "TRF_Pre_Withdrawn.Depressed_Raw    0.327105\n",
       "VL_Comm3_Raw                       0.730172\n",
       "WASI_Vocab_Raw                     0.365518\n",
       "WASI_BD_Raw                        0.330062\n",
       "WIAT_Num_Raw                       0.322963\n",
       "WIAT_Spell_Raw                     0.326315\n",
       "WIAT_LCRV_Raw                      0.305251\n",
       "WIAT_MP_Raw                        0.336390\n",
       "Name: discrepancy, dtype: float64"
      ]
     },
     "execution_count": 7,
     "metadata": {},
     "output_type": "execute_result"
    }
   ],
   "source": [
    "# Get the correlations\n",
    "correlations = dataframe[dataframe.columns[1:]].corr()['discrepancy'][:]\n",
    "# Inspect correlations\n",
    "correlations[correlations > 0.3]  "
   ]
  },
  {
   "cell_type": "code",
   "execution_count": 8,
   "metadata": {},
   "outputs": [
    {
     "data": {
      "text/plain": [
       "ADHD-Combined Type                                           111\n",
       "ADHD-Inattentive Type                                        103\n",
       "No Diagnosis Given                                            73\n",
       "No Diagnosis Given: Incomplete Eval                           41\n",
       "Autism Spectrum Disorder                                      37\n",
       "Specific Learning Disorder with Impairment in Reading         32\n",
       "Generalized Anxiety Disorder                                  21\n",
       "Other Specified Attention-Deficit/Hyperactivity Disorder      20\n",
       "Social Anxiety (Social Phobia)                                18\n",
       "Major Depressive Disorder                                     14\n",
       "Other Specified Anxiety Disorder                              13\n",
       "ADHD-Hyperactive/Impulsive Type                               11\n",
       "Language Disorder                                             10\n",
       "Intellectual Disability-Mild                                   8\n",
       "Other Specified Depressive Disorder                            5\n",
       "Adjustment Disorders                                           5\n",
       "Specific Phobia                                                4\n",
       "Separation Anxiety                                             4\n",
       "Obsessive-Compulsive Disorder                                  4\n",
       "Disruptive Mood Dysregulation Disorder                         3\n",
       "Enuresis                                                       3\n",
       "Unspecified Attention-Deficit/Hyperactivity Disorder           2\n",
       "Bipolar II Disorder                                            2\n",
       "Persistent Depressive Disorder (Dysthymia)                     2\n",
       "Posttraumatic Stress Disorder                                  2\n",
       "Speech Sound Disorder                                          2\n",
       "Specific Learning Disorder with Impairment in Mathematics      2\n",
       "Persistent (Chronic) Motor or Vocal Tic Disorder               1\n",
       "Reactive Attachment Disorder                                   1\n",
       "Parent-Child Relational Problem                                1\n",
       "Other Specified Trauma- and Stressor-Related Disorder          1\n",
       "Acute Stress Disorder                                          1\n",
       "Cannabis Use Disorder                                          1\n",
       "Unspecified Anxiety Disorder                                   1\n",
       "                                                               1\n",
       "Selective Mutism                                               1\n",
       "Name: DX_01, dtype: int64"
      ]
     },
     "execution_count": 8,
     "metadata": {},
     "output_type": "execute_result"
    }
   ],
   "source": [
    "# Frequencies of major disturb in behavioral dataset\n",
    "dataframe['DX_01'].value_counts()"
   ]
  },
  {
   "cell_type": "code",
   "execution_count": 9,
   "metadata": {},
   "outputs": [
    {
     "data": {
      "text/plain": [
       "<matplotlib.axes._subplots.AxesSubplot at 0x7f07a157cf98>"
      ]
     },
     "execution_count": 9,
     "metadata": {},
     "output_type": "execute_result"
    },
    {
     "data": {
      "image/png": "[encoded data removed]",
      "text/plain": [
       "<Figure size 864x576 with 1 Axes>"
      ]
     },
     "metadata": {
      "needs_background": "light"
     },
     "output_type": "display_data"
    }
   ],
   "source": [
    "df = dataframe.loc[dataframe['DX_01'].isin(['ADHD-Inattentive Type', 'ADHD-Combined Type', 'No Diagnosis Given'])]\n",
    "#Create a boxplot\n",
    "df.boxplot('discrepancy', by='DX_01', figsize=(12, 8))"
   ]
  },
  {
   "cell_type": "markdown",
   "metadata": {},
   "source": [
    "## ANOVA"
   ]
  },
  {
   "cell_type": "code",
   "execution_count": 10,
   "metadata": {},
   "outputs": [
    {
     "name": "stdout",
     "output_type": "stream",
     "text": [
      "             sum_sq     df        F    PR(>F)\n",
      "DX_01      1.615185    2.0  2.75187  0.065511\n",
      "Residual  83.345634  284.0      NaN       NaN\n"
     ]
    }
   ],
   "source": [
    "import statsmodels.api as sm\n",
    "from statsmodels.formula.api import ols\n",
    "\n",
    "model = ols('discrepancy ~ DX_01',                 # Model formula\n",
    "            data = df).fit()\n",
    "                \n",
    "anova_result = sm.stats.anova_lm(model, typ=2)\n",
    "print (anova_result)"
   ]
  },
  {
   "cell_type": "code",
   "execution_count": 11,
   "metadata": {},
   "outputs": [
    {
     "data": {
      "text/html": [
       "<table class=\"simpletable\">\n",
       "<caption>OLS Regression Results</caption>\n",
       "<tr>\n",
       "  <th>Dep. Variable:</th>       <td>discrepancy</td>   <th>  R-squared:         </th> <td>   0.019</td>\n",
       "</tr>\n",
       "<tr>\n",
       "  <th>Model:</th>                   <td>OLS</td>       <th>  Adj. R-squared:    </th> <td>   0.012</td>\n",
       "</tr>\n",
       "<tr>\n",
       "  <th>Method:</th>             <td>Least Squares</td>  <th>  F-statistic:       </th> <td>   2.752</td>\n",
       "</tr>\n",
       "<tr>\n",
       "  <th>Date:</th>             <td>Wed, 13 Nov 2019</td> <th>  Prob (F-statistic):</th>  <td>0.0655</td> \n",
       "</tr>\n",
       "<tr>\n",
       "  <th>Time:</th>                 <td>22:26:39</td>     <th>  Log-Likelihood:    </th> <td> -229.80</td>\n",
       "</tr>\n",
       "<tr>\n",
       "  <th>No. Observations:</th>      <td>   287</td>      <th>  AIC:               </th> <td>   465.6</td>\n",
       "</tr>\n",
       "<tr>\n",
       "  <th>Df Residuals:</th>          <td>   284</td>      <th>  BIC:               </th> <td>   476.6</td>\n",
       "</tr>\n",
       "<tr>\n",
       "  <th>Df Model:</th>              <td>     2</td>      <th>                     </th>     <td> </td>   \n",
       "</tr>\n",
       "<tr>\n",
       "  <th>Covariance Type:</th>      <td>nonrobust</td>    <th>                     </th>     <td> </td>   \n",
       "</tr>\n",
       "</table>\n",
       "<table class=\"simpletable\">\n",
       "<tr>\n",
       "                 <td></td>                   <th>coef</th>     <th>std err</th>      <th>t</th>      <th>P>|t|</th>  <th>[0.025</th>    <th>0.975]</th>  \n",
       "</tr>\n",
       "<tr>\n",
       "  <th>Intercept</th>                      <td>   -0.0668</td> <td>    0.051</td> <td>   -1.300</td> <td> 0.195</td> <td>   -0.168</td> <td>    0.034</td>\n",
       "</tr>\n",
       "<tr>\n",
       "  <th>DX_01[T.ADHD-Inattentive Type]</th> <td>    0.1116</td> <td>    0.074</td> <td>    1.506</td> <td> 0.133</td> <td>   -0.034</td> <td>    0.257</td>\n",
       "</tr>\n",
       "<tr>\n",
       "  <th>DX_01[T.No Diagnosis Given]</th>    <td>   -0.0784</td> <td>    0.082</td> <td>   -0.960</td> <td> 0.338</td> <td>   -0.239</td> <td>    0.082</td>\n",
       "</tr>\n",
       "</table>\n",
       "<table class=\"simpletable\">\n",
       "<tr>\n",
       "  <th>Omnibus:</th>       <td> 2.660</td> <th>  Durbin-Watson:     </th> <td>   2.057</td>\n",
       "</tr>\n",
       "<tr>\n",
       "  <th>Prob(Omnibus):</th> <td> 0.264</td> <th>  Jarque-Bera (JB):  </th> <td>   2.820</td>\n",
       "</tr>\n",
       "<tr>\n",
       "  <th>Skew:</th>          <td>-0.017</td> <th>  Prob(JB):          </th> <td>   0.244</td>\n",
       "</tr>\n",
       "<tr>\n",
       "  <th>Kurtosis:</th>      <td> 3.484</td> <th>  Cond. No.          </th> <td>    3.54</td>\n",
       "</tr>\n",
       "</table><br/><br/>Warnings:<br/>[1] Standard Errors assume that the covariance matrix of the errors is correctly specified."
      ],
      "text/plain": [
       "<class 'statsmodels.iolib.summary.Summary'>\n",
       "\"\"\"\n",
       "                            OLS Regression Results                            \n",
       "==============================================================================\n",
       "Dep. Variable:            discrepancy   R-squared:                       0.019\n",
       "Model:                            OLS   Adj. R-squared:                  0.012\n",
       "Method:                 Least Squares   F-statistic:                     2.752\n",
       "Date:                Wed, 13 Nov 2019   Prob (F-statistic):             0.0655\n",
       "Time:                        22:26:39   Log-Likelihood:                -229.80\n",
       "No. Observations:                 287   AIC:                             465.6\n",
       "Df Residuals:                     284   BIC:                             476.6\n",
       "Df Model:                           2                                         \n",
       "Covariance Type:            nonrobust                                         \n",
       "==================================================================================================\n",
       "                                     coef    std err          t      P>|t|      [0.025      0.975]\n",
       "--------------------------------------------------------------------------------------------------\n",
       "Intercept                         -0.0668      0.051     -1.300      0.195      -0.168       0.034\n",
       "DX_01[T.ADHD-Inattentive Type]     0.1116      0.074      1.506      0.133      -0.034       0.257\n",
       "DX_01[T.No Diagnosis Given]       -0.0784      0.082     -0.960      0.338      -0.239       0.082\n",
       "==============================================================================\n",
       "Omnibus:                        2.660   Durbin-Watson:                   2.057\n",
       "Prob(Omnibus):                  0.264   Jarque-Bera (JB):                2.820\n",
       "Skew:                          -0.017   Prob(JB):                        0.244\n",
       "Kurtosis:                       3.484   Cond. No.                         3.54\n",
       "==============================================================================\n",
       "\n",
       "Warnings:\n",
       "[1] Standard Errors assume that the covariance matrix of the errors is correctly specified.\n",
       "\"\"\""
      ]
     },
     "execution_count": 11,
     "metadata": {},
     "output_type": "execute_result"
    }
   ],
   "source": [
    "model.summary()"
   ]
  },
  {
   "cell_type": "code",
   "execution_count": 12,
   "metadata": {},
   "outputs": [
    {
     "data": {
      "text/plain": [
       "Ttest_indResult(statistic=2.2901862868163034, pvalue=0.023251431556662913)"
      ]
     },
     "execution_count": 12,
     "metadata": {},
     "output_type": "execute_result"
    }
   ],
   "source": [
    "adhd = df[df['DX_01'] == 'ADHD-Inattentive Type']['discrepancy']\n",
    "no_adhd = df[df['DX_01'] == 'No Diagnosis Given']['discrepancy']\n",
    "from scipy.stats import ttest_ind\n",
    "res = ttest_ind(np.array(adhd), np.array(no_adhd), equal_var=False)\n",
    "res"
   ]
  },
  {
   "cell_type": "code",
   "execution_count": 13,
   "metadata": {},
   "outputs": [
    {
     "name": "stdout",
     "output_type": "stream",
     "text": [
      "             sum_sq     df          F    PR(>F)\n",
      "DX_01      3.784010    1.0  12.146321  0.000622\n",
      "Residual  54.207179  174.0        NaN       NaN\n"
     ]
    }
   ],
   "source": [
    "df = dataframe.loc[dataframe['DX_01'].isin(['ADHD-Inattentive Type', 'No Diagnosis Given'])]\n",
    "import statsmodels.api as sm\n",
    "from statsmodels.formula.api import ols\n",
    "\n",
    "model = ols('discrepancy ~ DX_01',                 # Model formula\n",
    "            data = df).fit()\n",
    "                \n",
    "anova_result = sm.stats.anova_lm(model, typ=2)\n",
    "print (anova_result)"
   ]
  },
  {
   "cell_type": "code",
   "execution_count": 16,
   "metadata": {},
   "outputs": [
    {
     "data": {
      "text/plain": [
       "<matplotlib.lines.Line2D at 0x7fc40709f9e8>"
      ]
     },
     "execution_count": 16,
     "metadata": {},
     "output_type": "execute_result"
    },
    {
     "data": {
      "image/png": "[encoded data removed]",
      "text/plain": [
       "<Figure size 432x288 with 1 Axes>"
      ]
     },
     "metadata": {
      "needs_background": "light"
     },
     "output_type": "display_data"
    }
   ],
   "source": [
    "import matplotlib.pyplot as plt\n",
    "plt.hist(adhd[:80], bins=20, color='c', edgecolor='k', alpha=0.5)     # take same number of obs as no_adhd\n",
    "plt.hist(no_adhd, bins=20, color='g', edgecolor='k', alpha=0.5)\n",
    "plt.axvline(x=np.mean(adhd[:no_adhd.shape[0]]), color = 'b')\n",
    "plt.axvline(x=np.mean(no_adhd), color = 'r')"
   ]
  },
  {
   "cell_type": "markdown",
   "metadata": {},
   "source": [
    "The light-blue histogram is relative to adhd patients, the green one to healthy patients. Due to the high variance the two distributions overlap a lot and maybe that's why we get a non-significant p-value?"
   ]
  },
  {
   "cell_type": "code",
   "execution_count": 14,
   "metadata": {},
   "outputs": [
    {
     "data": {
      "text/plain": [
       "<matplotlib.axes._subplots.AxesSubplot at 0x7f277368dcc0>"
      ]
     },
     "execution_count": 14,
     "metadata": {},
     "output_type": "execute_result"
    },
    {
     "data": {
      "image/png": "[encoded data removed]",
      "text/plain": [
       "<Figure size 864x576 with 1 Axes>"
      ]
     },
     "metadata": {
      "needs_background": "light"
     },
     "output_type": "display_data"
    }
   ],
   "source": [
    "df = dataframe.loc[dataframe['DX_01'].isin(['ADHD-Combined Type', 'ADHD-Inattentive Type','No Diagnosis Given', 'Autism Spectrum Disorder', 'Specific Learning Disorder with Impairment in Reading'])]\n",
    "#Create a boxplot\n",
    "df.boxplot('discrepancy', by='DX_01', figsize=(12, 8))"
   ]
  },
  {
   "cell_type": "code",
   "execution_count": 15,
   "metadata": {},
   "outputs": [
    {
     "name": "stdout",
     "output_type": "stream",
     "text": [
      "              sum_sq     df         F    PR(>F)\n",
      "DX_01       2.318044    4.0  1.798752  0.128791\n",
      "Residual  103.417859  321.0       NaN       NaN\n"
     ]
    }
   ],
   "source": [
    "model = ols('discrepancy ~ DX_01',                 # Model formula\n",
    "            data = df).fit()\n",
    "                \n",
    "anova_result = sm.stats.anova_lm(model, typ=2)\n",
    "print (anova_result)"
   ]
  },
  {
   "cell_type": "code",
   "execution_count": 16,
   "metadata": {},
   "outputs": [
    {
     "data": {
      "text/html": [
       "<table class=\"simpletable\">\n",
       "<caption>OLS Regression Results</caption>\n",
       "<tr>\n",
       "  <th>Dep. Variable:</th>       <td>discrepancy</td>   <th>  R-squared:         </th> <td>   0.022</td>\n",
       "</tr>\n",
       "<tr>\n",
       "  <th>Model:</th>                   <td>OLS</td>       <th>  Adj. R-squared:    </th> <td>   0.010</td>\n",
       "</tr>\n",
       "<tr>\n",
       "  <th>Method:</th>             <td>Least Squares</td>  <th>  F-statistic:       </th> <td>   1.799</td>\n",
       "</tr>\n",
       "<tr>\n",
       "  <th>Date:</th>             <td>Wed, 13 Nov 2019</td> <th>  Prob (F-statistic):</th>  <td> 0.129</td> \n",
       "</tr>\n",
       "<tr>\n",
       "  <th>Time:</th>                 <td>21:40:32</td>     <th>  Log-Likelihood:    </th> <td> -275.43</td>\n",
       "</tr>\n",
       "<tr>\n",
       "  <th>No. Observations:</th>      <td>   326</td>      <th>  AIC:               </th> <td>   560.9</td>\n",
       "</tr>\n",
       "<tr>\n",
       "  <th>Df Residuals:</th>          <td>   321</td>      <th>  BIC:               </th> <td>   579.8</td>\n",
       "</tr>\n",
       "<tr>\n",
       "  <th>Df Model:</th>              <td>     4</td>      <th>                     </th>     <td> </td>   \n",
       "</tr>\n",
       "<tr>\n",
       "  <th>Covariance Type:</th>      <td>nonrobust</td>    <th>                     </th>     <td> </td>   \n",
       "</tr>\n",
       "</table>\n",
       "<table class=\"simpletable\">\n",
       "<tr>\n",
       "                                 <td></td>                                   <th>coef</th>     <th>std err</th>      <th>t</th>      <th>P>|t|</th>  <th>[0.025</th>    <th>0.975]</th>  \n",
       "</tr>\n",
       "<tr>\n",
       "  <th>Intercept</th>                                                      <td>   -0.0728</td> <td>    0.055</td> <td>   -1.320</td> <td> 0.188</td> <td>   -0.181</td> <td>    0.036</td>\n",
       "</tr>\n",
       "<tr>\n",
       "  <th>DX_01[T.ADHD-Inattentive Type]</th>                                 <td>    0.1866</td> <td>    0.081</td> <td>    2.300</td> <td> 0.022</td> <td>    0.027</td> <td>    0.346</td>\n",
       "</tr>\n",
       "<tr>\n",
       "  <th>DX_01[T.Autism Spectrum Disorder]</th>                              <td>    0.2187</td> <td>    0.126</td> <td>    1.733</td> <td> 0.084</td> <td>   -0.030</td> <td>    0.467</td>\n",
       "</tr>\n",
       "<tr>\n",
       "  <th>DX_01[T.No Diagnosis Given]</th>                                    <td>    0.0392</td> <td>    0.084</td> <td>    0.465</td> <td> 0.642</td> <td>   -0.127</td> <td>    0.205</td>\n",
       "</tr>\n",
       "<tr>\n",
       "  <th>DX_01[T.Specific Learning Disorder with Impairment in Reading]</th> <td>    0.0888</td> <td>    0.126</td> <td>    0.703</td> <td> 0.482</td> <td>   -0.160</td> <td>    0.337</td>\n",
       "</tr>\n",
       "</table>\n",
       "<table class=\"simpletable\">\n",
       "<tr>\n",
       "  <th>Omnibus:</th>       <td>10.930</td> <th>  Durbin-Watson:     </th> <td>   1.907</td>\n",
       "</tr>\n",
       "<tr>\n",
       "  <th>Prob(Omnibus):</th> <td> 0.004</td> <th>  Jarque-Bera (JB):  </th> <td>  17.545</td>\n",
       "</tr>\n",
       "<tr>\n",
       "  <th>Skew:</th>          <td> 0.202</td> <th>  Prob(JB):          </th> <td>0.000155</td>\n",
       "</tr>\n",
       "<tr>\n",
       "  <th>Kurtosis:</th>      <td> 4.063</td> <th>  Cond. No.          </th> <td>    5.27</td>\n",
       "</tr>\n",
       "</table><br/><br/>Warnings:<br/>[1] Standard Errors assume that the covariance matrix of the errors is correctly specified."
      ],
      "text/plain": [
       "<class 'statsmodels.iolib.summary.Summary'>\n",
       "\"\"\"\n",
       "                            OLS Regression Results                            \n",
       "==============================================================================\n",
       "Dep. Variable:            discrepancy   R-squared:                       0.022\n",
       "Model:                            OLS   Adj. R-squared:                  0.010\n",
       "Method:                 Least Squares   F-statistic:                     1.799\n",
       "Date:                Wed, 13 Nov 2019   Prob (F-statistic):              0.129\n",
       "Time:                        21:40:32   Log-Likelihood:                -275.43\n",
       "No. Observations:                 326   AIC:                             560.9\n",
       "Df Residuals:                     321   BIC:                             579.8\n",
       "Df Model:                           4                                         \n",
       "Covariance Type:            nonrobust                                         \n",
       "==================================================================================================================================\n",
       "                                                                     coef    std err          t      P>|t|      [0.025      0.975]\n",
       "----------------------------------------------------------------------------------------------------------------------------------\n",
       "Intercept                                                         -0.0728      0.055     -1.320      0.188      -0.181       0.036\n",
       "DX_01[T.ADHD-Inattentive Type]                                     0.1866      0.081      2.300      0.022       0.027       0.346\n",
       "DX_01[T.Autism Spectrum Disorder]                                  0.2187      0.126      1.733      0.084      -0.030       0.467\n",
       "DX_01[T.No Diagnosis Given]                                        0.0392      0.084      0.465      0.642      -0.127       0.205\n",
       "DX_01[T.Specific Learning Disorder with Impairment in Reading]     0.0888      0.126      0.703      0.482      -0.160       0.337\n",
       "==============================================================================\n",
       "Omnibus:                       10.930   Durbin-Watson:                   1.907\n",
       "Prob(Omnibus):                  0.004   Jarque-Bera (JB):               17.545\n",
       "Skew:                           0.202   Prob(JB):                     0.000155\n",
       "Kurtosis:                       4.063   Cond. No.                         5.27\n",
       "==============================================================================\n",
       "\n",
       "Warnings:\n",
       "[1] Standard Errors assume that the covariance matrix of the errors is correctly specified.\n",
       "\"\"\""
      ]
     },
     "execution_count": 16,
     "metadata": {},
     "output_type": "execute_result"
    }
   ],
   "source": [
    "model.summary()"
   ]
  },
  {
   "cell_type": "code",
   "execution_count": 17,
   "metadata": {},
   "outputs": [
    {
     "name": "stdout",
     "output_type": "stream",
     "text": [
      "              sum_sq     df         F    PR(>F)\n",
      "DX_01      22.854937   45.0  1.402017  0.047414\n",
      "Residual  186.199037  514.0       NaN       NaN\n"
     ]
    }
   ],
   "source": [
    "# Consider all the diseases, F-test still significant.\n",
    "model = ols('discrepancy ~ DX_01',                 # Model formula\n",
    "            data = dataframe).fit()\n",
    "                \n",
    "anova_result = sm.stats.anova_lm(model, typ=2)\n",
    "print (anova_result)"
   ]
  },
  {
   "cell_type": "markdown",
   "metadata": {},
   "source": [
    "# Consider also Age"
   ]
  },
  {
   "cell_type": "code",
   "execution_count": 18,
   "metadata": {},
   "outputs": [
    {
     "name": "stdout",
     "output_type": "stream",
     "text": [
      "             sum_sq     df          F        PR(>F)\n",
      "DX_01      2.654268    4.0   2.267276  6.173816e-02\n",
      "Age       21.355726    1.0  72.968250  4.790468e-16\n",
      "Residual  97.459605  333.0        NaN           NaN\n"
     ]
    }
   ],
   "source": [
    "df = dataframe.loc[dataframe['DX_01'].isin(['ADHD-Combined Type', 'ADHD-Inattentive Type','No Diagnosis Given', 'Autism Spectrum Disorder', 'Specific Learning Disorder with Impairment in Reading'])]\n",
    "df['Age'] = np.floor(df['Age'])\n",
    "\n",
    "model = ols('discrepancy ~ Age + DX_01',                 # Model formula\n",
    "            data = df).fit()\n",
    "                \n",
    "anova_result = sm.stats.anova_lm(model, typ=2)\n",
    "print (anova_result)"
   ]
  },
  {
   "cell_type": "code",
   "execution_count": 19,
   "metadata": {},
   "outputs": [
    {
     "data": {
      "text/html": [
       "<table class=\"simpletable\">\n",
       "<caption>OLS Regression Results</caption>\n",
       "<tr>\n",
       "  <th>Dep. Variable:</th>       <td>discrepancy</td>   <th>  R-squared:         </th> <td>   0.224</td>\n",
       "</tr>\n",
       "<tr>\n",
       "  <th>Model:</th>                   <td>OLS</td>       <th>  Adj. R-squared:    </th> <td>   0.212</td>\n",
       "</tr>\n",
       "<tr>\n",
       "  <th>Method:</th>             <td>Least Squares</td>  <th>  F-statistic:       </th> <td>   19.24</td>\n",
       "</tr>\n",
       "<tr>\n",
       "  <th>Date:</th>             <td>Wed, 13 Nov 2019</td> <th>  Prob (F-statistic):</th> <td>7.98e-17</td>\n",
       "</tr>\n",
       "<tr>\n",
       "  <th>Time:</th>                 <td>21:34:09</td>     <th>  Log-Likelihood:    </th> <td> -269.73</td>\n",
       "</tr>\n",
       "<tr>\n",
       "  <th>No. Observations:</th>      <td>   339</td>      <th>  AIC:               </th> <td>   551.5</td>\n",
       "</tr>\n",
       "<tr>\n",
       "  <th>Df Residuals:</th>          <td>   333</td>      <th>  BIC:               </th> <td>   574.4</td>\n",
       "</tr>\n",
       "<tr>\n",
       "  <th>Df Model:</th>              <td>     5</td>      <th>                     </th>     <td> </td>   \n",
       "</tr>\n",
       "<tr>\n",
       "  <th>Covariance Type:</th>      <td>nonrobust</td>    <th>                     </th>     <td> </td>   \n",
       "</tr>\n",
       "</table>\n",
       "<table class=\"simpletable\">\n",
       "<tr>\n",
       "                                 <td></td>                                   <th>coef</th>     <th>std err</th>      <th>t</th>      <th>P>|t|</th>  <th>[0.025</th>    <th>0.975]</th>  \n",
       "</tr>\n",
       "<tr>\n",
       "  <th>Intercept</th>                                                      <td>   -0.7894</td> <td>    0.092</td> <td>   -8.575</td> <td> 0.000</td> <td>   -0.970</td> <td>   -0.608</td>\n",
       "</tr>\n",
       "<tr>\n",
       "  <th>DX_01[T.ADHD-Inattentive Type]</th>                                 <td>    0.1115</td> <td>    0.080</td> <td>    1.386</td> <td> 0.167</td> <td>   -0.047</td> <td>    0.270</td>\n",
       "</tr>\n",
       "<tr>\n",
       "  <th>DX_01[T.Autism Spectrum Disorder]</th>                              <td>    0.2976</td> <td>    0.108</td> <td>    2.749</td> <td> 0.006</td> <td>    0.085</td> <td>    0.511</td>\n",
       "</tr>\n",
       "<tr>\n",
       "  <th>DX_01[T.No Diagnosis Given]</th>                                    <td>    0.0101</td> <td>    0.082</td> <td>    0.124</td> <td> 0.902</td> <td>   -0.151</td> <td>    0.171</td>\n",
       "</tr>\n",
       "<tr>\n",
       "  <th>DX_01[T.Specific Learning Disorder with Impairment in Reading]</th> <td>    0.0680</td> <td>    0.111</td> <td>    0.612</td> <td> 0.541</td> <td>   -0.151</td> <td>    0.287</td>\n",
       "</tr>\n",
       "<tr>\n",
       "  <th>Age</th>                                                            <td>    0.0723</td> <td>    0.008</td> <td>    8.542</td> <td> 0.000</td> <td>    0.056</td> <td>    0.089</td>\n",
       "</tr>\n",
       "</table>\n",
       "<table class=\"simpletable\">\n",
       "<tr>\n",
       "  <th>Omnibus:</th>       <td> 6.357</td> <th>  Durbin-Watson:     </th> <td>   2.000</td>\n",
       "</tr>\n",
       "<tr>\n",
       "  <th>Prob(Omnibus):</th> <td> 0.042</td> <th>  Jarque-Bera (JB):  </th> <td>   7.189</td>\n",
       "</tr>\n",
       "<tr>\n",
       "  <th>Skew:</th>          <td>-0.207</td> <th>  Prob(JB):          </th> <td>  0.0275</td>\n",
       "</tr>\n",
       "<tr>\n",
       "  <th>Kurtosis:</th>      <td> 3.581</td> <th>  Cond. No.          </th> <td>    51.9</td>\n",
       "</tr>\n",
       "</table><br/><br/>Warnings:<br/>[1] Standard Errors assume that the covariance matrix of the errors is correctly specified."
      ],
      "text/plain": [
       "<class 'statsmodels.iolib.summary.Summary'>\n",
       "\"\"\"\n",
       "                            OLS Regression Results                            \n",
       "==============================================================================\n",
       "Dep. Variable:            discrepancy   R-squared:                       0.224\n",
       "Model:                            OLS   Adj. R-squared:                  0.212\n",
       "Method:                 Least Squares   F-statistic:                     19.24\n",
       "Date:                Wed, 13 Nov 2019   Prob (F-statistic):           7.98e-17\n",
       "Time:                        21:34:09   Log-Likelihood:                -269.73\n",
       "No. Observations:                 339   AIC:                             551.5\n",
       "Df Residuals:                     333   BIC:                             574.4\n",
       "Df Model:                           5                                         \n",
       "Covariance Type:            nonrobust                                         \n",
       "==================================================================================================================================\n",
       "                                                                     coef    std err          t      P>|t|      [0.025      0.975]\n",
       "----------------------------------------------------------------------------------------------------------------------------------\n",
       "Intercept                                                         -0.7894      0.092     -8.575      0.000      -0.970      -0.608\n",
       "DX_01[T.ADHD-Inattentive Type]                                     0.1115      0.080      1.386      0.167      -0.047       0.270\n",
       "DX_01[T.Autism Spectrum Disorder]                                  0.2976      0.108      2.749      0.006       0.085       0.511\n",
       "DX_01[T.No Diagnosis Given]                                        0.0101      0.082      0.124      0.902      -0.151       0.171\n",
       "DX_01[T.Specific Learning Disorder with Impairment in Reading]     0.0680      0.111      0.612      0.541      -0.151       0.287\n",
       "Age                                                                0.0723      0.008      8.542      0.000       0.056       0.089\n",
       "==============================================================================\n",
       "Omnibus:                        6.357   Durbin-Watson:                   2.000\n",
       "Prob(Omnibus):                  0.042   Jarque-Bera (JB):                7.189\n",
       "Skew:                          -0.207   Prob(JB):                       0.0275\n",
       "Kurtosis:                       3.581   Cond. No.                         51.9\n",
       "==============================================================================\n",
       "\n",
       "Warnings:\n",
       "[1] Standard Errors assume that the covariance matrix of the errors is correctly specified.\n",
       "\"\"\""
      ]
     },
     "execution_count": 19,
     "metadata": {},
     "output_type": "execute_result"
    }
   ],
   "source": [
    "model.summary()"
   ]
  },
  {
   "cell_type": "code",
   "execution_count": 25,
   "metadata": {},
   "outputs": [
    {
     "data": {
      "text/plain": [
       "<matplotlib.axes._subplots.AxesSubplot at 0x7ff9e2c96128>"
      ]
     },
     "execution_count": 25,
     "metadata": {},
     "output_type": "execute_result"
    },
    {
     "data": {
      "image/png": "[encoded data removed]",
      "text/plain": [
       "<Figure size 864x576 with 1 Axes>"
      ]
     },
     "metadata": {
      "needs_background": "light"
     },
     "output_type": "display_data"
    }
   ],
   "source": [
    "#Create a boxplot\n",
    "df.boxplot('discrepancy', by='Age', figsize=(12, 8))"
   ]
  },
  {
   "cell_type": "markdown",
   "metadata": {},
   "source": [
    "We note that age is highly significant in the discrepancy of age itself. For some reason the discrepancy is always high for patients aged 17+. What if we focus on patients aged 5-17?"
   ]
  },
  {
   "cell_type": "code",
   "execution_count": 26,
   "metadata": {},
   "outputs": [
    {
     "data": {
      "text/plain": [
       "<matplotlib.axes._subplots.AxesSubplot at 0x7ff9e2ad1b70>"
      ]
     },
     "execution_count": 26,
     "metadata": {},
     "output_type": "execute_result"
    },
    {
     "data": {
      "image/png": "[encoded data removed]",
      "text/plain": [
       "<Figure size 864x576 with 1 Axes>"
      ]
     },
     "metadata": {
      "needs_background": "light"
     },
     "output_type": "display_data"
    }
   ],
   "source": [
    "df = dataframe.loc[dataframe['DX_01'].isin(['ADHD-Combined Type', 'ADHD-Inattentive Type','No Diagnosis Given', 'Autism Spectrum Disorder', 'Specific Learning Disorder with Impairment in Reading'])]\n",
    "dataframe['Age'] = np.floor(dataframe['Age'])\n",
    "df = df.loc[df['Age']<18]\n",
    "#Create a boxplot\n",
    "df.boxplot('discrepancy', by='Age', figsize=(12, 8))"
   ]
  },
  {
   "cell_type": "code",
   "execution_count": 24,
   "metadata": {},
   "outputs": [
    {
     "name": "stdout",
     "output_type": "stream",
     "text": [
      "             sum_sq     df          F        PR(>F)\n",
      "DX_01      0.664626    4.0   0.656595  6.226102e-01\n",
      "Age       22.439351    1.0  88.672815  9.548962e-19\n",
      "Residual  80.978508  320.0        NaN           NaN\n"
     ]
    },
    {
     "data": {
      "text/html": [
       "<table class=\"simpletable\">\n",
       "<caption>OLS Regression Results</caption>\n",
       "<tr>\n",
       "  <th>Dep. Variable:</th>       <td>discrepancy</td>   <th>  R-squared:         </th> <td>   0.234</td>\n",
       "</tr>\n",
       "<tr>\n",
       "  <th>Model:</th>                   <td>OLS</td>       <th>  Adj. R-squared:    </th> <td>   0.222</td>\n",
       "</tr>\n",
       "<tr>\n",
       "  <th>Method:</th>             <td>Least Squares</td>  <th>  F-statistic:       </th> <td>   19.57</td>\n",
       "</tr>\n",
       "<tr>\n",
       "  <th>Date:</th>             <td>Wed, 13 Nov 2019</td> <th>  Prob (F-statistic):</th> <td>5.23e-17</td>\n",
       "</tr>\n",
       "<tr>\n",
       "  <th>Time:</th>                 <td>22:06:28</td>     <th>  Log-Likelihood:    </th> <td> -235.56</td>\n",
       "</tr>\n",
       "<tr>\n",
       "  <th>No. Observations:</th>      <td>   326</td>      <th>  AIC:               </th> <td>   483.1</td>\n",
       "</tr>\n",
       "<tr>\n",
       "  <th>Df Residuals:</th>          <td>   320</td>      <th>  BIC:               </th> <td>   505.8</td>\n",
       "</tr>\n",
       "<tr>\n",
       "  <th>Df Model:</th>              <td>     5</td>      <th>                     </th>     <td> </td>   \n",
       "</tr>\n",
       "<tr>\n",
       "  <th>Covariance Type:</th>      <td>nonrobust</td>    <th>                     </th>     <td> </td>   \n",
       "</tr>\n",
       "</table>\n",
       "<table class=\"simpletable\">\n",
       "<tr>\n",
       "                                 <td></td>                                   <th>coef</th>     <th>std err</th>      <th>t</th>      <th>P>|t|</th>  <th>[0.025</th>    <th>0.975]</th>  \n",
       "</tr>\n",
       "<tr>\n",
       "  <th>Intercept</th>                                                      <td>   -0.8017</td> <td>    0.092</td> <td>   -8.758</td> <td> 0.000</td> <td>   -0.982</td> <td>   -0.622</td>\n",
       "</tr>\n",
       "<tr>\n",
       "  <th>DX_01[T.ADHD-Inattentive Type]</th>                                 <td>    0.0130</td> <td>    0.074</td> <td>    0.175</td> <td> 0.861</td> <td>   -0.133</td> <td>    0.159</td>\n",
       "</tr>\n",
       "<tr>\n",
       "  <th>DX_01[T.Autism Spectrum Disorder]</th>                              <td>    0.1156</td> <td>    0.112</td> <td>    1.029</td> <td> 0.304</td> <td>   -0.105</td> <td>    0.337</td>\n",
       "</tr>\n",
       "<tr>\n",
       "  <th>DX_01[T.No Diagnosis Given]</th>                                    <td>   -0.0576</td> <td>    0.075</td> <td>   -0.763</td> <td> 0.446</td> <td>   -0.206</td> <td>    0.091</td>\n",
       "</tr>\n",
       "<tr>\n",
       "  <th>DX_01[T.Specific Learning Disorder with Impairment in Reading]</th> <td>   -0.0498</td> <td>    0.113</td> <td>   -0.442</td> <td> 0.659</td> <td>   -0.272</td> <td>    0.172</td>\n",
       "</tr>\n",
       "<tr>\n",
       "  <th>Age</th>                                                            <td>    0.0806</td> <td>    0.009</td> <td>    9.417</td> <td> 0.000</td> <td>    0.064</td> <td>    0.097</td>\n",
       "</tr>\n",
       "</table>\n",
       "<table class=\"simpletable\">\n",
       "<tr>\n",
       "  <th>Omnibus:</th>       <td> 8.641</td> <th>  Durbin-Watson:     </th> <td>   1.922</td>\n",
       "</tr>\n",
       "<tr>\n",
       "  <th>Prob(Omnibus):</th> <td> 0.013</td> <th>  Jarque-Bera (JB):  </th> <td>   8.714</td>\n",
       "</tr>\n",
       "<tr>\n",
       "  <th>Skew:</th>          <td>-0.345</td> <th>  Prob(JB):          </th> <td>  0.0128</td>\n",
       "</tr>\n",
       "<tr>\n",
       "  <th>Kurtosis:</th>      <td> 3.408</td> <th>  Cond. No.          </th> <td>    52.7</td>\n",
       "</tr>\n",
       "</table><br/><br/>Warnings:<br/>[1] Standard Errors assume that the covariance matrix of the errors is correctly specified."
      ],
      "text/plain": [
       "<class 'statsmodels.iolib.summary.Summary'>\n",
       "\"\"\"\n",
       "                            OLS Regression Results                            \n",
       "==============================================================================\n",
       "Dep. Variable:            discrepancy   R-squared:                       0.234\n",
       "Model:                            OLS   Adj. R-squared:                  0.222\n",
       "Method:                 Least Squares   F-statistic:                     19.57\n",
       "Date:                Wed, 13 Nov 2019   Prob (F-statistic):           5.23e-17\n",
       "Time:                        22:06:28   Log-Likelihood:                -235.56\n",
       "No. Observations:                 326   AIC:                             483.1\n",
       "Df Residuals:                     320   BIC:                             505.8\n",
       "Df Model:                           5                                         \n",
       "Covariance Type:            nonrobust                                         \n",
       "==================================================================================================================================\n",
       "                                                                     coef    std err          t      P>|t|      [0.025      0.975]\n",
       "----------------------------------------------------------------------------------------------------------------------------------\n",
       "Intercept                                                         -0.8017      0.092     -8.758      0.000      -0.982      -0.622\n",
       "DX_01[T.ADHD-Inattentive Type]                                     0.0130      0.074      0.175      0.861      -0.133       0.159\n",
       "DX_01[T.Autism Spectrum Disorder]                                  0.1156      0.112      1.029      0.304      -0.105       0.337\n",
       "DX_01[T.No Diagnosis Given]                                       -0.0576      0.075     -0.763      0.446      -0.206       0.091\n",
       "DX_01[T.Specific Learning Disorder with Impairment in Reading]    -0.0498      0.113     -0.442      0.659      -0.272       0.172\n",
       "Age                                                                0.0806      0.009      9.417      0.000       0.064       0.097\n",
       "==============================================================================\n",
       "Omnibus:                        8.641   Durbin-Watson:                   1.922\n",
       "Prob(Omnibus):                  0.013   Jarque-Bera (JB):                8.714\n",
       "Skew:                          -0.345   Prob(JB):                       0.0128\n",
       "Kurtosis:                       3.408   Cond. No.                         52.7\n",
       "==============================================================================\n",
       "\n",
       "Warnings:\n",
       "[1] Standard Errors assume that the covariance matrix of the errors is correctly specified.\n",
       "\"\"\""
      ]
     },
     "execution_count": 24,
     "metadata": {},
     "output_type": "execute_result"
    }
   ],
   "source": [
    "model = ols('discrepancy ~ Age + DX_01',                 # Model formula\n",
    "            data = df).fit()\n",
    "                \n",
    "anova_result = sm.stats.anova_lm(model, typ=2)\n",
    "print (anova_result)\n",
    "model.summary()"
   ]
  },
  {
   "cell_type": "code",
   "execution_count": 31,
   "metadata": {},
   "outputs": [
    {
     "data": {
      "text/plain": [
       "0.6226102445064063"
      ]
     },
     "execution_count": 31,
     "metadata": {},
     "output_type": "execute_result"
    }
   ],
   "source": [
    "anova_result.loc['DX_01','PR(>F)']"
   ]
  },
  {
   "cell_type": "markdown",
   "metadata": {},
   "source": [
    "# Evaluate on many splits"
   ]
  },
  {
   "cell_type": "code",
   "execution_count": 2,
   "metadata": {},
   "outputs": [],
   "source": [
    "def F_test(repetitions):\n",
    "    # Behavioral data\n",
    "    behavioral = pd.read_csv('data/Behavioral/cleaned/HBNFinalSummaries.csv')\n",
    "    # Create dataset MRI\n",
    "    target = 'Age'\n",
    "    data = create_dataset_mri(SCORE = target)\n",
    "    data.drop(columns=['DX_01_Cat', 'DX_01_Sub', 'DX_01'], inplace=True)\n",
    "    # labels and features\n",
    "    y = data[target]\n",
    "    X = data.drop([target], axis=1)\n",
    "    X = np.array(X)\n",
    "    y = np.array(y)\n",
    "    F = []\n",
    "    t = []\n",
    "    for i in range(repetitions):\n",
    "        # split the dataset\n",
    "        X_train, X_test, y_train, y_test = train_test_split(X, y, test_size=0.5, random_state=i)   #rs=2\n",
    "        y_train = y_train.reshape((-1,1))\n",
    "        y_test = y_test.reshape((-1,1))\n",
    "        ID_train = X_train[:,0]\n",
    "        X_train = X_train[:,1:]\n",
    "        ID_test = X_test[:,0]\n",
    "        X_test = X_test[:,1:]\n",
    "        y_train = np.array(y_train, dtype=np.float64)\n",
    "        X_train = np.array(X_train, dtype=np.float64)\n",
    "        y_test = np.array(y_test, dtype=np.float64)\n",
    "        X_test = np.array(X_test, dtype=np.float64)\n",
    "        # Set model parameters\n",
    "        ndim_x=X_train.shape[1]\n",
    "        ndim_y=y_train.shape[1]\n",
    "        # We try the \"faster decay rate for non-gaussian data\" proposed in the paper: h = n^(-1/(d+1))\n",
    "        n = X_train.shape[0]\n",
    "        d = X_train.shape[1]+y_train.shape[1]\n",
    "        h = n**(-1/(d+1))\n",
    "        model = MixtureDensityNetwork('{}'.format(i), ndim_x, ndim_y, n_centers=10, hidden_sizes=(16, 16), hidden_nonlinearity=tf.nn.tanh,\n",
    "               n_training_epochs=1000, x_noise_std=h, y_noise_std=h, adaptive_noise_fn=None, entropy_reg_coef=0.0,\n",
    "               weight_decay=0.0, weight_normalization=True, data_normalization=True, dropout=0.0, l2_reg=0.0, l1_reg=0.0,\n",
    "               random_seed=42)\n",
    "        # Fit\n",
    "        model.fit(X_train, y_train)\n",
    "        # Predict\n",
    "        y_pred = model.mean_(X_test)\n",
    "        y_pred = y_pred.reshape((-1,1))\n",
    "        # Define discrepancy\n",
    "        std = model.std_(X_test)\n",
    "        discrepancy = np.divide((y_test-y_pred), std)\n",
    "        # Get dataframe for test observations with behavioral data + discrepancy\n",
    "        data = {'discrepancy':discrepancy[:,0]}\n",
    "        discrepancy_df = pd.DataFrame(data)\n",
    "        ID_df = pd.DataFrame({'EID':ID_test})\n",
    "        discrepancy_merged = pd.concat([ID_df, discrepancy_df], axis=1)\n",
    "        dataframe = pd.merge(discrepancy_merged, behavioral, how='inner', on='EID')\n",
    "        dataframe = dataframe.drop(['Anonymized.ID', 'Study.Site'], axis = 1)\n",
    "        # Select most frequent diseases\n",
    "        df = dataframe.loc[dataframe['DX_01'].isin(['ADHD-Combined Type', 'ADHD-Inattentive Type','No Diagnosis Given', 'Autism Spectrum Disorder', 'Specific Learning Disorder with Impairment in Reading'])]\n",
    "        #Create a boxplot\n",
    "        #df.boxplot('discrepancy', by='DX_01', figsize=(12, 8))\n",
    "        model = ols('discrepancy ~ DX_01',                 # Model formula\n",
    "                data = df).fit()\n",
    "        anova_result = sm.stats.anova_lm(model, typ=2)\n",
    "        F.append(anova_result.loc['DX_01','PR(>F)'])\n",
    "        adhd = df[df['DX_01'] == 'ADHD-Inattentive Type']['discrepancy']\n",
    "        no_adhd = df[df['DX_01'] == 'No Diagnosis Given']['discrepancy']\n",
    "        res = ttest_ind(np.array(adhd), np.array(no_adhd), equal_var=False)\n",
    "        t.append(res[1])\n",
    "    print('Mean F-test p-val: {} \\n Mean t-test p-val: {}'.format(np.mean(F), np.mean(t)))\n"
   ]
  },
  {
   "cell_type": "code",
   "execution_count": 3,
   "metadata": {
    "scrolled": false
   },
   "outputs": [
    {
     "name": "stdout",
     "output_type": "stream",
     "text": [
      "1000/1000 [100%] ██████████████████████████████ Elapsed: 12s | loss: 836.487\n",
      "mean log-loss train: 1.4598\n",
      "1000/1000 [100%] ██████████████████████████████ Elapsed: 12s | loss: 813.083\n",
      "mean log-loss train: 1.4190\n",
      "1000/1000 [100%] ██████████████████████████████ Elapsed: 14s | loss: 837.330\n",
      "mean log-loss train: 1.4613\n",
      "1000/1000 [100%] ██████████████████████████████ Elapsed: 14s | loss: 854.935\n",
      "mean log-loss train: 1.4920\n",
      "1000/1000 [100%] ██████████████████████████████ Elapsed: 15s | loss: 828.355\n",
      "mean log-loss train: 1.4456\n",
      "1000/1000 [100%] ██████████████████████████████ Elapsed: 15s | loss: 834.344\n",
      "mean log-loss train: 1.4561\n",
      "1000/1000 [100%] ██████████████████████████████ Elapsed: 15s | loss: 892.617\n",
      "mean log-loss train: 1.5578\n",
      "1000/1000 [100%] ██████████████████████████████ Elapsed: 16s | loss: 816.586\n",
      "mean log-loss train: 1.4251\n",
      "1000/1000 [100%] ██████████████████████████████ Elapsed: 16s | loss: 831.396\n",
      "mean log-loss train: 1.4510\n",
      "1000/1000 [100%] ██████████████████████████████ Elapsed: 17s | loss: 821.317\n",
      "mean log-loss train: 1.4334\n",
      "1000/1000 [100%] ██████████████████████████████ Elapsed: 18s | loss: 830.352\n",
      "mean log-loss train: 1.4491\n",
      "1000/1000 [100%] ██████████████████████████████ Elapsed: 18s | loss: 853.586\n",
      "mean log-loss train: 1.4897\n",
      "1000/1000 [100%] ██████████████████████████████ Elapsed: 19s | loss: 830.925\n",
      "mean log-loss train: 1.4501\n",
      "1000/1000 [100%] ██████████████████████████████ Elapsed: 20s | loss: 870.722\n",
      "mean log-loss train: 1.5196\n",
      "1000/1000 [100%] ██████████████████████████████ Elapsed: 21s | loss: 838.030\n",
      "mean log-loss train: 1.4625\n",
      "1000/1000 [100%] ██████████████████████████████ Elapsed: 22s | loss: 838.377\n",
      "mean log-loss train: 1.4631\n",
      "1000/1000 [100%] ██████████████████████████████ Elapsed: 22s | loss: 805.124\n",
      "mean log-loss train: 1.4051\n",
      "1000/1000 [100%] ██████████████████████████████ Elapsed: 24s | loss: 822.634\n",
      "mean log-loss train: 1.4357\n",
      "1000/1000 [100%] ██████████████████████████████ Elapsed: 24s | loss: 813.662\n",
      "mean log-loss train: 1.4200\n",
      "1000/1000 [100%] ██████████████████████████████ Elapsed: 25s | loss: 834.642\n",
      "mean log-loss train: 1.4566\n",
      "1000/1000 [100%] ██████████████████████████████ Elapsed: 27s | loss: 818.954\n",
      "mean log-loss train: 1.4292\n",
      "1000/1000 [100%] ██████████████████████████████ Elapsed: 28s | loss: 851.575\n",
      "mean log-loss train: 1.4862\n",
      "1000/1000 [100%] ██████████████████████████████ Elapsed: 29s | loss: 851.893\n",
      "mean log-loss train: 1.4867\n",
      "1000/1000 [100%] ██████████████████████████████ Elapsed: 31s | loss: 832.422\n",
      "mean log-loss train: 1.4527\n",
      "1000/1000 [100%] ██████████████████████████████ Elapsed: 33s | loss: 811.034\n",
      "mean log-loss train: 1.4154\n",
      "1000/1000 [100%] ██████████████████████████████ Elapsed: 34s | loss: 834.178\n",
      "mean log-loss train: 1.4558\n",
      "1000/1000 [100%] ██████████████████████████████ Elapsed: 36s | loss: 817.728\n",
      "mean log-loss train: 1.4271\n",
      "1000/1000 [100%] ██████████████████████████████ Elapsed: 37s | loss: 821.411\n",
      "mean log-loss train: 1.4335\n",
      "1000/1000 [100%] ██████████████████████████████ Elapsed: 39s | loss: 842.159\n",
      "mean log-loss train: 1.4697\n",
      "1000/1000 [100%] ██████████████████████████████ Elapsed: 41s | loss: 835.490\n",
      "mean log-loss train: 1.4581\n",
      "Mean F-test p-val: 0.036138384215394684 \n",
      " Mean t-test p-val: 0.05374900538224765\n"
     ]
    }
   ],
   "source": [
    "F_test(30)"
   ]
  },
  {
   "cell_type": "code",
   "execution_count": null,
   "metadata": {},
   "outputs": [],
   "source": []
  }
 ],
 "metadata": {
  "kernelspec": {
   "display_name": "dslab",
   "language": "python",
   "name": "dslab"
  },
  "language_info": {
   "codemirror_mode": {
    "name": "ipython",
    "version": 3
   },
   "file_extension": ".py",
   "mimetype": "text/x-python",
   "name": "python",
   "nbconvert_exporter": "python",
   "pygments_lexer": "ipython3",
   "version": "3.6.9"
  }
 },
 "nbformat": 4,
 "nbformat_minor": 2
}
