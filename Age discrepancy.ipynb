{
 "cells": [
  {
   "cell_type": "markdown",
   "metadata": {},
   "source": [
    "# Age discrepancy"
   ]
  },
  {
   "cell_type": "markdown",
   "metadata": {},
   "source": [
    "Now we will try to correlate age discrepancy with some scores of the behavioral dataset. Our model to predict age uses only the structural MRI features.\n",
    "Thing I would like to check: MULTIPLE TESTING/INBALANCE PROBLEMS?"
   ]
  },
  {
   "cell_type": "code",
   "execution_count": 1,
   "metadata": {},
   "outputs": [
    {
     "name": "stdout",
     "output_type": "stream",
     "text": [
      "WARNING:tensorflow:From /home/camillca/anaconda3/envs/dslab/lib/python3.6/site-packages/tensorflow/contrib/learn/python/learn/datasets/base.py:198: retry (from tensorflow.contrib.learn.python.learn.datasets.base) is deprecated and will be removed in a future version.\n",
      "Instructions for updating:\n",
      "Use the retry module or similar alternatives.\n"
     ]
    }
   ],
   "source": [
    "import warnings\n",
    "warnings.filterwarnings('ignore')\n",
    "from utils import create_dataset_mri, cv_for_cde, create_dataset_eeg\n",
    "from cde.density_estimator import MixtureDensityNetwork\n",
    "import numpy as np\n",
    "import tensorflow as tf\n",
    "from sklearn.model_selection import cross_val_score, train_test_split\n",
    "from sklearn.metrics import mean_squared_error\n",
    "from sklearn.preprocessing import StandardScaler\n",
    "from sklearn.model_selection import KFold\n",
    "from tensorflow.python.keras.activations import tanh\n",
    "from sklearn.impute import SimpleImputer\n",
    "import pandas as pd\n",
    "import tensorflow as tf\n",
    "import statsmodels.api as sm\n",
    "from statsmodels.formula.api import ols\n",
    "from scipy.stats import ttest_ind\n",
    "from statsmodels.stats.multitest import multipletests"
   ]
  },
  {
   "cell_type": "code",
   "execution_count": 2,
   "metadata": {},
   "outputs": [],
   "source": [
    "# Behavioral data\n",
    "behavioral = pd.read_csv('data/Behavioral/cleaned/HBNFinalSummaries.csv')\n",
    "# Create dataset MRI\n",
    "target = 'Age'\n",
    "data = create_dataset_mri(SCORE = target)\n",
    "data.drop(columns=['DX_01_Cat', 'DX_01_Sub', 'DX_01'], inplace=True)"
   ]
  },
  {
   "cell_type": "code",
   "execution_count": null,
   "metadata": {},
   "outputs": [],
   "source": []
  },
  {
   "cell_type": "code",
   "execution_count": 3,
   "metadata": {},
   "outputs": [
    {
     "name": "stdout",
     "output_type": "stream",
     "text": [
      "(458, 369)\n"
     ]
    }
   ],
   "source": [
    "# labels and features\n",
    "y = data[target]\n",
    "X = data.drop([target], axis=1)\n",
    "X = np.array(X)\n",
    "y = np.array(y)\n",
    "\n",
    "# split the dataset\n",
    "X_train, X_test, y_train, y_test = train_test_split(X, y, test_size=0.6, random_state=3)\n",
    "y_train = y_train.reshape((-1,1))\n",
    "y_test = y_test.reshape((-1,1))\n",
    "ID_train = X_train[:,0]\n",
    "X_train = X_train[:,1:]\n",
    "ID_test = X_test[:,0]\n",
    "X_test = X_test[:,1:]\n",
    "y_train = np.array(y_train, dtype=np.float64)\n",
    "X_train = np.array(X_train, dtype=np.float64)\n",
    "y_test = np.array(y_test, dtype=np.float64)\n",
    "X_test = np.array(X_test, dtype=np.float64)\n",
    "print(X_train.shape)"
   ]
  },
  {
   "cell_type": "code",
   "execution_count": 4,
   "metadata": {},
   "outputs": [
    {
     "name": "stdout",
     "output_type": "stream",
     "text": [
      "1000/1000 [100%] ██████████████████████████████ Elapsed: 10s | loss: 683.500\n",
      "mean log-loss train: 1.4924\n",
      "Test MSE: 5.576091747263413\n"
     ]
    }
   ],
   "source": [
    "# Set model parameters\n",
    "ndim_x=X_train.shape[1]\n",
    "ndim_y=y_train.shape[1]\n",
    "# We try the \"faster decay rate for non-gaussian data\" proposed in the paper: h = n^(-1/(d+1))\n",
    "n = X_train.shape[0]\n",
    "d = X_train.shape[1]+y_train.shape[1]\n",
    "h = n**(-1/(d+1))\n",
    "# Define the model\n",
    "model = MixtureDensityNetwork('MDN', ndim_x, ndim_y, n_centers=10, hidden_sizes=(16, 16), hidden_nonlinearity=tf.nn.tanh,\n",
    "               n_training_epochs=1000, x_noise_std=h, y_noise_std=h, adaptive_noise_fn=None, entropy_reg_coef=0.0,\n",
    "               weight_decay=0.0, weight_normalization=True, data_normalization=True, dropout=0.0, l2_reg=0.0, l1_reg=0.0,\n",
    "               random_seed=42)\n",
    "# Fit\n",
    "model.fit(X_train, y_train)\n",
    "# Predict\n",
    "y_pred = model.mean_(X_test)\n",
    "y_pred = y_pred.reshape((-1,1))\n",
    "y_pred.shape\n",
    "print('Test MSE: {}'.format(mean_squared_error(y_pred, y_test)))"
   ]
  },
  {
   "cell_type": "code",
   "execution_count": 5,
   "metadata": {},
   "outputs": [],
   "source": [
    "# Define discrepancy\n",
    "std = model.std_(X_test)\n",
    "discrepancy = np.divide((y_test-y_pred), std)\n",
    "#discrepancy = y_test-y_pred"
   ]
  },
  {
   "cell_type": "code",
   "execution_count": 6,
   "metadata": {},
   "outputs": [],
   "source": [
    "# Get dataframe for test observations with behavioral data + discrepancy\n",
    "data = {'discrepancy':discrepancy[:,0]}\n",
    "discrepancy_df = pd.DataFrame(data)\n",
    "ID_df = pd.DataFrame({'EID':ID_test})\n",
    "discrepancy_merged = pd.concat([ID_df, discrepancy_df], axis=1)\n",
    "dataframe = pd.merge(discrepancy_merged, behavioral, how='inner', on='EID')\n",
    "dataframe = dataframe.drop(['Anonymized.ID', 'Study.Site'], axis = 1)"
   ]
  },
  {
   "cell_type": "code",
   "execution_count": 7,
   "metadata": {},
   "outputs": [
    {
     "data": {
      "text/plain": [
       "discrepancy       1.000000\n",
       "Age               0.387244\n",
       "DX_06_RC          0.556176\n",
       "DX_06_Rem         0.403055\n",
       "DX_07_ByHx        1.000000\n",
       "CAARS_HR_Raw      0.369105\n",
       "CELF_WC_R         0.406347\n",
       "CELF_FS_R         0.377634\n",
       "EVT2_RawScore     0.302995\n",
       "KBIT_NV_Raw       0.495252\n",
       "KBIT_V_Raw        0.623206\n",
       "PPVT4_RawScore    0.360499\n",
       "STAI_SA_T         0.315422\n",
       "WASI_Vocab_Raw    0.309599\n",
       "WASI_BD_Raw       0.366970\n",
       "WIAT_Num_Raw      0.306304\n",
       "WIAT_MP_Raw       0.305069\n",
       "Name: discrepancy, dtype: float64"
      ]
     },
     "execution_count": 7,
     "metadata": {},
     "output_type": "execute_result"
    }
   ],
   "source": [
    "# Get the correlations\n",
    "correlations = dataframe[dataframe.columns[1:]].corr()['discrepancy'][:]\n",
    "# Inspect correlations\n",
    "correlations[correlations > 0.3]  "
   ]
  },
  {
   "cell_type": "code",
   "execution_count": 8,
   "metadata": {},
   "outputs": [
    {
     "data": {
      "text/plain": [
       "ADHD-Combined Type                                                  130\n",
       "ADHD-Inattentive Type                                               118\n",
       "No Diagnosis Given                                                   90\n",
       "Autism Spectrum Disorder                                             51\n",
       "No Diagnosis Given: Incomplete Eval                                  45\n",
       "Specific Learning Disorder with Impairment in Reading                35\n",
       "Generalized Anxiety Disorder                                         29\n",
       "Major Depressive Disorder                                            22\n",
       "Other Specified Attention-Deficit/Hyperactivity Disorder             19\n",
       "Social Anxiety (Social Phobia)                                       16\n",
       "Language Disorder                                                    13\n",
       "ADHD-Hyperactive/Impulsive Type                                      13\n",
       "Other Specified Anxiety Disorder                                     12\n",
       "Intellectual Disability-Mild                                          7\n",
       "Disruptive Mood Dysregulation Disorder                                6\n",
       "Adjustment Disorders                                                  6\n",
       "Specific Phobia                                                       6\n",
       "Persistent Depressive Disorder (Dysthymia)                            6\n",
       "Separation Anxiety                                                    6\n",
       "Tourettes Disorder                                                    5\n",
       "Borderline Intellectual Functioning                                   4\n",
       "Enuresis                                                              3\n",
       "Obsessive-Compulsive Disorder                                         3\n",
       "Posttraumatic Stress Disorder                                         3\n",
       "Specific Learning Disorder with Impairment in Mathematics             3\n",
       "Other Specified Depressive Disorder                                   2\n",
       "Intellectual Disability-Moderate                                      2\n",
       "Specific Learning Disorder with Impairment in Written Expression      2\n",
       "Oppositional Defiant Disorder                                         2\n",
       "Other Specified Trauma- and Stressor-Related Disorder                 2\n",
       "Parent-Child Relational Problem                                       1\n",
       "Specific Learning Disorder with Impairment in Reading                 1\n",
       "Selective Mutism                                                      1\n",
       "Cannabis Use Disorder                                                 1\n",
       "Panic Disorder                                                        1\n",
       "Unspecified Attention-Deficit/Hyperactivity Disorder                  1\n",
       "                                                                      1\n",
       "Bipolar II Disorder                                                   1\n",
       "Major Neurocognitive Disorder Due to Epilepsy                         1\n",
       "Reactive Attachment Disorder                                          1\n",
       "Other Specified Tic Disorder                                          1\n",
       "Unspecified Neurodevelopmental Disorder                               1\n",
       "Name: DX_01, dtype: int64"
      ]
     },
     "execution_count": 8,
     "metadata": {},
     "output_type": "execute_result"
    }
   ],
   "source": [
    "# Frequencies of major disturb in behavioral dataset\n",
    "dataframe['DX_01'].value_counts()"
   ]
  },
  {
   "cell_type": "markdown",
   "metadata": {},
   "source": [
    "## Consider the most frequent situations: ADHD Inattentive, ADHD Combined, Autism, Healthy. Specific impairment in Reading"
   ]
  },
  {
   "cell_type": "code",
   "execution_count": 9,
   "metadata": {},
   "outputs": [],
   "source": [
    "df = dataframe.loc[dataframe['DX_01'].isin(['ADHD-Combined Type', 'ADHD-Inattentive Type','No Diagnosis Given', 'Autism Spectrum Disorder'])]\n",
    "# Correct for inbalance\n",
    "df1 = dataframe.loc[dataframe['DX_01'].isin(['ADHD-Combined Type'])]\n",
    "df2 = dataframe.loc[dataframe['DX_01'].isin(['ADHD-Inattentive Type'])]\n",
    "df3 = dataframe.loc[dataframe['DX_01'].isin(['No Diagnosis Given'])]\n",
    "df4 = dataframe.loc[dataframe['DX_01'].isin(['Autism Spectrum Disorder'])]\n",
    "size = min(df1.shape[0], df2.shape[0], df3.shape[0], df4.shape[0])#, df5.shape[0])\n",
    "df1 = df1.head(size)\n",
    "df2 = df2.head(size)\n",
    "df3 = df3.head(size)\n",
    "df4 = df4.head(size)\n",
    "df = df1.append(df2, ignore_index=True)\n",
    "df = df.append(df3, ignore_index=True)\n",
    "df = df.append(df4, ignore_index=True)\n"
   ]
  },
  {
   "cell_type": "markdown",
   "metadata": {},
   "source": [
    "## t-test Healthy vs ADHD Inattentive"
   ]
  },
  {
   "cell_type": "code",
   "execution_count": 10,
   "metadata": {},
   "outputs": [
    {
     "data": {
      "text/plain": [
       "Ttest_indResult(statistic=2.3225125123606416, pvalue=0.02223297597135076)"
      ]
     },
     "execution_count": 10,
     "metadata": {},
     "output_type": "execute_result"
    }
   ],
   "source": [
    "adhd = df[df['DX_01'] == 'ADHD-Inattentive Type']['discrepancy']\n",
    "no_adhd = df[df['DX_01'] == 'No Diagnosis Given']['discrepancy']\n",
    "from scipy.stats import ttest_ind\n",
    "res = ttest_ind(np.array(adhd), np.array(no_adhd), equal_var=False)\n",
    "res"
   ]
  },
  {
   "cell_type": "code",
   "execution_count": 11,
   "metadata": {},
   "outputs": [
    {
     "data": {
      "text/plain": [
       "<matplotlib.lines.Line2D at 0x7f5c1b306b00>"
      ]
     },
     "execution_count": 11,
     "metadata": {},
     "output_type": "execute_result"
    },
    {
     "data": {
      "image/png": "[encoded data removed]",
      "text/plain": [
       "<Figure size 432x288 with 1 Axes>"
      ]
     },
     "metadata": {
      "needs_background": "light"
     },
     "output_type": "display_data"
    }
   ],
   "source": [
    "import matplotlib.pyplot as plt\n",
    "plt.hist(adhd[:80], bins=20, color='c', edgecolor='k', alpha=0.5)     # take same number of obs as no_adhd\n",
    "plt.hist(no_adhd, bins=20, color='g', edgecolor='k', alpha=0.5)\n",
    "plt.axvline(x=np.mean(adhd), color = 'b')\n",
    "plt.axvline(x=np.mean(no_adhd), color = 'r')"
   ]
  },
  {
   "cell_type": "markdown",
   "metadata": {},
   "source": [
    "## t-test Healthy vs Autism"
   ]
  },
  {
   "cell_type": "code",
   "execution_count": 12,
   "metadata": {},
   "outputs": [
    {
     "data": {
      "text/plain": [
       "Ttest_indResult(statistic=3.964019734405931, pvalue=0.00013876494891042519)"
      ]
     },
     "execution_count": 12,
     "metadata": {},
     "output_type": "execute_result"
    }
   ],
   "source": [
    "autism = df[df['DX_01'] == 'Autism Spectrum Disorder']['discrepancy']\n",
    "healthy = df[df['DX_01'] == 'No Diagnosis Given']['discrepancy']\n",
    "from scipy.stats import ttest_ind\n",
    "res = ttest_ind(np.array(autism), np.array(healthy), equal_var=False)\n",
    "res"
   ]
  },
  {
   "cell_type": "code",
   "execution_count": 13,
   "metadata": {},
   "outputs": [
    {
     "data": {
      "text/plain": [
       "<matplotlib.lines.Line2D at 0x7f5c24b45198>"
      ]
     },
     "execution_count": 13,
     "metadata": {},
     "output_type": "execute_result"
    },
    {
     "data": {
      "image/png": "[encoded data removed]",
      "text/plain": [
       "<Figure size 432x288 with 1 Axes>"
      ]
     },
     "metadata": {
      "needs_background": "light"
     },
     "output_type": "display_data"
    }
   ],
   "source": [
    "import matplotlib.pyplot as plt\n",
    "plt.hist(autism, bins=20, color='c', edgecolor='k', alpha=0.5)     # take same number of obs as no_adhd\n",
    "plt.hist(healthy, bins=20, color='g', edgecolor='k', alpha=0.5)\n",
    "plt.axvline(x=np.mean(autism), color = 'b')\n",
    "plt.axvline(x=np.mean(healthy), color = 'r')"
   ]
  },
  {
   "cell_type": "markdown",
   "metadata": {},
   "source": [
    "# ANOVA"
   ]
  },
  {
   "cell_type": "code",
   "execution_count": 14,
   "metadata": {},
   "outputs": [
    {
     "data": {
      "text/plain": [
       "<matplotlib.axes._subplots.AxesSubplot at 0x7f5b63e31710>"
      ]
     },
     "execution_count": 14,
     "metadata": {},
     "output_type": "execute_result"
    },
    {
     "data": {
      "image/png": "[encoded data removed]",
      "text/plain": [
       "<Figure size 864x576 with 1 Axes>"
      ]
     },
     "metadata": {
      "needs_background": "light"
     },
     "output_type": "display_data"
    }
   ],
   "source": [
    "#Create a boxplot\n",
    "df.boxplot('discrepancy', by='DX_01', figsize=(12, 8))"
   ]
  },
  {
   "cell_type": "code",
   "execution_count": 15,
   "metadata": {},
   "outputs": [
    {
     "name": "stdout",
     "output_type": "stream",
     "text": [
      "             sum_sq     df         F   PR(>F)\n",
      "DX_01      5.102929    3.0  5.785239  0.00082\n",
      "Residual  58.804007  200.0       NaN      NaN\n"
     ]
    },
    {
     "data": {
      "text/html": [
       "<table class=\"simpletable\">\n",
       "<caption>OLS Regression Results</caption>\n",
       "<tr>\n",
       "  <th>Dep. Variable:</th>       <td>discrepancy</td>   <th>  R-squared:         </th> <td>   0.080</td>\n",
       "</tr>\n",
       "<tr>\n",
       "  <th>Model:</th>                   <td>OLS</td>       <th>  Adj. R-squared:    </th> <td>   0.066</td>\n",
       "</tr>\n",
       "<tr>\n",
       "  <th>Method:</th>             <td>Least Squares</td>  <th>  F-statistic:       </th> <td>   5.785</td>\n",
       "</tr>\n",
       "<tr>\n",
       "  <th>Date:</th>             <td>Sun, 24 Nov 2019</td> <th>  Prob (F-statistic):</th> <td>0.000820</td>\n",
       "</tr>\n",
       "<tr>\n",
       "  <th>Time:</th>                 <td>16:29:44</td>     <th>  Log-Likelihood:    </th> <td> -162.58</td>\n",
       "</tr>\n",
       "<tr>\n",
       "  <th>No. Observations:</th>      <td>   204</td>      <th>  AIC:               </th> <td>   333.2</td>\n",
       "</tr>\n",
       "<tr>\n",
       "  <th>Df Residuals:</th>          <td>   200</td>      <th>  BIC:               </th> <td>   346.4</td>\n",
       "</tr>\n",
       "<tr>\n",
       "  <th>Df Model:</th>              <td>     3</td>      <th>                     </th>     <td> </td>   \n",
       "</tr>\n",
       "<tr>\n",
       "  <th>Covariance Type:</th>      <td>nonrobust</td>    <th>                     </th>     <td> </td>   \n",
       "</tr>\n",
       "</table>\n",
       "<table class=\"simpletable\">\n",
       "<tr>\n",
       "                  <td></td>                     <th>coef</th>     <th>std err</th>      <th>t</th>      <th>P>|t|</th>  <th>[0.025</th>    <th>0.975]</th>  \n",
       "</tr>\n",
       "<tr>\n",
       "  <th>Intercept</th>                         <td>   -0.0031</td> <td>    0.076</td> <td>   -0.041</td> <td> 0.968</td> <td>   -0.153</td> <td>    0.147</td>\n",
       "</tr>\n",
       "<tr>\n",
       "  <th>DX_01[T.ADHD-Inattentive Type]</th>    <td>    0.1296</td> <td>    0.107</td> <td>    1.207</td> <td> 0.229</td> <td>   -0.082</td> <td>    0.341</td>\n",
       "</tr>\n",
       "<tr>\n",
       "  <th>DX_01[T.Autism Spectrum Disorder]</th> <td>    0.3110</td> <td>    0.107</td> <td>    2.896</td> <td> 0.004</td> <td>    0.099</td> <td>    0.523</td>\n",
       "</tr>\n",
       "<tr>\n",
       "  <th>DX_01[T.No Diagnosis Given]</th>       <td>   -0.1146</td> <td>    0.107</td> <td>   -1.067</td> <td> 0.287</td> <td>   -0.326</td> <td>    0.097</td>\n",
       "</tr>\n",
       "</table>\n",
       "<table class=\"simpletable\">\n",
       "<tr>\n",
       "  <th>Omnibus:</th>       <td> 9.663</td> <th>  Durbin-Watson:     </th> <td>   2.071</td>\n",
       "</tr>\n",
       "<tr>\n",
       "  <th>Prob(Omnibus):</th> <td> 0.008</td> <th>  Jarque-Bera (JB):  </th> <td>  20.017</td>\n",
       "</tr>\n",
       "<tr>\n",
       "  <th>Skew:</th>          <td> 0.058</td> <th>  Prob(JB):          </th> <td>4.50e-05</td>\n",
       "</tr>\n",
       "<tr>\n",
       "  <th>Kurtosis:</th>      <td> 4.530</td> <th>  Cond. No.          </th> <td>    4.79</td>\n",
       "</tr>\n",
       "</table><br/><br/>Warnings:<br/>[1] Standard Errors assume that the covariance matrix of the errors is correctly specified."
      ],
      "text/plain": [
       "<class 'statsmodels.iolib.summary.Summary'>\n",
       "\"\"\"\n",
       "                            OLS Regression Results                            \n",
       "==============================================================================\n",
       "Dep. Variable:            discrepancy   R-squared:                       0.080\n",
       "Model:                            OLS   Adj. R-squared:                  0.066\n",
       "Method:                 Least Squares   F-statistic:                     5.785\n",
       "Date:                Sun, 24 Nov 2019   Prob (F-statistic):           0.000820\n",
       "Time:                        16:29:44   Log-Likelihood:                -162.58\n",
       "No. Observations:                 204   AIC:                             333.2\n",
       "Df Residuals:                     200   BIC:                             346.4\n",
       "Df Model:                           3                                         \n",
       "Covariance Type:            nonrobust                                         \n",
       "=====================================================================================================\n",
       "                                        coef    std err          t      P>|t|      [0.025      0.975]\n",
       "-----------------------------------------------------------------------------------------------------\n",
       "Intercept                            -0.0031      0.076     -0.041      0.968      -0.153       0.147\n",
       "DX_01[T.ADHD-Inattentive Type]        0.1296      0.107      1.207      0.229      -0.082       0.341\n",
       "DX_01[T.Autism Spectrum Disorder]     0.3110      0.107      2.896      0.004       0.099       0.523\n",
       "DX_01[T.No Diagnosis Given]          -0.1146      0.107     -1.067      0.287      -0.326       0.097\n",
       "==============================================================================\n",
       "Omnibus:                        9.663   Durbin-Watson:                   2.071\n",
       "Prob(Omnibus):                  0.008   Jarque-Bera (JB):               20.017\n",
       "Skew:                           0.058   Prob(JB):                     4.50e-05\n",
       "Kurtosis:                       4.530   Cond. No.                         4.79\n",
       "==============================================================================\n",
       "\n",
       "Warnings:\n",
       "[1] Standard Errors assume that the covariance matrix of the errors is correctly specified.\n",
       "\"\"\""
      ]
     },
     "execution_count": 15,
     "metadata": {},
     "output_type": "execute_result"
    }
   ],
   "source": [
    "model = ols('discrepancy ~ DX_01',                 # Model formula\n",
    "            data = df).fit()\n",
    "                \n",
    "anova_result = sm.stats.anova_lm(model, typ=2)\n",
    "print (anova_result)\n",
    "model.summary()"
   ]
  },
  {
   "cell_type": "markdown",
   "metadata": {},
   "source": [
    "We got a significant F-test and significant pval for autism."
   ]
  },
  {
   "cell_type": "markdown",
   "metadata": {},
   "source": [
    "## Evaluate these quantities as an average over differen splits"
   ]
  },
  {
   "cell_type": "code",
   "execution_count": 16,
   "metadata": {
    "scrolled": true
   },
   "outputs": [],
   "source": [
    "def F_test(repetitions, correct_imbalance = True, multiple_testing_correction = 'fdr_bh'):\n",
    "    # Behavioral data\n",
    "    behavioral = pd.read_csv('data/Behavioral/cleaned/HBNFinalSummaries.csv')\n",
    "    # Create dataset MRI\n",
    "    target = 'Age'\n",
    "    data = create_dataset_mri(SCORE = target)\n",
    "    data.drop(columns=['DX_01_Cat', 'DX_01_Sub', 'DX_01'], inplace=True)\n",
    "    # labels and features\n",
    "    y = data[target]\n",
    "    X = data.drop([target], axis=1)\n",
    "    X = np.array(X)\n",
    "    y = np.array(y)\n",
    "    # things I want to compute\n",
    "    F = []\n",
    "    t_adhd = []\n",
    "    t_adhd_combined = []\n",
    "    t_autism = []\n",
    "    pval_inattentive = []\n",
    "    pval_combined = []\n",
    "    pval_healthy = []\n",
    "    pval_autism = []\n",
    "    pval_reading = []\n",
    "    \n",
    "    for i in range(repetitions):\n",
    "        # split the dataset\n",
    "        X_train, X_test, y_train, y_test = train_test_split(X, y, test_size=0.6, random_state=i)   #rs=2\n",
    "        y_train = y_train.reshape((-1,1))\n",
    "        y_test = y_test.reshape((-1,1))\n",
    "        ID_train = X_train[:,0]\n",
    "        X_train = X_train[:,1:]\n",
    "        ID_test = X_test[:,0]\n",
    "        X_test = X_test[:,1:]\n",
    "        y_train = np.array(y_train, dtype=np.float64)\n",
    "        X_train = np.array(X_train, dtype=np.float64)\n",
    "        y_test = np.array(y_test, dtype=np.float64)\n",
    "        X_test = np.array(X_test, dtype=np.float64)\n",
    "        # Set model parameters\n",
    "        ndim_x=X_train.shape[1]\n",
    "        ndim_y=y_train.shape[1]\n",
    "        # We try the \"faster decay rate for non-gaussian data\" proposed in the paper: h = n^(-1/(d+1))\n",
    "        n = X_train.shape[0]\n",
    "        d = X_train.shape[1]+y_train.shape[1]\n",
    "        h = n**(-1/(d+1))\n",
    "        model = MixtureDensityNetwork('{}'.format(i), ndim_x, ndim_y, n_centers=10, hidden_sizes=(16, 16), hidden_nonlinearity=tf.nn.tanh,\n",
    "               n_training_epochs=1000, x_noise_std=h, y_noise_std=h, adaptive_noise_fn=None, entropy_reg_coef=0.0,\n",
    "               weight_decay=0.0, weight_normalization=True, data_normalization=True, dropout=0.0, l2_reg=0.0, l1_reg=0.0,\n",
    "               random_seed=42)\n",
    "        # Fit\n",
    "        model.fit(X_train, y_train)\n",
    "        # Predict\n",
    "        y_pred = model.mean_(X_test)\n",
    "        y_pred = y_pred.reshape((-1,1))\n",
    "        # Define discrepancy\n",
    "        std = model.std_(X_test)\n",
    "        discrepancy = np.divide((y_test-y_pred), std)\n",
    "        # Get dataframe for test observations with behavioral data + discrepancy\n",
    "        data = {'discrepancy':discrepancy[:,0]}\n",
    "        discrepancy_df = pd.DataFrame(data)\n",
    "        ID_df = pd.DataFrame({'EID':ID_test})\n",
    "        discrepancy_merged = pd.concat([ID_df, discrepancy_df], axis=1)\n",
    "        dataframe = pd.merge(discrepancy_merged, behavioral, how='inner', on='EID')\n",
    "        dataframe = dataframe.drop(['Anonymized.ID', 'Study.Site'], axis = 1)\n",
    "        # Select most frequent diseases\n",
    "        df = dataframe.loc[dataframe['DX_01'].isin(['ADHD-Combined Type', 'ADHD-Inattentive Type','No Diagnosis Given', 'Autism Spectrum Disorder'])]\n",
    "        if correct_imbalance == True:\n",
    "            # Correct for inbalance\n",
    "            df1 = dataframe.loc[dataframe['DX_01'].isin(['ADHD-Combined Type'])]\n",
    "            df2 = dataframe.loc[dataframe['DX_01'].isin(['ADHD-Inattentive Type'])]\n",
    "            df3 = dataframe.loc[dataframe['DX_01'].isin(['No Diagnosis Given'])]\n",
    "            df4 = dataframe.loc[dataframe['DX_01'].isin(['Autism Spectrum Disorder'])]\n",
    "            size = min(df1.shape[0], df2.shape[0], df3.shape[0], df4.shape[0])\n",
    "            df1 = df1.head(size)\n",
    "            df2 = df2.head(size)\n",
    "            df3 = df3.head(size)\n",
    "            df4 = df4.head(size)\n",
    "            df = df1.append(df2, ignore_index=True)\n",
    "            df = df.append(df3, ignore_index=True)\n",
    "            df = df.append(df4, ignore_index=True)\n",
    "\n",
    "        # ols model\n",
    "        model = ols('discrepancy ~ DX_01', data = df).fit()\n",
    "        \n",
    "        # Overall F-test\n",
    "        anova_result = sm.stats.anova_lm(model, typ=2)\n",
    "        F.append(anova_result.loc['DX_01','PR(>F)'])\n",
    "        \n",
    "        # Extract pvals\n",
    "        p_vals = [model.pvalues['DX_01[T.ADHD-Inattentive Type]'], model.pvalues['Intercept'], model.pvalues['DX_01[T.No Diagnosis Given]'], model.pvalues['DX_01[T.Autism Spectrum Disorder]'] ]\n",
    "        \n",
    "        # Correct p-values for multiple-testing\n",
    "        corrected = multipletests(pvals = p_vals, alpha=0.05, method = multiple_testing_correction)\n",
    "        \n",
    "        # individual pvalues\n",
    "        pval_inattentive.append(corrected[1][0])\n",
    "        pval_combined.append(corrected[1][1])\n",
    "        pval_healthy.append(corrected[1][2])\n",
    "        pval_autism.append(corrected[1][3])\n",
    "        \n",
    "        # t-test for autism vs healthy\n",
    "        autism = df[df['DX_01'] == 'Autism Spectrum Disorder']['discrepancy']\n",
    "        healthy = df[df['DX_01'] == 'No Diagnosis Given']['discrepancy']\n",
    "        res1 = ttest_ind(np.array(autism), np.array(healthy), equal_var=False)\n",
    "        \n",
    "        \n",
    "        # t-test for inattentive vs healthy\n",
    "        adhd = df[df['DX_01'] == 'ADHD-Inattentive Type']['discrepancy']\n",
    "        no_adhd = df[df['DX_01'] == 'No Diagnosis Given']['discrepancy']\n",
    "        res2 = ttest_ind(np.array(adhd), np.array(no_adhd), equal_var=False)\n",
    "        \n",
    "        \n",
    "        # t-test for combined vs healthy\n",
    "        combined = df[df['DX_01'] == 'ADHD-Combined Type']['discrepancy']\n",
    "        no_combined = df[df['DX_01'] == 'No Diagnosis Given']['discrepancy']\n",
    "        res3 = ttest_ind(np.array(combined), np.array(no_combined), equal_var=False)\n",
    "        \n",
    "        \n",
    "        # Correct p-values for multiple-testing\n",
    "        p_vals = [res1[1], res2[1], res3[1]]\n",
    "        corrected = multipletests(pvals = p_vals, alpha=0.05, method = multiple_testing_correction)\n",
    "        t_autism.append(corrected[1][0])\n",
    "        t_adhd.append(corrected[1][1])\n",
    "        t_adhd_combined.append(corrected[1][2])\n",
    "    print('Mean F-test p-val: {} \\n Mean ADHD Combined pval: {} \\n Mean ADHD Inattentive pval. {} \\n Mean Healthy pval: {} \\n Mean Autism pval: {} \\n  \\n Mean t-test p-val (inattentive vs healthy): {} \\n Mean t-test p-val (combined vs healthy): {} \\n Mean t-test p-val (autism vs healthy): {}'.format(np.mean(F), np.mean(pval_combined), np.mean(pval_inattentive), np.mean(pval_healthy), np.mean(pval_autism), np.mean(t_adhd), np.mean(t_adhd_combined), np.mean(t_autism)))"
   ]
  },
  {
   "cell_type": "code",
   "execution_count": 17,
   "metadata": {},
   "outputs": [
    {
     "name": "stdout",
     "output_type": "stream",
     "text": [
      "1000/1000 [100%] ██████████████████████████████ Elapsed: 10s | loss: 662.098\n",
      "mean log-loss train: 1.4456\n",
      "1000/1000 [100%] ██████████████████████████████ Elapsed: 11s | loss: 688.835\n",
      "mean log-loss train: 1.5040\n",
      "1000/1000 [100%] ██████████████████████████████ Elapsed: 11s | loss: 687.301\n",
      "mean log-loss train: 1.5007\n",
      "1000/1000 [100%] ██████████████████████████████ Elapsed: 12s | loss: 670.425\n",
      "mean log-loss train: 1.4638\n",
      "1000/1000 [100%] ██████████████████████████████ Elapsed: 12s | loss: 661.347\n",
      "mean log-loss train: 1.4440\n",
      "1000/1000 [100%] ██████████████████████████████ Elapsed: 12s | loss: 668.212\n",
      "mean log-loss train: 1.4590\n",
      "1000/1000 [100%] ██████████████████████████████ Elapsed: 13s | loss: 677.198\n",
      "mean log-loss train: 1.4786\n",
      "1000/1000 [100%] ██████████████████████████████ Elapsed: 14s | loss: 678.908\n",
      "mean log-loss train: 1.4823\n",
      "1000/1000 [100%] ██████████████████████████████ Elapsed: 14s | loss: 664.803\n",
      "mean log-loss train: 1.4515\n",
      "1000/1000 [100%] ██████████████████████████████ Elapsed: 15s | loss: 651.482\n",
      "mean log-loss train: 1.4224\n",
      "Mean F-test p-val: 0.04110045183361728 \n",
      " Mean ADHD Combined pval: 0.5677309864142703 \n",
      " Mean ADHD Inattentive pval. 0.5072749606092893 \n",
      " Mean Healthy pval: 0.5901495018046404 \n",
      " Mean Autism pval: 0.1388638968404084 \n",
      "  \n",
      " Mean t-test p-val (inattentive vs healthy): 0.23428491590179262 \n",
      " Mean t-test p-val (combined vs healthy): 0.5001023646336429 \n",
      " Mean t-test p-val (autism vs healthy): 0.07822343562133341\n"
     ]
    }
   ],
   "source": [
    "F_test(10)"
   ]
  },
  {
   "cell_type": "markdown",
   "metadata": {},
   "source": [
    "Using the Benjamini-Hochberg correction there is (some) evidence for autism in the t-tests!"
   ]
  },
  {
   "cell_type": "markdown",
   "metadata": {},
   "source": [
    "# What if we control for Age?"
   ]
  },
  {
   "cell_type": "code",
   "execution_count": 23,
   "metadata": {},
   "outputs": [
    {
     "name": "stdout",
     "output_type": "stream",
     "text": [
      "             sum_sq     df          F        PR(>F)\n",
      "DX_01      2.717668    3.0   3.701932  1.265856e-02\n",
      "Age       10.107275    1.0  41.303548  9.435006e-10\n",
      "Residual  48.696732  199.0        NaN           NaN\n"
     ]
    }
   ],
   "source": [
    "df['Age'] = np.floor(df['Age'])\n",
    "#df = df.loc[df['Age'] 15]      # AGE INTERVAL\n",
    "\n",
    "model = ols('discrepancy ~ Age + DX_01',                 # Model formula\n",
    "            data = df).fit()\n",
    "                \n",
    "anova_result = sm.stats.anova_lm(model, typ=2)\n",
    "print (anova_result)"
   ]
  },
  {
   "cell_type": "code",
   "execution_count": 24,
   "metadata": {},
   "outputs": [
    {
     "data": {
      "text/html": [
       "<table class=\"simpletable\">\n",
       "<caption>OLS Regression Results</caption>\n",
       "<tr>\n",
       "  <th>Dep. Variable:</th>       <td>discrepancy</td>   <th>  R-squared:         </th> <td>   0.238</td>\n",
       "</tr>\n",
       "<tr>\n",
       "  <th>Model:</th>                   <td>OLS</td>       <th>  Adj. R-squared:    </th> <td>   0.223</td>\n",
       "</tr>\n",
       "<tr>\n",
       "  <th>Method:</th>             <td>Least Squares</td>  <th>  F-statistic:       </th> <td>   15.54</td>\n",
       "</tr>\n",
       "<tr>\n",
       "  <th>Date:</th>             <td>Wed, 20 Nov 2019</td> <th>  Prob (F-statistic):</th> <td>4.43e-11</td>\n",
       "</tr>\n",
       "<tr>\n",
       "  <th>Time:</th>                 <td>11:13:01</td>     <th>  Log-Likelihood:    </th> <td> -143.35</td>\n",
       "</tr>\n",
       "<tr>\n",
       "  <th>No. Observations:</th>      <td>   204</td>      <th>  AIC:               </th> <td>   296.7</td>\n",
       "</tr>\n",
       "<tr>\n",
       "  <th>Df Residuals:</th>          <td>   199</td>      <th>  BIC:               </th> <td>   313.3</td>\n",
       "</tr>\n",
       "<tr>\n",
       "  <th>Df Model:</th>              <td>     4</td>      <th>                     </th>     <td> </td>   \n",
       "</tr>\n",
       "<tr>\n",
       "  <th>Covariance Type:</th>      <td>nonrobust</td>    <th>                     </th>     <td> </td>   \n",
       "</tr>\n",
       "</table>\n",
       "<table class=\"simpletable\">\n",
       "<tr>\n",
       "                  <td></td>                     <th>coef</th>     <th>std err</th>      <th>t</th>      <th>P>|t|</th>  <th>[0.025</th>    <th>0.975]</th>  \n",
       "</tr>\n",
       "<tr>\n",
       "  <th>Intercept</th>                         <td>   -0.5716</td> <td>    0.112</td> <td>   -5.087</td> <td> 0.000</td> <td>   -0.793</td> <td>   -0.350</td>\n",
       "</tr>\n",
       "<tr>\n",
       "  <th>DX_01[T.ADHD-Inattentive Type]</th>    <td>    0.0088</td> <td>    0.100</td> <td>    0.088</td> <td> 0.930</td> <td>   -0.188</td> <td>    0.205</td>\n",
       "</tr>\n",
       "<tr>\n",
       "  <th>DX_01[T.Autism Spectrum Disorder]</th> <td>    0.1698</td> <td>    0.100</td> <td>    1.691</td> <td> 0.092</td> <td>   -0.028</td> <td>    0.368</td>\n",
       "</tr>\n",
       "<tr>\n",
       "  <th>DX_01[T.No Diagnosis Given]</th>       <td>   -0.1604</td> <td>    0.098</td> <td>   -1.633</td> <td> 0.104</td> <td>   -0.354</td> <td>    0.033</td>\n",
       "</tr>\n",
       "<tr>\n",
       "  <th>Age</th>                               <td>    0.0649</td> <td>    0.010</td> <td>    6.427</td> <td> 0.000</td> <td>    0.045</td> <td>    0.085</td>\n",
       "</tr>\n",
       "</table>\n",
       "<table class=\"simpletable\">\n",
       "<tr>\n",
       "  <th>Omnibus:</th>       <td>13.747</td> <th>  Durbin-Watson:     </th> <td>   1.961</td>\n",
       "</tr>\n",
       "<tr>\n",
       "  <th>Prob(Omnibus):</th> <td> 0.001</td> <th>  Jarque-Bera (JB):  </th> <td>  19.565</td>\n",
       "</tr>\n",
       "<tr>\n",
       "  <th>Skew:</th>          <td>-0.432</td> <th>  Prob(JB):          </th> <td>5.64e-05</td>\n",
       "</tr>\n",
       "<tr>\n",
       "  <th>Kurtosis:</th>      <td> 4.246</td> <th>  Cond. No.          </th> <td>    46.7</td>\n",
       "</tr>\n",
       "</table><br/><br/>Warnings:<br/>[1] Standard Errors assume that the covariance matrix of the errors is correctly specified."
      ],
      "text/plain": [
       "<class 'statsmodels.iolib.summary.Summary'>\n",
       "\"\"\"\n",
       "                            OLS Regression Results                            \n",
       "==============================================================================\n",
       "Dep. Variable:            discrepancy   R-squared:                       0.238\n",
       "Model:                            OLS   Adj. R-squared:                  0.223\n",
       "Method:                 Least Squares   F-statistic:                     15.54\n",
       "Date:                Wed, 20 Nov 2019   Prob (F-statistic):           4.43e-11\n",
       "Time:                        11:13:01   Log-Likelihood:                -143.35\n",
       "No. Observations:                 204   AIC:                             296.7\n",
       "Df Residuals:                     199   BIC:                             313.3\n",
       "Df Model:                           4                                         \n",
       "Covariance Type:            nonrobust                                         \n",
       "=====================================================================================================\n",
       "                                        coef    std err          t      P>|t|      [0.025      0.975]\n",
       "-----------------------------------------------------------------------------------------------------\n",
       "Intercept                            -0.5716      0.112     -5.087      0.000      -0.793      -0.350\n",
       "DX_01[T.ADHD-Inattentive Type]        0.0088      0.100      0.088      0.930      -0.188       0.205\n",
       "DX_01[T.Autism Spectrum Disorder]     0.1698      0.100      1.691      0.092      -0.028       0.368\n",
       "DX_01[T.No Diagnosis Given]          -0.1604      0.098     -1.633      0.104      -0.354       0.033\n",
       "Age                                   0.0649      0.010      6.427      0.000       0.045       0.085\n",
       "==============================================================================\n",
       "Omnibus:                       13.747   Durbin-Watson:                   1.961\n",
       "Prob(Omnibus):                  0.001   Jarque-Bera (JB):               19.565\n",
       "Skew:                          -0.432   Prob(JB):                     5.64e-05\n",
       "Kurtosis:                       4.246   Cond. No.                         46.7\n",
       "==============================================================================\n",
       "\n",
       "Warnings:\n",
       "[1] Standard Errors assume that the covariance matrix of the errors is correctly specified.\n",
       "\"\"\""
      ]
     },
     "execution_count": 24,
     "metadata": {},
     "output_type": "execute_result"
    }
   ],
   "source": [
    "model.summary()"
   ]
  },
  {
   "cell_type": "code",
   "execution_count": 25,
   "metadata": {
    "scrolled": false
   },
   "outputs": [
    {
     "data": {
      "text/plain": [
       "<matplotlib.axes._subplots.AxesSubplot at 0x7f2182525390>"
      ]
     },
     "execution_count": 25,
     "metadata": {},
     "output_type": "execute_result"
    },
    {
     "data": {
      "image/png": "[encoded data removed]",
      "text/plain": [
       "<Figure size 864x576 with 1 Axes>"
      ]
     },
     "metadata": {
      "needs_background": "light"
     },
     "output_type": "display_data"
    }
   ],
   "source": [
    "#Create a boxplot\n",
    "df.boxplot('discrepancy', by='Age', figsize=(12, 8))"
   ]
  },
  {
   "cell_type": "code",
   "execution_count": 26,
   "metadata": {},
   "outputs": [
    {
     "name": "stdout",
     "output_type": "stream",
     "text": [
      "               sum_sq     df         F    PR(>F)\n",
      "DX_01      156.882353    3.0  4.353078  0.005377\n",
      "Residual  2402.627451  200.0       NaN       NaN\n"
     ]
    },
    {
     "data": {
      "text/html": [
       "<table class=\"simpletable\">\n",
       "<caption>OLS Regression Results</caption>\n",
       "<tr>\n",
       "  <th>Dep. Variable:</th>           <td>Age</td>       <th>  R-squared:         </th> <td>   0.061</td>\n",
       "</tr>\n",
       "<tr>\n",
       "  <th>Model:</th>                   <td>OLS</td>       <th>  Adj. R-squared:    </th> <td>   0.047</td>\n",
       "</tr>\n",
       "<tr>\n",
       "  <th>Method:</th>             <td>Least Squares</td>  <th>  F-statistic:       </th> <td>   4.353</td>\n",
       "</tr>\n",
       "<tr>\n",
       "  <th>Date:</th>             <td>Wed, 20 Nov 2019</td> <th>  Prob (F-statistic):</th>  <td>0.00538</td>\n",
       "</tr>\n",
       "<tr>\n",
       "  <th>Time:</th>                 <td>11:13:18</td>     <th>  Log-Likelihood:    </th> <td> -541.02</td>\n",
       "</tr>\n",
       "<tr>\n",
       "  <th>No. Observations:</th>      <td>   204</td>      <th>  AIC:               </th> <td>   1090.</td>\n",
       "</tr>\n",
       "<tr>\n",
       "  <th>Df Residuals:</th>          <td>   200</td>      <th>  BIC:               </th> <td>   1103.</td>\n",
       "</tr>\n",
       "<tr>\n",
       "  <th>Df Model:</th>              <td>     3</td>      <th>                     </th>     <td> </td>   \n",
       "</tr>\n",
       "<tr>\n",
       "  <th>Covariance Type:</th>      <td>nonrobust</td>    <th>                     </th>     <td> </td>   \n",
       "</tr>\n",
       "</table>\n",
       "<table class=\"simpletable\">\n",
       "<tr>\n",
       "                  <td></td>                     <th>coef</th>     <th>std err</th>      <th>t</th>      <th>P>|t|</th>  <th>[0.025</th>    <th>0.975]</th>  \n",
       "</tr>\n",
       "<tr>\n",
       "  <th>Intercept</th>                         <td>    8.7647</td> <td>    0.485</td> <td>   18.059</td> <td> 0.000</td> <td>    7.808</td> <td>    9.722</td>\n",
       "</tr>\n",
       "<tr>\n",
       "  <th>DX_01[T.ADHD-Inattentive Type]</th>    <td>    1.8627</td> <td>    0.686</td> <td>    2.714</td> <td> 0.007</td> <td>    0.509</td> <td>    3.216</td>\n",
       "</tr>\n",
       "<tr>\n",
       "  <th>DX_01[T.Autism Spectrum Disorder]</th> <td>    2.1765</td> <td>    0.686</td> <td>    3.171</td> <td> 0.002</td> <td>    0.823</td> <td>    3.530</td>\n",
       "</tr>\n",
       "<tr>\n",
       "  <th>DX_01[T.No Diagnosis Given]</th>       <td>    0.7059</td> <td>    0.686</td> <td>    1.028</td> <td> 0.305</td> <td>   -0.648</td> <td>    2.059</td>\n",
       "</tr>\n",
       "</table>\n",
       "<table class=\"simpletable\">\n",
       "<tr>\n",
       "  <th>Omnibus:</th>       <td>18.905</td> <th>  Durbin-Watson:     </th> <td>   2.151</td>\n",
       "</tr>\n",
       "<tr>\n",
       "  <th>Prob(Omnibus):</th> <td> 0.000</td> <th>  Jarque-Bera (JB):  </th> <td>  21.549</td>\n",
       "</tr>\n",
       "<tr>\n",
       "  <th>Skew:</th>          <td> 0.786</td> <th>  Prob(JB):          </th> <td>2.09e-05</td>\n",
       "</tr>\n",
       "<tr>\n",
       "  <th>Kurtosis:</th>      <td> 3.248</td> <th>  Cond. No.          </th> <td>    4.79</td>\n",
       "</tr>\n",
       "</table><br/><br/>Warnings:<br/>[1] Standard Errors assume that the covariance matrix of the errors is correctly specified."
      ],
      "text/plain": [
       "<class 'statsmodels.iolib.summary.Summary'>\n",
       "\"\"\"\n",
       "                            OLS Regression Results                            \n",
       "==============================================================================\n",
       "Dep. Variable:                    Age   R-squared:                       0.061\n",
       "Model:                            OLS   Adj. R-squared:                  0.047\n",
       "Method:                 Least Squares   F-statistic:                     4.353\n",
       "Date:                Wed, 20 Nov 2019   Prob (F-statistic):            0.00538\n",
       "Time:                        11:13:18   Log-Likelihood:                -541.02\n",
       "No. Observations:                 204   AIC:                             1090.\n",
       "Df Residuals:                     200   BIC:                             1103.\n",
       "Df Model:                           3                                         \n",
       "Covariance Type:            nonrobust                                         \n",
       "=====================================================================================================\n",
       "                                        coef    std err          t      P>|t|      [0.025      0.975]\n",
       "-----------------------------------------------------------------------------------------------------\n",
       "Intercept                             8.7647      0.485     18.059      0.000       7.808       9.722\n",
       "DX_01[T.ADHD-Inattentive Type]        1.8627      0.686      2.714      0.007       0.509       3.216\n",
       "DX_01[T.Autism Spectrum Disorder]     2.1765      0.686      3.171      0.002       0.823       3.530\n",
       "DX_01[T.No Diagnosis Given]           0.7059      0.686      1.028      0.305      -0.648       2.059\n",
       "==============================================================================\n",
       "Omnibus:                       18.905   Durbin-Watson:                   2.151\n",
       "Prob(Omnibus):                  0.000   Jarque-Bera (JB):               21.549\n",
       "Skew:                           0.786   Prob(JB):                     2.09e-05\n",
       "Kurtosis:                       3.248   Cond. No.                         4.79\n",
       "==============================================================================\n",
       "\n",
       "Warnings:\n",
       "[1] Standard Errors assume that the covariance matrix of the errors is correctly specified.\n",
       "\"\"\""
      ]
     },
     "execution_count": 26,
     "metadata": {},
     "output_type": "execute_result"
    }
   ],
   "source": [
    "model = ols('Age ~ DX_01',                 # Model formula\n",
    "            data = df).fit()\n",
    "                \n",
    "anova_result = sm.stats.anova_lm(model, typ=2)\n",
    "print (anova_result)\n",
    "model.summary()"
   ]
  },
  {
   "cell_type": "code",
   "execution_count": 27,
   "metadata": {},
   "outputs": [
    {
     "name": "stdout",
     "output_type": "stream",
     "text": [
      "             sum_sq     df         F        PR(>F)\n",
      "Age       12.492536    1.0  49.08143  3.581192e-11\n",
      "Residual  51.414400  202.0       NaN           NaN\n"
     ]
    },
    {
     "data": {
      "text/html": [
       "<table class=\"simpletable\">\n",
       "<caption>OLS Regression Results</caption>\n",
       "<tr>\n",
       "  <th>Dep. Variable:</th>       <td>discrepancy</td>   <th>  R-squared:         </th> <td>   0.195</td>\n",
       "</tr>\n",
       "<tr>\n",
       "  <th>Model:</th>                   <td>OLS</td>       <th>  Adj. R-squared:    </th> <td>   0.191</td>\n",
       "</tr>\n",
       "<tr>\n",
       "  <th>Method:</th>             <td>Least Squares</td>  <th>  F-statistic:       </th> <td>   49.08</td>\n",
       "</tr>\n",
       "<tr>\n",
       "  <th>Date:</th>             <td>Wed, 20 Nov 2019</td> <th>  Prob (F-statistic):</th> <td>3.58e-11</td>\n",
       "</tr>\n",
       "<tr>\n",
       "  <th>Time:</th>                 <td>11:13:23</td>     <th>  Log-Likelihood:    </th> <td> -148.89</td>\n",
       "</tr>\n",
       "<tr>\n",
       "  <th>No. Observations:</th>      <td>   204</td>      <th>  AIC:               </th> <td>   301.8</td>\n",
       "</tr>\n",
       "<tr>\n",
       "  <th>Df Residuals:</th>          <td>   202</td>      <th>  BIC:               </th> <td>   308.4</td>\n",
       "</tr>\n",
       "<tr>\n",
       "  <th>Df Model:</th>              <td>     1</td>      <th>                     </th>     <td> </td>   \n",
       "</tr>\n",
       "<tr>\n",
       "  <th>Covariance Type:</th>      <td>nonrobust</td>    <th>                     </th>     <td> </td>   \n",
       "</tr>\n",
       "</table>\n",
       "<table class=\"simpletable\">\n",
       "<tr>\n",
       "      <td></td>         <th>coef</th>     <th>std err</th>      <th>t</th>      <th>P>|t|</th>  <th>[0.025</th>    <th>0.975]</th>  \n",
       "</tr>\n",
       "<tr>\n",
       "  <th>Intercept</th> <td>   -0.6168</td> <td>    0.105</td> <td>   -5.856</td> <td> 0.000</td> <td>   -0.825</td> <td>   -0.409</td>\n",
       "</tr>\n",
       "<tr>\n",
       "  <th>Age</th>       <td>    0.0699</td> <td>    0.010</td> <td>    7.006</td> <td> 0.000</td> <td>    0.050</td> <td>    0.090</td>\n",
       "</tr>\n",
       "</table>\n",
       "<table class=\"simpletable\">\n",
       "<tr>\n",
       "  <th>Omnibus:</th>       <td>16.838</td> <th>  Durbin-Watson:     </th> <td>   1.849</td>\n",
       "</tr>\n",
       "<tr>\n",
       "  <th>Prob(Omnibus):</th> <td> 0.000</td> <th>  Jarque-Bera (JB):  </th> <td>  25.790</td>\n",
       "</tr>\n",
       "<tr>\n",
       "  <th>Skew:</th>          <td>-0.492</td> <th>  Prob(JB):          </th> <td>2.51e-06</td>\n",
       "</tr>\n",
       "<tr>\n",
       "  <th>Kurtosis:</th>      <td> 4.437</td> <th>  Cond. No.          </th> <td>    31.7</td>\n",
       "</tr>\n",
       "</table><br/><br/>Warnings:<br/>[1] Standard Errors assume that the covariance matrix of the errors is correctly specified."
      ],
      "text/plain": [
       "<class 'statsmodels.iolib.summary.Summary'>\n",
       "\"\"\"\n",
       "                            OLS Regression Results                            \n",
       "==============================================================================\n",
       "Dep. Variable:            discrepancy   R-squared:                       0.195\n",
       "Model:                            OLS   Adj. R-squared:                  0.191\n",
       "Method:                 Least Squares   F-statistic:                     49.08\n",
       "Date:                Wed, 20 Nov 2019   Prob (F-statistic):           3.58e-11\n",
       "Time:                        11:13:23   Log-Likelihood:                -148.89\n",
       "No. Observations:                 204   AIC:                             301.8\n",
       "Df Residuals:                     202   BIC:                             308.4\n",
       "Df Model:                           1                                         \n",
       "Covariance Type:            nonrobust                                         \n",
       "==============================================================================\n",
       "                 coef    std err          t      P>|t|      [0.025      0.975]\n",
       "------------------------------------------------------------------------------\n",
       "Intercept     -0.6168      0.105     -5.856      0.000      -0.825      -0.409\n",
       "Age            0.0699      0.010      7.006      0.000       0.050       0.090\n",
       "==============================================================================\n",
       "Omnibus:                       16.838   Durbin-Watson:                   1.849\n",
       "Prob(Omnibus):                  0.000   Jarque-Bera (JB):               25.790\n",
       "Skew:                          -0.492   Prob(JB):                     2.51e-06\n",
       "Kurtosis:                       4.437   Cond. No.                         31.7\n",
       "==============================================================================\n",
       "\n",
       "Warnings:\n",
       "[1] Standard Errors assume that the covariance matrix of the errors is correctly specified.\n",
       "\"\"\""
      ]
     },
     "execution_count": 27,
     "metadata": {},
     "output_type": "execute_result"
    }
   ],
   "source": [
    "model = ols('discrepancy ~ Age',                 # Model formula\n",
    "            data = df).fit()\n",
    "                \n",
    "anova_result = sm.stats.anova_lm(model, typ=2)\n",
    "print (anova_result)\n",
    "model.summary()"
   ]
  },
  {
   "cell_type": "markdown",
   "metadata": {},
   "source": [
    "Boxplot for children aged <17:"
   ]
  },
  {
   "cell_type": "code",
   "execution_count": 41,
   "metadata": {},
   "outputs": [
    {
     "data": {
      "text/plain": [
       "<matplotlib.axes._subplots.AxesSubplot at 0x7ff63d8f75f8>"
      ]
     },
     "execution_count": 41,
     "metadata": {},
     "output_type": "execute_result"
    },
    {
     "data": {
      "image/png": "[encoded data removed]",
      "text/plain": [
       "<Figure size 864x576 with 1 Axes>"
      ]
     },
     "metadata": {
      "needs_background": "light"
     },
     "output_type": "display_data"
    }
   ],
   "source": [
    "df['Age'] = np.floor(dataframe['Age'])\n",
    "df = df.loc[df['Age']<17]\n",
    "#Create a boxplot\n",
    "df.boxplot('discrepancy', by='Age', figsize=(12, 8))"
   ]
  },
  {
   "cell_type": "markdown",
   "metadata": {},
   "source": [
    "## Comments\n",
    "Including age makes the p-val for autism less significant, but this makes sence since age is quite correlated with discrepancy of age itself (and with the diseases!)"
   ]
  },
  {
   "cell_type": "code",
   "execution_count": null,
   "metadata": {},
   "outputs": [],
   "source": []
  }
 ],
 "metadata": {
  "kernelspec": {
   "display_name": "dslab",
   "language": "python",
   "name": "dslab"
  },
  "language_info": {
   "codemirror_mode": {
    "name": "ipython",
    "version": 3
   },
   "file_extension": ".py",
   "mimetype": "text/x-python",
   "name": "python",
   "nbconvert_exporter": "python",
   "pygments_lexer": "ipython3",
   "version": "3.6.9"
  }
 },
 "nbformat": 4,
 "nbformat_minor": 2
}
