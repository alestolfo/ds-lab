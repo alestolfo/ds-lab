{
 "cells": [
  {
   "cell_type": "markdown",
   "metadata": {},
   "source": [
    "# Age discrepancy"
   ]
  },
  {
   "cell_type": "markdown",
   "metadata": {},
   "source": [
    "Now we will try to correlate age discrepancy with some scores of the behavioral dataset. Our model to predict age uses only the structural MRI features."
   ]
  },
  {
   "cell_type": "code",
   "execution_count": 6,
   "metadata": {},
   "outputs": [],
   "source": [
    "import warnings\n",
    "warnings.filterwarnings('ignore')\n",
    "from utils import create_dataset_mri, cv_for_cde, create_dataset_eeg\n",
    "from cde.density_estimator import MixtureDensityNetwork\n",
    "import numpy as np\n",
    "import tensorflow as tf\n",
    "from sklearn.model_selection import cross_val_score, train_test_split\n",
    "from sklearn.metrics import mean_squared_error\n",
    "from sklearn.preprocessing import StandardScaler\n",
    "from sklearn.model_selection import KFold\n",
    "from tensorflow.python.keras.activations import tanh\n",
    "from sklearn.impute import SimpleImputer\n",
    "import pandas as pd\n",
    "import tensorflow as tf\n",
    "import statsmodels.api as sm\n",
    "from statsmodels.formula.api import ols\n",
    "from scipy.stats import ttest_ind\n",
    "from statsmodels.stats.multitest import multipletests\n",
    "import matplotlib.pyplot as plt"
   ]
  },
  {
   "cell_type": "code",
   "execution_count": 7,
   "metadata": {},
   "outputs": [],
   "source": [
    "# Fix a age threshold\n",
    "threshold = 16"
   ]
  },
  {
   "cell_type": "code",
   "execution_count": 8,
   "metadata": {},
   "outputs": [],
   "source": [
    "# Behavioral data\n",
    "behavioral = pd.read_csv('data/Behavioral/cleaned/HBNFinalSummaries.csv')\n",
    "# Create dataset MRI\n",
    "target = 'Age'\n",
    "data = create_dataset_mri(SCORE = target)\n",
    "data.drop(columns=['DX_01_Cat', 'DX_01_Sub', 'DX_01'], inplace=True)\n",
    "data = data[data['Age']<threshold]"
   ]
  },
  {
   "cell_type": "code",
   "execution_count": 9,
   "metadata": {},
   "outputs": [],
   "source": [
    "# labels and features\n",
    "y = data[target]\n",
    "X = data.drop([target], axis=1)\n",
    "X = np.array(X)\n",
    "y = np.array(y)\n",
    "\n",
    "# split the dataset\n",
    "X_train, X_test, y_train, y_test = train_test_split(X, y, test_size=0.5, random_state=988)\n",
    "y_train = y_train.reshape((-1,1))\n",
    "y_test = y_test.reshape((-1,1))\n",
    "ID_train = X_train[:,0]\n",
    "X_train = X_train[:,1:]\n",
    "ID_test = X_test[:,0]\n",
    "X_test = X_test[:,1:]\n",
    "y_train = np.array(y_train, dtype=np.float64)\n",
    "X_train = np.array(X_train, dtype=np.float64)\n",
    "y_test = np.array(y_test, dtype=np.float64)\n",
    "X_test = np.array(X_test, dtype=np.float64)"
   ]
  },
  {
   "cell_type": "code",
   "execution_count": 10,
   "metadata": {},
   "outputs": [
    {
     "name": "stdout",
     "output_type": "stream",
     "text": [
      "1000/1000 [100%] ██████████████████████████████ Elapsed: 16s | loss: 742.733\n",
      "mean log-loss train: 1.4650\n",
      "Test MSE: 4.561712718918008\n"
     ]
    }
   ],
   "source": [
    "# Set model parameters\n",
    "ndim_x=X_train.shape[1]\n",
    "ndim_y=y_train.shape[1]\n",
    "# We try the \"faster decay rate for non-gaussian data\" proposed in the paper: h = n^(-1/(d+1))\n",
    "n = X_train.shape[0]\n",
    "d = X_train.shape[1]+y_train.shape[1]\n",
    "h = n**(-1/(d+1))\n",
    "# Define the model\n",
    "model = MixtureDensityNetwork('MDN', ndim_x, ndim_y, n_centers=10, hidden_sizes=(16, 16), hidden_nonlinearity=tf.nn.tanh,\n",
    "               n_training_epochs=1000, x_noise_std=h, y_noise_std=h, adaptive_noise_fn=None, entropy_reg_coef=0.0,\n",
    "               weight_decay=0.0, weight_normalization=True, data_normalization=True, dropout=0.0, l2_reg=0.0, l1_reg=0.0,\n",
    "               random_seed=42)\n",
    "# Fit\n",
    "model.fit(X_train, y_train)\n",
    "# Predict\n",
    "y_pred = model.mean_(X_test)\n",
    "y_pred = y_pred.reshape((-1,1))\n",
    "y_pred.shape\n",
    "print('Test MSE: {}'.format(mean_squared_error(y_pred, y_test)))"
   ]
  },
  {
   "cell_type": "code",
   "execution_count": 11,
   "metadata": {},
   "outputs": [],
   "source": [
    "# Define discrepancy\n",
    "std = model.std_(X_test)\n",
    "discrepancy = np.divide((y_test-y_pred), 1+std)\n",
    "#discrepancy = y_test-y_pred"
   ]
  },
  {
   "cell_type": "code",
   "execution_count": 12,
   "metadata": {},
   "outputs": [],
   "source": [
    "# Get dataframe for test observations with behavioral data + discrepancy\n",
    "data = {'discrepancy':discrepancy[:,0]}\n",
    "discrepancy_df = pd.DataFrame(data)\n",
    "ID_df = pd.DataFrame({'EID':ID_test})\n",
    "discrepancy_merged = pd.concat([ID_df, discrepancy_df], axis=1)\n",
    "dataframe = pd.merge(discrepancy_merged, behavioral, how='inner', on='EID')\n",
    "dataframe = dataframe.drop(['Anonymized.ID', 'Study.Site'], axis = 1)"
   ]
  },
  {
   "cell_type": "code",
   "execution_count": 13,
   "metadata": {},
   "outputs": [
    {
     "data": {
      "text/plain": [
       "discrepancy              1.000000\n",
       "Age                      0.545997\n",
       "DX_05_RuleOut            0.376305\n",
       "DX_06_Rem                0.328344\n",
       "DX_07_New                0.649441\n",
       "DX_08_New                1.000000\n",
       "CBCL_Pre_AB              0.345849\n",
       "CBCL_Pre_WD              0.333958\n",
       "CBCL_Pre_Ext             0.352364\n",
       "CELF_WC_R                0.442063\n",
       "CELF_FS_R                0.535738\n",
       "CLEF5M_CS_Raw            0.302524\n",
       "CLEF5M_MM_Raw            0.305392\n",
       "EVT2_RawScore            0.362463\n",
       "FGC_Curl_Up              0.302427\n",
       "KBIT_NV_Raw              0.529277\n",
       "KBIT_V_Raw               0.443335\n",
       "List_Sort_Raw            0.330068\n",
       "Picture_Seq_Raw          0.348855\n",
       "PPVT4_RawScore           0.450587\n",
       "TOWRE_SWE_Raw            0.312163\n",
       "TRF_Pre_Somatic_Raw      0.325552\n",
       "TRF_Pre_Total_Raw        0.393625\n",
       "VL_Comm1_Raw             0.993475\n",
       "VL_Comm2_Raw             0.812415\n",
       "VL_DLS1_Raw              0.997127\n",
       "VL_DLS2_Raw              0.999831\n",
       "VL_DLS3_Raw              0.973208\n",
       "VL_Social1_Raw           0.561902\n",
       "VL_Social2_Raw           0.887701\n",
       "VL_Social3_Raw           0.774114\n",
       "VL_Social_Scale          0.377151\n",
       "WIAT_Num_Raw             0.443747\n",
       "WIAT_Spell_Raw           0.391090\n",
       "WIAT_Word_Raw            0.327241\n",
       "WIAT_LCRV_Raw            0.353844\n",
       "WIAT_MP_Raw              0.429951\n",
       "WISC_BD_Raw              0.307850\n",
       "WISC_Similarities_Raw    0.335738\n",
       "WISC_Coding_Raw          0.304007\n",
       "WISC_Vocab_Raw           0.367507\n",
       "Name: discrepancy, dtype: float64"
      ]
     },
     "execution_count": 13,
     "metadata": {},
     "output_type": "execute_result"
    }
   ],
   "source": [
    "# Get the correlations\n",
    "correlations = dataframe[dataframe.columns[1:]].corr()['discrepancy'][:]\n",
    "# Inspect correlations\n",
    "correlations[correlations > 0.3]  "
   ]
  },
  {
   "cell_type": "code",
   "execution_count": 14,
   "metadata": {},
   "outputs": [
    {
     "data": {
      "text/plain": [
       "ADHD-Combined Type                                          107\n",
       "ADHD-Inattentive Type                                        92\n",
       "No Diagnosis Given                                           73\n",
       "Specific Learning Disorder with Impairment in Reading        32\n",
       "No Diagnosis Given: Incomplete Eval                          29\n",
       "Autism Spectrum Disorder                                     26\n",
       "Generalized Anxiety Disorder                                 17\n",
       "Other Specified Attention-Deficit/Hyperactivity Disorder     13\n",
       "Social Anxiety (Social Phobia)                               12\n",
       "Major Depressive Disorder                                    11\n",
       "Name: DX_01, dtype: int64"
      ]
     },
     "execution_count": 14,
     "metadata": {},
     "output_type": "execute_result"
    }
   ],
   "source": [
    "# Frequencies of major disturb in behavioral dataset\n",
    "dataframe['DX_01'].value_counts().head(10)"
   ]
  },
  {
   "cell_type": "code",
   "execution_count": 15,
   "metadata": {},
   "outputs": [],
   "source": [
    "df = dataframe.loc[dataframe['DX_01'].isin(['ADHD-Combined Type', 'ADHD-Inattentive Type','No Diagnosis Given', 'Autism Spectrum Disorder', 'Specific Learning Disorder with Impairment in Reading'])]"
   ]
  },
  {
   "cell_type": "code",
   "execution_count": 16,
   "metadata": {},
   "outputs": [
    {
     "data": {
      "text/plain": [
       "Text(0.5, 1.0, 'Age discrepancy vs age')"
      ]
     },
     "execution_count": 16,
     "metadata": {},
     "output_type": "execute_result"
    },
    {
     "data": {
      "image/png": "[encoded data removed]",
      "text/plain": [
       "<Figure size 432x288 with 1 Axes>"
      ]
     },
     "metadata": {
      "needs_background": "light"
     },
     "output_type": "display_data"
    }
   ],
   "source": [
    "dat = dataframe[dataframe['Age']<threshold]\n",
    "plt.scatter(np.array(dat['Age']), np.array(dat['discrepancy']))\n",
    "plt.title('Age discrepancy vs age')"
   ]
  },
  {
   "cell_type": "markdown",
   "metadata": {},
   "source": [
    "## Consider the most frequent situations: ADHD Inattentive, ADHD Combined, Autism, Healthy. Specific impairment in Reading"
   ]
  },
  {
   "cell_type": "code",
   "execution_count": 17,
   "metadata": {},
   "outputs": [],
   "source": [
    "df = df[df['Age']<threshold]"
   ]
  },
  {
   "cell_type": "markdown",
   "metadata": {},
   "source": [
    "## t-test Healthy vs ADHD Inattentive"
   ]
  },
  {
   "cell_type": "code",
   "execution_count": 18,
   "metadata": {},
   "outputs": [
    {
     "data": {
      "text/plain": [
       "Ttest_indResult(statistic=3.726637614816906, pvalue=0.0002673817099861127)"
      ]
     },
     "execution_count": 18,
     "metadata": {},
     "output_type": "execute_result"
    }
   ],
   "source": [
    "adhd = df[df['DX_01'] == 'ADHD-Inattentive Type']['discrepancy']\n",
    "no_adhd = df[df['DX_01'] == 'No Diagnosis Given']['discrepancy']\n",
    "from scipy.stats import ttest_ind\n",
    "res = ttest_ind(np.array(adhd), np.array(no_adhd), equal_var=False)\n",
    "res"
   ]
  },
  {
   "cell_type": "code",
   "execution_count": 19,
   "metadata": {},
   "outputs": [
    {
     "data": {
      "text/plain": [
       "Text(0.5, 1.0, 'Healthy and ADHD-Inattentive')"
      ]
     },
     "execution_count": 19,
     "metadata": {},
     "output_type": "execute_result"
    },
    {
     "data": {
      "image/png": "[encoded data removed]",
      "text/plain": [
       "<Figure size 432x288 with 1 Axes>"
      ]
     },
     "metadata": {
      "needs_background": "light"
     },
     "output_type": "display_data"
    }
   ],
   "source": [
    "import matplotlib.pyplot as plt\n",
    "plt.hist(adhd[:80], bins=20, color='c', edgecolor='k', alpha=0.5)     # take same number of obs as no_adhd\n",
    "plt.hist(no_adhd, bins=20, color='g', edgecolor='k', alpha=0.5)\n",
    "plt.axvline(x=np.mean(adhd), color = 'b')\n",
    "plt.axvline(x=np.mean(no_adhd), color = 'g')\n",
    "plt.title('Healthy and ADHD-Inattentive')"
   ]
  },
  {
   "cell_type": "markdown",
   "metadata": {},
   "source": [
    "## t-test Healthy vs Autism"
   ]
  },
  {
   "cell_type": "code",
   "execution_count": 20,
   "metadata": {},
   "outputs": [
    {
     "data": {
      "text/plain": [
       "Ttest_indResult(statistic=2.7545400357058103, pvalue=0.00905454587904961)"
      ]
     },
     "execution_count": 20,
     "metadata": {},
     "output_type": "execute_result"
    }
   ],
   "source": [
    "autism = df[df['DX_01'] == 'Autism Spectrum Disorder']['discrepancy']\n",
    "healthy = df[df['DX_01'] == 'No Diagnosis Given']['discrepancy']\n",
    "from scipy.stats import ttest_ind\n",
    "res = ttest_ind(np.array(autism), np.array(healthy), equal_var=False)\n",
    "res"
   ]
  },
  {
   "cell_type": "code",
   "execution_count": 21,
   "metadata": {},
   "outputs": [
    {
     "data": {
      "text/plain": [
       "<matplotlib.lines.Line2D at 0x7fe1d99218d0>"
      ]
     },
     "execution_count": 21,
     "metadata": {},
     "output_type": "execute_result"
    },
    {
     "data": {
      "image/png": "[encoded data removed]",
      "text/plain": [
       "<Figure size 432x288 with 1 Axes>"
      ]
     },
     "metadata": {
      "needs_background": "light"
     },
     "output_type": "display_data"
    }
   ],
   "source": [
    "import matplotlib.pyplot as plt\n",
    "plt.hist(autism, bins=20, color='c', edgecolor='k', alpha=0.5)     # take same number of obs as no_adhd\n",
    "plt.hist(healthy, bins=20, color='g', edgecolor='k', alpha=0.5)\n",
    "plt.axvline(x=np.mean(autism), color = 'b')\n",
    "plt.axvline(x=np.mean(healthy), color = 'g')"
   ]
  },
  {
   "cell_type": "markdown",
   "metadata": {},
   "source": [
    "# Visualization"
   ]
  },
  {
   "cell_type": "code",
   "execution_count": 22,
   "metadata": {},
   "outputs": [
    {
     "data": {
      "text/plain": [
       "<matplotlib.axes._subplots.AxesSubplot at 0x7fe1d988f9e8>"
      ]
     },
     "execution_count": 22,
     "metadata": {},
     "output_type": "execute_result"
    },
    {
     "data": {
      "image/png": "[encoded data removed]",
      "text/plain": [
       "<Figure size 864x576 with 1 Axes>"
      ]
     },
     "metadata": {
      "needs_background": "light"
     },
     "output_type": "display_data"
    }
   ],
   "source": [
    "#Create a boxplot\n",
    "df = df.replace({'ADHD-Combined Type':'ADHD-Combined', 'ADHD_Inattentive Type':'ADHD-Inattentive', 'Autism Spectrum Disorder':'Autism', 'No Diagnosis Given':'Healthy', 'Specific Learning Disorder with Impairment in Reading':'Specific Learning Disorder'})\n",
    "df.boxplot('discrepancy', by='DX_01', figsize=(12, 8))"
   ]
  },
  {
   "cell_type": "markdown",
   "metadata": {},
   "source": [
    "## Evaluate these quantities as an average over differen splits"
   ]
  },
  {
   "cell_type": "code",
   "execution_count": 4,
   "metadata": {
    "scrolled": true
   },
   "outputs": [],
   "source": [
    "def t_test(repetitions, multiple_testing_correction = 'fdr_bh', exclude_old = True, threshold = threshold):\n",
    "    # Behavioral data\n",
    "    behavioral = pd.read_csv('data/Behavioral/cleaned/HBNFinalSummaries.csv')\n",
    "    # Create dataset MRI\n",
    "    target = 'Age'\n",
    "    data = create_dataset_mri(SCORE = target)\n",
    "    data.drop(columns=['DX_01_Cat', 'DX_01_Sub', 'DX_01'], inplace=True)\n",
    "    if exclude_old == True:\n",
    "        data = data[data['Age']<threshold]\n",
    "    # labels and features\n",
    "    y = data[target]\n",
    "    X = data.drop([target], axis=1)\n",
    "    X = np.array(X)\n",
    "    y = np.array(y)\n",
    "    # things I want to compute\n",
    "    t_adhd = []\n",
    "    t_adhd_combined = []\n",
    "    t_autism = []\n",
    "    t_impaired = []\n",
    "\n",
    "    \n",
    "    for i in range(repetitions):\n",
    "        # split the dataset\n",
    "        X_train, X_test, y_train, y_test = train_test_split(X, y, test_size=0.5, random_state=i)   #rs=2\n",
    "        y_train = y_train.reshape((-1,1))\n",
    "        y_test = y_test.reshape((-1,1))\n",
    "        ID_train = X_train[:,0]\n",
    "        X_train = X_train[:,1:]\n",
    "        ID_test = X_test[:,0]\n",
    "        X_test = X_test[:,1:]\n",
    "        y_train = np.array(y_train, dtype=np.float64)\n",
    "        X_train = np.array(X_train, dtype=np.float64)\n",
    "        y_test = np.array(y_test, dtype=np.float64)\n",
    "        X_test = np.array(X_test, dtype=np.float64)\n",
    "        # Set model parameters\n",
    "        ndim_x=X_train.shape[1]\n",
    "        ndim_y=y_train.shape[1]\n",
    "        # We try the \"faster decay rate for non-gaussian data\" proposed in the paper: h = n^(-1/(d+1))\n",
    "        n = X_train.shape[0]\n",
    "        d = X_train.shape[1]+y_train.shape[1]\n",
    "        h = n**(-1/(d+1))\n",
    "        model = MixtureDensityNetwork('{}'.format(i), ndim_x, ndim_y, n_centers=10, hidden_sizes=(16, 16), hidden_nonlinearity=tf.nn.tanh,\n",
    "               n_training_epochs=1000, x_noise_std=h, y_noise_std=h, adaptive_noise_fn=None, entropy_reg_coef=0.0,\n",
    "               weight_decay=0.0, weight_normalization=True, data_normalization=True, dropout=0.0, l2_reg=0.0, l1_reg=0.0,\n",
    "               random_seed=42)\n",
    "        # Fit\n",
    "        model.fit(X_train, y_train)\n",
    "        # Predict\n",
    "        y_pred = model.mean_(X_test)\n",
    "        y_pred = y_pred.reshape((-1,1))\n",
    "        # Define discrepancy\n",
    "        std = model.std_(X_test)\n",
    "        discrepancy = np.divide((y_test-y_pred), 1+std)\n",
    "        # Get dataframe for test observations with behavioral data + discrepancy\n",
    "        data = {'discrepancy':discrepancy[:,0]}\n",
    "        discrepancy_df = pd.DataFrame(data)\n",
    "        ID_df = pd.DataFrame({'EID':ID_test})\n",
    "        discrepancy_merged = pd.concat([ID_df, discrepancy_df], axis=1)\n",
    "        dataframe = pd.merge(discrepancy_merged, behavioral, how='inner', on='EID')\n",
    "        \n",
    "        # Select most frequent diseases\n",
    "        df = dataframe.loc[dataframe['DX_01'].isin(['ADHD-Combined Type', 'ADHD-Inattentive Type','No Diagnosis Given', 'Autism Spectrum Disorder', 'Specific Learning Disorder with Impairment in Reading'])]\n",
    "        \n",
    "        # t-test for autism vs healthy\n",
    "        autism = df[df['DX_01'] == 'Autism Spectrum Disorder']['discrepancy']\n",
    "        healthy = df[df['DX_01'] == 'No Diagnosis Given']['discrepancy']\n",
    "        res1 = ttest_ind(np.array(autism), np.array(healthy), equal_var=False)\n",
    "        \n",
    "        \n",
    "        # t-test for inattentive vs healthy\n",
    "        adhd = df[df['DX_01'] == 'ADHD-Inattentive Type']['discrepancy']\n",
    "        no_adhd = df[df['DX_01'] == 'No Diagnosis Given']['discrepancy']\n",
    "        res2 = ttest_ind(np.array(adhd), np.array(no_adhd), equal_var=False)\n",
    "        \n",
    "        \n",
    "        # t-test for combined vs healthy\n",
    "        combined = df[df['DX_01'] == 'ADHD-Combined Type']['discrepancy']\n",
    "        no_combined = df[df['DX_01'] == 'No Diagnosis Given']['discrepancy']\n",
    "        res3 = ttest_ind(np.array(combined), np.array(no_combined), equal_var=False)\n",
    "        \n",
    "        # t-test for impaired vs healthy\n",
    "        combined = df[df['DX_01'] == 'Specific Learning Disorder with Impairment in Reading']['discrepancy']\n",
    "        no_combined = df[df['DX_01'] == 'No Diagnosis Given']['discrepancy']\n",
    "        res4 = ttest_ind(np.array(combined), np.array(no_combined), equal_var=False)\n",
    "        \n",
    "        # Correct p-values for multiple-testing\n",
    "        p_vals = [res1[1], res2[1], res3[1], res4[1]]\n",
    "        corrected = multipletests(pvals = p_vals, alpha=0.05, method = multiple_testing_correction)\n",
    "        t_autism.append(corrected[1][0])\n",
    "        t_adhd.append(corrected[1][1])\n",
    "        t_adhd_combined.append(corrected[1][2])\n",
    "        t_impaired.append(corrected[1][3])\n",
    "    \n",
    "    print('Mean t-test p-val (inattentive vs healthy): {} \\n Mean t-test p-val (combined vs healthy): {} \\n Mean t-test p-val (autism vs healthy): {} \\n Mean t-test p-val (impaired vs healthy): {}'.format(np.mean(t_adhd), np.mean(t_adhd_combined), np.mean(t_autism), np.mean(t_impaired)))"
   ]
  },
  {
   "cell_type": "code",
   "execution_count": 5,
   "metadata": {},
   "outputs": [
    {
     "name": "stdout",
     "output_type": "stream",
     "text": [
      "1000/1000 [100%] ██████████████████████████████ Elapsed: 12s | loss: 719.810\n",
      "mean log-loss train: 1.4197\n",
      "1000/1000 [100%] ██████████████████████████████ Elapsed: 11s | loss: 730.945\n",
      "mean log-loss train: 1.4417\n",
      "1000/1000 [100%] ██████████████████████████████ Elapsed: 10s | loss: 756.922\n",
      "mean log-loss train: 1.4929\n",
      "1000/1000 [100%] ██████████████████████████████ Elapsed: 13s | loss: 746.980\n",
      "mean log-loss train: 1.4733\n",
      "1000/1000 [100%] ██████████████████████████████ Elapsed: 13s | loss: 724.781\n",
      "mean log-loss train: 1.4295\n",
      "1000/1000 [100%] ██████████████████████████████ Elapsed: 26s | loss: 735.184\n",
      "mean log-loss train: 1.4501\n",
      "1000/1000 [100%] ██████████████████████████████ Elapsed: 21s | loss: 740.433\n",
      "mean log-loss train: 1.4604\n",
      "1000/1000 [100%] ██████████████████████████████ Elapsed: 20s | loss: 750.690\n",
      "mean log-loss train: 1.4807\n",
      "1000/1000 [100%] ██████████████████████████████ Elapsed: 20s | loss: 753.631\n",
      "mean log-loss train: 1.4865\n",
      "1000/1000 [100%] ██████████████████████████████ Elapsed: 20s | loss: 753.393\n",
      "mean log-loss train: 1.4860\n",
      "Mean t-test p-val (inattentive vs healthy): 0.053888718765310636 \n",
      " Mean t-test p-val (combined vs healthy): 0.658065209446712 \n",
      " Mean t-test p-val (autism vs healthy): 0.16764572623585858 \n",
      " Mean t-test p-val (impaired vs healthy): 0.27777854293473175\n"
     ]
    }
   ],
   "source": [
    "t_test(10)"
   ]
  },
  {
   "cell_type": "markdown",
   "metadata": {},
   "source": [
    "Using the Benjamini-Hochberg correction for p-values."
   ]
  },
  {
   "cell_type": "code",
   "execution_count": null,
   "metadata": {},
   "outputs": [],
   "source": []
  }
 ],
 "metadata": {
  "kernelspec": {
   "display_name": "dslab",
   "language": "python",
   "name": "dslab"
  },
  "language_info": {
   "codemirror_mode": {
    "name": "ipython",
    "version": 3
   },
   "file_extension": ".py",
   "mimetype": "text/x-python",
   "name": "python",
   "nbconvert_exporter": "python",
   "pygments_lexer": "ipython3",
   "version": "3.6.9"
  }
 },
 "nbformat": 4,
 "nbformat_minor": 2
}
