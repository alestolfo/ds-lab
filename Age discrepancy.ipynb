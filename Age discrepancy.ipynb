{
 "cells": [
  {
   "cell_type": "markdown",
   "metadata": {},
   "source": [
    "# Age discrepancy"
   ]
  },
  {
   "cell_type": "markdown",
   "metadata": {},
   "source": [
    "Now we will try to correlate age discrepancy with some scores of the behavioral dataset. Our model to predict age uses only the structural MRI features."
   ]
  },
  {
   "cell_type": "code",
   "execution_count": 1,
   "metadata": {},
   "outputs": [
    {
     "name": "stdout",
     "output_type": "stream",
     "text": [
      "WARNING:tensorflow:From /home/camillca/anaconda3/envs/dslab/lib/python3.6/site-packages/tensorflow/contrib/learn/python/learn/datasets/base.py:198: retry (from tensorflow.contrib.learn.python.learn.datasets.base) is deprecated and will be removed in a future version.\n",
      "Instructions for updating:\n",
      "Use the retry module or similar alternatives.\n"
     ]
    }
   ],
   "source": [
    "import warnings\n",
    "warnings.filterwarnings('ignore')\n",
    "from utils import create_dataset_mri, cv_for_cde, create_dataset_eeg\n",
    "from cde.density_estimator import MixtureDensityNetwork\n",
    "import numpy as np\n",
    "import tensorflow as tf\n",
    "from sklearn.model_selection import cross_val_score, train_test_split\n",
    "from sklearn.metrics import mean_squared_error\n",
    "from sklearn.preprocessing import StandardScaler\n",
    "from sklearn.model_selection import KFold\n",
    "from tensorflow.python.keras.activations import tanh\n",
    "from sklearn.impute import SimpleImputer\n",
    "import pandas as pd\n",
    "import tensorflow as tf"
   ]
  },
  {
   "cell_type": "code",
   "execution_count": 2,
   "metadata": {},
   "outputs": [],
   "source": [
    "# Behavioral data\n",
    "behavioral = pd.read_csv('data/Behavioral/cleaned/HBNFinalSummaries.csv')\n",
    "# Create dataset MRI\n",
    "target = 'Age'\n",
    "data = create_dataset_mri(SCORE = target)\n",
    "data.drop(columns=['DX_01_Cat', 'DX_01_Sub', 'DX_01'], inplace=True)"
   ]
  },
  {
   "cell_type": "code",
   "execution_count": 3,
   "metadata": {},
   "outputs": [
    {
     "name": "stdout",
     "output_type": "stream",
     "text": [
      "(573, 369)\n"
     ]
    }
   ],
   "source": [
    "# labels and features\n",
    "y = data[target]\n",
    "X = data.drop([target], axis=1)\n",
    "X = np.array(X)\n",
    "y = np.array(y)\n",
    "\n",
    "# split the dataset\n",
    "X_train, X_test, y_train, y_test = train_test_split(X, y, test_size=0.5, random_state=8)   #rs=2\n",
    "y_train = y_train.reshape((-1,1))\n",
    "y_test = y_test.reshape((-1,1))\n",
    "ID_train = X_train[:,0]\n",
    "X_train = X_train[:,1:]\n",
    "ID_test = X_test[:,0]\n",
    "X_test = X_test[:,1:]\n",
    "y_train = np.array(y_train, dtype=np.float64)\n",
    "X_train = np.array(X_train, dtype=np.float64)\n",
    "y_test = np.array(y_test, dtype=np.float64)\n",
    "X_test = np.array(X_test, dtype=np.float64)\n",
    "print(X_train.shape)"
   ]
  },
  {
   "cell_type": "code",
   "execution_count": 4,
   "metadata": {},
   "outputs": [
    {
     "name": "stdout",
     "output_type": "stream",
     "text": [
      "1000/1000 [100%] ██████████████████████████████ Elapsed: 10s | loss: 843.535\n",
      "mean log-loss train: 1.4721\n",
      "Test MSE: 6.151568493625076\n"
     ]
    }
   ],
   "source": [
    "# Set model parameters\n",
    "ndim_x=X_train.shape[1]\n",
    "ndim_y=y_train.shape[1]\n",
    "# We try the \"faster decay rate for non-gaussian data\" proposed in the paper: h = n^(-1/(d+1))\n",
    "n = X_train.shape[0]\n",
    "d = X_train.shape[1]+y_train.shape[1]\n",
    "h = n**(-1/(d+1))\n",
    "# Define the model\n",
    "model = MixtureDensityNetwork('MDN', ndim_x, ndim_y, n_centers=10, hidden_sizes=(16, 16), hidden_nonlinearity=tf.nn.tanh,\n",
    "               n_training_epochs=1000, x_noise_std=h, y_noise_std=h, adaptive_noise_fn=None, entropy_reg_coef=0.0,\n",
    "               weight_decay=0.0, weight_normalization=True, data_normalization=True, dropout=0.0, l2_reg=0.0, l1_reg=0.0,\n",
    "               random_seed=42)\n",
    "# Fit\n",
    "model.fit(X_train, y_train)\n",
    "# Predict\n",
    "y_pred = model.mean_(X_test)\n",
    "y_pred = y_pred.reshape((-1,1))\n",
    "y_pred.shape\n",
    "print('Test MSE: {}'.format(mean_squared_error(y_pred, y_test)))"
   ]
  },
  {
   "cell_type": "code",
   "execution_count": 5,
   "metadata": {},
   "outputs": [],
   "source": [
    "# Define discrepancy\n",
    "std = model.std_(X_test)\n",
    "discrepancy = np.divide((y_test-y_pred), std)\n",
    "#discrepancy = y_test-y_pred"
   ]
  },
  {
   "cell_type": "code",
   "execution_count": 6,
   "metadata": {},
   "outputs": [],
   "source": [
    "# Get dataframe for test observations with behavioral data + discrepancy\n",
    "data = {'discrepancy':discrepancy[:,0]}\n",
    "discrepancy_df = pd.DataFrame(data)\n",
    "ID_df = pd.DataFrame({'EID':ID_test})\n",
    "discrepancy_merged = pd.concat([ID_df, discrepancy_df], axis=1)\n",
    "dataframe = pd.merge(discrepancy_merged, behavioral, how='inner', on='EID')\n",
    "dataframe = dataframe.drop(['Anonymized.ID', 'Study.Site'], axis = 1)"
   ]
  },
  {
   "cell_type": "code",
   "execution_count": 7,
   "metadata": {},
   "outputs": [
    {
     "data": {
      "text/plain": [
       "discrepancy                      1.000000\n",
       "Age                              0.330567\n",
       "DX_04_New                        0.371284\n",
       "DX_05_RC                         0.321887\n",
       "DX_06_New                        0.848740\n",
       "DX_07_RC                         1.000000\n",
       "DX_07_New                        1.000000\n",
       "CELF_WS_R                        0.300385\n",
       "CELF_FS_R                        0.439604\n",
       "CELF_SA_R                        0.340363\n",
       "CLEF5M_MM_Raw                    0.335413\n",
       "sib3dxse                         0.388871\n",
       "TRF_Pre_Attention_Raw            0.365677\n",
       "TRF_Pre_Anxious.Depressed_Raw    0.310884\n",
       "VL_Comm1_Raw                     0.471603\n",
       "VL_Comm_Stnd                     0.973257\n",
       "VL_DLS_Scale                     0.577572\n",
       "VL_Social_Scale                  0.657486\n",
       "WASI_BD_Raw                      0.311581\n",
       "Name: discrepancy, dtype: float64"
      ]
     },
     "execution_count": 7,
     "metadata": {},
     "output_type": "execute_result"
    }
   ],
   "source": [
    "# Get the correlations\n",
    "correlations = dataframe[dataframe.columns[1:]].corr()['discrepancy'][:]\n",
    "# Inspect correlations\n",
    "correlations[correlations > 0.3]  "
   ]
  },
  {
   "cell_type": "code",
   "execution_count": 8,
   "metadata": {},
   "outputs": [
    {
     "data": {
      "text/plain": [
       "ADHD-Combined Type                                                  117\n",
       "ADHD-Inattentive Type                                                97\n",
       "No Diagnosis Given                                                   79\n",
       "No Diagnosis Given: Incomplete Eval                                  50\n",
       "Specific Learning Disorder with Impairment in Reading                33\n",
       "Autism Spectrum Disorder                                             28\n",
       "Generalized Anxiety Disorder                                         21\n",
       "Social Anxiety (Social Phobia)                                       13\n",
       "Major Depressive Disorder                                            13\n",
       "Other Specified Attention-Deficit/Hyperactivity Disorder             12\n",
       "ADHD-Hyperactive/Impulsive Type                                      12\n",
       "Language Disorder                                                    10\n",
       "Other Specified Anxiety Disorder                                      8\n",
       "Intellectual Disability-Mild                                          6\n",
       "Persistent Depressive Disorder (Dysthymia)                            5\n",
       "Separation Anxiety                                                    5\n",
       "Specific Learning Disorder with Impairment in Mathematics             5\n",
       "Enuresis                                                              4\n",
       "Adjustment Disorders                                                  4\n",
       "Disruptive Mood Dysregulation Disorder                                4\n",
       "Borderline Intellectual Functioning                                   4\n",
       "Obsessive-Compulsive Disorder                                         3\n",
       "Posttraumatic Stress Disorder                                         3\n",
       "Tourettes Disorder                                                    3\n",
       "Specific Phobia                                                       3\n",
       "Specific Learning Disorder with Impairment in Written Expression      2\n",
       "Intellectual Disability-Moderate                                      2\n",
       "                                                                      2\n",
       "Unspecified Attention-Deficit/Hyperactivity Disorder                  2\n",
       "Other Specified Depressive Disorder                                   2\n",
       "Other Specified Trauma- and Stressor-Related Disorder                 1\n",
       "Persistent (Chronic) Motor or Vocal Tic Disorder                      1\n",
       "Panic Disorder                                                        1\n",
       "Selective Mutism                                                      1\n",
       "Parent-Child Relational Problem                                       1\n",
       "Cannabis Use Disorder                                                 1\n",
       "Oppositional Defiant Disorder                                         1\n",
       "Reactive Attachment Disorder                                          1\n",
       "Major Neurocognitive Disorder Due to Epilepsy                         1\n",
       "Intellectual Disability-Severe                                        1\n",
       "Name: DX_01, dtype: int64"
      ]
     },
     "execution_count": 8,
     "metadata": {},
     "output_type": "execute_result"
    }
   ],
   "source": [
    "# Frequencies of major disturb in behavioral dataset\n",
    "dataframe['DX_01'].value_counts()"
   ]
  },
  {
   "cell_type": "code",
   "execution_count": 9,
   "metadata": {},
   "outputs": [
    {
     "data": {
      "text/plain": [
       "<matplotlib.axes._subplots.AxesSubplot at 0x7fb4818f87f0>"
      ]
     },
     "execution_count": 9,
     "metadata": {},
     "output_type": "execute_result"
    },
    {
     "data": {
      "image/png": "[encoded data removed]",
      "text/plain": [
       "<Figure size 864x576 with 1 Axes>"
      ]
     },
     "metadata": {
      "needs_background": "light"
     },
     "output_type": "display_data"
    }
   ],
   "source": [
    "df = dataframe.loc[dataframe['DX_01'].isin(['ADHD-Inattentive Type', 'ADHD-Combined Type', 'No Diagnosis Given'])]\n",
    "#Create a boxplot\n",
    "df.boxplot('discrepancy', by='DX_01', figsize=(12, 8))"
   ]
  },
  {
   "cell_type": "markdown",
   "metadata": {},
   "source": [
    "## ANOVA"
   ]
  },
  {
   "cell_type": "code",
   "execution_count": 10,
   "metadata": {},
   "outputs": [
    {
     "name": "stdout",
     "output_type": "stream",
     "text": [
      "             sum_sq     df         F    PR(>F)\n",
      "DX_01      4.071815    2.0  6.510555  0.001715\n",
      "Residual  90.685551  290.0       NaN       NaN\n"
     ]
    }
   ],
   "source": [
    "import statsmodels.api as sm\n",
    "from statsmodels.formula.api import ols\n",
    "\n",
    "model = ols('discrepancy ~ DX_01',                 # Model formula\n",
    "            data = df).fit()\n",
    "                \n",
    "anova_result = sm.stats.anova_lm(model, typ=2)\n",
    "print (anova_result)"
   ]
  },
  {
   "cell_type": "code",
   "execution_count": 11,
   "metadata": {},
   "outputs": [
    {
     "data": {
      "text/html": [
       "<table class=\"simpletable\">\n",
       "<caption>OLS Regression Results</caption>\n",
       "<tr>\n",
       "  <th>Dep. Variable:</th>       <td>discrepancy</td>   <th>  R-squared:         </th> <td>   0.043</td>\n",
       "</tr>\n",
       "<tr>\n",
       "  <th>Model:</th>                   <td>OLS</td>       <th>  Adj. R-squared:    </th> <td>   0.036</td>\n",
       "</tr>\n",
       "<tr>\n",
       "  <th>Method:</th>             <td>Least Squares</td>  <th>  F-statistic:       </th> <td>   6.511</td>\n",
       "</tr>\n",
       "<tr>\n",
       "  <th>Date:</th>             <td>Wed, 13 Nov 2019</td> <th>  Prob (F-statistic):</th>  <td>0.00171</td>\n",
       "</tr>\n",
       "<tr>\n",
       "  <th>Time:</th>                 <td>10:42:57</td>     <th>  Log-Likelihood:    </th> <td> -243.94</td>\n",
       "</tr>\n",
       "<tr>\n",
       "  <th>No. Observations:</th>      <td>   293</td>      <th>  AIC:               </th> <td>   493.9</td>\n",
       "</tr>\n",
       "<tr>\n",
       "  <th>Df Residuals:</th>          <td>   290</td>      <th>  BIC:               </th> <td>   504.9</td>\n",
       "</tr>\n",
       "<tr>\n",
       "  <th>Df Model:</th>              <td>     2</td>      <th>                     </th>     <td> </td>   \n",
       "</tr>\n",
       "<tr>\n",
       "  <th>Covariance Type:</th>      <td>nonrobust</td>    <th>                     </th>     <td> </td>   \n",
       "</tr>\n",
       "</table>\n",
       "<table class=\"simpletable\">\n",
       "<tr>\n",
       "                 <td></td>                   <th>coef</th>     <th>std err</th>      <th>t</th>      <th>P>|t|</th>  <th>[0.025</th>    <th>0.975]</th>  \n",
       "</tr>\n",
       "<tr>\n",
       "  <th>Intercept</th>                      <td>   -0.0435</td> <td>    0.052</td> <td>   -0.842</td> <td> 0.400</td> <td>   -0.145</td> <td>    0.058</td>\n",
       "</tr>\n",
       "<tr>\n",
       "  <th>DX_01[T.ADHD-Inattentive Type]</th> <td>    0.1963</td> <td>    0.077</td> <td>    2.557</td> <td> 0.011</td> <td>    0.045</td> <td>    0.347</td>\n",
       "</tr>\n",
       "<tr>\n",
       "  <th>DX_01[T.No Diagnosis Given]</th>    <td>   -0.0985</td> <td>    0.081</td> <td>   -1.209</td> <td> 0.227</td> <td>   -0.259</td> <td>    0.062</td>\n",
       "</tr>\n",
       "</table>\n",
       "<table class=\"simpletable\">\n",
       "<tr>\n",
       "  <th>Omnibus:</th>       <td>12.781</td> <th>  Durbin-Watson:     </th> <td>   2.052</td>\n",
       "</tr>\n",
       "<tr>\n",
       "  <th>Prob(Omnibus):</th> <td> 0.002</td> <th>  Jarque-Bera (JB):  </th> <td>  16.127</td>\n",
       "</tr>\n",
       "<tr>\n",
       "  <th>Skew:</th>          <td>-0.368</td> <th>  Prob(JB):          </th> <td>0.000315</td>\n",
       "</tr>\n",
       "<tr>\n",
       "  <th>Kurtosis:</th>      <td> 3.883</td> <th>  Cond. No.          </th> <td>    3.48</td>\n",
       "</tr>\n",
       "</table><br/><br/>Warnings:<br/>[1] Standard Errors assume that the covariance matrix of the errors is correctly specified."
      ],
      "text/plain": [
       "<class 'statsmodels.iolib.summary.Summary'>\n",
       "\"\"\"\n",
       "                            OLS Regression Results                            \n",
       "==============================================================================\n",
       "Dep. Variable:            discrepancy   R-squared:                       0.043\n",
       "Model:                            OLS   Adj. R-squared:                  0.036\n",
       "Method:                 Least Squares   F-statistic:                     6.511\n",
       "Date:                Wed, 13 Nov 2019   Prob (F-statistic):            0.00171\n",
       "Time:                        10:42:57   Log-Likelihood:                -243.94\n",
       "No. Observations:                 293   AIC:                             493.9\n",
       "Df Residuals:                     290   BIC:                             504.9\n",
       "Df Model:                           2                                         \n",
       "Covariance Type:            nonrobust                                         \n",
       "==================================================================================================\n",
       "                                     coef    std err          t      P>|t|      [0.025      0.975]\n",
       "--------------------------------------------------------------------------------------------------\n",
       "Intercept                         -0.0435      0.052     -0.842      0.400      -0.145       0.058\n",
       "DX_01[T.ADHD-Inattentive Type]     0.1963      0.077      2.557      0.011       0.045       0.347\n",
       "DX_01[T.No Diagnosis Given]       -0.0985      0.081     -1.209      0.227      -0.259       0.062\n",
       "==============================================================================\n",
       "Omnibus:                       12.781   Durbin-Watson:                   2.052\n",
       "Prob(Omnibus):                  0.002   Jarque-Bera (JB):               16.127\n",
       "Skew:                          -0.368   Prob(JB):                     0.000315\n",
       "Kurtosis:                       3.883   Cond. No.                         3.48\n",
       "==============================================================================\n",
       "\n",
       "Warnings:\n",
       "[1] Standard Errors assume that the covariance matrix of the errors is correctly specified.\n",
       "\"\"\""
      ]
     },
     "execution_count": 11,
     "metadata": {},
     "output_type": "execute_result"
    }
   ],
   "source": [
    "model.summary()"
   ]
  },
  {
   "cell_type": "code",
   "execution_count": 12,
   "metadata": {},
   "outputs": [
    {
     "data": {
      "text/plain": [
       "<matplotlib.axes._subplots.AxesSubplot at 0x7fb48b1d5198>"
      ]
     },
     "execution_count": 12,
     "metadata": {},
     "output_type": "execute_result"
    },
    {
     "data": {
      "image/png": "[encoded data removed]",
      "text/plain": [
       "<Figure size 864x576 with 1 Axes>"
      ]
     },
     "metadata": {
      "needs_background": "light"
     },
     "output_type": "display_data"
    }
   ],
   "source": [
    "df = dataframe.loc[dataframe['DX_01'].isin(['ADHD-Combined Type', 'ADHD-Inattentive Type','No Diagnosis Given', 'Autism Spectrum Disorder', 'Specific Learning Disorder with Impairment in Reading'])]\n",
    "#Create a boxplot\n",
    "df.boxplot('discrepancy', by='DX_01', figsize=(12, 8))"
   ]
  },
  {
   "cell_type": "code",
   "execution_count": 13,
   "metadata": {},
   "outputs": [
    {
     "name": "stdout",
     "output_type": "stream",
     "text": [
      "              sum_sq     df         F    PR(>F)\n",
      "DX_01       5.751756    4.0  4.348008  0.001915\n",
      "Residual  115.418554  349.0       NaN       NaN\n"
     ]
    }
   ],
   "source": [
    "model = ols('discrepancy ~ DX_01',                 # Model formula\n",
    "            data = df).fit()\n",
    "                \n",
    "anova_result = sm.stats.anova_lm(model, typ=2)\n",
    "print (anova_result)"
   ]
  },
  {
   "cell_type": "code",
   "execution_count": 14,
   "metadata": {},
   "outputs": [
    {
     "data": {
      "text/html": [
       "<table class=\"simpletable\">\n",
       "<caption>OLS Regression Results</caption>\n",
       "<tr>\n",
       "  <th>Dep. Variable:</th>       <td>discrepancy</td>   <th>  R-squared:         </th> <td>   0.047</td>\n",
       "</tr>\n",
       "<tr>\n",
       "  <th>Model:</th>                   <td>OLS</td>       <th>  Adj. R-squared:    </th> <td>   0.037</td>\n",
       "</tr>\n",
       "<tr>\n",
       "  <th>Method:</th>             <td>Least Squares</td>  <th>  F-statistic:       </th> <td>   4.348</td>\n",
       "</tr>\n",
       "<tr>\n",
       "  <th>Date:</th>             <td>Wed, 13 Nov 2019</td> <th>  Prob (F-statistic):</th>  <td>0.00191</td>\n",
       "</tr>\n",
       "<tr>\n",
       "  <th>Time:</th>                 <td>10:42:58</td>     <th>  Log-Likelihood:    </th> <td> -303.93</td>\n",
       "</tr>\n",
       "<tr>\n",
       "  <th>No. Observations:</th>      <td>   354</td>      <th>  AIC:               </th> <td>   617.9</td>\n",
       "</tr>\n",
       "<tr>\n",
       "  <th>Df Residuals:</th>          <td>   349</td>      <th>  BIC:               </th> <td>   637.2</td>\n",
       "</tr>\n",
       "<tr>\n",
       "  <th>Df Model:</th>              <td>     4</td>      <th>                     </th>     <td> </td>   \n",
       "</tr>\n",
       "<tr>\n",
       "  <th>Covariance Type:</th>      <td>nonrobust</td>    <th>                     </th>     <td> </td>   \n",
       "</tr>\n",
       "</table>\n",
       "<table class=\"simpletable\">\n",
       "<tr>\n",
       "                                 <td></td>                                   <th>coef</th>     <th>std err</th>      <th>t</th>      <th>P>|t|</th>  <th>[0.025</th>    <th>0.975]</th>  \n",
       "</tr>\n",
       "<tr>\n",
       "  <th>Intercept</th>                                                      <td>   -0.0435</td> <td>    0.053</td> <td>   -0.819</td> <td> 0.413</td> <td>   -0.148</td> <td>    0.061</td>\n",
       "</tr>\n",
       "<tr>\n",
       "  <th>DX_01[T.ADHD-Inattentive Type]</th>                                 <td>    0.1963</td> <td>    0.079</td> <td>    2.486</td> <td> 0.013</td> <td>    0.041</td> <td>    0.352</td>\n",
       "</tr>\n",
       "<tr>\n",
       "  <th>DX_01[T.Autism Spectrum Disorder]</th>                              <td>    0.2679</td> <td>    0.121</td> <td>    2.214</td> <td> 0.027</td> <td>    0.030</td> <td>    0.506</td>\n",
       "</tr>\n",
       "<tr>\n",
       "  <th>DX_01[T.No Diagnosis Given]</th>                                    <td>   -0.0985</td> <td>    0.084</td> <td>   -1.176</td> <td> 0.240</td> <td>   -0.263</td> <td>    0.066</td>\n",
       "</tr>\n",
       "<tr>\n",
       "  <th>DX_01[T.Specific Learning Disorder with Impairment in Reading]</th> <td>    0.1641</td> <td>    0.113</td> <td>    1.448</td> <td> 0.148</td> <td>   -0.059</td> <td>    0.387</td>\n",
       "</tr>\n",
       "</table>\n",
       "<table class=\"simpletable\">\n",
       "<tr>\n",
       "  <th>Omnibus:</th>       <td>17.218</td> <th>  Durbin-Watson:     </th> <td>   1.984</td>\n",
       "</tr>\n",
       "<tr>\n",
       "  <th>Prob(Omnibus):</th> <td> 0.000</td> <th>  Jarque-Bera (JB):  </th> <td>  45.708</td>\n",
       "</tr>\n",
       "<tr>\n",
       "  <th>Skew:</th>          <td> 0.007</td> <th>  Prob(JB):          </th> <td>1.19e-10</td>\n",
       "</tr>\n",
       "<tr>\n",
       "  <th>Kurtosis:</th>      <td> 4.760</td> <th>  Cond. No.          </th> <td>    5.13</td>\n",
       "</tr>\n",
       "</table><br/><br/>Warnings:<br/>[1] Standard Errors assume that the covariance matrix of the errors is correctly specified."
      ],
      "text/plain": [
       "<class 'statsmodels.iolib.summary.Summary'>\n",
       "\"\"\"\n",
       "                            OLS Regression Results                            \n",
       "==============================================================================\n",
       "Dep. Variable:            discrepancy   R-squared:                       0.047\n",
       "Model:                            OLS   Adj. R-squared:                  0.037\n",
       "Method:                 Least Squares   F-statistic:                     4.348\n",
       "Date:                Wed, 13 Nov 2019   Prob (F-statistic):            0.00191\n",
       "Time:                        10:42:58   Log-Likelihood:                -303.93\n",
       "No. Observations:                 354   AIC:                             617.9\n",
       "Df Residuals:                     349   BIC:                             637.2\n",
       "Df Model:                           4                                         \n",
       "Covariance Type:            nonrobust                                         \n",
       "==================================================================================================================================\n",
       "                                                                     coef    std err          t      P>|t|      [0.025      0.975]\n",
       "----------------------------------------------------------------------------------------------------------------------------------\n",
       "Intercept                                                         -0.0435      0.053     -0.819      0.413      -0.148       0.061\n",
       "DX_01[T.ADHD-Inattentive Type]                                     0.1963      0.079      2.486      0.013       0.041       0.352\n",
       "DX_01[T.Autism Spectrum Disorder]                                  0.2679      0.121      2.214      0.027       0.030       0.506\n",
       "DX_01[T.No Diagnosis Given]                                       -0.0985      0.084     -1.176      0.240      -0.263       0.066\n",
       "DX_01[T.Specific Learning Disorder with Impairment in Reading]     0.1641      0.113      1.448      0.148      -0.059       0.387\n",
       "==============================================================================\n",
       "Omnibus:                       17.218   Durbin-Watson:                   1.984\n",
       "Prob(Omnibus):                  0.000   Jarque-Bera (JB):               45.708\n",
       "Skew:                           0.007   Prob(JB):                     1.19e-10\n",
       "Kurtosis:                       4.760   Cond. No.                         5.13\n",
       "==============================================================================\n",
       "\n",
       "Warnings:\n",
       "[1] Standard Errors assume that the covariance matrix of the errors is correctly specified.\n",
       "\"\"\""
      ]
     },
     "execution_count": 14,
     "metadata": {},
     "output_type": "execute_result"
    }
   ],
   "source": [
    "model.summary()"
   ]
  },
  {
   "cell_type": "code",
   "execution_count": 15,
   "metadata": {},
   "outputs": [
    {
     "name": "stdout",
     "output_type": "stream",
     "text": [
      "              sum_sq     df         F    PR(>F)\n",
      "DX_01      27.143087   39.0  1.967207  0.000593\n",
      "Residual  184.677945  522.0       NaN       NaN\n"
     ]
    }
   ],
   "source": [
    "# Consider all the diseases, F-test still significant.\n",
    "model = ols('discrepancy ~ DX_01',                 # Model formula\n",
    "            data = dataframe).fit()\n",
    "                \n",
    "anova_result = sm.stats.anova_lm(model, typ=2)\n",
    "print (anova_result)"
   ]
  },
  {
   "cell_type": "code",
   "execution_count": null,
   "metadata": {},
   "outputs": [],
   "source": []
  }
 ],
 "metadata": {
  "kernelspec": {
   "display_name": "dslab",
   "language": "python",
   "name": "dslab"
  },
  "language_info": {
   "codemirror_mode": {
    "name": "ipython",
    "version": 3
   },
   "file_extension": ".py",
   "mimetype": "text/x-python",
   "name": "python",
   "nbconvert_exporter": "python",
   "pygments_lexer": "ipython3",
   "version": "3.6.9"
  }
 },
 "nbformat": 4,
 "nbformat_minor": 2
}
