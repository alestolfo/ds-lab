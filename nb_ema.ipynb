{
 "cells": [
  {
   "cell_type": "markdown",
   "metadata": {},
   "source": [
    "# NB EMA"
   ]
  },
  {
   "cell_type": "markdown",
   "metadata": {},
   "source": [
    "1) organizza il notebook in funzioni diverse, di modo che puoi ripetere le analisi su più di un dataset\n",
    "2) esporta in csv il nuovo dataset, magari con le analisi fatte e pusha \n",
    "3) comincia a pensare alla normalizzazione \n",
    "4) vedi se questi cazzo di dati sono block sparse oppure no \n"
   ]
  },
  {
   "cell_type": "markdown",
   "metadata": {},
   "source": [
    "###  DS lab 2019"
   ]
  },
  {
   "cell_type": "markdown",
   "metadata": {},
   "source": [
    "## Behavioural data"
   ]
  },
  {
   "cell_type": "code",
   "execution_count": 1,
   "metadata": {},
   "outputs": [],
   "source": [
    "import pandas as pd\n",
    "import numpy as np\n",
    "import matplotlib as mpl"
   ]
  },
  {
   "cell_type": "code",
   "execution_count": 2,
   "metadata": {
    "scrolled": true
   },
   "outputs": [
    {
     "name": "stderr",
     "output_type": "stream",
     "text": [
      "/anaconda3/envs/dslab_1/lib/python3.6/site-packages/IPython/core/interactiveshell.py:3058: DtypeWarning: Columns (66,68,80,81,82,83,84,95,96,97,98,99,110,111,112,113,114,125,126,127,128,129,140,141,142,144,155,156,157,159,932,933,934,935,936,937,938,939,940,941,942,943,944,945,946,947,948,949,950,951,952,953,954,955,956,957,958,959,960,961,962,963,964,965,966,967,968,969,970,971,972,973,974,975,976,977,978,979,980,981,982,983,984,985,986,987,988,989,990,991,992,993,994,995,996,997,998,999,1000,1001,1002,1003,1004,1005,1006,1007,1008,1009,1010,1011,1012,1013,1014,1015,1016,1017,1018,1019,1020,1021,1022,1023,1024,1025,1026,1027,1028,1029,1030,1031,1032,1033,1034,1035,1036,1037,1038,1039,1040,1041,1042,1043,1044,1045,1046,1047,1048,1049,1050,1051,1052,1053,1054,1055,1056,1057,1058,1059,1060,1061,1062,1063,1064,1065,1066,1067,1068,1069,1070,1071,1072,1073,1074,1075,1076,1077,1078,1079,1080,1081,1082,1083,1084,1085,1086,1087,1088,1089,1090,1091,1092,1093,1094,1095,1096,1097,1098,1099,1100,1101,1102,1103,1104,1105,1106,1107,1108,1109,1110,1111,1112,1113,1114,1115,1116,1117,1118,1119,1120,1121,1122,1123,1124,1125,1126,1127,1128,1129,1130,1131,1132,1133,1134,1135,1136,1137,1138,1139,1140,1141,1142,1143,1144,1145,1146,1147,1148,1149,1150,1151,1152,1153,1154,1155,1156,1157,1158,1159,1160,1161,1162,1163,1164,1165,1166,1167,1168,1169,1170,1171,1172,1173,1174,1175,1176,1177,1178,1179,1180,1181,1182,1183,1184,1185,1186,1187,1188,1189,1190,1191,1192,1193,1194,1195,1196,1197,1198,1199,1200,1201,1202,1203,1204,1205,1206,1207,1208,1209,1210,1211,1212,1213,1214,1215,1216,1217,1218,1219,1220,1221,1222,1223,1224,1225,1226,1227,1228,1229,1230,1231,1232,1233,1234,1235,1236,1237,1238,1239,1240,1241,1242,1243,1244,1245,1246,1247,1248,1249,1250,1251,1252,1253,1254,1255,1256,1257,1258,1259,1260,1261,1262,1263,1264,1265,1266,1267,1268,1269,1270,1271,1272,1273,1274,1275,1276,1277,1278,1279,1280,1281,1282,1283,1284,1285,1286,1287,1288,1289,1290,1291,1292,1293,1294,1295,1296,1297,1298,1299,1300,1301,1302,1303,1304,1305,1306,1307,1308,1309,1310,1311,1312,1313,1314,1315,1316,1317,1318,1319,1320,1321,1322,1323,1324,1325,1326,1327,1328,1329,1330,1331,1332,1333,1334,1335,1336,1337,1338,1339,1340,1341,1342,1343,1344,1345,1346,1347,1348,1349,1350,1351,1352,1353,1354,1355,1356,1357,1358,1359,1360,1361,1362,1363,1364,1365,1366,1367,1368,1369,1370,1371,1372,1373,1374,1375,1376,1377,1378,1379,1380,1381,1384,1385,1387,1390,1391,1393,1396,1397,1399,1402,1403,1405,1408,1409,1411,1414,1415,1417,1420,1421,1423,1426,1427,1429,1432,1433,1435,1438,1439,1441,1444,1445,1447,1450,1451,1453,1456,1457,1459,1462,1463,1465,1468,1469,1471,1474,1475,1477,1480,1481,1483,1486,1487,1489,1492,1493,1495,1498,1499,1501,1504,1505,1507,1510,1511,1513,1516,1517,1519,1522,1523,1525,1528,1529,1531,1534,1535,1537,1540,1541,1543,1546,1547,1549,1552,1553,1555,1558,1559,1561,1564,1565,1567,1570,1571,1573,1576,1577,1579,1582,1583,1585,1588,1589,1591,1594,1595,1597,1600,1601,1603,1606,1607,1609,1612,1613,1615,1618,1619,1621,1624,1625,1627,1630,1631,1633,1636,1637,1639,1642,1643,1645,1648,1649,1651,1654,1655,1657,1660,1661,1663,1666,1667,1669,1672,1673,1675,1678,1679,1681,1684,1685,1687,1690,1691,1693,1696,1697,1699,1702,1703,1705,1708,1709,1711,1714,1715,1717,1720,1721,1723,1726,1727,1729,1732,1733,1735,1738,1739,1741,1744,1745,1747,1750,1751,1753,1756,1757,1759,1762,1763,1765,1768,1769,1771,1774,1775,1777,1780,1781,1783,1786,1787,1789,1792,1793,1795,1798,1799,1801,1804,1805,1807,1810,1811,1813,1816,1817,1819,1822,1823,1825,1828,1829,1831,1834,1835,1837,1840,1841,1843,1846,1847,1849,1852,1853,1855,1858,1859,1861,1882,1883,1884,1917,1918,1919,1952,1953,1954,1955,1987,1988,1989,1990,2022,2023,2024,2025,2026,2057,2058,2059,2060,2061,2092,2093,2094,2095,2096,2097,2127,2128,2129,2130,2131,2132,2162,2163,2164,2165,2166,2167,2168,2197,2198,2199,2200,2201,2202,2203,2232,2233,2234,2235,2236,2237,2238,2239,2267,2268,2269,2270,2271,2272,2273,2274,2302,2303,2304,2305,2306,2307,2308,2309,2337,2338,2339,2340,2341,2342,2343,2344,2477,2478,2479,2512,2513,2514,2547,2548,2549,2550,2582,2583,2584,2585,2617,2618,2619,2620,2621,2652,2653,2654,2655,2656,2687,2688,2689,2690,2691,2692,2722,2723,2724,2725,2726,2727,2757,2758,2759,2760,2761,2762,2763,2792,2793,2794,2795,2796,2797,2798,2827,2828,2829,2830,2831,2832,2833,2834,2862,2863,2864,2865,2866,2867,2868,2869,2897,2898,2899,2900,2901,2902,2903,2904,2932,2933,2934,2935,2936,2937,2938,2939,3819,3826,3866,3933,4037,4055,4059,4063,4067,4071,4075,4079,4084,4085,4086,4087,4088,4091,4092,4094,4095,4096,4608,4616,4648,4649,4664,4665,4667,4683,4690,4691,4692,4693,4739,4800,5002,5010,5018,5026,5042,5240,5282,5386,5433,5443,5463,5466,5467,5468,5470,5478,5479,5481,5482,5483,5484,5485,5486,5487,5488,5489,5490,5491,5492,5495,5499,5503,5507,5511,5515,5517,5518,5519,5520,5521,5522,5523,5524,5532,5535,5536,5537,5539,5540,5548,5549,5551,5552,5553,5554,5555,5556,5557,5558,5559,5560,5561,5562,5565,5569,5573,5577,5581,5586,5587,5588,5589,5590,5591,5592,5593,5594,5601,5604,5605,5606,5608,5616,5617,5619,5620,5621,5622,5623,5624,5625,5626,5627,5628,5629,5630,5633,5636,5637,5638,5640,5648,5649,5651,5652,5653,5654,5655,5656,5657,5658,5659,5660,5661,5662,5665,5668,5669,5670,5672,5680,5681,5683,5684,5685,5686,5687,5688,5689,5690,5691,5692,5693,5694,5697,5700,5701,5702,5704,5712,5713,5715,5716,5717,5718,5719,5720,5721,5722,5723,5724,5725,5726,5729,5732,5733,5734,5736,5744,5745,5747,5748,5749,5750,5751,5752,5753,5754,5755,5756,5757,5758,5759,5760,5761,5762,5763,5764,5768,5772,5776,5780,5784,5788,5792,5796,5800,5804,5808,5812,5816,5820,5869,5877,5881,5885,5889,5893,5897,6538,6539,6540,6541,6542,6555,6556,6557,6558,6559,6572,6573,6574,6575,6576,6589,6590,6591,6592,6593,6606,6607,6608,6609,6610,6623,6624,6625,6626,6627,6636,6644,6650,6653,6682,6701,6738,6768) have mixed types. Specify dtype option on import or set low_memory=False.\n",
      "  interactivity=interactivity, compiler=compiler, result=result)\n"
     ]
    }
   ],
   "source": [
    "# import data into csv file\n",
    "\n",
    "alldata_beh = pd.read_csv('data/Behavioral/AllData.csv')"
   ]
  },
  {
   "cell_type": "markdown",
   "metadata": {},
   "source": [
    "### Nan percentages"
   ]
  },
  {
   "cell_type": "code",
   "execution_count": 4,
   "metadata": {},
   "outputs": [],
   "source": [
    "def find_nan_percentages(dataframe): #determining NaN percentages in the dataframe, returns dict ith nan percentages\n",
    "    \n",
    "    nan_percentages = []    # [COLUMN_NAME, PERCENTAGE OF NANs]\n",
    "    for column in dataframe: \n",
    "        n_elements = 0\n",
    "        n_nan_elements = 0\n",
    "        for row in dataframe.index: \n",
    "            elem = dataframe.loc[row, column]\n",
    "            if pd.isna(elem)==True :\n",
    "                n_nan_elements+=1\n",
    "            n_elements+=1\n",
    "        nan_percentages.append([column, round((n_nan_elements/n_elements),2)*100])\n",
    "    nan_perc = dict(nan_percentages) #NaN percentages dict\n",
    "    \n",
    "    return nan_perc\n",
    "\n"
   ]
  },
  {
   "cell_type": "code",
   "execution_count": null,
   "metadata": {
    "scrolled": true
   },
   "outputs": [],
   "source": [
    "#isolate behavioral test data : no id info, nor diagnoses\n",
    "\n",
    "beh_test_data = alldata_beh[ list(alldata_beh.loc[:,'ACE_01':]) ] \n",
    "beh_test_data"
   ]
  },
  {
   "cell_type": "code",
   "execution_count": 5,
   "metadata": {},
   "outputs": [],
   "source": [
    "# find features within a threshold of NaN percentage, returns a list of the features\n",
    "\n",
    "def find_frequent_features(dataframe, perc_threshold):\n",
    "    nan_perc = find_nan_percentages(dataframe)\n",
    "    freq_features = []   #features with less or equal than 50% NaN \n",
    "    for feature in dataframe.columns: \n",
    "        if nan_perc.get(feature) < perc_threshold: \n",
    "            freq_features.append(feature)\n",
    "    return freq_features\n",
    "    \n",
    "\n",
    "#btdata_f = beh_test_data.loc[:,freq_features]\n",
    "        "
   ]
  },
  {
   "cell_type": "code",
   "execution_count": 5,
   "metadata": {},
   "outputs": [],
   "source": [
    "# finding basic features : id, basics, diagnoses\n",
    "\n",
    "basic_columns = alldata_beh[ list(alldata_beh.loc[:,:'Days_Baseline'])].columns  #columns with id, basic features and diagnoses\n",
    "basic_features = []       #list with basic features \n",
    "for col in basic_columns: \n",
    "    basic_features.append(col)\n"
   ]
  },
  {
   "cell_type": "code",
   "execution_count": null,
   "metadata": {},
   "outputs": [],
   "source": [
    "# filter alldata_beh with only basic and frequent features\n",
    "\n",
    "allbdata_f = alldata_beh.loc[:, (basic_features+freq_features)]  #filtered alldata\n",
    "allbdata_f  \n",
    "\n"
   ]
  },
  {
   "cell_type": "code",
   "execution_count": null,
   "metadata": {},
   "outputs": [],
   "source": [
    "# exporting in csv \n",
    "\n",
    "# file = pd.to_csv('path')"
   ]
  },
  {
   "cell_type": "markdown",
   "metadata": {},
   "source": [
    "### Nan percentages range in dataset"
   ]
  },
  {
   "cell_type": "code",
   "execution_count": 6,
   "metadata": {},
   "outputs": [],
   "source": [
    "def nan_perc_ranges(dataframe): #returns list of Nan perc ranges, with associated features\n",
    "    \n",
    "    nan_percentages = find_nan_percentages(dataframe)\n",
    "    features_perc_range = []   #list with percentages of NaN ranges associated with features\n",
    "                               # [10, list_of_features] element means that labels associated are from 10% to 19.99% of NaN \n",
    "                               # note that for the last category features with 100% NULL are included\n",
    "    for threshold in np.arange(10):\n",
    "        feature_list = []\n",
    "        for feature, perc in nan_percentages.items():\n",
    "            if threshold != 9: \n",
    "                if perc >= threshold*10.0 and perc < (threshold+1)*10.0: \n",
    "                    feature_list.append(feature)\n",
    "            else: \n",
    "                if perc >= threshold*10.0 and perc <= (threshold+1)*10.0: \n",
    "                    feature_list.append(feature)\n",
    "        features_perc_range.append([threshold*10,feature_list])\n",
    "        \n",
    "    return features_perc_range"
   ]
  },
  {
   "cell_type": "code",
   "execution_count": null,
   "metadata": {
    "scrolled": true
   },
   "outputs": [],
   "source": [
    "# printing NaN percentages ranges with associated features\n",
    "features_perc_range = nan_perc_ranges(alldata_beh)\n",
    "for perc,features in features_perc_range:\n",
    "    print('number of features in', perc,'% - ', perc+10,'% range :', len(features))"
   ]
  },
  {
   "cell_type": "markdown",
   "metadata": {},
   "source": [
    "## Matching columns with descriptions"
   ]
  },
  {
   "cell_type": "code",
   "execution_count": null,
   "metadata": {},
   "outputs": [],
   "source": [
    "# reading valid column names from the description files \n",
    "\n",
    "import glob\n",
    "\n",
    "path = 'data/Behavioral/description' \n",
    "desc_files = glob.glob(path + \"/*.xlsx\")\n",
    "\n",
    "varname_cols = []\n",
    "desc_errors = 0\n",
    "wrong_desc = []\n",
    "processed_files = [] #list of processed files to avoid errors\n",
    "\n",
    "for filename in desc_files:\n",
    "    df = pd.read_excel(filename, skiprows=[0]) #index_col=None, header=0\n",
    "    column_names = df.columns\n",
    "    #print(column_names)\n",
    "    if 'Variable Name' in column_names: \n",
    "        varname_cols.append(df.loc[:,'Variable Name'])\n",
    "    elif 'Variable' in column_names: \n",
    "        varname_cols.append(df.loc[:,'Variable'])\n",
    "    else:\n",
    "        desc_errors += 1\n",
    "        wrong_desc.append(filename)\n",
    "    processed_files.append(filename)\n",
    "\n",
    "print([file for file in processed_files])\n",
    "        \n",
    "'''\n",
    "print ('description that do not contain a column that matches are :', desc_errors ,'\\n',\n",
    "       'the wrong descriptions are ',\n",
    "        [d for d in wrong_desc])\n",
    "        \n",
    "FOUND THAT 'data/Behavioral/description/ESWAN.xlsx' RAISES PROBLEMS. NAIVE CORRECTION\n",
    "'''\n",
    "\n",
    "# fix issue with ESWAN \n",
    "\n",
    "path_ESWAN = 'data/Behavioral/description/ESWAN.xlsx'\n",
    "df = pd.read_excel(path_ESWAN, skiprows=[0,1]) #index_col=None, header=0\n",
    "#column_names = df.columns\n",
    "varname_cols.append(df.loc[:,'Variable Name'])\n",
    "\n",
    "# fix issue with nested directory \n",
    "\n",
    "path_inside_nested_dir = 'data/Behavioral/description/*'\n",
    "desc_files_nested = glob.glob(path_inside_nested_dir + \"/*.xlsx\")\n",
    "for filepath in desc_files_nested:\n",
    "    df = pd.read_excel(filepath, skiprows=[0])\n",
    "    varname_cols.append(df.loc[:,'Variable Name'])\n",
    "\n",
    "# resulting list\n",
    "\n",
    "print ('the resulting list has lenght', len (varname_cols))  #outputs 123. works. \n",
    "\n",
    "\n"
   ]
  },
  {
   "cell_type": "code",
   "execution_count": null,
   "metadata": {},
   "outputs": [],
   "source": [
    "varnames_df = pd.DataFrame(np.hstack([i.values for i in varname_cols])) \n",
    "varnames_df = varnames_df.dropna()    #drop nan\n",
    "varnames = varnames_df.values  # numpy array with variable names from descriptions\n",
    "varnames_list = [elem[0] for elem in varnames.tolist()]  #list with variable names from descriptions"
   ]
  },
  {
   "cell_type": "code",
   "execution_count": null,
   "metadata": {},
   "outputs": [],
   "source": [
    "beh_data_matched = alldata_beh.copy(deep=True)   # dataframe with behavioural data keeping only basic columns and the ones mentioned in the decriptions\n",
    "for column in beh_data_matched.columns: \n",
    "    if column not in varnames_list and column not in basic_features:\n",
    "        beh_data_matched.drop(columns=column, inplace=True)"
   ]
  },
  {
   "cell_type": "code",
   "execution_count": null,
   "metadata": {
    "scrolled": true
   },
   "outputs": [],
   "source": [
    "beh_data_matched"
   ]
  },
  {
   "cell_type": "code",
   "execution_count": null,
   "metadata": {},
   "outputs": [],
   "source": [
    "#converting to strings as the original data is, before exporting in csv\n",
    "beh_data_matched = beh_data_matched.astype(str)"
   ]
  },
  {
   "cell_type": "code",
   "execution_count": null,
   "metadata": {},
   "outputs": [],
   "source": [
    "# exporting in csv behavioral data matched\n",
    "file = beh_data_matched.to_csv('data/Behavioral/behdata_matched_ema.csv')"
   ]
  },
  {
   "cell_type": "markdown",
   "metadata": {},
   "source": [
    "## Working with cleaned (behavioural) data"
   ]
  },
  {
   "cell_type": "code",
   "execution_count": 2,
   "metadata": {},
   "outputs": [
    {
     "name": "stderr",
     "output_type": "stream",
     "text": [
      "/anaconda3/envs/dslab_1/lib/python3.6/site-packages/IPython/core/interactiveshell.py:3058: DtypeWarning: Columns (53,83,85,97,98,99,100,101,112,113,114,115,116,127,128,129,131,142,143,144,146,263,278,279,282,283,284,287,288,289,292,293,294) have mixed types. Specify dtype option on import or set low_memory=False.\n",
      "  interactivity=interactivity, compiler=compiler, result=result)\n"
     ]
    }
   ],
   "source": [
    "# importing clean data \n",
    "\n",
    "finalSummaries = pd.read_csv('data/Behavioral/cleaned/finalSummaries.csv')\n",
    "finalSummariesLabels = pd.read_csv('data/Behavioral/cleaned/finalSummariesLabels.csv')\n",
    "HBNFinalSummaries = pd.read_csv('data/Behavioral/cleaned/HBNFinalSummaries.csv')"
   ]
  },
  {
   "cell_type": "code",
   "execution_count": 8,
   "metadata": {},
   "outputs": [
    {
     "name": "stdout",
     "output_type": "stream",
     "text": [
      "(326, 1)\n",
      "(334, 2)\n",
      "(2096, 399)\n"
     ]
    }
   ],
   "source": [
    "cleandata = [finalSummaries, finalSummariesLabels, HBNFinalSummaries]\n",
    "\n",
    "# shapes\n",
    "for dataset in cleandata: \n",
    "    print(dataset.shape)\n",
    "    "
   ]
  },
  {
   "cell_type": "code",
   "execution_count": 7,
   "metadata": {},
   "outputs": [
    {
     "name": "stdout",
     "output_type": "stream",
     "text": [
      "number of non-matched labels:  0 \n",
      "\n",
      "           label                                   question\n",
      "1020   CELF_WC_R                     Word Classes Raw Score\n",
      "1023   CELF_FD_R             Following Directions Raw Score\n",
      "1026   CELF_FS_R             Formulated Sentences Raw Score\n",
      "1029   CELF_RS_R              Recalling Sentences Raw Score\n",
      "1032  CELF_USP_R  Understanding Spoken Paragraphs Raw Score\n",
      "1053   CELF_WC_R                     Word Classes Raw Score\n",
      "1056   CELF_FD_R             Following Directions Raw Score\n",
      "1059   CELF_FS_R             Formulated Sentences Raw Score\n",
      "1062   CELF_RS_R              Recalling Sentences Raw Score\n",
      "1065  CELF_USP_R  Understanding Spoken Paragraphs Raw Score\n",
      "5689     SWAN_IN                        Inattention Average\n",
      "5690     SWAN_HY                      Hyperactivity Average\n",
      "5691  SWAN_Total                               SWAN Average\n",
      "5711     SWAN_IN                        Inattention Average\n",
      "5712     SWAN_HY                      Hyperactivity Average\n",
      "5713  SWAN_Total                               SWAN Average\n"
     ]
    }
   ],
   "source": [
    "# why do finalSummaries, finalSummariesLabels differ in row size? \n",
    "\n",
    "non_matched_labels = []\n",
    "for label in finalSummaries.loc[:,'x']: \n",
    "    if label not in finalSummariesLabels.loc[:,'label'].values:\n",
    "        non_matched_labels.append(label)\n",
    "print('number of non-matched labels: ',len(non_matched_labels),'\\n')\n",
    "\n",
    "dupli = pd.DataFrame(finalSummariesLabels.duplicated(subset=['label']))\n",
    "\n",
    "duplicate_labels = []\n",
    "for index in dupli.index[dupli[0]==True].to_list(): \n",
    "    duplicate_labels.append(finalSummariesLabels.loc[index, 'label'])\n",
    "\n",
    "print(finalSummariesLabels[finalSummariesLabels['label'].isin(duplicate_labels)] )\n",
    "    "
   ]
  },
  {
   "cell_type": "markdown",
   "metadata": {},
   "source": [
    "There are no labels in finalSummaries that are not in finalSummariesLabels. "
   ]
  },
  {
   "cell_type": "code",
   "execution_count": 8,
   "metadata": {},
   "outputs": [
    {
     "name": "stderr",
     "output_type": "stream",
     "text": [
      "/anaconda3/envs/dslab_1/lib/python3.6/site-packages/pandas/core/indexing.py:1418: FutureWarning: \n",
      "Passing list-likes to .loc or [] with any missing label will raise\n",
      "KeyError in the future, you can use .reindex() as an alternative.\n",
      "\n",
      "See the documentation here:\n",
      "https://pandas.pydata.org/pandas-docs/stable/user_guide/indexing.html#deprecate-loc-reindex-listlike\n",
      "  return self._getitem_tuple(key)\n"
     ]
    },
    {
     "data": {
      "text/html": [
       "<div>\n",
       "<style scoped>\n",
       "    .dataframe tbody tr th:only-of-type {\n",
       "        vertical-align: middle;\n",
       "    }\n",
       "\n",
       "    .dataframe tbody tr th {\n",
       "        vertical-align: top;\n",
       "    }\n",
       "\n",
       "    .dataframe thead th {\n",
       "        text-align: right;\n",
       "    }\n",
       "</style>\n",
       "<table border=\"1\" class=\"dataframe\">\n",
       "  <thead>\n",
       "    <tr style=\"text-align: right;\">\n",
       "      <th></th>\n",
       "      <th>CELF_WC_R</th>\n",
       "      <th>CELF_FD_R</th>\n",
       "      <th>CELF_FS_R</th>\n",
       "      <th>CELF_RS_R</th>\n",
       "      <th>CELF_USP_R</th>\n",
       "      <th>SWAN_IN</th>\n",
       "      <th>SWAN_HY</th>\n",
       "      <th>SWAN_Total</th>\n",
       "    </tr>\n",
       "  </thead>\n",
       "  <tbody>\n",
       "    <tr>\n",
       "      <td>1</td>\n",
       "      <td>NaN</td>\n",
       "      <td>NaN</td>\n",
       "      <td>NaN</td>\n",
       "      <td>NaN</td>\n",
       "      <td>NaN</td>\n",
       "      <td>NaN</td>\n",
       "      <td>NaN</td>\n",
       "      <td>NaN</td>\n",
       "    </tr>\n",
       "    <tr>\n",
       "      <td>2</td>\n",
       "      <td>NaN</td>\n",
       "      <td>NaN</td>\n",
       "      <td>NaN</td>\n",
       "      <td>NaN</td>\n",
       "      <td>NaN</td>\n",
       "      <td>NaN</td>\n",
       "      <td>NaN</td>\n",
       "      <td>NaN</td>\n",
       "    </tr>\n",
       "    <tr>\n",
       "      <td>3</td>\n",
       "      <td>NaN</td>\n",
       "      <td>NaN</td>\n",
       "      <td>NaN</td>\n",
       "      <td>NaN</td>\n",
       "      <td>NaN</td>\n",
       "      <td>NaN</td>\n",
       "      <td>NaN</td>\n",
       "      <td>NaN</td>\n",
       "    </tr>\n",
       "    <tr>\n",
       "      <td>4</td>\n",
       "      <td>NaN</td>\n",
       "      <td>NaN</td>\n",
       "      <td>NaN</td>\n",
       "      <td>NaN</td>\n",
       "      <td>NaN</td>\n",
       "      <td>NaN</td>\n",
       "      <td>NaN</td>\n",
       "      <td>NaN</td>\n",
       "    </tr>\n",
       "    <tr>\n",
       "      <td>5</td>\n",
       "      <td>NaN</td>\n",
       "      <td>NaN</td>\n",
       "      <td>NaN</td>\n",
       "      <td>NaN</td>\n",
       "      <td>NaN</td>\n",
       "      <td>NaN</td>\n",
       "      <td>NaN</td>\n",
       "      <td>NaN</td>\n",
       "    </tr>\n",
       "    <tr>\n",
       "      <td>...</td>\n",
       "      <td>...</td>\n",
       "      <td>...</td>\n",
       "      <td>...</td>\n",
       "      <td>...</td>\n",
       "      <td>...</td>\n",
       "      <td>...</td>\n",
       "      <td>...</td>\n",
       "      <td>...</td>\n",
       "    </tr>\n",
       "    <tr>\n",
       "      <td>2092</td>\n",
       "      <td>NaN</td>\n",
       "      <td>NaN</td>\n",
       "      <td>NaN</td>\n",
       "      <td>NaN</td>\n",
       "      <td>NaN</td>\n",
       "      <td>NaN</td>\n",
       "      <td>NaN</td>\n",
       "      <td>NaN</td>\n",
       "    </tr>\n",
       "    <tr>\n",
       "      <td>2093</td>\n",
       "      <td>NaN</td>\n",
       "      <td>NaN</td>\n",
       "      <td>NaN</td>\n",
       "      <td>NaN</td>\n",
       "      <td>NaN</td>\n",
       "      <td>NaN</td>\n",
       "      <td>NaN</td>\n",
       "      <td>NaN</td>\n",
       "    </tr>\n",
       "    <tr>\n",
       "      <td>2094</td>\n",
       "      <td>NaN</td>\n",
       "      <td>NaN</td>\n",
       "      <td>NaN</td>\n",
       "      <td>NaN</td>\n",
       "      <td>NaN</td>\n",
       "      <td>NaN</td>\n",
       "      <td>NaN</td>\n",
       "      <td>NaN</td>\n",
       "    </tr>\n",
       "    <tr>\n",
       "      <td>2095</td>\n",
       "      <td>NaN</td>\n",
       "      <td>NaN</td>\n",
       "      <td>NaN</td>\n",
       "      <td>NaN</td>\n",
       "      <td>NaN</td>\n",
       "      <td>NaN</td>\n",
       "      <td>NaN</td>\n",
       "      <td>NaN</td>\n",
       "    </tr>\n",
       "    <tr>\n",
       "      <td>2096</td>\n",
       "      <td>NaN</td>\n",
       "      <td>NaN</td>\n",
       "      <td>NaN</td>\n",
       "      <td>NaN</td>\n",
       "      <td>NaN</td>\n",
       "      <td>NaN</td>\n",
       "      <td>NaN</td>\n",
       "      <td>NaN</td>\n",
       "    </tr>\n",
       "  </tbody>\n",
       "</table>\n",
       "<p>2096 rows × 8 columns</p>\n",
       "</div>"
      ],
      "text/plain": [
       "      CELF_WC_R  CELF_FD_R  CELF_FS_R  CELF_RS_R  CELF_USP_R  SWAN_IN  \\\n",
       "1           NaN        NaN        NaN        NaN         NaN      NaN   \n",
       "2           NaN        NaN        NaN        NaN         NaN      NaN   \n",
       "3           NaN        NaN        NaN        NaN         NaN      NaN   \n",
       "4           NaN        NaN        NaN        NaN         NaN      NaN   \n",
       "5           NaN        NaN        NaN        NaN         NaN      NaN   \n",
       "...         ...        ...        ...        ...         ...      ...   \n",
       "2092        NaN        NaN        NaN        NaN         NaN      NaN   \n",
       "2093        NaN        NaN        NaN        NaN         NaN      NaN   \n",
       "2094        NaN        NaN        NaN        NaN         NaN      NaN   \n",
       "2095        NaN        NaN        NaN        NaN         NaN      NaN   \n",
       "2096        NaN        NaN        NaN        NaN         NaN      NaN   \n",
       "\n",
       "      SWAN_HY  SWAN_Total  \n",
       "1         NaN         NaN  \n",
       "2         NaN         NaN  \n",
       "3         NaN         NaN  \n",
       "4         NaN         NaN  \n",
       "5         NaN         NaN  \n",
       "...       ...         ...  \n",
       "2092      NaN         NaN  \n",
       "2093      NaN         NaN  \n",
       "2094      NaN         NaN  \n",
       "2095      NaN         NaN  \n",
       "2096      NaN         NaN  \n",
       "\n",
       "[2096 rows x 8 columns]"
      ]
     },
     "execution_count": 8,
     "metadata": {},
     "output_type": "execute_result"
    }
   ],
   "source": [
    "HBNFinalSummaries.loc[:,duplicate_labels]"
   ]
  },
  {
   "cell_type": "code",
   "execution_count": 9,
   "metadata": {},
   "outputs": [
    {
     "name": "stdout",
     "output_type": "stream",
     "text": [
      "number of features in 0 % -  10 % range : 13\n",
      "number of features in 10 % -  20 % range : 41\n",
      "number of features in 20 % -  30 % range : 40\n",
      "number of features in 30 % -  40 % range : 33\n",
      "number of features in 40 % -  50 % range : 15\n",
      "number of features in 50 % -  60 % range : 8\n",
      "number of features in 60 % -  70 % range : 16\n",
      "number of features in 70 % -  80 % range : 17\n",
      "number of features in 80 % -  90 % range : 27\n",
      "number of features in 90 % -  100 % range : 189\n"
     ]
    }
   ],
   "source": [
    "# nan percentages in HBNSummaries\n",
    "\n",
    "HBN_nanpercranges = nan_perc_ranges(HBNFinalSummaries)\n",
    "\n",
    "# printing NaN percentages ranges with associated features\n",
    "for perc,features in HBN_nanpercranges:\n",
    "    print('number of features in', perc,'% - ', perc+10,'% range :', len(features))"
   ]
  },
  {
   "cell_type": "code",
   "execution_count": 12,
   "metadata": {},
   "outputs": [],
   "source": [
    "#discarding features with >= 90.0 percentage of Nan\n",
    "HBN_reduced = HBNFinalSummaries.loc[:,find_frequent_features(HBNFinalSummaries, 90.0)] # HBNFinalSummaries reduced to columns with less than 90% Nan"
   ]
  },
  {
   "cell_type": "code",
   "execution_count": 14,
   "metadata": {
    "scrolled": false
   },
   "outputs": [
    {
     "name": "stdout",
     "output_type": "stream",
     "text": [
      "Sex\n"
     ]
    }
   ],
   "source": [
    "#are there binary variables? \n",
    "\n",
    "non_binary_variables = []\n",
    "\n",
    "for column in HBN_reduced.columns: \n",
    "    for row in HBN_reduced.index: \n",
    "        elem = HBN_reduced.loc[row, column]\n",
    "        if elem != 0.0 and elem != 1.0:\n",
    "            non_binary_variables.append(column)\n",
    "            break\n",
    "\n",
    "\n",
    "for column in HBN_reduced.columns: \n",
    "    if column not in non_binary_variables: \n",
    "        print(column)"
   ]
  },
  {
   "cell_type": "code",
   "execution_count": null,
   "metadata": {},
   "outputs": [],
   "source": [
    "HBN_rc_labels = finalSummariesLabels[finalSummariesLabels['label'].isin(HBN_reduced.columns)]\n",
    "\n",
    "'''\n",
    "for row in HBN_rc_labels.index: \n",
    "    print('label : ',HBN_rc_labels.loc[row,'label'],'\\t question : ',HBN_rc_labels.loc[row,'question'],'\\n')\n",
    "'''"
   ]
  },
  {
   "cell_type": "code",
   "execution_count": null,
   "metadata": {},
   "outputs": [],
   "source": [
    "with open('/Users/Proprietario/Desktop/HBN_rc_labels.txt', 'w') as wfile: \n",
    "    for row in HBN_rc_labels.index: \n",
    "        wfile.write('label : '+HBN_rc_labels.loc[row,'label']+'\\t question : '+HBN_rc_labels.loc[row,'question']+'\\n')"
   ]
  },
  {
   "cell_type": "code",
   "execution_count": 16,
   "metadata": {},
   "outputs": [
    {
     "data": {
      "text/plain": [
       "189           APQ_P_Total\n",
       "190             APQ_P_OPD\n",
       "249            APQ_SR_OPD\n",
       "250          APQ_SR_Total\n",
       "259     ARI_P_Total_Score\n",
       "              ...        \n",
       "6655              YSR_RBB\n",
       "6657               YSR_SC\n",
       "6663              YSR_Ext\n",
       "6665              YSR_Int\n",
       "6669            YSR_Total\n",
       "Name: label, Length: 171, dtype: object"
      ]
     },
     "execution_count": 16,
     "metadata": {},
     "output_type": "execute_result"
    }
   ],
   "source": [
    "HBN_rc_labels['label']"
   ]
  },
  {
   "cell_type": "code",
   "execution_count": null,
   "metadata": {},
   "outputs": [],
   "source": [
    "for column in HBN_reduced.columns: \n",
    "    if column not in HBN_rc_labels['label'].to_list():\n",
    "        print(column)"
   ]
  },
  {
   "cell_type": "code",
   "execution_count": null,
   "metadata": {},
   "outputs": [],
   "source": [
    "HBN_reduced.columns.to_list()"
   ]
  },
  {
   "cell_type": "markdown",
   "metadata": {},
   "source": [
    "## Working with HBN_reduced"
   ]
  },
  {
   "cell_type": "code",
   "execution_count": 17,
   "metadata": {},
   "outputs": [],
   "source": [
    "#isolate diagnoses labels \n",
    "HBNrc_df_diagnoses = HBN_reduced.loc[:,'NoDX':'DX_10_Time']\n",
    "HBNrc_labels_diagnoses = HBNrc_df_diagnoses.columns.to_list()"
   ]
  },
  {
   "cell_type": "code",
   "execution_count": 18,
   "metadata": {},
   "outputs": [],
   "source": [
    "#isolate basic labels\n",
    "HBNrc_df_basic = HBN_reduced.loc[:,\n",
    "['Anonymized.ID',\n",
    " 'EID',\n",
    " 'Sex',\n",
    " 'Age',\n",
    " 'Study.Site']]\n",
    "HBNrc_labels_basic = HBNrc_df_basic.columns.to_list()"
   ]
  },
  {
   "cell_type": "code",
   "execution_count": 19,
   "metadata": {},
   "outputs": [
    {
     "data": {
      "text/plain": [
       "['Anonymized.ID', 'EID', 'Sex', 'Age', 'Study.Site']"
      ]
     },
     "execution_count": 19,
     "metadata": {},
     "output_type": "execute_result"
    }
   ],
   "source": [
    "HBNrc_labels_basic"
   ]
  },
  {
   "cell_type": "code",
   "execution_count": 20,
   "metadata": {},
   "outputs": [],
   "source": [
    "#isolate bvr labels, 'bvr' = behavioural data from summaries\n",
    "HBNrc_df_bvr = HBN_reduced.loc[:, 'APQ_P_OPD':]\n",
    "HBNrc_labels_bvr = HBNrc_df_bvr.columns.to_list()"
   ]
  },
  {
   "cell_type": "code",
   "execution_count": 21,
   "metadata": {},
   "outputs": [],
   "source": [
    "#is this dataset block sparse?\n",
    "ranges_list = nan_perc_ranges(HBNrc_df_bvr)"
   ]
  },
  {
   "cell_type": "code",
   "execution_count": 22,
   "metadata": {},
   "outputs": [
    {
     "data": {
      "text/plain": [
       "[90, []]"
      ]
     },
     "execution_count": 22,
     "metadata": {},
     "output_type": "execute_result"
    }
   ],
   "source": [
    "ranges_list.pop()"
   ]
  },
  {
   "cell_type": "code",
   "execution_count": 23,
   "metadata": {},
   "outputs": [
    {
     "data": {
      "text/plain": [
       "[[0, ['EHQ_Total']],\n",
       " [10,\n",
       "  ['APQ_P_OPD',\n",
       "   'APQ_P_Total',\n",
       "   'APQ_SR_OPD',\n",
       "   'APQ_SR_Total',\n",
       "   'ARI_P_Total_Score',\n",
       "   'ARI_S_Total_Score',\n",
       "   'ASSQ_Total',\n",
       "   'Barratt_Total_Edu',\n",
       "   'Barratt_Total_Occ',\n",
       "   'Barratt_Total',\n",
       "   'CBCL_AD',\n",
       "   'CBCL_WD',\n",
       "   'CBCL_SC',\n",
       "   'CBCL_RBB',\n",
       "   'CBCL_AB',\n",
       "   'CBCL_Int',\n",
       "   'CBCL_Ext',\n",
       "   'CBCL_C',\n",
       "   'CBCL_Total',\n",
       "   'CELF_Total',\n",
       "   'SCQ_Total',\n",
       "   'SRS_AWR',\n",
       "   'SRS_COG',\n",
       "   'SRS_COM',\n",
       "   'SRS_DSMRRB',\n",
       "   'SRS_MOT',\n",
       "   'SRS_RRB',\n",
       "   'SRS_SCI',\n",
       "   'SRS_Total',\n",
       "   'WIAT_Num_Raw',\n",
       "   'WIAT_Spell_Raw']],\n",
       " [20,\n",
       "  ['CTOPP_EL_R',\n",
       "   'CTOPP_BW_R',\n",
       "   'CTOPP_NR_R',\n",
       "   'CTOPP_RD_R',\n",
       "   'CTOPP_RL_R',\n",
       "   'CTOPP_RSN_Comp',\n",
       "   'DTS_absorption',\n",
       "   'DTS_appraisal',\n",
       "   'DTS_regulation',\n",
       "   'DTS_tolerance',\n",
       "   'DTS_total',\n",
       "   'ICU_P_Callous',\n",
       "   'ICU_P_Uncaring',\n",
       "   'ICU_P_Unemotional',\n",
       "   'ICU_P_Total',\n",
       "   'NLES_P_TotalEvents',\n",
       "   'NLES_P_Upset_Total',\n",
       "   'PCIAT_Total',\n",
       "   'mdx',\n",
       "   'SCARED_P_GD',\n",
       "   'SCARED_P_PN',\n",
       "   'SCARED_P_SC',\n",
       "   'SCARED_P_SH',\n",
       "   'SCARED_P_SP',\n",
       "   'SCARED_P_Total',\n",
       "   'WIAT_Pseudo_Raw',\n",
       "   'WIAT_Word_Raw',\n",
       "   'WIAT_LCRV_Raw',\n",
       "   'WIAT_LCODC_Raw',\n",
       "   'WIAT_MP_Raw',\n",
       "   'WISC_BD_Raw',\n",
       "   'WISC_Similarities_Raw',\n",
       "   'WISC_MR_Raw',\n",
       "   'WISC_DS_Raw',\n",
       "   'WISC_Coding_Raw',\n",
       "   'WISC_Vocab_Raw',\n",
       "   'WISC_FW_Raw',\n",
       "   'WISC_VCI',\n",
       "   'WISC_FRI',\n",
       "   'WISC_FSIQ']],\n",
       " [30,\n",
       "  ['C3SR_AG',\n",
       "   'C3SR_FR',\n",
       "   'C3SR_HY',\n",
       "   'C3SR_IN',\n",
       "   'C3SR_NI',\n",
       "   'C3SR_PI',\n",
       "   'GFTA_SIW_Raw',\n",
       "   'MFQ_P_Total',\n",
       "   'fdx',\n",
       "   'SCARED_SR_GD',\n",
       "   'SCARED_SR_PN',\n",
       "   'SCARED_SR_SC',\n",
       "   'SCARED_SR_SH',\n",
       "   'SCARED_SR_SP',\n",
       "   'SCARED_SR_Total',\n",
       "   'SDS_SBD_Raw',\n",
       "   'SDS_DA_Raw',\n",
       "   'SDS_SWTD_Raw',\n",
       "   'SDS_DOES_Raw',\n",
       "   'SDS_SHY_Raw',\n",
       "   'SDS_Total_Raw',\n",
       "   'TOWRE_PDE_Raw',\n",
       "   'TOWRE_SWE_Raw',\n",
       "   'WIAT_RC_Raw',\n",
       "   'WISC_VP_Raw',\n",
       "   'WISC_PS_Raw',\n",
       "   'WISC_SS_Raw',\n",
       "   'WISC_VSI',\n",
       "   'WISC_WMI',\n",
       "   'WISC_PSI']],\n",
       " [40,\n",
       "  ['CIS_SR_Total',\n",
       "   'IAT_Total',\n",
       "   'PSI_DC',\n",
       "   'PSI_PCDI',\n",
       "   'PSI_PD',\n",
       "   'PSI_Total',\n",
       "   'Score_01',\n",
       "   'Score_02',\n",
       "   'Score_03',\n",
       "   'Score_04',\n",
       "   'Score_05',\n",
       "   'TOWRE_Total_Desc',\n",
       "   'WHODAS_P_Score',\n",
       "   'WHODAS_SR_Score']],\n",
       " [50, ['PAQ_C_01_Average', 'PAQ_C_Total', 'sib1dx']],\n",
       " [60,\n",
       "  ['AUDIT_Total_Score',\n",
       "   'ICU_SR_Callous',\n",
       "   'ICU_SR_Uncaring',\n",
       "   'ICU_SR_Unemotional',\n",
       "   'ICU_SR_Total',\n",
       "   'YSR_AB',\n",
       "   'YSR_AD',\n",
       "   'YSR_WD',\n",
       "   'YSR_RBB',\n",
       "   'YSR_SC',\n",
       "   'YSR_Ext',\n",
       "   'YSR_Int',\n",
       "   'YSR_Total']],\n",
       " [70,\n",
       "  ['NLES_SR_TotalEvents',\n",
       "   'NLES_SR_TotalOccurrence',\n",
       "   'NLES_SR_Upset_Total',\n",
       "   'mdxsev',\n",
       "   'mcodxm_1',\n",
       "   'mcodxm_2',\n",
       "   'mcodxm_3',\n",
       "   'sib2dx']],\n",
       " [80,\n",
       "  ['FTQA_Total',\n",
       "   'PAQ_A_01_Average',\n",
       "   'PAQ_A_Total',\n",
       "   'fdxsev',\n",
       "   'fcodxm_1',\n",
       "   'fcodxm_2',\n",
       "   'fcodxm_3',\n",
       "   'sib1dxse',\n",
       "   'sib1codxm_1',\n",
       "   'sib1codxm_2',\n",
       "   'RR_Let_Raw',\n",
       "   'RR_Obj_Raw',\n",
       "   'RR_Two_Raw',\n",
       "   'WASI_Matrix_Raw',\n",
       "   'WASI_Sim_Raw',\n",
       "   'WASI_Vocab_Raw',\n",
       "   'WASI_BD_Raw',\n",
       "   'WASI_VCI_Comp',\n",
       "   'WASI_PRI_Comp']]]"
      ]
     },
     "execution_count": 23,
     "metadata": {},
     "output_type": "execute_result"
    }
   ],
   "source": [
    "ranges_list"
   ]
  },
  {
   "cell_type": "code",
   "execution_count": null,
   "metadata": {},
   "outputs": [],
   "source": [
    "for row in HBN_reduced.index: \n",
    "    print(HBN_reduced.loc[row,['WISC_BD_Raw',\n",
    "     'WISC_Similarities_Raw',\n",
    "     'WISC_MR_Raw',\n",
    "     'WISC_DS_Raw',\n",
    "     'WISC_Coding_Raw',\n",
    "     'WISC_Vocab_Raw',\n",
    "     'WISC_FW_Raw',\n",
    "     'WISC_VP_Raw',\n",
    "     'WISC_PS_Raw',\n",
    "     'WISC_SS_Raw',\n",
    "     'WISC_VSI',\n",
    "     'WISC_VCI',\n",
    "     'WISC_FRI',\n",
    "     'WISC_WMI',\n",
    "     'WISC_PSI',\n",
    "     'WISC_FSIQ',]])"
   ]
  },
  {
   "cell_type": "code",
   "execution_count": null,
   "metadata": {},
   "outputs": [],
   "source": [
    "'''\n",
    "\n",
    "# from the interet (pdf from pearsonclinical.com) I found that normal values fro WASI test can be \n",
    "\n",
    "label : WASI_Matrix_Raw\t question : Matrix Reasoning Raw Score  \t avg : 21\n",
    "label : WASI_Sim_Raw\t question : Similarities Raw Score  \t avg : 32\n",
    "label : WASI_PRI_Comp\t question : PRI Composite Score \t avg : 100\n",
    "label : WASI_VCI_Comp\t question : VCI Composite Score \t avg : 100\n",
    "label : WASI_Vocab_Raw\t question : Vocab Raw Score \t avg : 38\n",
    "label : WASI_BD_Raw\t question : Block Design Raw Score \t avg : 44\n",
    "            \n",
    "'''      \n"
   ]
  },
  {
   "cell_type": "code",
   "execution_count": 15,
   "metadata": {},
   "outputs": [
    {
     "ename": "KeyError",
     "evalue": "'SWAN_HY'",
     "output_type": "error",
     "traceback": [
      "\u001b[0;31m---------------------------------------------------------------------------\u001b[0m",
      "\u001b[0;31mKeyError\u001b[0m                                  Traceback (most recent call last)",
      "\u001b[0;32m/anaconda3/envs/dslab_1/lib/python3.6/site-packages/pandas/core/indexes/base.py\u001b[0m in \u001b[0;36mget_loc\u001b[0;34m(self, key, method, tolerance)\u001b[0m\n\u001b[1;32m   2896\u001b[0m             \u001b[0;32mtry\u001b[0m\u001b[0;34m:\u001b[0m\u001b[0;34m\u001b[0m\u001b[0;34m\u001b[0m\u001b[0m\n\u001b[0;32m-> 2897\u001b[0;31m                 \u001b[0;32mreturn\u001b[0m \u001b[0mself\u001b[0m\u001b[0;34m.\u001b[0m\u001b[0m_engine\u001b[0m\u001b[0;34m.\u001b[0m\u001b[0mget_loc\u001b[0m\u001b[0;34m(\u001b[0m\u001b[0mkey\u001b[0m\u001b[0;34m)\u001b[0m\u001b[0;34m\u001b[0m\u001b[0;34m\u001b[0m\u001b[0m\n\u001b[0m\u001b[1;32m   2898\u001b[0m             \u001b[0;32mexcept\u001b[0m \u001b[0mKeyError\u001b[0m\u001b[0;34m:\u001b[0m\u001b[0;34m\u001b[0m\u001b[0;34m\u001b[0m\u001b[0m\n",
      "\u001b[0;32mpandas/_libs/index.pyx\u001b[0m in \u001b[0;36mpandas._libs.index.IndexEngine.get_loc\u001b[0;34m()\u001b[0m\n",
      "\u001b[0;32mpandas/_libs/index.pyx\u001b[0m in \u001b[0;36mpandas._libs.index.IndexEngine.get_loc\u001b[0;34m()\u001b[0m\n",
      "\u001b[0;32mpandas/_libs/hashtable_class_helper.pxi\u001b[0m in \u001b[0;36mpandas._libs.hashtable.PyObjectHashTable.get_item\u001b[0;34m()\u001b[0m\n",
      "\u001b[0;32mpandas/_libs/hashtable_class_helper.pxi\u001b[0m in \u001b[0;36mpandas._libs.hashtable.PyObjectHashTable.get_item\u001b[0;34m()\u001b[0m\n",
      "\u001b[0;31mKeyError\u001b[0m: 'SWAN_HY'",
      "\nDuring handling of the above exception, another exception occurred:\n",
      "\u001b[0;31mKeyError\u001b[0m                                  Traceback (most recent call last)",
      "\u001b[0;32m<ipython-input-15-53236c464bc5>\u001b[0m in \u001b[0;36m<module>\u001b[0;34m\u001b[0m\n\u001b[0;32m----> 1\u001b[0;31m \u001b[0mHBNFinalSummaries\u001b[0m\u001b[0;34m.\u001b[0m\u001b[0mloc\u001b[0m\u001b[0;34m[\u001b[0m\u001b[0;34m:\u001b[0m\u001b[0;34m,\u001b[0m\u001b[0;34m'SWAN_HY'\u001b[0m\u001b[0;34m]\u001b[0m\u001b[0;34m\u001b[0m\u001b[0;34m\u001b[0m\u001b[0m\n\u001b[0m",
      "\u001b[0;32m/anaconda3/envs/dslab_1/lib/python3.6/site-packages/pandas/core/indexing.py\u001b[0m in \u001b[0;36m__getitem__\u001b[0;34m(self, key)\u001b[0m\n\u001b[1;32m   1416\u001b[0m                 \u001b[0;32mexcept\u001b[0m \u001b[0;34m(\u001b[0m\u001b[0mKeyError\u001b[0m\u001b[0;34m,\u001b[0m \u001b[0mIndexError\u001b[0m\u001b[0;34m,\u001b[0m \u001b[0mAttributeError\u001b[0m\u001b[0;34m)\u001b[0m\u001b[0;34m:\u001b[0m\u001b[0;34m\u001b[0m\u001b[0;34m\u001b[0m\u001b[0m\n\u001b[1;32m   1417\u001b[0m                     \u001b[0;32mpass\u001b[0m\u001b[0;34m\u001b[0m\u001b[0;34m\u001b[0m\u001b[0m\n\u001b[0;32m-> 1418\u001b[0;31m             \u001b[0;32mreturn\u001b[0m \u001b[0mself\u001b[0m\u001b[0;34m.\u001b[0m\u001b[0m_getitem_tuple\u001b[0m\u001b[0;34m(\u001b[0m\u001b[0mkey\u001b[0m\u001b[0;34m)\u001b[0m\u001b[0;34m\u001b[0m\u001b[0;34m\u001b[0m\u001b[0m\n\u001b[0m\u001b[1;32m   1419\u001b[0m         \u001b[0;32melse\u001b[0m\u001b[0;34m:\u001b[0m\u001b[0;34m\u001b[0m\u001b[0;34m\u001b[0m\u001b[0m\n\u001b[1;32m   1420\u001b[0m             \u001b[0;31m# we by definition only have the 0th axis\u001b[0m\u001b[0;34m\u001b[0m\u001b[0;34m\u001b[0m\u001b[0;34m\u001b[0m\u001b[0m\n",
      "\u001b[0;32m/anaconda3/envs/dslab_1/lib/python3.6/site-packages/pandas/core/indexing.py\u001b[0m in \u001b[0;36m_getitem_tuple\u001b[0;34m(self, tup)\u001b[0m\n\u001b[1;32m    803\u001b[0m     \u001b[0;32mdef\u001b[0m \u001b[0m_getitem_tuple\u001b[0m\u001b[0;34m(\u001b[0m\u001b[0mself\u001b[0m\u001b[0;34m,\u001b[0m \u001b[0mtup\u001b[0m\u001b[0;34m)\u001b[0m\u001b[0;34m:\u001b[0m\u001b[0;34m\u001b[0m\u001b[0;34m\u001b[0m\u001b[0m\n\u001b[1;32m    804\u001b[0m         \u001b[0;32mtry\u001b[0m\u001b[0;34m:\u001b[0m\u001b[0;34m\u001b[0m\u001b[0;34m\u001b[0m\u001b[0m\n\u001b[0;32m--> 805\u001b[0;31m             \u001b[0;32mreturn\u001b[0m \u001b[0mself\u001b[0m\u001b[0;34m.\u001b[0m\u001b[0m_getitem_lowerdim\u001b[0m\u001b[0;34m(\u001b[0m\u001b[0mtup\u001b[0m\u001b[0;34m)\u001b[0m\u001b[0;34m\u001b[0m\u001b[0;34m\u001b[0m\u001b[0m\n\u001b[0m\u001b[1;32m    806\u001b[0m         \u001b[0;32mexcept\u001b[0m \u001b[0mIndexingError\u001b[0m\u001b[0;34m:\u001b[0m\u001b[0;34m\u001b[0m\u001b[0;34m\u001b[0m\u001b[0m\n\u001b[1;32m    807\u001b[0m             \u001b[0;32mpass\u001b[0m\u001b[0;34m\u001b[0m\u001b[0;34m\u001b[0m\u001b[0m\n",
      "\u001b[0;32m/anaconda3/envs/dslab_1/lib/python3.6/site-packages/pandas/core/indexing.py\u001b[0m in \u001b[0;36m_getitem_lowerdim\u001b[0;34m(self, tup)\u001b[0m\n\u001b[1;32m    927\u001b[0m         \u001b[0;32mfor\u001b[0m \u001b[0mi\u001b[0m\u001b[0;34m,\u001b[0m \u001b[0mkey\u001b[0m \u001b[0;32min\u001b[0m \u001b[0menumerate\u001b[0m\u001b[0;34m(\u001b[0m\u001b[0mtup\u001b[0m\u001b[0;34m)\u001b[0m\u001b[0;34m:\u001b[0m\u001b[0;34m\u001b[0m\u001b[0;34m\u001b[0m\u001b[0m\n\u001b[1;32m    928\u001b[0m             \u001b[0;32mif\u001b[0m \u001b[0mis_label_like\u001b[0m\u001b[0;34m(\u001b[0m\u001b[0mkey\u001b[0m\u001b[0;34m)\u001b[0m \u001b[0;32mor\u001b[0m \u001b[0misinstance\u001b[0m\u001b[0;34m(\u001b[0m\u001b[0mkey\u001b[0m\u001b[0;34m,\u001b[0m \u001b[0mtuple\u001b[0m\u001b[0;34m)\u001b[0m\u001b[0;34m:\u001b[0m\u001b[0;34m\u001b[0m\u001b[0;34m\u001b[0m\u001b[0m\n\u001b[0;32m--> 929\u001b[0;31m                 \u001b[0msection\u001b[0m \u001b[0;34m=\u001b[0m \u001b[0mself\u001b[0m\u001b[0;34m.\u001b[0m\u001b[0m_getitem_axis\u001b[0m\u001b[0;34m(\u001b[0m\u001b[0mkey\u001b[0m\u001b[0;34m,\u001b[0m \u001b[0maxis\u001b[0m\u001b[0;34m=\u001b[0m\u001b[0mi\u001b[0m\u001b[0;34m)\u001b[0m\u001b[0;34m\u001b[0m\u001b[0;34m\u001b[0m\u001b[0m\n\u001b[0m\u001b[1;32m    930\u001b[0m \u001b[0;34m\u001b[0m\u001b[0m\n\u001b[1;32m    931\u001b[0m                 \u001b[0;31m# we have yielded a scalar ?\u001b[0m\u001b[0;34m\u001b[0m\u001b[0;34m\u001b[0m\u001b[0;34m\u001b[0m\u001b[0m\n",
      "\u001b[0;32m/anaconda3/envs/dslab_1/lib/python3.6/site-packages/pandas/core/indexing.py\u001b[0m in \u001b[0;36m_getitem_axis\u001b[0;34m(self, key, axis)\u001b[0m\n\u001b[1;32m   1848\u001b[0m         \u001b[0;31m# fall thru to straight lookup\u001b[0m\u001b[0;34m\u001b[0m\u001b[0;34m\u001b[0m\u001b[0;34m\u001b[0m\u001b[0m\n\u001b[1;32m   1849\u001b[0m         \u001b[0mself\u001b[0m\u001b[0;34m.\u001b[0m\u001b[0m_validate_key\u001b[0m\u001b[0;34m(\u001b[0m\u001b[0mkey\u001b[0m\u001b[0;34m,\u001b[0m \u001b[0maxis\u001b[0m\u001b[0;34m)\u001b[0m\u001b[0;34m\u001b[0m\u001b[0;34m\u001b[0m\u001b[0m\n\u001b[0;32m-> 1850\u001b[0;31m         \u001b[0;32mreturn\u001b[0m \u001b[0mself\u001b[0m\u001b[0;34m.\u001b[0m\u001b[0m_get_label\u001b[0m\u001b[0;34m(\u001b[0m\u001b[0mkey\u001b[0m\u001b[0;34m,\u001b[0m \u001b[0maxis\u001b[0m\u001b[0;34m=\u001b[0m\u001b[0maxis\u001b[0m\u001b[0;34m)\u001b[0m\u001b[0;34m\u001b[0m\u001b[0;34m\u001b[0m\u001b[0m\n\u001b[0m\u001b[1;32m   1851\u001b[0m \u001b[0;34m\u001b[0m\u001b[0m\n\u001b[1;32m   1852\u001b[0m \u001b[0;34m\u001b[0m\u001b[0m\n",
      "\u001b[0;32m/anaconda3/envs/dslab_1/lib/python3.6/site-packages/pandas/core/indexing.py\u001b[0m in \u001b[0;36m_get_label\u001b[0;34m(self, label, axis)\u001b[0m\n\u001b[1;32m    158\u001b[0m             \u001b[0;32mraise\u001b[0m \u001b[0mIndexingError\u001b[0m\u001b[0;34m(\u001b[0m\u001b[0;34m\"no slices here, handle elsewhere\"\u001b[0m\u001b[0;34m)\u001b[0m\u001b[0;34m\u001b[0m\u001b[0;34m\u001b[0m\u001b[0m\n\u001b[1;32m    159\u001b[0m \u001b[0;34m\u001b[0m\u001b[0m\n\u001b[0;32m--> 160\u001b[0;31m         \u001b[0;32mreturn\u001b[0m \u001b[0mself\u001b[0m\u001b[0;34m.\u001b[0m\u001b[0mobj\u001b[0m\u001b[0;34m.\u001b[0m\u001b[0m_xs\u001b[0m\u001b[0;34m(\u001b[0m\u001b[0mlabel\u001b[0m\u001b[0;34m,\u001b[0m \u001b[0maxis\u001b[0m\u001b[0;34m=\u001b[0m\u001b[0maxis\u001b[0m\u001b[0;34m)\u001b[0m\u001b[0;34m\u001b[0m\u001b[0;34m\u001b[0m\u001b[0m\n\u001b[0m\u001b[1;32m    161\u001b[0m \u001b[0;34m\u001b[0m\u001b[0m\n\u001b[1;32m    162\u001b[0m     \u001b[0;32mdef\u001b[0m \u001b[0m_get_loc\u001b[0m\u001b[0;34m(\u001b[0m\u001b[0mself\u001b[0m\u001b[0;34m,\u001b[0m \u001b[0mkey\u001b[0m\u001b[0;34m:\u001b[0m \u001b[0mint\u001b[0m\u001b[0;34m,\u001b[0m \u001b[0maxis\u001b[0m\u001b[0;34m:\u001b[0m \u001b[0mint\u001b[0m\u001b[0;34m)\u001b[0m\u001b[0;34m:\u001b[0m\u001b[0;34m\u001b[0m\u001b[0;34m\u001b[0m\u001b[0m\n",
      "\u001b[0;32m/anaconda3/envs/dslab_1/lib/python3.6/site-packages/pandas/core/generic.py\u001b[0m in \u001b[0;36mxs\u001b[0;34m(self, key, axis, level, drop_level)\u001b[0m\n\u001b[1;32m   3727\u001b[0m \u001b[0;34m\u001b[0m\u001b[0m\n\u001b[1;32m   3728\u001b[0m         \u001b[0;32mif\u001b[0m \u001b[0maxis\u001b[0m \u001b[0;34m==\u001b[0m \u001b[0;36m1\u001b[0m\u001b[0;34m:\u001b[0m\u001b[0;34m\u001b[0m\u001b[0;34m\u001b[0m\u001b[0m\n\u001b[0;32m-> 3729\u001b[0;31m             \u001b[0;32mreturn\u001b[0m \u001b[0mself\u001b[0m\u001b[0;34m[\u001b[0m\u001b[0mkey\u001b[0m\u001b[0;34m]\u001b[0m\u001b[0;34m\u001b[0m\u001b[0;34m\u001b[0m\u001b[0m\n\u001b[0m\u001b[1;32m   3730\u001b[0m \u001b[0;34m\u001b[0m\u001b[0m\n\u001b[1;32m   3731\u001b[0m         \u001b[0mself\u001b[0m\u001b[0;34m.\u001b[0m\u001b[0m_consolidate_inplace\u001b[0m\u001b[0;34m(\u001b[0m\u001b[0;34m)\u001b[0m\u001b[0;34m\u001b[0m\u001b[0;34m\u001b[0m\u001b[0m\n",
      "\u001b[0;32m/anaconda3/envs/dslab_1/lib/python3.6/site-packages/pandas/core/frame.py\u001b[0m in \u001b[0;36m__getitem__\u001b[0;34m(self, key)\u001b[0m\n\u001b[1;32m   2978\u001b[0m             \u001b[0;32mif\u001b[0m \u001b[0mself\u001b[0m\u001b[0;34m.\u001b[0m\u001b[0mcolumns\u001b[0m\u001b[0;34m.\u001b[0m\u001b[0mnlevels\u001b[0m \u001b[0;34m>\u001b[0m \u001b[0;36m1\u001b[0m\u001b[0;34m:\u001b[0m\u001b[0;34m\u001b[0m\u001b[0;34m\u001b[0m\u001b[0m\n\u001b[1;32m   2979\u001b[0m                 \u001b[0;32mreturn\u001b[0m \u001b[0mself\u001b[0m\u001b[0;34m.\u001b[0m\u001b[0m_getitem_multilevel\u001b[0m\u001b[0;34m(\u001b[0m\u001b[0mkey\u001b[0m\u001b[0;34m)\u001b[0m\u001b[0;34m\u001b[0m\u001b[0;34m\u001b[0m\u001b[0m\n\u001b[0;32m-> 2980\u001b[0;31m             \u001b[0mindexer\u001b[0m \u001b[0;34m=\u001b[0m \u001b[0mself\u001b[0m\u001b[0;34m.\u001b[0m\u001b[0mcolumns\u001b[0m\u001b[0;34m.\u001b[0m\u001b[0mget_loc\u001b[0m\u001b[0;34m(\u001b[0m\u001b[0mkey\u001b[0m\u001b[0;34m)\u001b[0m\u001b[0;34m\u001b[0m\u001b[0;34m\u001b[0m\u001b[0m\n\u001b[0m\u001b[1;32m   2981\u001b[0m             \u001b[0;32mif\u001b[0m \u001b[0mis_integer\u001b[0m\u001b[0;34m(\u001b[0m\u001b[0mindexer\u001b[0m\u001b[0;34m)\u001b[0m\u001b[0;34m:\u001b[0m\u001b[0;34m\u001b[0m\u001b[0;34m\u001b[0m\u001b[0m\n\u001b[1;32m   2982\u001b[0m                 \u001b[0mindexer\u001b[0m \u001b[0;34m=\u001b[0m \u001b[0;34m[\u001b[0m\u001b[0mindexer\u001b[0m\u001b[0;34m]\u001b[0m\u001b[0;34m\u001b[0m\u001b[0;34m\u001b[0m\u001b[0m\n",
      "\u001b[0;32m/anaconda3/envs/dslab_1/lib/python3.6/site-packages/pandas/core/indexes/base.py\u001b[0m in \u001b[0;36mget_loc\u001b[0;34m(self, key, method, tolerance)\u001b[0m\n\u001b[1;32m   2897\u001b[0m                 \u001b[0;32mreturn\u001b[0m \u001b[0mself\u001b[0m\u001b[0;34m.\u001b[0m\u001b[0m_engine\u001b[0m\u001b[0;34m.\u001b[0m\u001b[0mget_loc\u001b[0m\u001b[0;34m(\u001b[0m\u001b[0mkey\u001b[0m\u001b[0;34m)\u001b[0m\u001b[0;34m\u001b[0m\u001b[0;34m\u001b[0m\u001b[0m\n\u001b[1;32m   2898\u001b[0m             \u001b[0;32mexcept\u001b[0m \u001b[0mKeyError\u001b[0m\u001b[0;34m:\u001b[0m\u001b[0;34m\u001b[0m\u001b[0;34m\u001b[0m\u001b[0m\n\u001b[0;32m-> 2899\u001b[0;31m                 \u001b[0;32mreturn\u001b[0m \u001b[0mself\u001b[0m\u001b[0;34m.\u001b[0m\u001b[0m_engine\u001b[0m\u001b[0;34m.\u001b[0m\u001b[0mget_loc\u001b[0m\u001b[0;34m(\u001b[0m\u001b[0mself\u001b[0m\u001b[0;34m.\u001b[0m\u001b[0m_maybe_cast_indexer\u001b[0m\u001b[0;34m(\u001b[0m\u001b[0mkey\u001b[0m\u001b[0;34m)\u001b[0m\u001b[0;34m)\u001b[0m\u001b[0;34m\u001b[0m\u001b[0;34m\u001b[0m\u001b[0m\n\u001b[0m\u001b[1;32m   2900\u001b[0m         \u001b[0mindexer\u001b[0m \u001b[0;34m=\u001b[0m \u001b[0mself\u001b[0m\u001b[0;34m.\u001b[0m\u001b[0mget_indexer\u001b[0m\u001b[0;34m(\u001b[0m\u001b[0;34m[\u001b[0m\u001b[0mkey\u001b[0m\u001b[0;34m]\u001b[0m\u001b[0;34m,\u001b[0m \u001b[0mmethod\u001b[0m\u001b[0;34m=\u001b[0m\u001b[0mmethod\u001b[0m\u001b[0;34m,\u001b[0m \u001b[0mtolerance\u001b[0m\u001b[0;34m=\u001b[0m\u001b[0mtolerance\u001b[0m\u001b[0;34m)\u001b[0m\u001b[0;34m\u001b[0m\u001b[0;34m\u001b[0m\u001b[0m\n\u001b[1;32m   2901\u001b[0m         \u001b[0;32mif\u001b[0m \u001b[0mindexer\u001b[0m\u001b[0;34m.\u001b[0m\u001b[0mndim\u001b[0m \u001b[0;34m>\u001b[0m \u001b[0;36m1\u001b[0m \u001b[0;32mor\u001b[0m \u001b[0mindexer\u001b[0m\u001b[0;34m.\u001b[0m\u001b[0msize\u001b[0m \u001b[0;34m>\u001b[0m \u001b[0;36m1\u001b[0m\u001b[0;34m:\u001b[0m\u001b[0;34m\u001b[0m\u001b[0;34m\u001b[0m\u001b[0m\n",
      "\u001b[0;32mpandas/_libs/index.pyx\u001b[0m in \u001b[0;36mpandas._libs.index.IndexEngine.get_loc\u001b[0;34m()\u001b[0m\n",
      "\u001b[0;32mpandas/_libs/index.pyx\u001b[0m in \u001b[0;36mpandas._libs.index.IndexEngine.get_loc\u001b[0;34m()\u001b[0m\n",
      "\u001b[0;32mpandas/_libs/hashtable_class_helper.pxi\u001b[0m in \u001b[0;36mpandas._libs.hashtable.PyObjectHashTable.get_item\u001b[0;34m()\u001b[0m\n",
      "\u001b[0;32mpandas/_libs/hashtable_class_helper.pxi\u001b[0m in \u001b[0;36mpandas._libs.hashtable.PyObjectHashTable.get_item\u001b[0;34m()\u001b[0m\n",
      "\u001b[0;31mKeyError\u001b[0m: 'SWAN_HY'"
     ]
    }
   ],
   "source": [
    "HBNFinalSummaries.loc[:,'SWAN_HY']"
   ]
  },
  {
   "cell_type": "code",
   "execution_count": null,
   "metadata": {},
   "outputs": [],
   "source": []
  }
 ],
 "metadata": {
  "kernelspec": {
   "display_name": "Python 3",
   "language": "python",
   "name": "python3"
  },
  "language_info": {
   "codemirror_mode": {
    "name": "ipython",
    "version": 3
   },
   "file_extension": ".py",
   "mimetype": "text/x-python",
   "name": "python",
   "nbconvert_exporter": "python",
   "pygments_lexer": "ipython3",
   "version": "3.6.9"
  }
 },
 "nbformat": 4,
 "nbformat_minor": 2
}
