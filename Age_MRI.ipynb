{
 "cells": [
  {
   "cell_type": "markdown",
   "metadata": {},
   "source": [
    "# Age prediction from MRI features"
   ]
  },
  {
   "cell_type": "code",
   "execution_count": 2,
   "metadata": {},
   "outputs": [
    {
     "name": "stderr",
     "output_type": "stream",
     "text": [
      "/home/camillca/anaconda3/envs/dslab/lib/python3.6/site-packages/tensorflow/python/framework/dtypes.py:517: FutureWarning: Passing (type, 1) or '1type' as a synonym of type is deprecated; in a future version of numpy, it will be understood as (type, (1,)) / '(1,)type'.\n",
      "  _np_qint8 = np.dtype([(\"qint8\", np.int8, 1)])\n",
      "/home/camillca/anaconda3/envs/dslab/lib/python3.6/site-packages/tensorflow/python/framework/dtypes.py:518: FutureWarning: Passing (type, 1) or '1type' as a synonym of type is deprecated; in a future version of numpy, it will be understood as (type, (1,)) / '(1,)type'.\n",
      "  _np_quint8 = np.dtype([(\"quint8\", np.uint8, 1)])\n",
      "/home/camillca/anaconda3/envs/dslab/lib/python3.6/site-packages/tensorflow/python/framework/dtypes.py:519: FutureWarning: Passing (type, 1) or '1type' as a synonym of type is deprecated; in a future version of numpy, it will be understood as (type, (1,)) / '(1,)type'.\n",
      "  _np_qint16 = np.dtype([(\"qint16\", np.int16, 1)])\n",
      "/home/camillca/anaconda3/envs/dslab/lib/python3.6/site-packages/tensorflow/python/framework/dtypes.py:520: FutureWarning: Passing (type, 1) or '1type' as a synonym of type is deprecated; in a future version of numpy, it will be understood as (type, (1,)) / '(1,)type'.\n",
      "  _np_quint16 = np.dtype([(\"quint16\", np.uint16, 1)])\n",
      "/home/camillca/anaconda3/envs/dslab/lib/python3.6/site-packages/tensorflow/python/framework/dtypes.py:521: FutureWarning: Passing (type, 1) or '1type' as a synonym of type is deprecated; in a future version of numpy, it will be understood as (type, (1,)) / '(1,)type'.\n",
      "  _np_qint32 = np.dtype([(\"qint32\", np.int32, 1)])\n",
      "/home/camillca/anaconda3/envs/dslab/lib/python3.6/site-packages/tensorflow/python/framework/dtypes.py:526: FutureWarning: Passing (type, 1) or '1type' as a synonym of type is deprecated; in a future version of numpy, it will be understood as (type, (1,)) / '(1,)type'.\n",
      "  np_resource = np.dtype([(\"resource\", np.ubyte, 1)])\n"
     ]
    }
   ],
   "source": [
    "# libraries\n",
    "import matplotlib.pyplot as plt\n",
    "import numpy as np\n",
    "import pandas as pd\n",
    "from utils import visualize, create_dataset_age, create_dataset_mri, cv\n",
    "from sklearn.svm import SVR\n",
    "from sklearn.model_selection import cross_val_score, train_test_split\n",
    "from sklearn.preprocessing import StandardScaler\n",
    "import statsmodels.api as sm\n",
    "from sklearn.linear_model import LinearRegression\n",
    "from sklearn.metrics import mean_squared_error\n",
    "from sklearn.model_selection import KFold\n",
    "import seaborn as sns\n",
    "from sklearn.ensemble import ExtraTreesRegressor, RandomForestRegressor\n",
    "from sklearn.feature_selection import SelectFromModel, SelectKBest, f_regression, mutual_info_regression\n",
    "from sklearn.pipeline import Pipeline\n",
    "from sklearn.model_selection import GridSearchCV\n",
    "from sklearn.metrics import mean_squared_error, make_scorer, r2_score, mean_absolute_error\n",
    "import xgboost as xgb\n",
    "from sklearn.impute import SimpleImputer\n",
    "from sklearn.linear_model import Lasso\n",
    "from tensorflow.python.keras.activations import tanh\n",
    "from sklearn.preprocessing import OneHotEncoder\n",
    "\n",
    "#TF\n",
    "import tensorflow as tf\n",
    "from tensorflow.python import keras"
   ]
  },
  {
   "cell_type": "code",
   "execution_count": 3,
   "metadata": {},
   "outputs": [],
   "source": [
    "import warnings\n",
    "warnings.filterwarnings('ignore')"
   ]
  },
  {
   "cell_type": "markdown",
   "metadata": {},
   "source": [
    "## Create dataset"
   ]
  },
  {
   "cell_type": "code",
   "execution_count": 4,
   "metadata": {},
   "outputs": [],
   "source": [
    "target = 'Age'\n",
    "# use all MRI high-level features, no DTI\n",
    "data = create_dataset_mri(SCORE = target)\n",
    "# remove the diagnosis colums\n",
    "data.drop(columns=['DX_01_Cat', 'DX_01', 'DX_01_Sub'], inplace=True)\n",
    "test_indices = pd.read_csv('data/test_IDS.csv')\n",
    "# Separate test and train set\n",
    "data_test = pd.merge(data, test_indices, on='ID', how='inner')\n",
    "data_train = data.loc[~data['ID'].isin(list((set(test_indices['ID']))))]\n",
    "# labels and features\n",
    "y_train = data_train[target]\n",
    "X_train = data_train.drop([target, 'ID'], axis=1)\n",
    "y_test = data_test[target]\n",
    "X_test = data_test.drop([target, 'ID'], axis=1)"
   ]
  },
  {
   "cell_type": "code",
   "execution_count": 9,
   "metadata": {},
   "outputs": [],
   "source": [
    "column_names = X_train.columns"
   ]
  },
  {
   "cell_type": "markdown",
   "metadata": {},
   "source": [
    "## Fix a baseline (mean age)"
   ]
  },
  {
   "cell_type": "code",
   "execution_count": 10,
   "metadata": {
    "scrolled": true
   },
   "outputs": [
    {
     "name": "stdout",
     "output_type": "stream",
     "text": [
      "mean_age = 10.696383804093566\n",
      "baseline_MSE = 13.820677264194652\n"
     ]
    }
   ],
   "source": [
    "# Baseline\n",
    "mean = np.mean(y_train)\n",
    "print('mean_age = {}'.format(mean))\n",
    "baseline_MSE = sum((mean - y_train)**2)/len(y_train)\n",
    "print('baseline_MSE = {}'.format(baseline_MSE))"
   ]
  },
  {
   "cell_type": "markdown",
   "metadata": {},
   "source": [
    "# Explore different regressors and feature selection procedures"
   ]
  },
  {
   "cell_type": "markdown",
   "metadata": {},
   "source": [
    "## SVR with no feature selection"
   ]
  },
  {
   "cell_type": "code",
   "execution_count": 11,
   "metadata": {},
   "outputs": [
    {
     "name": "stdout",
     "output_type": "stream",
     "text": [
      "Split: 1\r",
      "Fitting 5 folds for each of 12 candidates, totalling 60 fits\n"
     ]
    },
    {
     "name": "stderr",
     "output_type": "stream",
     "text": [
      "[Parallel(n_jobs=-1)]: Using backend LokyBackend with 12 concurrent workers.\n",
      "[Parallel(n_jobs=-1)]: Done  26 tasks      | elapsed:    3.6s\n",
      "[Parallel(n_jobs=-1)]: Done  60 out of  60 | elapsed:    5.8s finished\n"
     ]
    },
    {
     "name": "stdout",
     "output_type": "stream",
     "text": [
      "Split: 2\r",
      "Fitting 5 folds for each of 12 candidates, totalling 60 fits\n"
     ]
    },
    {
     "name": "stderr",
     "output_type": "stream",
     "text": [
      "[Parallel(n_jobs=-1)]: Using backend LokyBackend with 12 concurrent workers.\n",
      "[Parallel(n_jobs=-1)]: Done  26 tasks      | elapsed:    2.7s\n",
      "[Parallel(n_jobs=-1)]: Done  60 out of  60 | elapsed:    4.6s finished\n"
     ]
    },
    {
     "name": "stdout",
     "output_type": "stream",
     "text": [
      "Split: 3\r",
      "Fitting 5 folds for each of 12 candidates, totalling 60 fits\n"
     ]
    },
    {
     "name": "stderr",
     "output_type": "stream",
     "text": [
      "[Parallel(n_jobs=-1)]: Using backend LokyBackend with 12 concurrent workers.\n",
      "[Parallel(n_jobs=-1)]: Done  26 tasks      | elapsed:    2.9s\n",
      "[Parallel(n_jobs=-1)]: Done  60 out of  60 | elapsed:    4.7s finished\n"
     ]
    },
    {
     "name": "stdout",
     "output_type": "stream",
     "text": [
      "Split: 4\r",
      "Fitting 5 folds for each of 12 candidates, totalling 60 fits\n"
     ]
    },
    {
     "name": "stderr",
     "output_type": "stream",
     "text": [
      "[Parallel(n_jobs=-1)]: Using backend LokyBackend with 12 concurrent workers.\n",
      "[Parallel(n_jobs=-1)]: Done  26 tasks      | elapsed:    2.8s\n",
      "[Parallel(n_jobs=-1)]: Done  60 out of  60 | elapsed:    4.8s finished\n"
     ]
    },
    {
     "name": "stdout",
     "output_type": "stream",
     "text": [
      "Split: 5\r",
      "Fitting 5 folds for each of 12 candidates, totalling 60 fits\n"
     ]
    },
    {
     "name": "stderr",
     "output_type": "stream",
     "text": [
      "[Parallel(n_jobs=-1)]: Using backend LokyBackend with 12 concurrent workers.\n",
      "[Parallel(n_jobs=-1)]: Done  26 tasks      | elapsed:    2.7s\n",
      "[Parallel(n_jobs=-1)]: Done  60 out of  60 | elapsed:    4.7s finished\n"
     ]
    },
    {
     "name": "stdout",
     "output_type": "stream",
     "text": [
      "\n",
      "Average expected test MSE: 4.65245163796368\n",
      "\n",
      "Average expected test r2: 0.6599854189578117\n",
      "\n",
      "Average expected test mae: 1.6457929337893766\n",
      "Fitting 5 folds for each of 12 candidates, totalling 60 fits\n"
     ]
    },
    {
     "name": "stderr",
     "output_type": "stream",
     "text": [
      "[Parallel(n_jobs=-1)]: Using backend LokyBackend with 12 concurrent workers.\n",
      "[Parallel(n_jobs=-1)]: Done  26 tasks      | elapsed:    4.9s\n",
      "[Parallel(n_jobs=-1)]: Done  60 out of  60 | elapsed:    8.2s finished\n"
     ]
    },
    {
     "name": "stdout",
     "output_type": "stream",
     "text": [
      "Selected hyperparameters: {'regression__C': 2, 'regression__epsilon': 0.1, 'regression__kernel': 'rbf'}\n",
      "True test error: 5.286587630228757\n",
      "Test r2: 0.5886346387080388\n",
      "Test mae: 1.7323091522236875\n"
     ]
    }
   ],
   "source": [
    "pipe = Pipeline([ ('scaling', StandardScaler()),\n",
    "  ('regression', SVR())])\n",
    "# Prepare sets of parameters for gridsearch\n",
    "parameters = {'regression__C' : [0.5, 1, 2],\n",
    "            'regression__epsilon' : [0.05, 0.1, 0.5, 0.7],\n",
    "            'regression__kernel' : ['rbf']}\n",
    "model = GridSearchCV(estimator=pipe, param_grid=parameters, scoring = 'neg_mean_squared_error', cv=5,\n",
    "                   iid=False, n_jobs=-1, verbose = 1)\n",
    "\n",
    "# Outer CV\n",
    "(estimated_test_error, r2, mae) = cv(model, data=X_train, labels=y_train, n_splits=5, want_r2=True, want_mae = True)\n",
    "print('\\nAverage expected test MSE: {}'.format(np.mean(estimated_test_error)))\n",
    "print('\\nAverage expected test r2: {}'.format(np.mean(r2)))\n",
    "print('\\nAverage expected test mae: {}'.format(np.mean(mae)))\n",
    "# effective test MSE\n",
    "model_fitted = model.fit(X_train, y_train)\n",
    "# see what has been chosen     \n",
    "print('Selected hyperparameters: {}'.format(model_fitted.best_params_) )\n",
    "y_pred = model_fitted.best_estimator_.predict(X_test)\n",
    "print('True test error: {}'.format(mean_squared_error(y_pred, y_test)))\n",
    "print('Test r2: {}'.format(r2_score(y_true= y_test, y_pred = y_pred)))\n",
    "print('Test mae: {}'.format(mean_absolute_error(y_true= y_test, y_pred = y_pred)))"
   ]
  },
  {
   "cell_type": "markdown",
   "metadata": {},
   "source": [
    "## SelectKBest + SVR\n"
   ]
  },
  {
   "cell_type": "code",
   "execution_count": 12,
   "metadata": {},
   "outputs": [
    {
     "name": "stdout",
     "output_type": "stream",
     "text": [
      "Split: 1\r",
      "Fitting 5 folds for each of 80 candidates, totalling 400 fits\n"
     ]
    },
    {
     "name": "stderr",
     "output_type": "stream",
     "text": [
      "[Parallel(n_jobs=-1)]: Using backend LokyBackend with 12 concurrent workers.\n",
      "[Parallel(n_jobs=-1)]: Done  32 tasks      | elapsed:    0.5s\n",
      "[Parallel(n_jobs=-1)]: Done 400 out of 400 | elapsed:    3.3s finished\n",
      "[Parallel(n_jobs=-1)]: Using backend LokyBackend with 12 concurrent workers.\n"
     ]
    },
    {
     "name": "stdout",
     "output_type": "stream",
     "text": [
      "Split: 2\r",
      "Fitting 5 folds for each of 80 candidates, totalling 400 fits\n"
     ]
    },
    {
     "name": "stderr",
     "output_type": "stream",
     "text": [
      "[Parallel(n_jobs=-1)]: Done  32 tasks      | elapsed:    0.5s\n",
      "[Parallel(n_jobs=-1)]: Done 400 out of 400 | elapsed:    4.0s finished\n",
      "[Parallel(n_jobs=-1)]: Using backend LokyBackend with 12 concurrent workers.\n"
     ]
    },
    {
     "name": "stdout",
     "output_type": "stream",
     "text": [
      "Split: 3\r",
      "Fitting 5 folds for each of 80 candidates, totalling 400 fits\n"
     ]
    },
    {
     "name": "stderr",
     "output_type": "stream",
     "text": [
      "[Parallel(n_jobs=-1)]: Done  32 tasks      | elapsed:    0.5s\n",
      "[Parallel(n_jobs=-1)]: Done 400 out of 400 | elapsed:    3.7s finished\n",
      "[Parallel(n_jobs=-1)]: Using backend LokyBackend with 12 concurrent workers.\n"
     ]
    },
    {
     "name": "stdout",
     "output_type": "stream",
     "text": [
      "Split: 4\r",
      "Fitting 5 folds for each of 80 candidates, totalling 400 fits\n"
     ]
    },
    {
     "name": "stderr",
     "output_type": "stream",
     "text": [
      "[Parallel(n_jobs=-1)]: Done  32 tasks      | elapsed:    0.5s\n",
      "[Parallel(n_jobs=-1)]: Done 400 out of 400 | elapsed:    3.7s finished\n",
      "[Parallel(n_jobs=-1)]: Using backend LokyBackend with 12 concurrent workers.\n"
     ]
    },
    {
     "name": "stdout",
     "output_type": "stream",
     "text": [
      "Split: 5\r",
      "Fitting 5 folds for each of 80 candidates, totalling 400 fits\n"
     ]
    },
    {
     "name": "stderr",
     "output_type": "stream",
     "text": [
      "[Parallel(n_jobs=-1)]: Done  32 tasks      | elapsed:    0.5s\n",
      "[Parallel(n_jobs=-1)]: Done 400 out of 400 | elapsed:    3.7s finished\n",
      "[Parallel(n_jobs=-1)]: Using backend LokyBackend with 12 concurrent workers.\n"
     ]
    },
    {
     "name": "stdout",
     "output_type": "stream",
     "text": [
      "\n",
      "Average expected test MSE: 5.215160306268113\n",
      "\n",
      "Average expected test r2: 0.6167654472272817\n",
      "\n",
      "Average expected test mae: 1.7747667878049218\n",
      "Fitting 5 folds for each of 80 candidates, totalling 400 fits\n"
     ]
    },
    {
     "name": "stderr",
     "output_type": "stream",
     "text": [
      "[Parallel(n_jobs=-1)]: Done  28 tasks      | elapsed:    0.5s\n",
      "[Parallel(n_jobs=-1)]: Done 328 tasks      | elapsed:    4.8s\n"
     ]
    },
    {
     "name": "stdout",
     "output_type": "stream",
     "text": [
      "Selected hyperparameters: {'feat_select__k': 95, 'feat_select__score_func': <function f_regression at 0x7fe47bc527b8>, 'regression__C': 1, 'regression__epsilon': 0.1, 'regression__kernel': 'rbf'}\n",
      "True test error: 5.7772353489898345\n",
      "Test r2: 0.5504558568145675\n",
      "Test mae: 1.8515552681479686\n"
     ]
    },
    {
     "name": "stderr",
     "output_type": "stream",
     "text": [
      "[Parallel(n_jobs=-1)]: Done 400 out of 400 | elapsed:    6.3s finished\n"
     ]
    }
   ],
   "source": [
    "pipe = Pipeline([ ('scaling', StandardScaler()),\n",
    "  ('feat_select', SelectKBest()),\n",
    "  ('regression', SVR())\n",
    "])\n",
    "# Prepare sets of parameters for gridsearch\n",
    "parameters = {'regression__C' : [0.2, 0.5, 1, 0.5],\n",
    "            'regression__epsilon' : [0.01, 0.1, 0.5, 0.7],\n",
    "            'regression__kernel' : ['rbf'],\n",
    "            'feat_select__score_func' : [f_regression],\n",
    "            'feat_select__k' : [10, 20, 40, 80, 95]}\n",
    "model = GridSearchCV(estimator=pipe, param_grid=parameters, scoring ='neg_mean_squared_error', cv=5,\n",
    "                   iid=False, n_jobs=-1, verbose = 1)\n",
    "\n",
    "# outer CV (model evaluation)\n",
    "(estimated_test_error, r2, mae) = cv(model, data=X_train, labels=y_train, n_splits=5, want_r2 = True, want_mae=True)\n",
    "print('\\nAverage expected test MSE: {}'.format(np.mean(estimated_test_error)))\n",
    "print('\\nAverage expected test r2: {}'.format(np.mean(r2)))\n",
    "print('\\nAverage expected test mae: {}'.format(np.mean(mae)))\n",
    "# effective test MSE\n",
    "model_fitted = model.fit(X_train, y_train)\n",
    "# see what has been chosen   \n",
    "print('Selected hyperparameters: {}'.format(model_fitted.best_params_) )\n",
    "y_pred = model_fitted.best_estimator_.predict(X_test)\n",
    "print('True test error: {}'.format(mean_squared_error(y_pred, y_test)))\n",
    "print('Test r2: {}'.format(r2_score(y_true= y_test, y_pred = y_pred)))\n",
    "print('Test mae: {}'.format(mean_absolute_error(y_true= y_test, y_pred = y_pred)))"
   ]
  },
  {
   "cell_type": "markdown",
   "metadata": {},
   "source": [
    "## ExtraTrees + SVR"
   ]
  },
  {
   "cell_type": "code",
   "execution_count": 13,
   "metadata": {},
   "outputs": [
    {
     "name": "stdout",
     "output_type": "stream",
     "text": [
      "Split: 1\r",
      "Fitting 5 folds for each of 16 candidates, totalling 80 fits\n"
     ]
    },
    {
     "name": "stderr",
     "output_type": "stream",
     "text": [
      "[Parallel(n_jobs=-1)]: Using backend LokyBackend with 12 concurrent workers.\n",
      "[Parallel(n_jobs=-1)]: Done  26 tasks      | elapsed:   14.7s\n",
      "[Parallel(n_jobs=-1)]: Done  80 out of  80 | elapsed:   40.3s finished\n"
     ]
    },
    {
     "name": "stdout",
     "output_type": "stream",
     "text": [
      "Split: 2\r",
      "Fitting 5 folds for each of 16 candidates, totalling 80 fits\n"
     ]
    },
    {
     "name": "stderr",
     "output_type": "stream",
     "text": [
      "[Parallel(n_jobs=-1)]: Using backend LokyBackend with 12 concurrent workers.\n",
      "[Parallel(n_jobs=-1)]: Done  26 tasks      | elapsed:   19.1s\n",
      "[Parallel(n_jobs=-1)]: Done  80 out of  80 | elapsed:   44.4s finished\n"
     ]
    },
    {
     "name": "stdout",
     "output_type": "stream",
     "text": [
      "Split: 3\r",
      "Fitting 5 folds for each of 16 candidates, totalling 80 fits\n"
     ]
    },
    {
     "name": "stderr",
     "output_type": "stream",
     "text": [
      "[Parallel(n_jobs=-1)]: Using backend LokyBackend with 12 concurrent workers.\n",
      "[Parallel(n_jobs=-1)]: Done  26 tasks      | elapsed:   19.4s\n",
      "[Parallel(n_jobs=-1)]: Done  80 out of  80 | elapsed:   44.8s finished\n"
     ]
    },
    {
     "name": "stdout",
     "output_type": "stream",
     "text": [
      "Split: 4\r",
      "Fitting 5 folds for each of 16 candidates, totalling 80 fits\n"
     ]
    },
    {
     "name": "stderr",
     "output_type": "stream",
     "text": [
      "[Parallel(n_jobs=-1)]: Using backend LokyBackend with 12 concurrent workers.\n",
      "[Parallel(n_jobs=-1)]: Done  26 tasks      | elapsed:   19.8s\n",
      "[Parallel(n_jobs=-1)]: Done  80 out of  80 | elapsed:   46.6s finished\n"
     ]
    },
    {
     "name": "stdout",
     "output_type": "stream",
     "text": [
      "Split: 5\r",
      "Fitting 5 folds for each of 16 candidates, totalling 80 fits\n"
     ]
    },
    {
     "name": "stderr",
     "output_type": "stream",
     "text": [
      "[Parallel(n_jobs=-1)]: Using backend LokyBackend with 12 concurrent workers.\n",
      "[Parallel(n_jobs=-1)]: Done  26 tasks      | elapsed:   21.0s\n",
      "[Parallel(n_jobs=-1)]: Done  80 out of  80 | elapsed:   47.5s finished\n"
     ]
    },
    {
     "name": "stdout",
     "output_type": "stream",
     "text": [
      "\n",
      "Average expected test MSE: 4.976527255005277\n",
      "\n",
      "Average expected test r2: 0.6361674289162469\n",
      "\n",
      "Average expected test mae: 1.7197403109494815\n",
      "Fitting 5 folds for each of 16 candidates, totalling 80 fits\n"
     ]
    },
    {
     "name": "stderr",
     "output_type": "stream",
     "text": [
      "[Parallel(n_jobs=-1)]: Using backend LokyBackend with 12 concurrent workers.\n",
      "[Parallel(n_jobs=-1)]: Done  26 tasks      | elapsed:   28.4s\n",
      "[Parallel(n_jobs=-1)]: Done  80 out of  80 | elapsed:  1.1min finished\n"
     ]
    },
    {
     "name": "stdout",
     "output_type": "stream",
     "text": [
      "Selected hyperparameters: {'feat_select__estimator__n_estimators': 100, 'regression__C': 1.5, 'regression__epsilon': 0.05, 'regression__kernel': 'rbf'}\n",
      "True test error: 5.17687827314005\n",
      "Test r2: 0.5971714553604003\n",
      "Test mae: 1.7263418722384232\n"
     ]
    }
   ],
   "source": [
    "pipe = Pipeline([ ('scaling', StandardScaler()),\n",
    "  ('feat_select', SelectFromModel(ExtraTreesRegressor(100))),\n",
    "  ('regression', SVR())\n",
    "])\n",
    "# Prepare sets of parameters for gridsearch\n",
    "parameters = {'regression__C' : [0.05, 0.3, 1, 1.5],\n",
    "            'regression__epsilon' : [0.05, 0.1, 0.5, 1],\n",
    "            'regression__kernel' : ['rbf'],\n",
    "            'feat_select__estimator__n_estimators' : [100],}\n",
    "model = GridSearchCV(estimator=pipe, param_grid=parameters, scoring = 'neg_mean_squared_error', cv=5,\n",
    "                   iid=False, n_jobs=-1, verbose = 1)\n",
    "\n",
    "# outer CV (model evaluation)\n",
    "(estimated_test_error, r2, mae) = cv(model, data=X_train, labels=y_train, n_splits=5, want_r2 = True, want_mae = True)\n",
    "print('\\nAverage expected test MSE: {}'.format(np.mean(estimated_test_error)))\n",
    "print('\\nAverage expected test r2: {}'.format(np.mean(r2)))\n",
    "print('\\nAverage expected test mae: {}'.format(np.mean(mae)))\n",
    "# effective test MSE\n",
    "model_fitted = model.fit(X_train, y_train)\n",
    "# see what has been chosen  \n",
    "print('Selected hyperparameters: {}'.format(model_fitted.best_params_) )\n",
    "y_pred = model_fitted.best_estimator_.predict(X_test)\n",
    "print('True test error: {}'.format(mean_squared_error(y_pred, y_test)))\n",
    "print('Test r2: {}'.format(r2_score(y_true= y_test, y_pred = y_pred)))\n",
    "print('Test mae: {}'.format(mean_absolute_error(y_true= y_test, y_pred = y_pred)))"
   ]
  },
  {
   "cell_type": "markdown",
   "metadata": {},
   "source": [
    "## extraTrees + random forest"
   ]
  },
  {
   "cell_type": "code",
   "execution_count": 14,
   "metadata": {},
   "outputs": [
    {
     "name": "stdout",
     "output_type": "stream",
     "text": [
      "Split: 1\r",
      "Fitting 5 folds for each of 80 candidates, totalling 400 fits\n"
     ]
    },
    {
     "name": "stderr",
     "output_type": "stream",
     "text": [
      "[Parallel(n_jobs=-1)]: Using backend LokyBackend with 12 concurrent workers.\n",
      "[Parallel(n_jobs=-1)]: Done  26 tasks      | elapsed:   19.1s\n",
      "[Parallel(n_jobs=-1)]: Done 176 tasks      | elapsed:  1.3min\n",
      "[Parallel(n_jobs=-1)]: Done 400 out of 400 | elapsed:  2.2min finished\n"
     ]
    },
    {
     "name": "stdout",
     "output_type": "stream",
     "text": [
      "Split: 2\r",
      "Fitting 5 folds for each of 80 candidates, totalling 400 fits\n"
     ]
    },
    {
     "name": "stderr",
     "output_type": "stream",
     "text": [
      "[Parallel(n_jobs=-1)]: Using backend LokyBackend with 12 concurrent workers.\n",
      "[Parallel(n_jobs=-1)]: Done  26 tasks      | elapsed:   19.1s\n",
      "[Parallel(n_jobs=-1)]: Done 176 tasks      | elapsed:  1.3min\n",
      "[Parallel(n_jobs=-1)]: Done 400 out of 400 | elapsed:  2.2min finished\n"
     ]
    },
    {
     "name": "stdout",
     "output_type": "stream",
     "text": [
      "Split: 3\r",
      "Fitting 5 folds for each of 80 candidates, totalling 400 fits\n"
     ]
    },
    {
     "name": "stderr",
     "output_type": "stream",
     "text": [
      "[Parallel(n_jobs=-1)]: Using backend LokyBackend with 12 concurrent workers.\n",
      "[Parallel(n_jobs=-1)]: Done  26 tasks      | elapsed:   19.1s\n",
      "[Parallel(n_jobs=-1)]: Done 176 tasks      | elapsed:  1.3min\n",
      "[Parallel(n_jobs=-1)]: Done 400 out of 400 | elapsed:  2.2min finished\n"
     ]
    },
    {
     "name": "stdout",
     "output_type": "stream",
     "text": [
      "Split: 4\r",
      "Fitting 5 folds for each of 80 candidates, totalling 400 fits\n"
     ]
    },
    {
     "name": "stderr",
     "output_type": "stream",
     "text": [
      "[Parallel(n_jobs=-1)]: Using backend LokyBackend with 12 concurrent workers.\n",
      "[Parallel(n_jobs=-1)]: Done  26 tasks      | elapsed:   19.1s\n",
      "[Parallel(n_jobs=-1)]: Done 176 tasks      | elapsed:  1.3min\n",
      "[Parallel(n_jobs=-1)]: Done 400 out of 400 | elapsed:  2.2min finished\n"
     ]
    },
    {
     "name": "stdout",
     "output_type": "stream",
     "text": [
      "Split: 5\r",
      "Fitting 5 folds for each of 80 candidates, totalling 400 fits\n"
     ]
    },
    {
     "name": "stderr",
     "output_type": "stream",
     "text": [
      "[Parallel(n_jobs=-1)]: Using backend LokyBackend with 12 concurrent workers.\n",
      "[Parallel(n_jobs=-1)]: Done  26 tasks      | elapsed:   19.1s\n",
      "[Parallel(n_jobs=-1)]: Done 176 tasks      | elapsed:  1.3min\n",
      "[Parallel(n_jobs=-1)]: Done 400 out of 400 | elapsed:  2.2min finished\n"
     ]
    },
    {
     "name": "stdout",
     "output_type": "stream",
     "text": [
      "\n",
      "Average expected test MSE: 6.378609978902338\n",
      "\n",
      "Average expected test r2: 0.5352276008196395\n",
      "\n",
      "Average expected test mae: 1.9777468304621766\n",
      "Fitting 5 folds for each of 80 candidates, totalling 400 fits\n"
     ]
    },
    {
     "name": "stderr",
     "output_type": "stream",
     "text": [
      "[Parallel(n_jobs=-1)]: Using backend LokyBackend with 12 concurrent workers.\n",
      "[Parallel(n_jobs=-1)]: Done  26 tasks      | elapsed:   28.5s\n",
      "[Parallel(n_jobs=-1)]: Done 176 tasks      | elapsed:  2.1min\n",
      "[Parallel(n_jobs=-1)]: Done 400 out of 400 | elapsed:  3.4min finished\n"
     ]
    },
    {
     "name": "stdout",
     "output_type": "stream",
     "text": [
      "Selected hyperparameters: {'feat_select__estimator__min_samples_leaf': 5, 'feat_select__estimator__n_estimators': 100, 'regression__max_depth': 12, 'regression__min_samples_leaf': 8}\n",
      "True test error: 7.30148266654077\n",
      "Test r2: 0.4318495662657601\n",
      "Test mae: 2.090678440564082\n"
     ]
    }
   ],
   "source": [
    "pipe = Pipeline([ ('scaling', StandardScaler()),\n",
    "                   ('feat_select', SelectFromModel(ExtraTreesRegressor())),\n",
    "  ('regression', RandomForestRegressor())\n",
    "])\n",
    "# Prepare sets of parameters for gridsearch\n",
    "parameters = {'feat_select__estimator__n_estimators' : [100],\n",
    "              'feat_select__estimator__min_samples_leaf' : [1, 2, 4, 5, 6],\n",
    "              'regression__max_depth' : [2, 3, 6, 12],\n",
    "            'regression__min_samples_leaf' : [1, 3, 5, 8]\n",
    "}\n",
    "model = GridSearchCV(estimator=pipe, param_grid=parameters, scoring = 'neg_mean_squared_error', cv=5,\n",
    "                   iid=False, n_jobs=-1, verbose = 1)\n",
    "\n",
    "# outer CV (model evaluation)\n",
    "(estimated_test_error, r2, mae) = cv(model, data=X_train, labels=y_train, n_splits=5, want_r2 = True, want_mae = True)\n",
    "print('\\nAverage expected test MSE: {}'.format(np.mean(estimated_test_error)))\n",
    "print('\\nAverage expected test r2: {}'.format(np.mean(r2)))\n",
    "print('\\nAverage expected test mae: {}'.format(np.mean(mae)))\n",
    "# effective test MSE\n",
    "model_fitted = model.fit(X_train, y_train)\n",
    "# see what has been chosen  \n",
    "print('Selected hyperparameters: {}'.format(model_fitted.best_params_) )\n",
    "y_pred = model_fitted.best_estimator_.predict(X_test)\n",
    "print('True test error: {}'.format(mean_squared_error(y_pred, y_test)))\n",
    "print('Test r2: {}'.format(r2_score(y_true= y_test, y_pred = y_pred)))\n",
    "print('Test mae: {}'.format(mean_absolute_error(y_true= y_test, y_pred = y_pred)))"
   ]
  },
  {
   "cell_type": "markdown",
   "metadata": {},
   "source": [
    "## RandomForest"
   ]
  },
  {
   "cell_type": "code",
   "execution_count": 15,
   "metadata": {},
   "outputs": [
    {
     "name": "stdout",
     "output_type": "stream",
     "text": [
      "Split: 1\r",
      "Fitting 5 folds for each of 16 candidates, totalling 80 fits\n"
     ]
    },
    {
     "name": "stderr",
     "output_type": "stream",
     "text": [
      "[Parallel(n_jobs=-1)]: Using backend LokyBackend with 12 concurrent workers.\n",
      "[Parallel(n_jobs=-1)]: Done  26 tasks      | elapsed:   13.6s\n",
      "[Parallel(n_jobs=-1)]: Done  80 out of  80 | elapsed:   54.4s finished\n"
     ]
    },
    {
     "name": "stdout",
     "output_type": "stream",
     "text": [
      "Split: 2\r",
      "Fitting 5 folds for each of 16 candidates, totalling 80 fits\n"
     ]
    },
    {
     "name": "stderr",
     "output_type": "stream",
     "text": [
      "[Parallel(n_jobs=-1)]: Using backend LokyBackend with 12 concurrent workers.\n",
      "[Parallel(n_jobs=-1)]: Done  26 tasks      | elapsed:   13.5s\n",
      "[Parallel(n_jobs=-1)]: Done  80 out of  80 | elapsed:   56.1s finished\n"
     ]
    },
    {
     "name": "stdout",
     "output_type": "stream",
     "text": [
      "Split: 3\r",
      "Fitting 5 folds for each of 16 candidates, totalling 80 fits\n"
     ]
    },
    {
     "name": "stderr",
     "output_type": "stream",
     "text": [
      "[Parallel(n_jobs=-1)]: Using backend LokyBackend with 12 concurrent workers.\n",
      "[Parallel(n_jobs=-1)]: Done  26 tasks      | elapsed:   13.0s\n",
      "[Parallel(n_jobs=-1)]: Done  80 out of  80 | elapsed:   53.6s finished\n"
     ]
    },
    {
     "name": "stdout",
     "output_type": "stream",
     "text": [
      "Split: 4\r",
      "Fitting 5 folds for each of 16 candidates, totalling 80 fits\n"
     ]
    },
    {
     "name": "stderr",
     "output_type": "stream",
     "text": [
      "[Parallel(n_jobs=-1)]: Using backend LokyBackend with 12 concurrent workers.\n",
      "[Parallel(n_jobs=-1)]: Done  26 tasks      | elapsed:   12.9s\n",
      "[Parallel(n_jobs=-1)]: Done  80 out of  80 | elapsed:   54.3s finished\n"
     ]
    },
    {
     "name": "stdout",
     "output_type": "stream",
     "text": [
      "Split: 5\r",
      "Fitting 5 folds for each of 16 candidates, totalling 80 fits\n"
     ]
    },
    {
     "name": "stderr",
     "output_type": "stream",
     "text": [
      "[Parallel(n_jobs=-1)]: Using backend LokyBackend with 12 concurrent workers.\n",
      "[Parallel(n_jobs=-1)]: Done  26 tasks      | elapsed:   13.0s\n",
      "[Parallel(n_jobs=-1)]: Done  80 out of  80 | elapsed:   54.1s finished\n"
     ]
    },
    {
     "name": "stdout",
     "output_type": "stream",
     "text": [
      "\n",
      "Average expected test MSE: 6.059318920392617\n",
      "\n",
      "Average expected test r2: 0.5579933878538172\n",
      "\n",
      "Average expected test mae: 1.9338434445072068\n",
      "Fitting 5 folds for each of 16 candidates, totalling 80 fits\n"
     ]
    },
    {
     "name": "stderr",
     "output_type": "stream",
     "text": [
      "[Parallel(n_jobs=-1)]: Using backend LokyBackend with 12 concurrent workers.\n",
      "[Parallel(n_jobs=-1)]: Done  26 tasks      | elapsed:   16.2s\n",
      "[Parallel(n_jobs=-1)]: Done  80 out of  80 | elapsed:  1.2min finished\n"
     ]
    },
    {
     "name": "stdout",
     "output_type": "stream",
     "text": [
      "Selected hyperparameters: {'regression__max_depth': 12, 'regression__min_samples_leaf': 3, 'regression__n_estimators': 100}\n",
      "True test error: 6.977413276057045\n",
      "Test r2: 0.45706638498219077\n",
      "Test mae: 2.012369593506228\n"
     ]
    }
   ],
   "source": [
    "pipe = Pipeline([ ('scaling', StandardScaler()),\n",
    "                 \n",
    "  ('regression', RandomForestRegressor())\n",
    "])\n",
    "# Prepare sets of parameters for gridsearch\n",
    "parameters = {'regression__n_estimators':[100],\n",
    "    'regression__max_depth' : [2, 3, 6, 12],\n",
    "            'regression__min_samples_leaf' : [1,3, 5, 8]       \n",
    "}\n",
    "model = GridSearchCV(estimator=pipe, param_grid=parameters, scoring = 'neg_mean_squared_error', cv=5,\n",
    "                   iid=False, n_jobs=-1, verbose = 1)\n",
    "\n",
    "# outer CV (model evaluation)\n",
    "(estimated_test_error, r2, mae) = cv(model, data=X_train, labels=y_train, n_splits=5, want_r2 = True, want_mae = True)\n",
    "print('\\nAverage expected test MSE: {}'.format(np.mean(estimated_test_error)))\n",
    "print('\\nAverage expected test r2: {}'.format(np.mean(r2)))\n",
    "print('\\nAverage expected test mae: {}'.format(np.mean(mae)))\n",
    "# effective test MSE\n",
    "model_fitted = model.fit(X_train, y_train)\n",
    "# see what has been chosen  \n",
    "print('Selected hyperparameters: {}'.format(model_fitted.best_params_) )\n",
    "y_pred = model_fitted.best_estimator_.predict(X_test)\n",
    "print('True test error: {}'.format(mean_squared_error(y_pred, y_test)))\n",
    "print('Test r2: {}'.format(r2_score(y_true= y_test, y_pred = y_pred)))\n",
    "print('Test mae: {}'.format(mean_absolute_error(y_true= y_test, y_pred = y_pred)))"
   ]
  },
  {
   "cell_type": "markdown",
   "metadata": {},
   "source": [
    "## ExtraTrees + XGBoost"
   ]
  },
  {
   "cell_type": "code",
   "execution_count": 17,
   "metadata": {},
   "outputs": [
    {
     "name": "stdout",
     "output_type": "stream",
     "text": [
      "Split: 1\r",
      "Fitting 5 folds for each of 48 candidates, totalling 240 fits\n"
     ]
    },
    {
     "name": "stderr",
     "output_type": "stream",
     "text": [
      "[Parallel(n_jobs=-1)]: Using backend LokyBackend with 12 concurrent workers.\n",
      "[Parallel(n_jobs=-1)]: Done  26 tasks      | elapsed:   16.7s\n",
      "[Parallel(n_jobs=-1)]: Done 176 tasks      | elapsed:  1.3min\n",
      "[Parallel(n_jobs=-1)]: Done 240 out of 240 | elapsed:  1.6min finished\n"
     ]
    },
    {
     "name": "stdout",
     "output_type": "stream",
     "text": [
      "[22:10:24] WARNING: /home/conda/feedstock_root/build_artifacts/xgboost_1566327313563/work/src/objective/regression_obj.cu:152: reg:linear is now deprecated in favor of reg:squarederror.\n",
      "Split: 2\r",
      "Fitting 5 folds for each of 48 candidates, totalling 240 fits\n"
     ]
    },
    {
     "name": "stderr",
     "output_type": "stream",
     "text": [
      "[Parallel(n_jobs=-1)]: Using backend LokyBackend with 12 concurrent workers.\n",
      "[Parallel(n_jobs=-1)]: Done  26 tasks      | elapsed:   21.5s\n",
      "[Parallel(n_jobs=-1)]: Done 176 tasks      | elapsed:  1.3min\n",
      "[Parallel(n_jobs=-1)]: Done 240 out of 240 | elapsed:  1.6min finished\n"
     ]
    },
    {
     "name": "stdout",
     "output_type": "stream",
     "text": [
      "[22:12:01] WARNING: /home/conda/feedstock_root/build_artifacts/xgboost_1566327313563/work/src/objective/regression_obj.cu:152: reg:linear is now deprecated in favor of reg:squarederror.\n",
      "Fitting 5 folds for each of 48 candidates, totalling 240 fits\n"
     ]
    },
    {
     "name": "stderr",
     "output_type": "stream",
     "text": [
      "[Parallel(n_jobs=-1)]: Using backend LokyBackend with 12 concurrent workers.\n",
      "[Parallel(n_jobs=-1)]: Done  26 tasks      | elapsed:   20.4s\n",
      "[Parallel(n_jobs=-1)]: Done 176 tasks      | elapsed:  1.3min\n",
      "[Parallel(n_jobs=-1)]: Done 240 out of 240 | elapsed:  1.5min finished\n"
     ]
    },
    {
     "name": "stdout",
     "output_type": "stream",
     "text": [
      "[22:13:36] WARNING: /home/conda/feedstock_root/build_artifacts/xgboost_1566327313563/work/src/objective/regression_obj.cu:152: reg:linear is now deprecated in favor of reg:squarederror.\n",
      "Split: 4\r",
      "Fitting 5 folds for each of 48 candidates, totalling 240 fits\n"
     ]
    },
    {
     "name": "stderr",
     "output_type": "stream",
     "text": [
      "[Parallel(n_jobs=-1)]: Using backend LokyBackend with 12 concurrent workers.\n",
      "[Parallel(n_jobs=-1)]: Done  26 tasks      | elapsed:   20.0s\n",
      "[Parallel(n_jobs=-1)]: Done 176 tasks      | elapsed:  1.3min\n",
      "[Parallel(n_jobs=-1)]: Done 240 out of 240 | elapsed:  1.5min finished\n"
     ]
    },
    {
     "name": "stdout",
     "output_type": "stream",
     "text": [
      "[22:15:10] WARNING: /home/conda/feedstock_root/build_artifacts/xgboost_1566327313563/work/src/objective/regression_obj.cu:152: reg:linear is now deprecated in favor of reg:squarederror.\n",
      "Split: 5\r",
      "Fitting 5 folds for each of 48 candidates, totalling 240 fits\n"
     ]
    },
    {
     "name": "stderr",
     "output_type": "stream",
     "text": [
      "[Parallel(n_jobs=-1)]: Using backend LokyBackend with 12 concurrent workers.\n",
      "[Parallel(n_jobs=-1)]: Done  26 tasks      | elapsed:   20.1s\n",
      "[Parallel(n_jobs=-1)]: Done 176 tasks      | elapsed:  1.3min\n",
      "[Parallel(n_jobs=-1)]: Done 240 out of 240 | elapsed:  1.5min finished\n"
     ]
    },
    {
     "name": "stdout",
     "output_type": "stream",
     "text": [
      "[22:16:46] WARNING: /home/conda/feedstock_root/build_artifacts/xgboost_1566327313563/work/src/objective/regression_obj.cu:152: reg:linear is now deprecated in favor of reg:squarederror.\n",
      "\n",
      "Average expected test MSE: 5.348808590712174\n",
      "\n",
      "Average expected test r2: 0.6085458746644272\n",
      "\n",
      "Average expected test mae: 1.7943236284334163\n",
      "Fitting 5 folds for each of 48 candidates, totalling 240 fits\n"
     ]
    },
    {
     "name": "stderr",
     "output_type": "stream",
     "text": [
      "[Parallel(n_jobs=-1)]: Using backend LokyBackend with 12 concurrent workers.\n",
      "[Parallel(n_jobs=-1)]: Done  26 tasks      | elapsed:   29.7s\n",
      "[Parallel(n_jobs=-1)]: Done 176 tasks      | elapsed:  1.9min\n",
      "[Parallel(n_jobs=-1)]: Done 240 out of 240 | elapsed:  2.3min finished\n"
     ]
    },
    {
     "name": "stdout",
     "output_type": "stream",
     "text": [
      "[22:19:07] WARNING: /home/conda/feedstock_root/build_artifacts/xgboost_1566327313563/work/src/objective/regression_obj.cu:152: reg:linear is now deprecated in favor of reg:squarederror.\n",
      "Selected hyperparameters: {'feat_select__estimator__min_samples_leaf': 5, 'feat_select__estimator__n_estimators': 100, 'regression__booster__alpha': 0.05, 'regression__booster__max_depth': 7}\n",
      "True test error: 5.651026850959594\n",
      "Test r2: 0.5602765214893493\n",
      "Test mae: 1.830005840893555\n"
     ]
    }
   ],
   "source": [
    "pipe = Pipeline([ ('scaling', StandardScaler()),\n",
    "  ('feat_select', SelectFromModel(ExtraTreesRegressor())),\n",
    "  ('regression', xgb.XGBRegressor())])\n",
    "# Prepare sets of parameters for gridsearch\n",
    "parameters = {'feat_select__estimator__n_estimators' : [100],\n",
    "              'feat_select__estimator__min_samples_leaf' : [1, 2, 4, 5],\n",
    "              'regression__booster__alpha' : [0.05, 0.2, 0.5],\n",
    "              'regression__booster__max_depth' : [3, 4, 6, 7]\n",
    "}\n",
    "model = GridSearchCV(estimator=pipe, param_grid=parameters, scoring = 'neg_mean_squared_error', cv=5,\n",
    "                   iid=False, n_jobs=-1, verbose = 1)\n",
    "# outer CV (model evaluation)\n",
    "(estimated_test_error, r2, mae) = cv(model, data=X_train, labels=y_train, n_splits=5, want_r2= True, want_mae = True)\n",
    "print('\\nAverage expected test MSE: {}'.format(np.mean(estimated_test_error)))\n",
    "print('\\nAverage expected test r2: {}'.format(np.mean(r2)))\n",
    "print('\\nAverage expected test mae: {}'.format(np.mean(mae)))\n",
    "# effective test MSE\n",
    "model_fitted = model.fit(X_train, y_train)\n",
    "# see what has been chosen    \n",
    "print('Selected hyperparameters: {}'.format(model_fitted.best_params_) )\n",
    "y_pred = model_fitted.best_estimator_.predict(X_test)\n",
    "print('True test error: {}'.format(mean_squared_error(y_pred, y_test)))\n",
    "print('Test r2: {}'.format(r2_score(y_true= y_test, y_pred = y_pred)))\n",
    "print('Test mae: {}'.format(mean_absolute_error(y_true= y_test, y_pred = y_pred)))"
   ]
  },
  {
   "cell_type": "markdown",
   "metadata": {},
   "source": [
    "## Lasso"
   ]
  },
  {
   "cell_type": "code",
   "execution_count": 18,
   "metadata": {},
   "outputs": [
    {
     "name": "stdout",
     "output_type": "stream",
     "text": [
      "Split: 1\r",
      "Fitting 5 folds for each of 12 candidates, totalling 60 fits\n"
     ]
    },
    {
     "name": "stderr",
     "output_type": "stream",
     "text": [
      "[Parallel(n_jobs=-1)]: Using backend LokyBackend with 12 concurrent workers.\n",
      "[Parallel(n_jobs=-1)]: Done  60 out of  60 | elapsed:    0.5s finished\n",
      "[Parallel(n_jobs=-1)]: Using backend LokyBackend with 12 concurrent workers.\n"
     ]
    },
    {
     "name": "stdout",
     "output_type": "stream",
     "text": [
      "Split: 2\r",
      "Fitting 5 folds for each of 12 candidates, totalling 60 fits\n"
     ]
    },
    {
     "name": "stderr",
     "output_type": "stream",
     "text": [
      "[Parallel(n_jobs=-1)]: Done  60 out of  60 | elapsed:    0.5s finished\n",
      "[Parallel(n_jobs=-1)]: Using backend LokyBackend with 12 concurrent workers.\n"
     ]
    },
    {
     "name": "stdout",
     "output_type": "stream",
     "text": [
      "Split: 3\r",
      "Fitting 5 folds for each of 12 candidates, totalling 60 fits\n"
     ]
    },
    {
     "name": "stderr",
     "output_type": "stream",
     "text": [
      "[Parallel(n_jobs=-1)]: Done  60 out of  60 | elapsed:    0.5s finished\n",
      "[Parallel(n_jobs=-1)]: Using backend LokyBackend with 12 concurrent workers.\n"
     ]
    },
    {
     "name": "stdout",
     "output_type": "stream",
     "text": [
      "Split: 4\r",
      "Fitting 5 folds for each of 12 candidates, totalling 60 fits\n"
     ]
    },
    {
     "name": "stderr",
     "output_type": "stream",
     "text": [
      "[Parallel(n_jobs=-1)]: Done  60 out of  60 | elapsed:    0.5s finished\n",
      "[Parallel(n_jobs=-1)]: Using backend LokyBackend with 12 concurrent workers.\n"
     ]
    },
    {
     "name": "stdout",
     "output_type": "stream",
     "text": [
      "Split: 5\r",
      "Fitting 5 folds for each of 12 candidates, totalling 60 fits\n"
     ]
    },
    {
     "name": "stderr",
     "output_type": "stream",
     "text": [
      "[Parallel(n_jobs=-1)]: Done  60 out of  60 | elapsed:    0.5s finished\n",
      "[Parallel(n_jobs=-1)]: Using backend LokyBackend with 12 concurrent workers.\n"
     ]
    },
    {
     "name": "stdout",
     "output_type": "stream",
     "text": [
      "\n",
      "Average expected test MSE: 10.052415299345125\n",
      "\n",
      "Average expected test r2: 0.2649577510913282\n",
      "\n",
      "Average expected test mae: 2.57756885271369\n",
      "Fitting 5 folds for each of 12 candidates, totalling 60 fits\n",
      "Selected hyperparameters: {'regression__alpha': 1}\n",
      "True test error: 9.886540701576447\n",
      "Test r2: 0.2306983876751343\n",
      "Test mae: 2.4604008547888543\n"
     ]
    },
    {
     "name": "stderr",
     "output_type": "stream",
     "text": [
      "[Parallel(n_jobs=-1)]: Done  60 out of  60 | elapsed:    0.6s finished\n"
     ]
    }
   ],
   "source": [
    "pipe = Pipeline([ ('scaling', StandardScaler()),\n",
    "  ('regression', Lasso())\n",
    "])\n",
    "# Prepare sets of parameters for gridsearch\n",
    "parameters = {'regression__alpha' : [1, 1.2, 1.4, 1.7, 1.9, 2, 2.3, 2.5, 3, 3.5, 4, 6],\n",
    "}\n",
    "model = GridSearchCV(estimator=pipe, param_grid=parameters, scoring = 'neg_mean_squared_error', cv=5,\n",
    "                   iid=False, n_jobs=-1, verbose = 1)\n",
    "\n",
    "# outer CV (model evaluation)\n",
    "(estimated_test_error, r2, mae) = cv(model, data=X_train, labels=y_train, n_splits=5, want_r2=True, want_mae = True)\n",
    "print('\\nAverage expected test MSE: {}'.format(np.mean(estimated_test_error)))\n",
    "print('\\nAverage expected test r2: {}'.format(np.mean(r2)))\n",
    "print('\\nAverage expected test mae: {}'.format(np.mean(mae)))\n",
    "# effective test MSE\n",
    "model_fitted = model.fit(X_train, y_train)\n",
    "# see what has been chosen     \n",
    "print('Selected hyperparameters: {}'.format(model_fitted.best_params_) )\n",
    "y_pred = model_fitted.best_estimator_.predict(X_test)\n",
    "print('True test error: {}'.format(mean_squared_error(y_pred, y_test)))\n",
    "print('Test r2: {}'.format(r2_score(y_true= y_test, y_pred = y_pred)))\n",
    "print('Test mae: {}'.format(mean_absolute_error(y_true= y_test, y_pred = y_pred)))"
   ]
  },
  {
   "cell_type": "markdown",
   "metadata": {},
   "source": [
    "## SelectKBEST + XGBoost"
   ]
  },
  {
   "cell_type": "code",
   "execution_count": 19,
   "metadata": {},
   "outputs": [
    {
     "name": "stderr",
     "output_type": "stream",
     "text": [
      "[Parallel(n_jobs=-1)]: Using backend LokyBackend with 12 concurrent workers.\n"
     ]
    },
    {
     "name": "stdout",
     "output_type": "stream",
     "text": [
      "Split: 1\r",
      "Fitting 5 folds for each of 80 candidates, totalling 400 fits\n"
     ]
    },
    {
     "name": "stderr",
     "output_type": "stream",
     "text": [
      "[Parallel(n_jobs=-1)]: Done  28 tasks      | elapsed:    0.5s\n",
      "[Parallel(n_jobs=-1)]: Done 297 tasks      | elapsed:   10.6s\n",
      "[Parallel(n_jobs=-1)]: Done 400 out of 400 | elapsed:   20.2s finished\n"
     ]
    },
    {
     "name": "stdout",
     "output_type": "stream",
     "text": [
      "[22:19:30] WARNING: /home/conda/feedstock_root/build_artifacts/xgboost_1566327313563/work/src/objective/regression_obj.cu:152: reg:linear is now deprecated in favor of reg:squarederror.\n",
      "Fitting 5 folds for each of 80 candidates, totalling 400 fits\n"
     ]
    },
    {
     "name": "stderr",
     "output_type": "stream",
     "text": [
      "[Parallel(n_jobs=-1)]: Using backend LokyBackend with 12 concurrent workers.\n",
      "[Parallel(n_jobs=-1)]: Done  28 tasks      | elapsed:    0.5s\n",
      "[Parallel(n_jobs=-1)]: Done 291 tasks      | elapsed:   10.0s\n",
      "[Parallel(n_jobs=-1)]: Done 400 out of 400 | elapsed:   20.2s finished\n"
     ]
    },
    {
     "name": "stdout",
     "output_type": "stream",
     "text": [
      "[22:19:51] WARNING: /home/conda/feedstock_root/build_artifacts/xgboost_1566327313563/work/src/objective/regression_obj.cu:152: reg:linear is now deprecated in favor of reg:squarederror.\n",
      "Fitting 5 folds for each of 80 candidates, totalling 400 fits\n"
     ]
    },
    {
     "name": "stderr",
     "output_type": "stream",
     "text": [
      "[Parallel(n_jobs=-1)]: Using backend LokyBackend with 12 concurrent workers.\n",
      "[Parallel(n_jobs=-1)]: Done  28 tasks      | elapsed:    0.5s\n",
      "[Parallel(n_jobs=-1)]: Done 291 tasks      | elapsed:   10.0s\n",
      "[Parallel(n_jobs=-1)]: Done 400 out of 400 | elapsed:   20.2s finished\n"
     ]
    },
    {
     "name": "stdout",
     "output_type": "stream",
     "text": [
      "[22:20:12] WARNING: /home/conda/feedstock_root/build_artifacts/xgboost_1566327313563/work/src/objective/regression_obj.cu:152: reg:linear is now deprecated in favor of reg:squarederror.\n",
      "Fitting 5 folds for each of 80 candidates, totalling 400 fits\n"
     ]
    },
    {
     "name": "stderr",
     "output_type": "stream",
     "text": [
      "[Parallel(n_jobs=-1)]: Using backend LokyBackend with 12 concurrent workers.\n",
      "[Parallel(n_jobs=-1)]: Done  28 tasks      | elapsed:    0.5s\n",
      "[Parallel(n_jobs=-1)]: Done 289 tasks      | elapsed:    9.9s\n",
      "[Parallel(n_jobs=-1)]: Done 400 out of 400 | elapsed:   20.3s finished\n"
     ]
    },
    {
     "name": "stdout",
     "output_type": "stream",
     "text": [
      "[22:20:33] WARNING: /home/conda/feedstock_root/build_artifacts/xgboost_1566327313563/work/src/objective/regression_obj.cu:152: reg:linear is now deprecated in favor of reg:squarederror.\n",
      "Fitting 5 folds for each of 80 candidates, totalling 400 fits\n"
     ]
    },
    {
     "name": "stderr",
     "output_type": "stream",
     "text": [
      "[Parallel(n_jobs=-1)]: Using backend LokyBackend with 12 concurrent workers.\n",
      "[Parallel(n_jobs=-1)]: Done  28 tasks      | elapsed:    0.5s\n",
      "[Parallel(n_jobs=-1)]: Done 290 tasks      | elapsed:    9.9s\n",
      "[Parallel(n_jobs=-1)]: Done 400 out of 400 | elapsed:   20.1s finished\n"
     ]
    },
    {
     "name": "stdout",
     "output_type": "stream",
     "text": [
      "[22:20:54] WARNING: /home/conda/feedstock_root/build_artifacts/xgboost_1566327313563/work/src/objective/regression_obj.cu:152: reg:linear is now deprecated in favor of reg:squarederror.\n",
      "\n",
      "Average expected test MSE: 5.102370363166074\n",
      "\n",
      "Average expected test r2: 0.6264141239735699\n",
      "\n",
      "Average expected test mae: 1.7486576020686595\n",
      "Fitting 5 folds for each of 80 candidates, totalling 400 fits\n"
     ]
    },
    {
     "name": "stderr",
     "output_type": "stream",
     "text": [
      "[Parallel(n_jobs=-1)]: Using backend LokyBackend with 12 concurrent workers.\n",
      "[Parallel(n_jobs=-1)]: Done  28 tasks      | elapsed:    0.6s\n",
      "[Parallel(n_jobs=-1)]: Done 280 tasks      | elapsed:   11.8s\n",
      "[Parallel(n_jobs=-1)]: Done 400 out of 400 | elapsed:   25.2s finished\n"
     ]
    },
    {
     "name": "stdout",
     "output_type": "stream",
     "text": [
      "[22:21:19] WARNING: /home/conda/feedstock_root/build_artifacts/xgboost_1566327313563/work/src/objective/regression_obj.cu:152: reg:linear is now deprecated in favor of reg:squarederror.\n",
      "Selected hyperparameters: {'feat_select__k': 160, 'feat_select__score_func': <function f_regression at 0x7fe47bc527b8>, 'regression__booster__alpha': 0.05, 'regression__booster__max_depth': 3}\n",
      "True test error: 5.11952060396378\n",
      "Test r2: 0.6016346289525005\n",
      "Test mae: 1.7722031796078999\n"
     ]
    }
   ],
   "source": [
    "pipe = Pipeline([ ('scaling', StandardScaler()),\n",
    "  ('feat_select', SelectKBest()),\n",
    "  ('regression', xgb.XGBRegressor())])\n",
    "# Prepare sets of parameters for gridsearch\n",
    "parameters = {'feat_select__score_func' : [f_regression],\n",
    "            'feat_select__k' : [10, 30, 60, 100, 160],\n",
    "              'regression__booster__alpha' : [0.05, 0.1, 0.6, 1],\n",
    "              'regression__booster__max_depth' : [3, 4, 6, 7]\n",
    "}\n",
    "model = GridSearchCV(estimator=pipe, param_grid=parameters, scoring = 'neg_mean_squared_error', cv=5,\n",
    "                   iid=False, n_jobs=-1, verbose = 1)\n",
    "\n",
    "# outer CV (model evaluation)\n",
    "(estimated_test_error, r2, mae) = cv(model, data=X_train, labels=y_train, n_splits=5, want_r2 = True, want_mae = True)\n",
    "print('\\nAverage expected test MSE: {}'.format(np.mean(estimated_test_error)))\n",
    "print('\\nAverage expected test r2: {}'.format(np.mean(r2)))\n",
    "print('\\nAverage expected test mae: {}'.format(np.mean(mae)))\n",
    "# effective test MSE\n",
    "model_fitted = model.fit(X_train, y_train)\n",
    "# see what has been chosen    \n",
    "print('Selected hyperparameters: {}'.format(model_fitted.best_params_) )\n",
    "y_pred = model_fitted.best_estimator_.predict(X_test)\n",
    "print('True test error: {}'.format(mean_squared_error(y_pred, y_test)))\n",
    "print('Test r2: {}'.format(r2_score(y_true= y_test, y_pred = y_pred)))\n",
    "print('Test mae: {}'.format(mean_absolute_error(y_true= y_test, y_pred = y_pred)))"
   ]
  },
  {
   "cell_type": "markdown",
   "metadata": {},
   "source": [
    "# XGBoost"
   ]
  },
  {
   "cell_type": "code",
   "execution_count": 5,
   "metadata": {},
   "outputs": [
    {
     "name": "stdout",
     "output_type": "stream",
     "text": [
      "Split: 1\r",
      "Fitting 5 folds for each of 16 candidates, totalling 80 fits\n"
     ]
    },
    {
     "name": "stderr",
     "output_type": "stream",
     "text": [
      "[Parallel(n_jobs=-1)]: Using backend LokyBackend with 12 concurrent workers.\n",
      "[Parallel(n_jobs=-1)]: Done  26 tasks      | elapsed:    7.9s\n",
      "[Parallel(n_jobs=-1)]: Done  80 out of  80 | elapsed:   16.4s finished\n"
     ]
    },
    {
     "name": "stdout",
     "output_type": "stream",
     "text": [
      "[17:12:29] WARNING: /home/conda/feedstock_root/build_artifacts/xgboost_1566327313563/work/src/objective/regression_obj.cu:152: reg:linear is now deprecated in favor of reg:squarederror.\n",
      "Fitting 5 folds for each of 16 candidates, totalling 80 fits\n"
     ]
    },
    {
     "name": "stderr",
     "output_type": "stream",
     "text": [
      "[Parallel(n_jobs=-1)]: Using backend LokyBackend with 12 concurrent workers.\n",
      "[Parallel(n_jobs=-1)]: Done  26 tasks      | elapsed:    8.4s\n",
      "[Parallel(n_jobs=-1)]: Done  80 out of  80 | elapsed:   19.5s finished\n"
     ]
    },
    {
     "name": "stdout",
     "output_type": "stream",
     "text": [
      "[17:12:50] WARNING: /home/conda/feedstock_root/build_artifacts/xgboost_1566327313563/work/src/objective/regression_obj.cu:152: reg:linear is now deprecated in favor of reg:squarederror.\n",
      "Fitting 5 folds for each of 16 candidates, totalling 80 fits\n"
     ]
    },
    {
     "name": "stderr",
     "output_type": "stream",
     "text": [
      "[Parallel(n_jobs=-1)]: Using backend LokyBackend with 12 concurrent workers.\n",
      "[Parallel(n_jobs=-1)]: Done  26 tasks      | elapsed:    8.4s\n",
      "[Parallel(n_jobs=-1)]: Done  80 out of  80 | elapsed:   19.2s finished\n"
     ]
    },
    {
     "name": "stdout",
     "output_type": "stream",
     "text": [
      "[17:13:11] WARNING: /home/conda/feedstock_root/build_artifacts/xgboost_1566327313563/work/src/objective/regression_obj.cu:152: reg:linear is now deprecated in favor of reg:squarederror.\n",
      "Fitting 5 folds for each of 16 candidates, totalling 80 fits\n"
     ]
    },
    {
     "name": "stderr",
     "output_type": "stream",
     "text": [
      "[Parallel(n_jobs=-1)]: Using backend LokyBackend with 12 concurrent workers.\n",
      "[Parallel(n_jobs=-1)]: Done  26 tasks      | elapsed:    8.4s\n",
      "[Parallel(n_jobs=-1)]: Done  80 out of  80 | elapsed:   19.5s finished\n"
     ]
    },
    {
     "name": "stdout",
     "output_type": "stream",
     "text": [
      "[17:13:32] WARNING: /home/conda/feedstock_root/build_artifacts/xgboost_1566327313563/work/src/objective/regression_obj.cu:152: reg:linear is now deprecated in favor of reg:squarederror.\n",
      "Fitting 5 folds for each of 16 candidates, totalling 80 fits\n"
     ]
    },
    {
     "name": "stderr",
     "output_type": "stream",
     "text": [
      "[Parallel(n_jobs=-1)]: Using backend LokyBackend with 12 concurrent workers.\n",
      "[Parallel(n_jobs=-1)]: Done  26 tasks      | elapsed:    8.4s\n",
      "[Parallel(n_jobs=-1)]: Done  80 out of  80 | elapsed:   19.4s finished\n"
     ]
    },
    {
     "name": "stdout",
     "output_type": "stream",
     "text": [
      "[17:13:52] WARNING: /home/conda/feedstock_root/build_artifacts/xgboost_1566327313563/work/src/objective/regression_obj.cu:152: reg:linear is now deprecated in favor of reg:squarederror.\n",
      "\n",
      "Average expected test MSE: 4.833082025277381\n",
      "\n",
      "Average expected test r2: 0.6462714042254847\n",
      "\n",
      "Average expected test mae: 1.7033556144664028\n",
      "Fitting 5 folds for each of 16 candidates, totalling 80 fits\n"
     ]
    },
    {
     "name": "stderr",
     "output_type": "stream",
     "text": [
      "[Parallel(n_jobs=-1)]: Using backend LokyBackend with 12 concurrent workers.\n",
      "[Parallel(n_jobs=-1)]: Done  26 tasks      | elapsed:   10.4s\n",
      "[Parallel(n_jobs=-1)]: Done  80 out of  80 | elapsed:   23.7s finished\n"
     ]
    },
    {
     "name": "stdout",
     "output_type": "stream",
     "text": [
      "[17:14:17] WARNING: /home/conda/feedstock_root/build_artifacts/xgboost_1566327313563/work/src/objective/regression_obj.cu:152: reg:linear is now deprecated in favor of reg:squarederror.\n",
      "Selected hyperparameters: {'regression__booster__alpha': 0.05, 'regression__booster__max_depth': 3}\n",
      "True test error: 4.920569871480459\n",
      "Test r2: 0.6171155867407214\n",
      "Test mae: 1.7168536330991107\n"
     ]
    }
   ],
   "source": [
    "pipe = Pipeline([ ('scaling', StandardScaler()),\n",
    "  ('regression', xgb.XGBRegressor())])\n",
    "# Prepare sets of parameters for gridsearch\n",
    "parameters = {'regression__booster__alpha' : [0.05, 0.1, 0.6, 1],\n",
    "              'regression__booster__max_depth' : [3, 4, 6, 7]\n",
    "}\n",
    "model = GridSearchCV(estimator=pipe, param_grid=parameters, scoring = 'neg_mean_squared_error', cv=5,\n",
    "                   iid=False, n_jobs=-1, verbose = 1)\n",
    "\n",
    "# outer CV (model evaluation)\n",
    "(estimated_test_error, r2, mae) = cv(model, data=X_train, labels=y_train, n_splits=5, want_r2 = True, want_mae = True)\n",
    "print('\\nAverage expected test MSE: {}'.format(np.mean(estimated_test_error)))\n",
    "print('\\nAverage expected test r2: {}'.format(np.mean(r2)))\n",
    "print('\\nAverage expected test mae: {}'.format(np.mean(mae)))\n",
    "# effective test MSE\n",
    "model_fitted = model.fit(X_train, y_train)\n",
    "# see what has been chosen    \n",
    "print('Selected hyperparameters: {}'.format(model_fitted.best_params_) )\n",
    "y_pred = model_fitted.best_estimator_.predict(X_test)\n",
    "print('True test error: {}'.format(mean_squared_error(y_pred, y_test)))\n",
    "print('Test r2: {}'.format(r2_score(y_true= y_test, y_pred = y_pred)))\n",
    "print('Test mae: {}'.format(mean_absolute_error(y_true= y_test, y_pred = y_pred)))"
   ]
  },
  {
   "cell_type": "markdown",
   "metadata": {},
   "source": [
    "# MRI + DTI"
   ]
  },
  {
   "cell_type": "code",
   "execution_count": 6,
   "metadata": {},
   "outputs": [],
   "source": [
    "target = 'Age'\n",
    "# use all MRI high-level features, no DTI\n",
    "data = create_dataset_mri(SCORE = target, DTI = True)\n",
    "# remove the diagnosis colums\n",
    "data.drop(columns=['DX_01_Cat', 'DX_01', 'DX_01_Sub'], inplace=True)\n",
    "\n",
    "# labels and features\n",
    "y = data[target]\n",
    "X = data.drop([target, 'ID'], axis=1)\n",
    "# Separate test and train set\n",
    "data_test = pd.merge(data, test_indices, on='ID', how='inner')\n",
    "data_train = data.loc[~data['ID'].isin(list((set(test_indices['ID']))))]\n",
    "# labels and features\n",
    "y_train = data_train[target]\n",
    "X_train = data_train.drop([target, 'ID'], axis=1)\n",
    "y_test = data_test[target]\n",
    "X_test = data_test.drop([target, 'ID'], axis=1)"
   ]
  },
  {
   "cell_type": "markdown",
   "metadata": {},
   "source": [
    "## ExtraTrees + SVR"
   ]
  },
  {
   "cell_type": "code",
   "execution_count": 21,
   "metadata": {},
   "outputs": [
    {
     "name": "stdout",
     "output_type": "stream",
     "text": [
      "Split: 1\r",
      "Fitting 5 folds for each of 45 candidates, totalling 225 fits\n"
     ]
    },
    {
     "name": "stderr",
     "output_type": "stream",
     "text": [
      "[Parallel(n_jobs=-1)]: Using backend LokyBackend with 12 concurrent workers.\n",
      "[Parallel(n_jobs=-1)]: Done  26 tasks      | elapsed:   13.9s\n",
      "[Parallel(n_jobs=-1)]: Done 176 tasks      | elapsed:  1.2min\n",
      "[Parallel(n_jobs=-1)]: Done 225 out of 225 | elapsed:  1.5min finished\n"
     ]
    },
    {
     "name": "stdout",
     "output_type": "stream",
     "text": [
      "Split: 2\r",
      "Fitting 5 folds for each of 45 candidates, totalling 225 fits\n"
     ]
    },
    {
     "name": "stderr",
     "output_type": "stream",
     "text": [
      "[Parallel(n_jobs=-1)]: Using backend LokyBackend with 12 concurrent workers.\n",
      "[Parallel(n_jobs=-1)]: Done  26 tasks      | elapsed:   13.3s\n",
      "[Parallel(n_jobs=-1)]: Done 176 tasks      | elapsed:  1.2min\n",
      "[Parallel(n_jobs=-1)]: Done 225 out of 225 | elapsed:  1.5min finished\n"
     ]
    },
    {
     "name": "stdout",
     "output_type": "stream",
     "text": [
      "Split: 3\r",
      "Fitting 5 folds for each of 45 candidates, totalling 225 fits\n"
     ]
    },
    {
     "name": "stderr",
     "output_type": "stream",
     "text": [
      "[Parallel(n_jobs=-1)]: Using backend LokyBackend with 12 concurrent workers.\n",
      "[Parallel(n_jobs=-1)]: Done  26 tasks      | elapsed:   14.3s\n",
      "[Parallel(n_jobs=-1)]: Done 176 tasks      | elapsed:  1.3min\n",
      "[Parallel(n_jobs=-1)]: Done 225 out of 225 | elapsed:  1.6min finished\n"
     ]
    },
    {
     "name": "stdout",
     "output_type": "stream",
     "text": [
      "Split: 4\r",
      "Fitting 5 folds for each of 45 candidates, totalling 225 fits\n"
     ]
    },
    {
     "name": "stderr",
     "output_type": "stream",
     "text": [
      "[Parallel(n_jobs=-1)]: Using backend LokyBackend with 12 concurrent workers.\n",
      "[Parallel(n_jobs=-1)]: Done  26 tasks      | elapsed:   14.8s\n",
      "[Parallel(n_jobs=-1)]: Done 176 tasks      | elapsed:  1.3min\n",
      "[Parallel(n_jobs=-1)]: Done 225 out of 225 | elapsed:  1.6min finished\n"
     ]
    },
    {
     "name": "stdout",
     "output_type": "stream",
     "text": [
      "Split: 5\r",
      "Fitting 5 folds for each of 45 candidates, totalling 225 fits\n"
     ]
    },
    {
     "name": "stderr",
     "output_type": "stream",
     "text": [
      "[Parallel(n_jobs=-1)]: Using backend LokyBackend with 12 concurrent workers.\n",
      "[Parallel(n_jobs=-1)]: Done  26 tasks      | elapsed:   14.4s\n",
      "[Parallel(n_jobs=-1)]: Done 176 tasks      | elapsed:  1.3min\n",
      "[Parallel(n_jobs=-1)]: Done 225 out of 225 | elapsed:  1.6min finished\n"
     ]
    },
    {
     "name": "stdout",
     "output_type": "stream",
     "text": [
      "\n",
      "Average expected test MSE: 5.286903293764165\n",
      "\n",
      "Average expected test r2: 0.6255066645600462\n",
      "\n",
      "Average expected test mae: 1.8036839474373898\n",
      "Fitting 5 folds for each of 45 candidates, totalling 225 fits\n"
     ]
    },
    {
     "name": "stderr",
     "output_type": "stream",
     "text": [
      "[Parallel(n_jobs=-1)]: Using backend LokyBackend with 12 concurrent workers.\n",
      "[Parallel(n_jobs=-1)]: Done  26 tasks      | elapsed:   22.8s\n",
      "[Parallel(n_jobs=-1)]: Done 176 tasks      | elapsed:  2.0min\n",
      "[Parallel(n_jobs=-1)]: Done 225 out of 225 | elapsed:  2.5min finished\n"
     ]
    },
    {
     "name": "stdout",
     "output_type": "stream",
     "text": [
      "Selected hyperparameters: {'feat_select__estimator__n_estimators': 100, 'imputation__strategy': 'median', 'regression__C': 2, 'regression__epsilon': 0.1, 'regression__kernel': 'rbf'}\n",
      "True test error: 5.458047657991357\n",
      "Test r2: 0.5752928157399706\n",
      "Test mae: 1.7716924005218748\n"
     ]
    }
   ],
   "source": [
    "pipe = Pipeline([ ('imputation', SimpleImputer()), ('scaling', StandardScaler()),\n",
    "  ('feat_select', SelectFromModel(ExtraTreesRegressor(100))),\n",
    "  ('regression', SVR())\n",
    "])\n",
    "# Prepare sets of parameters for gridsearch\n",
    "parameters = {'imputation__strategy' : ['mean', 'median', 'most_frequent'],\n",
    "              'regression__C' : [0.3, 0.5, 0.8, 1, 2],\n",
    "            'regression__epsilon' : [0.05, 0.1, 0.5],\n",
    "            'regression__kernel' : ['rbf'],\n",
    "            'feat_select__estimator__n_estimators' : [100],\n",
    "}\n",
    "model = GridSearchCV(estimator=pipe, param_grid=parameters, scoring = 'neg_mean_squared_error', cv=5,\n",
    "                   iid=False, n_jobs=-1, verbose = 1)\n",
    "# outer CV (model evaluation)\n",
    "(estimated_test_error, r2, mae) = cv(model, data=X_train, labels=y_train, n_splits=5, want_r2 = True, want_mae = True)\n",
    "print('\\nAverage expected test MSE: {}'.format(np.mean(estimated_test_error)))\n",
    "print('\\nAverage expected test r2: {}'.format(np.mean(r2)))\n",
    "print('\\nAverage expected test mae: {}'.format(np.mean(mae)))\n",
    "# effective test MSE\n",
    "model_fitted = model.fit(X_train, y_train)\n",
    "# see what has been chosen  \n",
    "print('Selected hyperparameters: {}'.format(model_fitted.best_params_) )\n",
    "y_pred = model_fitted.best_estimator_.predict(X_test)\n",
    "print('True test error: {}'.format(mean_squared_error(y_pred, y_test)))\n",
    "print('Test r2: {}'.format(r2_score(y_true= y_test, y_pred = y_pred)))\n",
    "print('Test mae: {}'.format(mean_absolute_error(y_true= y_test, y_pred = y_pred)))"
   ]
  },
  {
   "cell_type": "markdown",
   "metadata": {},
   "source": [
    "## ExtraTrees + XGBoost"
   ]
  },
  {
   "cell_type": "code",
   "execution_count": 22,
   "metadata": {},
   "outputs": [
    {
     "name": "stdout",
     "output_type": "stream",
     "text": [
      "Split: 1\r",
      "Fitting 5 folds for each of 36 candidates, totalling 180 fits\n"
     ]
    },
    {
     "name": "stderr",
     "output_type": "stream",
     "text": [
      "[Parallel(n_jobs=-1)]: Using backend LokyBackend with 12 concurrent workers.\n",
      "[Parallel(n_jobs=-1)]: Done  26 tasks      | elapsed:   15.6s\n",
      "[Parallel(n_jobs=-1)]: Done 180 out of 180 | elapsed:   53.9s finished\n"
     ]
    },
    {
     "name": "stdout",
     "output_type": "stream",
     "text": [
      "[22:32:49] WARNING: /home/conda/feedstock_root/build_artifacts/xgboost_1566327313563/work/src/objective/regression_obj.cu:152: reg:linear is now deprecated in favor of reg:squarederror.\n",
      "Split: 2\r",
      "Fitting 5 folds for each of 36 candidates, totalling 180 fits\n"
     ]
    },
    {
     "name": "stderr",
     "output_type": "stream",
     "text": [
      "[Parallel(n_jobs=-1)]: Using backend LokyBackend with 12 concurrent workers.\n",
      "[Parallel(n_jobs=-1)]: Done  26 tasks      | elapsed:   15.6s\n",
      "[Parallel(n_jobs=-1)]: Done 180 out of 180 | elapsed:   54.0s finished\n"
     ]
    },
    {
     "name": "stdout",
     "output_type": "stream",
     "text": [
      "[22:33:46] WARNING: /home/conda/feedstock_root/build_artifacts/xgboost_1566327313563/work/src/objective/regression_obj.cu:152: reg:linear is now deprecated in favor of reg:squarederror.\n",
      "Split: 3\r",
      "Fitting 5 folds for each of 36 candidates, totalling 180 fits\n"
     ]
    },
    {
     "name": "stderr",
     "output_type": "stream",
     "text": [
      "[Parallel(n_jobs=-1)]: Using backend LokyBackend with 12 concurrent workers.\n",
      "[Parallel(n_jobs=-1)]: Done  26 tasks      | elapsed:   15.4s\n",
      "[Parallel(n_jobs=-1)]: Done 180 out of 180 | elapsed:   53.8s finished\n"
     ]
    },
    {
     "name": "stdout",
     "output_type": "stream",
     "text": [
      "[22:34:41] WARNING: /home/conda/feedstock_root/build_artifacts/xgboost_1566327313563/work/src/objective/regression_obj.cu:152: reg:linear is now deprecated in favor of reg:squarederror.\n",
      "Split: 4\r",
      "Fitting 5 folds for each of 36 candidates, totalling 180 fits\n"
     ]
    },
    {
     "name": "stderr",
     "output_type": "stream",
     "text": [
      "[Parallel(n_jobs=-1)]: Using backend LokyBackend with 12 concurrent workers.\n",
      "[Parallel(n_jobs=-1)]: Done  26 tasks      | elapsed:   15.8s\n",
      "[Parallel(n_jobs=-1)]: Done 180 out of 180 | elapsed:   54.7s finished\n"
     ]
    },
    {
     "name": "stdout",
     "output_type": "stream",
     "text": [
      "[22:35:37] WARNING: /home/conda/feedstock_root/build_artifacts/xgboost_1566327313563/work/src/objective/regression_obj.cu:152: reg:linear is now deprecated in favor of reg:squarederror.\n",
      "Split: 5\r",
      "Fitting 5 folds for each of 36 candidates, totalling 180 fits\n"
     ]
    },
    {
     "name": "stderr",
     "output_type": "stream",
     "text": [
      "[Parallel(n_jobs=-1)]: Using backend LokyBackend with 12 concurrent workers.\n",
      "[Parallel(n_jobs=-1)]: Done  26 tasks      | elapsed:   15.5s\n",
      "[Parallel(n_jobs=-1)]: Done 180 out of 180 | elapsed:   53.8s finished\n"
     ]
    },
    {
     "name": "stdout",
     "output_type": "stream",
     "text": [
      "[22:36:32] WARNING: /home/conda/feedstock_root/build_artifacts/xgboost_1566327313563/work/src/objective/regression_obj.cu:152: reg:linear is now deprecated in favor of reg:squarederror.\n",
      "\n",
      "Average expected test MSE: 5.669313612441239\n",
      "\n",
      "Average expected test r2: 0.5945505047237193\n",
      "\n",
      "Average expected test mae: 1.8752272318164707\n",
      "Fitting 5 folds for each of 36 candidates, totalling 180 fits\n"
     ]
    },
    {
     "name": "stderr",
     "output_type": "stream",
     "text": [
      "[Parallel(n_jobs=-1)]: Using backend LokyBackend with 12 concurrent workers.\n",
      "[Parallel(n_jobs=-1)]: Done  26 tasks      | elapsed:   23.9s\n",
      "[Parallel(n_jobs=-1)]: Done 180 out of 180 | elapsed:  1.4min finished\n"
     ]
    },
    {
     "name": "stdout",
     "output_type": "stream",
     "text": [
      "[22:37:56] WARNING: /home/conda/feedstock_root/build_artifacts/xgboost_1566327313563/work/src/objective/regression_obj.cu:152: reg:linear is now deprecated in favor of reg:squarederror.\n",
      "Selected hyperparameters: {'feat_select__estimator__min_samples_leaf': 4, 'feat_select__estimator__n_estimators': 100, 'imputation__strategy': 'median', 'regression__booster__alpha': 0.5}\n",
      "True test error: 5.948865859724257\n",
      "Test r2: 0.5371007680512069\n",
      "Test mae: 1.8171182853029888\n"
     ]
    }
   ],
   "source": [
    "pipe = Pipeline([ ('imputation', SimpleImputer()), ('scaling', StandardScaler()),\n",
    "  ('feat_select', SelectFromModel(ExtraTreesRegressor())),\n",
    "  ('regression', xgb.XGBRegressor())])\n",
    "# Prepare sets of parameters for gridsearch\n",
    "parameters = {'imputation__strategy' : ['mean', 'median', 'most_frequent'],\n",
    "              'feat_select__estimator__n_estimators' : [100],\n",
    "              'feat_select__estimator__min_samples_leaf' : [1, 2, 4, 6],\n",
    "              'regression__booster__alpha' : [0.05, 0.2, 0.5]\n",
    "}\n",
    "model = GridSearchCV(estimator=pipe, param_grid=parameters, scoring = 'neg_mean_squared_error', cv=5,\n",
    "                   iid=False, n_jobs=-1, verbose = 1)\n",
    "# outer CV (model evaluation)\n",
    "(estimated_test_error, r2, mae) = cv(model, data=X_train, labels=y_train, n_splits=5, want_r2 = True, want_mae = True)\n",
    "print('\\nAverage expected test MSE: {}'.format(np.mean(estimated_test_error)))\n",
    "print('\\nAverage expected test r2: {}'.format(np.mean(r2)))\n",
    "print('\\nAverage expected test mae: {}'.format(np.mean(mae)))\n",
    "# effective test MSE\n",
    "model_fitted = model.fit(X_train, y_train)\n",
    "# see what has been chosen  \n",
    "print('Selected hyperparameters: {}'.format(model_fitted.best_params_) )\n",
    "y_pred = model_fitted.best_estimator_.predict(X_test)\n",
    "print('True test error: {}'.format(mean_squared_error(y_pred, y_test)))\n",
    "print('Test r2: {}'.format(r2_score(y_true= y_test, y_pred = y_pred)))\n",
    "print('Test mae: {}'.format(mean_absolute_error(y_true= y_test, y_pred = y_pred)))"
   ]
  },
  {
   "cell_type": "markdown",
   "metadata": {},
   "source": [
    "# XGBoost"
   ]
  },
  {
   "cell_type": "code",
   "execution_count": 7,
   "metadata": {},
   "outputs": [
    {
     "name": "stdout",
     "output_type": "stream",
     "text": [
      "Split: 1\r",
      "Fitting 5 folds for each of 9 candidates, totalling 45 fits\n"
     ]
    },
    {
     "name": "stderr",
     "output_type": "stream",
     "text": [
      "[Parallel(n_jobs=-1)]: Using backend LokyBackend with 12 concurrent workers.\n",
      "[Parallel(n_jobs=-1)]: Done  45 out of  45 | elapsed:    6.5s finished\n"
     ]
    },
    {
     "name": "stdout",
     "output_type": "stream",
     "text": [
      "[17:16:34] WARNING: /home/conda/feedstock_root/build_artifacts/xgboost_1566327313563/work/src/objective/regression_obj.cu:152: reg:linear is now deprecated in favor of reg:squarederror.\n",
      "Fitting 5 folds for each of 9 candidates, totalling 45 fits\n"
     ]
    },
    {
     "name": "stderr",
     "output_type": "stream",
     "text": [
      "[Parallel(n_jobs=-1)]: Using backend LokyBackend with 12 concurrent workers.\n",
      "[Parallel(n_jobs=-1)]: Done  45 out of  45 | elapsed:    6.4s finished\n"
     ]
    },
    {
     "name": "stdout",
     "output_type": "stream",
     "text": [
      "[17:16:42] WARNING: /home/conda/feedstock_root/build_artifacts/xgboost_1566327313563/work/src/objective/regression_obj.cu:152: reg:linear is now deprecated in favor of reg:squarederror.\n",
      "Fitting 5 folds for each of 9 candidates, totalling 45 fits\n"
     ]
    },
    {
     "name": "stderr",
     "output_type": "stream",
     "text": [
      "[Parallel(n_jobs=-1)]: Using backend LokyBackend with 12 concurrent workers.\n",
      "[Parallel(n_jobs=-1)]: Done  45 out of  45 | elapsed:    7.7s finished\n"
     ]
    },
    {
     "name": "stdout",
     "output_type": "stream",
     "text": [
      "[17:16:50] WARNING: /home/conda/feedstock_root/build_artifacts/xgboost_1566327313563/work/src/objective/regression_obj.cu:152: reg:linear is now deprecated in favor of reg:squarederror.\n",
      "Fitting 5 folds for each of 9 candidates, totalling 45 fits\n"
     ]
    },
    {
     "name": "stderr",
     "output_type": "stream",
     "text": [
      "[Parallel(n_jobs=-1)]: Using backend LokyBackend with 12 concurrent workers.\n",
      "[Parallel(n_jobs=-1)]: Done  45 out of  45 | elapsed:    8.9s finished\n"
     ]
    },
    {
     "name": "stdout",
     "output_type": "stream",
     "text": [
      "[17:17:00] WARNING: /home/conda/feedstock_root/build_artifacts/xgboost_1566327313563/work/src/objective/regression_obj.cu:152: reg:linear is now deprecated in favor of reg:squarederror.\n",
      "Fitting 5 folds for each of 9 candidates, totalling 45 fits\n"
     ]
    },
    {
     "name": "stderr",
     "output_type": "stream",
     "text": [
      "[Parallel(n_jobs=-1)]: Using backend LokyBackend with 12 concurrent workers.\n",
      "[Parallel(n_jobs=-1)]: Done  45 out of  45 | elapsed:    8.9s finished\n"
     ]
    },
    {
     "name": "stdout",
     "output_type": "stream",
     "text": [
      "[17:17:10] WARNING: /home/conda/feedstock_root/build_artifacts/xgboost_1566327313563/work/src/objective/regression_obj.cu:152: reg:linear is now deprecated in favor of reg:squarederror.\n",
      "\n",
      "Average expected test MSE: 5.261738318862812\n",
      "\n",
      "Average expected test r2: 0.6231606159888331\n",
      "\n",
      "Average expected test mae: 1.8150220284418879\n",
      "Fitting 5 folds for each of 9 candidates, totalling 45 fits\n"
     ]
    },
    {
     "name": "stderr",
     "output_type": "stream",
     "text": [
      "[Parallel(n_jobs=-1)]: Using backend LokyBackend with 12 concurrent workers.\n",
      "[Parallel(n_jobs=-1)]: Done  45 out of  45 | elapsed:   12.1s finished\n"
     ]
    },
    {
     "name": "stdout",
     "output_type": "stream",
     "text": [
      "[17:17:23] WARNING: /home/conda/feedstock_root/build_artifacts/xgboost_1566327313563/work/src/objective/regression_obj.cu:152: reg:linear is now deprecated in favor of reg:squarederror.\n",
      "Selected hyperparameters: {'imputation__strategy': 'most_frequent', 'regression__booster__alpha': 0.05}\n",
      "True test error: 5.79298233055769\n",
      "Test r2: 0.5492305365862828\n",
      "Test mae: 1.7747790001871746\n"
     ]
    }
   ],
   "source": [
    "pipe = Pipeline([ ('imputation', SimpleImputer()), ('scaling', StandardScaler()),\n",
    "  ('regression', xgb.XGBRegressor())])\n",
    "# Prepare sets of parameters for gridsearch\n",
    "parameters = {'imputation__strategy' : ['mean', 'median', 'most_frequent'],\n",
    "              'regression__booster__alpha' : [0.05, 0.2, 0.5]\n",
    "}\n",
    "model = GridSearchCV(estimator=pipe, param_grid=parameters, scoring = 'neg_mean_squared_error', cv=5,\n",
    "                   iid=False, n_jobs=-1, verbose = 1)\n",
    "# outer CV (model evaluation)\n",
    "(estimated_test_error, r2, mae) = cv(model, data=X_train, labels=y_train, n_splits=5, want_r2 = True, want_mae = True)\n",
    "print('\\nAverage expected test MSE: {}'.format(np.mean(estimated_test_error)))\n",
    "print('\\nAverage expected test r2: {}'.format(np.mean(r2)))\n",
    "print('\\nAverage expected test mae: {}'.format(np.mean(mae)))\n",
    "# effective test MSE\n",
    "model_fitted = model.fit(X_train, y_train)\n",
    "# see what has been chosen  \n",
    "print('Selected hyperparameters: {}'.format(model_fitted.best_params_) )\n",
    "y_pred = model_fitted.best_estimator_.predict(X_test)\n",
    "print('True test error: {}'.format(mean_squared_error(y_pred, y_test)))\n",
    "print('Test r2: {}'.format(r2_score(y_true= y_test, y_pred = y_pred)))\n",
    "print('Test mae: {}'.format(mean_absolute_error(y_true= y_test, y_pred = y_pred)))"
   ]
  },
  {
   "cell_type": "markdown",
   "metadata": {},
   "source": [
    "## ExtraTrees + RandomForest"
   ]
  },
  {
   "cell_type": "code",
   "execution_count": 23,
   "metadata": {},
   "outputs": [
    {
     "name": "stdout",
     "output_type": "stream",
     "text": [
      "Split: 1\r",
      "Fitting 5 folds for each of 81 candidates, totalling 405 fits\n"
     ]
    },
    {
     "name": "stderr",
     "output_type": "stream",
     "text": [
      "[Parallel(n_jobs=-1)]: Using backend LokyBackend with 12 concurrent workers.\n",
      "[Parallel(n_jobs=-1)]: Done  26 tasks      | elapsed:   14.7s\n",
      "[Parallel(n_jobs=-1)]: Done 176 tasks      | elapsed:  1.1min\n",
      "[Parallel(n_jobs=-1)]: Done 405 out of 405 | elapsed:  1.8min finished\n"
     ]
    },
    {
     "name": "stdout",
     "output_type": "stream",
     "text": [
      "Split: 2\r",
      "Fitting 5 folds for each of 81 candidates, totalling 405 fits\n"
     ]
    },
    {
     "name": "stderr",
     "output_type": "stream",
     "text": [
      "[Parallel(n_jobs=-1)]: Using backend LokyBackend with 12 concurrent workers.\n",
      "[Parallel(n_jobs=-1)]: Done  26 tasks      | elapsed:   14.8s\n",
      "[Parallel(n_jobs=-1)]: Done 176 tasks      | elapsed:  1.1min\n",
      "[Parallel(n_jobs=-1)]: Done 405 out of 405 | elapsed:  1.8min finished\n"
     ]
    },
    {
     "name": "stdout",
     "output_type": "stream",
     "text": [
      "Split: 3\r",
      "Fitting 5 folds for each of 81 candidates, totalling 405 fits\n"
     ]
    },
    {
     "name": "stderr",
     "output_type": "stream",
     "text": [
      "[Parallel(n_jobs=-1)]: Using backend LokyBackend with 12 concurrent workers.\n",
      "[Parallel(n_jobs=-1)]: Done  26 tasks      | elapsed:   14.7s\n",
      "[Parallel(n_jobs=-1)]: Done 176 tasks      | elapsed:  1.1min\n",
      "[Parallel(n_jobs=-1)]: Done 405 out of 405 | elapsed:  1.7min finished\n"
     ]
    },
    {
     "name": "stdout",
     "output_type": "stream",
     "text": [
      "Split: 4\r",
      "Fitting 5 folds for each of 81 candidates, totalling 405 fits\n"
     ]
    },
    {
     "name": "stderr",
     "output_type": "stream",
     "text": [
      "[Parallel(n_jobs=-1)]: Using backend LokyBackend with 12 concurrent workers.\n",
      "[Parallel(n_jobs=-1)]: Done  26 tasks      | elapsed:   15.1s\n",
      "[Parallel(n_jobs=-1)]: Done 176 tasks      | elapsed:  1.1min\n",
      "[Parallel(n_jobs=-1)]: Done 405 out of 405 | elapsed:  1.8min finished\n"
     ]
    },
    {
     "name": "stdout",
     "output_type": "stream",
     "text": [
      "Split: 5\r",
      "Fitting 5 folds for each of 81 candidates, totalling 405 fits\n"
     ]
    },
    {
     "name": "stderr",
     "output_type": "stream",
     "text": [
      "[Parallel(n_jobs=-1)]: Using backend LokyBackend with 12 concurrent workers.\n",
      "[Parallel(n_jobs=-1)]: Done  26 tasks      | elapsed:   15.0s\n",
      "[Parallel(n_jobs=-1)]: Done 176 tasks      | elapsed:  1.1min\n",
      "[Parallel(n_jobs=-1)]: Done 405 out of 405 | elapsed:  1.8min finished\n"
     ]
    },
    {
     "name": "stdout",
     "output_type": "stream",
     "text": [
      "\n",
      "Average expected test MSE: 6.902595882240765\n",
      "\n",
      "Average expected test r2: 0.5082027752675551\n",
      "\n",
      "Average expected test mae: 2.0440479009487307\n",
      "Fitting 5 folds for each of 81 candidates, totalling 405 fits\n"
     ]
    },
    {
     "name": "stderr",
     "output_type": "stream",
     "text": [
      "[Parallel(n_jobs=-1)]: Using backend LokyBackend with 12 concurrent workers.\n",
      "[Parallel(n_jobs=-1)]: Done  26 tasks      | elapsed:   22.6s\n",
      "[Parallel(n_jobs=-1)]: Done 176 tasks      | elapsed:  1.7min\n",
      "[Parallel(n_jobs=-1)]: Done 405 out of 405 | elapsed:  2.7min finished\n"
     ]
    },
    {
     "name": "stdout",
     "output_type": "stream",
     "text": [
      "Selected hyperparameters: {'feat_select__estimator__min_samples_leaf': 8, 'feat_select__estimator__n_estimators': 100, 'imputation__strategy': 'most_frequent', 'regression__max_depth': 6, 'regression__min_samples_leaf': 8}\n",
      "True test error: 7.519267921686595\n",
      "Test r2: 0.4149030373451287\n",
      "Test mae: 2.0371589129997525\n"
     ]
    }
   ],
   "source": [
    "pipe = Pipeline([('imputation', SimpleImputer()), ('scaling', StandardScaler()),\n",
    "  ('feat_select', SelectFromModel(ExtraTreesRegressor())),\n",
    "  ('regression', RandomForestRegressor())\n",
    "])\n",
    "# Prepare sets of parameters for gridsearch\n",
    "parameters = {'imputation__strategy' : ['mean', 'median', 'most_frequent'],\n",
    "              'feat_select__estimator__n_estimators' : [100],\n",
    "              'feat_select__estimator__min_samples_leaf' : [1, 5, 8],\n",
    "            'regression__max_depth' : [2, 3, 6],\n",
    "            'regression__min_samples_leaf' : [1, 3, 8]\n",
    "}\n",
    "model = GridSearchCV(estimator=pipe, param_grid=parameters, scoring = 'neg_mean_squared_error', cv=5,\n",
    "                   iid=False, n_jobs=-1, verbose = 1)\n",
    "\n",
    "# outer CV (model evaluation)\n",
    "(estimated_test_error, r2, mae) = cv(model, data=X_train, labels=y_train, n_splits=5, want_r2 = True, want_mae = True)\n",
    "print('\\nAverage expected test MSE: {}'.format(np.mean(estimated_test_error)))\n",
    "print('\\nAverage expected test r2: {}'.format(np.mean(r2)))\n",
    "print('\\nAverage expected test mae: {}'.format(np.mean(mae)))\n",
    "# effective test MSE\n",
    "\n",
    "model_fitted = model.fit(X_train, y_train)\n",
    "# see what has been chosen    \n",
    "print('Selected hyperparameters: {}'.format(model_fitted.best_params_) )\n",
    "y_pred = model_fitted.best_estimator_.predict(X_test)\n",
    "print('True test error: {}'.format(mean_squared_error(y_pred, y_test)))\n",
    "print('Test r2: {}'.format(r2_score(y_true= y_test, y_pred = y_pred)))\n",
    "print('Test mae: {}'.format(mean_absolute_error(y_true= y_test, y_pred = y_pred)))"
   ]
  },
  {
   "cell_type": "markdown",
   "metadata": {},
   "source": [
    "# random Forest\n"
   ]
  },
  {
   "cell_type": "code",
   "execution_count": 24,
   "metadata": {},
   "outputs": [
    {
     "name": "stdout",
     "output_type": "stream",
     "text": [
      "Split: 1\r",
      "Fitting 5 folds for each of 27 candidates, totalling 135 fits\n"
     ]
    },
    {
     "name": "stderr",
     "output_type": "stream",
     "text": [
      "[Parallel(n_jobs=-1)]: Using backend LokyBackend with 12 concurrent workers.\n",
      "[Parallel(n_jobs=-1)]: Done  26 tasks      | elapsed:    1.2s\n",
      "[Parallel(n_jobs=-1)]: Done 135 out of 135 | elapsed:    7.3s finished\n"
     ]
    },
    {
     "name": "stdout",
     "output_type": "stream",
     "text": [
      "Split: 2\r",
      "Fitting 5 folds for each of 27 candidates, totalling 135 fits\n"
     ]
    },
    {
     "name": "stderr",
     "output_type": "stream",
     "text": [
      "[Parallel(n_jobs=-1)]: Using backend LokyBackend with 12 concurrent workers.\n",
      "[Parallel(n_jobs=-1)]: Done  26 tasks      | elapsed:    1.2s\n",
      "[Parallel(n_jobs=-1)]: Done 135 out of 135 | elapsed:    7.2s finished\n"
     ]
    },
    {
     "name": "stdout",
     "output_type": "stream",
     "text": [
      "Split: 3\r",
      "Fitting 5 folds for each of 27 candidates, totalling 135 fits\n"
     ]
    },
    {
     "name": "stderr",
     "output_type": "stream",
     "text": [
      "[Parallel(n_jobs=-1)]: Using backend LokyBackend with 12 concurrent workers.\n",
      "[Parallel(n_jobs=-1)]: Done  26 tasks      | elapsed:    1.2s\n",
      "[Parallel(n_jobs=-1)]: Done 135 out of 135 | elapsed:    7.3s finished\n"
     ]
    },
    {
     "name": "stdout",
     "output_type": "stream",
     "text": [
      "Split: 4\r",
      "Fitting 5 folds for each of 27 candidates, totalling 135 fits\n"
     ]
    },
    {
     "name": "stderr",
     "output_type": "stream",
     "text": [
      "[Parallel(n_jobs=-1)]: Using backend LokyBackend with 12 concurrent workers.\n",
      "[Parallel(n_jobs=-1)]: Done  26 tasks      | elapsed:    1.2s\n",
      "[Parallel(n_jobs=-1)]: Done 135 out of 135 | elapsed:    7.2s finished\n"
     ]
    },
    {
     "name": "stdout",
     "output_type": "stream",
     "text": [
      "Split: 5\r",
      "Fitting 5 folds for each of 27 candidates, totalling 135 fits\n"
     ]
    },
    {
     "name": "stderr",
     "output_type": "stream",
     "text": [
      "[Parallel(n_jobs=-1)]: Using backend LokyBackend with 12 concurrent workers.\n",
      "[Parallel(n_jobs=-1)]: Done  26 tasks      | elapsed:    1.2s\n",
      "[Parallel(n_jobs=-1)]: Done 135 out of 135 | elapsed:    7.2s finished\n"
     ]
    },
    {
     "name": "stdout",
     "output_type": "stream",
     "text": [
      "\n",
      "Average expected test MSE: 7.184983230606642\n",
      "\n",
      "Average expected test r2: 0.4878969027029368\n",
      "\n",
      "Average expected test mae: 2.1026515917544186\n",
      "Fitting 5 folds for each of 27 candidates, totalling 135 fits\n"
     ]
    },
    {
     "name": "stderr",
     "output_type": "stream",
     "text": [
      "[Parallel(n_jobs=-1)]: Using backend LokyBackend with 12 concurrent workers.\n",
      "[Parallel(n_jobs=-1)]: Done  26 tasks      | elapsed:    1.5s\n",
      "[Parallel(n_jobs=-1)]: Done 135 out of 135 | elapsed:    9.1s finished\n"
     ]
    },
    {
     "name": "stdout",
     "output_type": "stream",
     "text": [
      "Selected hyperparameters: {'imputation__strategy': 'mean', 'regression__max_depth': 6, 'regression__min_samples_leaf': 6}\n",
      "True test error: 6.61881137685613\n",
      "Test r2: 0.48497028257035657\n",
      "Test mae: 1.9707515785238645\n"
     ]
    }
   ],
   "source": [
    "pipe = Pipeline([('imputation', SimpleImputer()), ('scaling', StandardScaler()),\n",
    "  ('regression', RandomForestRegressor())\n",
    "])\n",
    "# Prepare sets of parameters for gridsearch\n",
    "parameters = {'imputation__strategy' : ['mean', 'median', 'most_frequent'],\n",
    "            'regression__max_depth' : [2, 3, 6],\n",
    "            'regression__min_samples_leaf' : [1, 3, 6]\n",
    "}\n",
    "model = GridSearchCV(estimator=pipe, param_grid=parameters, scoring = 'neg_mean_squared_error', cv=5,\n",
    "                   iid=False, n_jobs=-1, verbose = 1)\n",
    "\n",
    "# outer CV (model evaluation)\n",
    "(estimated_test_error, r2, mae) = cv(model, data=X_train, labels=y_train, n_splits=5, want_r2 = True, want_mae = True)\n",
    "print('\\nAverage expected test MSE: {}'.format(np.mean(estimated_test_error)))\n",
    "print('\\nAverage expected test r2: {}'.format(np.mean(r2)))\n",
    "print('\\nAverage expected test mae: {}'.format(np.mean(mae)))\n",
    "# effective test MSE\n",
    "\n",
    "model_fitted = model.fit(X_train, y_train)\n",
    "# see what has been chosen    \n",
    "print('Selected hyperparameters: {}'.format(model_fitted.best_params_) )\n",
    "y_pred = model_fitted.best_estimator_.predict(X_test)\n",
    "print('True test error: {}'.format(mean_squared_error(y_pred, y_test)))\n",
    "print('Test r2: {}'.format(r2_score(y_true= y_test, y_pred = y_pred)))\n",
    "print('Test mae: {}'.format(mean_absolute_error(y_true= y_test, y_pred = y_pred)))"
   ]
  },
  {
   "cell_type": "markdown",
   "metadata": {},
   "source": [
    "## Lasso"
   ]
  },
  {
   "cell_type": "code",
   "execution_count": 7,
   "metadata": {},
   "outputs": [
    {
     "name": "stdout",
     "output_type": "stream",
     "text": [
      "Split: 1\r",
      "Fitting 5 folds for each of 36 candidates, totalling 180 fits\n"
     ]
    },
    {
     "name": "stderr",
     "output_type": "stream",
     "text": [
      "[Parallel(n_jobs=-1)]: Using backend LokyBackend with 12 concurrent workers.\n",
      "[Parallel(n_jobs=-1)]: Done  26 tasks      | elapsed:    1.5s\n",
      "[Parallel(n_jobs=-1)]: Done 180 out of 180 | elapsed:    3.4s finished\n",
      "[Parallel(n_jobs=-1)]: Using backend LokyBackend with 12 concurrent workers.\n"
     ]
    },
    {
     "name": "stdout",
     "output_type": "stream",
     "text": [
      "Split: 2\r",
      "Fitting 5 folds for each of 36 candidates, totalling 180 fits\n"
     ]
    },
    {
     "name": "stderr",
     "output_type": "stream",
     "text": [
      "[Parallel(n_jobs=-1)]: Done  36 tasks      | elapsed:    0.6s\n",
      "[Parallel(n_jobs=-1)]: Done 180 out of 180 | elapsed:    2.1s finished\n",
      "[Parallel(n_jobs=-1)]: Using backend LokyBackend with 12 concurrent workers.\n"
     ]
    },
    {
     "name": "stdout",
     "output_type": "stream",
     "text": [
      "Split: 3\r",
      "Fitting 5 folds for each of 36 candidates, totalling 180 fits\n"
     ]
    },
    {
     "name": "stderr",
     "output_type": "stream",
     "text": [
      "[Parallel(n_jobs=-1)]: Done  32 tasks      | elapsed:    0.5s\n",
      "[Parallel(n_jobs=-1)]: Done 180 out of 180 | elapsed:    2.0s finished\n",
      "[Parallel(n_jobs=-1)]: Using backend LokyBackend with 12 concurrent workers.\n"
     ]
    },
    {
     "name": "stdout",
     "output_type": "stream",
     "text": [
      "Split: 4\r",
      "Fitting 5 folds for each of 36 candidates, totalling 180 fits\n"
     ]
    },
    {
     "name": "stderr",
     "output_type": "stream",
     "text": [
      "[Parallel(n_jobs=-1)]: Done  32 tasks      | elapsed:    0.6s\n",
      "[Parallel(n_jobs=-1)]: Done 180 out of 180 | elapsed:    2.0s finished\n",
      "[Parallel(n_jobs=-1)]: Using backend LokyBackend with 12 concurrent workers.\n"
     ]
    },
    {
     "name": "stdout",
     "output_type": "stream",
     "text": [
      "Split: 5\r",
      "Fitting 5 folds for each of 36 candidates, totalling 180 fits\n"
     ]
    },
    {
     "name": "stderr",
     "output_type": "stream",
     "text": [
      "[Parallel(n_jobs=-1)]: Done  36 tasks      | elapsed:    0.6s\n",
      "[Parallel(n_jobs=-1)]: Done 180 out of 180 | elapsed:    1.9s finished\n",
      "[Parallel(n_jobs=-1)]: Using backend LokyBackend with 12 concurrent workers.\n"
     ]
    },
    {
     "name": "stdout",
     "output_type": "stream",
     "text": [
      "\n",
      "Average expected test MSE: 9.877312142754754\n",
      "\n",
      "Average expected test r2: 0.2954501815002074\n",
      "\n",
      "Average expected test mae: 2.5463719001333525\n",
      "Fitting 5 folds for each of 36 candidates, totalling 180 fits\n"
     ]
    },
    {
     "name": "stderr",
     "output_type": "stream",
     "text": [
      "[Parallel(n_jobs=-1)]: Done  26 tasks      | elapsed:    0.9s\n"
     ]
    },
    {
     "name": "stdout",
     "output_type": "stream",
     "text": [
      "Selected hyperparameters: {'imputation__strategy': 'mean', 'regression__alpha': 1}\n",
      "True test error: 9.58189753364129\n",
      "Test r2: 0.25440359330271034\n",
      "Test mae: 2.4572954206670223\n"
     ]
    },
    {
     "name": "stderr",
     "output_type": "stream",
     "text": [
      "[Parallel(n_jobs=-1)]: Done 180 out of 180 | elapsed:    3.3s finished\n"
     ]
    }
   ],
   "source": [
    "pipe = Pipeline([('imputation', SimpleImputer()), ('scaling', StandardScaler()),\n",
    "  ('regression', Lasso())\n",
    "])\n",
    "# Prepare sets of parameters for gridsearch\n",
    "parameters = {'imputation__strategy' : ['mean', 'median', 'most_frequent'],\n",
    "              'regression__alpha' : [1, 1.2, 1.4, 1.7, 1.9, 2, 2.3, 2.5, 3, 3.5, 4, 6],\n",
    "}\n",
    "model = GridSearchCV(estimator=pipe, param_grid=parameters, scoring = 'neg_mean_squared_error', cv=5,\n",
    "                   iid=False, n_jobs=-1, verbose = 1)\n",
    "\n",
    "# outer CV (model evaluation)\n",
    "(estimated_test_error, r2, mae) = cv(model, data=X_train, labels=y_train, n_splits=5, want_r2=True, want_mae = True)\n",
    "print('\\nAverage expected test MSE: {}'.format(np.mean(estimated_test_error)))\n",
    "print('\\nAverage expected test r2: {}'.format(np.mean(r2)))\n",
    "print('\\nAverage expected test mae: {}'.format(np.mean(mae)))\n",
    "# effective test MSE\n",
    "model_fitted = model.fit(X_train, y_train)\n",
    "# see what has been chosen     \n",
    "print('Selected hyperparameters: {}'.format(model_fitted.best_params_) )\n",
    "y_pred = model_fitted.best_estimator_.predict(X_test)\n",
    "print('True test error: {}'.format(mean_squared_error(y_pred, y_test)))\n",
    "print('Test r2: {}'.format(r2_score(y_true= y_test, y_pred = y_pred)))\n",
    "print('Test mae: {}'.format(mean_absolute_error(y_true= y_test, y_pred = y_pred)))"
   ]
  },
  {
   "cell_type": "code",
   "execution_count": null,
   "metadata": {},
   "outputs": [],
   "source": []
  }
 ],
 "metadata": {
  "kernelspec": {
   "display_name": "dslab",
   "language": "python",
   "name": "dslab"
  },
  "language_info": {
   "codemirror_mode": {
    "name": "ipython",
    "version": 3
   },
   "file_extension": ".py",
   "mimetype": "text/x-python",
   "name": "python",
   "nbconvert_exporter": "python",
   "pygments_lexer": "ipython3",
   "version": "3.6.9"
  }
 },
 "nbformat": 4,
 "nbformat_minor": 2
}
