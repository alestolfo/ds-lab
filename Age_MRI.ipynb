{
 "cells": [
  {
   "cell_type": "markdown",
   "metadata": {},
   "source": [
    "# Age prediction from MRI features"
   ]
  },
  {
   "cell_type": "code",
   "execution_count": 50,
   "metadata": {},
   "outputs": [],
   "source": [
    "# libraries\n",
    "import matplotlib.pyplot as plt\n",
    "import numpy as np\n",
    "from utils import visualize, create_dataset_age, create_dataset_mri, cv\n",
    "from sklearn.svm import SVR\n",
    "from sklearn.model_selection import cross_val_score, train_test_split\n",
    "from sklearn.preprocessing import StandardScaler\n",
    "import statsmodels.api as sm\n",
    "from sklearn.linear_model import LinearRegression\n",
    "from sklearn.metrics import mean_squared_error\n",
    "from sklearn.model_selection import KFold\n",
    "import seaborn as sns\n",
    "from sklearn.ensemble import ExtraTreesRegressor, RandomForestRegressor\n",
    "from sklearn.feature_selection import SelectFromModel, SelectKBest, f_regression\n",
    "from sklearn.pipeline import Pipeline\n",
    "from sklearn.model_selection import GridSearchCV\n",
    "from sklearn.metrics import mean_squared_error, make_scorer\n",
    "import xgboost as xgb"
   ]
  },
  {
   "cell_type": "code",
   "execution_count": 2,
   "metadata": {},
   "outputs": [],
   "source": [
    "import warnings\n",
    "warnings.filterwarnings('ignore')"
   ]
  },
  {
   "cell_type": "markdown",
   "metadata": {},
   "source": [
    "## Create dataset"
   ]
  },
  {
   "cell_type": "code",
   "execution_count": 4,
   "metadata": {},
   "outputs": [],
   "source": [
    "target = 'Age'\n",
    "# use all MRI high-level features, no DTI\n",
    "data = create_dataset_mri(SCORE = target)\n",
    "# for the moment, remove the diagnosis colums\n",
    "try:\n",
    "    data.drop(columns=['DX_01_Cat'], inplace=True)\n",
    "except:\n",
    "    pass\n",
    "try:\n",
    "    data.drop(columns=['DX_01_Sub'], inplace=True)\n",
    "except:\n",
    "    pass\n",
    "try:\n",
    "    data.drop(columns=['DX_01'], inplace=True)\n",
    "except:\n",
    "    pass"
   ]
  },
  {
   "cell_type": "code",
   "execution_count": 5,
   "metadata": {},
   "outputs": [
    {
     "name": "stdout",
     "output_type": "stream",
     "text": [
      "(1146, 371)\n",
      "(1146, 371)\n"
     ]
    }
   ],
   "source": [
    "# Drop the rows with some NaNs\n",
    "print(data.shape)\n",
    "data.dropna(axis=0, inplace=True)\n",
    "print(data.shape)\n",
    "column_names = data.columns[2:]"
   ]
  },
  {
   "cell_type": "code",
   "execution_count": 7,
   "metadata": {},
   "outputs": [],
   "source": [
    "# labels and features\n",
    "y = data[target]\n",
    "X = data.drop([target, 'ID'], axis=1)"
   ]
  },
  {
   "cell_type": "markdown",
   "metadata": {},
   "source": [
    "## Fix a baseline (mean age)"
   ]
  },
  {
   "cell_type": "code",
   "execution_count": 8,
   "metadata": {
    "scrolled": true
   },
   "outputs": [
    {
     "name": "stdout",
     "output_type": "stream",
     "text": [
      "mean_age = 10.719744772251309\n",
      "baseline_MSE = 13.723839851203406\n"
     ]
    }
   ],
   "source": [
    "# Baseline\n",
    "mean = np.mean(y)\n",
    "print('mean_age = {}'.format(mean))\n",
    "baseline_MSE = sum((mean - y)**2)/len(y)\n",
    "print('baseline_MSE = {}'.format(baseline_MSE))"
   ]
  },
  {
   "cell_type": "markdown",
   "metadata": {},
   "source": [
    "# Explore different regressors and feature selection procedures"
   ]
  },
  {
   "cell_type": "code",
   "execution_count": 9,
   "metadata": {},
   "outputs": [],
   "source": [
    "# split the dataset\n",
    "X_train, X_test, y_train, y_test = train_test_split(X, y, test_size=0.25, random_state=42)"
   ]
  },
  {
   "cell_type": "markdown",
   "metadata": {},
   "source": [
    "## SelectKBest + SVR\n"
   ]
  },
  {
   "cell_type": "code",
   "execution_count": 10,
   "metadata": {},
   "outputs": [],
   "source": [
    "pipe = Pipeline([ ('scaling', StandardScaler()),\n",
    "  ('feat_select', SelectKBest()),\n",
    "  ('regression', SVR())\n",
    "])\n",
    "# Prepare sets of parameters for gridsearch\n",
    "parameters = {'regression__C' : [0.5, 0.8, 1, 1.5, 2],\n",
    "            'regression__epsilon' : [0.05, 0.1, 0.3, 0.5],\n",
    "            'regression__kernel' : ['rbf'],\n",
    "            'feat_select__score_func' : [f_regression],\n",
    "            'feat_select__k' : [80, 100, 120, 140, 160]}"
   ]
  },
  {
   "cell_type": "code",
   "execution_count": 11,
   "metadata": {},
   "outputs": [],
   "source": [
    "model = GridSearchCV(estimator=pipe, param_grid=parameters, scoring = make_scorer(mean_squared_error), cv=5,\n",
    "                   iid=False, n_jobs=-1)\n",
    "# inner CV (model selection)\n",
    "model = model.fit(X_train, y_train)"
   ]
  },
  {
   "cell_type": "code",
   "execution_count": 13,
   "metadata": {},
   "outputs": [
    {
     "name": "stdout",
     "output_type": "stream",
     "text": [
      "Mean cross-validated score of the best estimator: 5.791717460813175\n",
      "Selected hyperparameters: {'feat_select__k': 80, 'feat_select__score_func': <function f_regression at 0x7f7a0be2aea0>, 'regression__C': 0.5, 'regression__epsilon': 0.5, 'regression__kernel': 'rbf'}\n"
     ]
    }
   ],
   "source": [
    "# see what has been chosen\n",
    "print('Mean cross-validated score of the best estimator: {}'.format(model.best_score_)  )      \n",
    "print('Selected hyperparameters: {}'.format(model.best_params_) )"
   ]
  },
  {
   "cell_type": "code",
   "execution_count": 14,
   "metadata": {},
   "outputs": [
    {
     "name": "stdout",
     "output_type": "stream",
     "text": [
      "Split: 1\r",
      "Split: 2\r\n",
      "Average expected test MSE: 6.700180382778985\n"
     ]
    }
   ],
   "source": [
    "# outer CV (model evaluation)\n",
    "estimated_test_error = cv(model.best_estimator_, data=X_train, labels=y_train, n_splits=6)\n",
    "print('\\nAverage expected test MSE: {}'.format(np.mean(estimated_test_error)))"
   ]
  },
  {
   "cell_type": "code",
   "execution_count": 15,
   "metadata": {},
   "outputs": [
    {
     "name": "stdout",
     "output_type": "stream",
     "text": [
      "True test error: 7.052733583368861\n"
     ]
    }
   ],
   "source": [
    "# effective test MSE\n",
    "y_pred = model.best_estimator_.predict(X_test)\n",
    "print('True test error: {}'.format(mean_squared_error(y_pred, y_test)))"
   ]
  },
  {
   "cell_type": "markdown",
   "metadata": {},
   "source": [
    "## ExtraTrees + SVR"
   ]
  },
  {
   "cell_type": "code",
   "execution_count": 20,
   "metadata": {},
   "outputs": [],
   "source": [
    "pipe = Pipeline([ ('scaling', StandardScaler()),\n",
    "  ('feat_select', SelectFromModel(ExtraTreesRegressor(100))),\n",
    "  ('regression', SVR())\n",
    "])\n",
    "# Prepare sets of parameters for gridsearch\n",
    "parameters = {'regression__C' : [0.5, 0.8, 1, 1.5, 2],\n",
    "            'regression__epsilon' : [0.05, 0.1, 0.3, 0.5],\n",
    "            'regression__kernel' : ['rbf'],\n",
    "            'feat_select__estimator__n_estimators' : [100, 130],\n",
    "            'feat_select__threshold' : [-np.inf],\n",
    "            'feat_select__max_features' : [80, 100]\n",
    "}"
   ]
  },
  {
   "cell_type": "code",
   "execution_count": 21,
   "metadata": {},
   "outputs": [],
   "source": [
    "model = GridSearchCV(estimator=pipe, param_grid=parameters, scoring = make_scorer(mean_squared_error), cv=5,\n",
    "                   iid=False, n_jobs=-1)\n",
    "# inner CV (model selection)\n",
    "model = model.fit(X_train, y_train)"
   ]
  },
  {
   "cell_type": "code",
   "execution_count": 23,
   "metadata": {},
   "outputs": [
    {
     "name": "stdout",
     "output_type": "stream",
     "text": [
      "Mean cross-validated score of the best estimator: 5.27372739879798\n",
      "Selected hyperparameters: {'feat_select__estimator__n_estimators': 100, 'feat_select__max_features': 100, 'feat_select__threshold': -inf, 'regression__C': 0.5, 'regression__epsilon': 0.3, 'regression__kernel': 'rbf'}\n"
     ]
    }
   ],
   "source": [
    "# see what has been chosen\n",
    "print('Mean cross-validated score of the best estimator: {}'.format(model.best_score_)  )      \n",
    "print('Selected hyperparameters: {}'.format(model.best_params_) )"
   ]
  },
  {
   "cell_type": "code",
   "execution_count": 24,
   "metadata": {},
   "outputs": [
    {
     "name": "stdout",
     "output_type": "stream",
     "text": [
      "Split: 2\n",
      "Average expected test MSE: 5.907352805602215\n"
     ]
    }
   ],
   "source": [
    "# outer CV (model evaluation)\n",
    "estimated_test_error = cv(model.best_estimator_, data=X_train, labels=y_train, n_splits=2)\n",
    "print('\\nAverage expected test MSE: {}'.format(np.mean(estimated_test_error)))"
   ]
  },
  {
   "cell_type": "code",
   "execution_count": 25,
   "metadata": {},
   "outputs": [
    {
     "name": "stdout",
     "output_type": "stream",
     "text": [
      "True test error: 6.395435888429998\n"
     ]
    }
   ],
   "source": [
    "# effective test MSE\n",
    "y_pred = model.best_estimator_.predict(X_test)\n",
    "print('True test error: {}'.format(mean_squared_error(y_pred, y_test)))"
   ]
  },
  {
   "cell_type": "markdown",
   "metadata": {},
   "source": [
    "## ExtraTrees + RandomForest"
   ]
  },
  {
   "cell_type": "code",
   "execution_count": 41,
   "metadata": {},
   "outputs": [],
   "source": [
    "pipe = Pipeline([ ('scaling', StandardScaler()),\n",
    "  ('feat_select', SelectFromModel(ExtraTreesRegressor())),\n",
    "  ('regression', RandomForestRegressor())\n",
    "])\n",
    "# Prepare sets of parameters for gridsearch\n",
    "parameters = {'feat_select__estimator__n_estimators' : [50, 100],\n",
    "              'feat_select__estimator__min_samples_leaf' : [1, 5, 8],\n",
    "            'feat_select__threshold' : [-np.inf],\n",
    "            'feat_select__max_features' : [100],\n",
    "            'regression__max_depth' : [3, 6, 12],\n",
    "            'regression__min_samples_leaf' : [1, 3, 5, 8]\n",
    "}\n"
   ]
  },
  {
   "cell_type": "code",
   "execution_count": 42,
   "metadata": {},
   "outputs": [
    {
     "name": "stdout",
     "output_type": "stream",
     "text": [
      "Fitting 5 folds for each of 72 candidates, totalling 360 fits\n"
     ]
    },
    {
     "name": "stderr",
     "output_type": "stream",
     "text": [
      "[Parallel(n_jobs=-1)]: Using backend LokyBackend with 12 concurrent workers.\n",
      "[Parallel(n_jobs=-1)]: Done  26 tasks      | elapsed:   10.8s\n",
      "[Parallel(n_jobs=-1)]: Done 176 tasks      | elapsed:  1.3min\n",
      "[Parallel(n_jobs=-1)]: Done 360 out of 360 | elapsed:  2.0min finished\n"
     ]
    }
   ],
   "source": [
    "model = GridSearchCV(estimator=pipe, param_grid=parameters, scoring = make_scorer(mean_squared_error), cv=5,\n",
    "                   iid=False, n_jobs=-1, verbose = 1)\n",
    "# inner CV (model selection)\n",
    "model = model.fit(X_train, y_train)"
   ]
  },
  {
   "cell_type": "code",
   "execution_count": 43,
   "metadata": {},
   "outputs": [
    {
     "name": "stdout",
     "output_type": "stream",
     "text": [
      "Mean cross-validated score of the best estimator: 7.580203309009245\n",
      "Selected hyperparameters: {'feat_select__estimator__min_samples_leaf': 1, 'feat_select__estimator__n_estimators': 100, 'feat_select__max_features': 100, 'feat_select__threshold': -inf, 'regression__max_depth': 3, 'regression__min_samples_leaf': 3}\n"
     ]
    }
   ],
   "source": [
    "# see what has been chosen\n",
    "print('Mean cross-validated score of the best estimator: {}'.format(model.best_score_)  )      \n",
    "print('Selected hyperparameters: {}'.format(model.best_params_) )"
   ]
  },
  {
   "cell_type": "code",
   "execution_count": 44,
   "metadata": {},
   "outputs": [
    {
     "name": "stdout",
     "output_type": "stream",
     "text": [
      "Split: 5\n",
      "Average expected test MSE: 7.114703042649384\n"
     ]
    }
   ],
   "source": [
    "# outer CV (model evaluation)\n",
    "estimated_test_error = cv(model.best_estimator_, data=X_train, labels=y_train, n_splits=5)\n",
    "print('\\nAverage expected test MSE: {}'.format(np.mean(estimated_test_error)))"
   ]
  },
  {
   "cell_type": "code",
   "execution_count": 45,
   "metadata": {},
   "outputs": [
    {
     "name": "stdout",
     "output_type": "stream",
     "text": [
      "True test error: 7.623688421484941\n"
     ]
    }
   ],
   "source": [
    "# effective test MSE\n",
    "y_pred = model.best_estimator_.predict(X_test)\n",
    "print('True test error: {}'.format(mean_squared_error(y_pred, y_test)))"
   ]
  },
  {
   "cell_type": "markdown",
   "metadata": {},
   "source": [
    "## ExtraTrees + XGBoost"
   ]
  },
  {
   "cell_type": "code",
   "execution_count": 74,
   "metadata": {},
   "outputs": [],
   "source": [
    "pipe = Pipeline([ ('scaling', StandardScaler()),\n",
    "  ('feat_select', SelectFromModel(ExtraTreesRegressor())),\n",
    "  ('regression', xgb.XGBRegressor())])\n",
    "# Prepare sets of parameters for gridsearch\n",
    "parameters = {'feat_select__estimator__n_estimators' : [65],\n",
    "              'feat_select__estimator__min_samples_leaf' : [1, 2, 5, 8],\n",
    "              'feat_select__threshold' : [-np.inf],\n",
    "              'feat_select__max_features' : [20, 30, 50, 60, 70],\n",
    "}\n"
   ]
  },
  {
   "cell_type": "code",
   "execution_count": 75,
   "metadata": {},
   "outputs": [
    {
     "name": "stdout",
     "output_type": "stream",
     "text": [
      "Fitting 5 folds for each of 20 candidates, totalling 100 fits\n"
     ]
    },
    {
     "name": "stderr",
     "output_type": "stream",
     "text": [
      "[Parallel(n_jobs=-1)]: Using backend LokyBackend with 12 concurrent workers.\n",
      "[Parallel(n_jobs=-1)]: Done  26 tasks      | elapsed:   26.3s\n",
      "[Parallel(n_jobs=-1)]: Done 100 out of 100 | elapsed:   51.4s finished\n"
     ]
    },
    {
     "name": "stdout",
     "output_type": "stream",
     "text": [
      "[18:54:57] WARNING: /home/conda/feedstock_root/build_artifacts/xgboost_1566327313563/work/src/objective/regression_obj.cu:152: reg:linear is now deprecated in favor of reg:squarederror.\n"
     ]
    }
   ],
   "source": [
    "model = GridSearchCV(estimator=pipe, param_grid=parameters, scoring = make_scorer(mean_squared_error), cv=5,\n",
    "                   iid=False, n_jobs=-1, verbose = 1)\n",
    "# inner CV (model selection)\n",
    "model = model.fit(X_train, y_train)"
   ]
  },
  {
   "cell_type": "code",
   "execution_count": 79,
   "metadata": {},
   "outputs": [
    {
     "name": "stdout",
     "output_type": "stream",
     "text": [
      "Mean cross-validated score of the best estimator: 6.169314573457627\n",
      "Selected hyperparameters: {'feat_select__estimator__min_samples_leaf': 8, 'feat_select__estimator__n_estimators': 65, 'feat_select__max_features': 20, 'feat_select__threshold': -inf}\n"
     ]
    }
   ],
   "source": [
    "# see what has been chosen\n",
    "print('Mean cross-validated score of the best estimator: {}'.format(model.best_score_)  )      \n",
    "print('Selected hyperparameters: {}'.format(model.best_params_) )"
   ]
  },
  {
   "cell_type": "code",
   "execution_count": 80,
   "metadata": {},
   "outputs": [
    {
     "name": "stdout",
     "output_type": "stream",
     "text": [
      "[20:30:07] WARNING: /home/conda/feedstock_root/build_artifacts/xgboost_1566327313563/work/src/objective/regression_obj.cu:152: reg:linear is now deprecated in favor of reg:squarederror.\n",
      "[20:30:08] WARNING: /home/conda/feedstock_root/build_artifacts/xgboost_1566327313563/work/src/objective/regression_obj.cu:152: reg:linear is now deprecated in favor of reg:squarederror.\n",
      "[20:30:09] WARNING: /home/conda/feedstock_root/build_artifacts/xgboost_1566327313563/work/src/objective/regression_obj.cu:152: reg:linear is now deprecated in favor of reg:squarederror.\n",
      "[20:30:09] WARNING: /home/conda/feedstock_root/build_artifacts/xgboost_1566327313563/work/src/objective/regression_obj.cu:152: reg:linear is now deprecated in favor of reg:squarederror.\n",
      "[20:30:10] WARNING: /home/conda/feedstock_root/build_artifacts/xgboost_1566327313563/work/src/objective/regression_obj.cu:152: reg:linear is now deprecated in favor of reg:squarederror.\n",
      "\n",
      "Average expected test MSE: 6.182130998847278\n"
     ]
    }
   ],
   "source": [
    "# outer CV (model evaluation)\n",
    "estimated_test_error = cv(model.best_estimator_, data=X_train, labels=y_train, n_splits=5)\n",
    "print('\\nAverage expected test MSE: {}'.format(np.mean(estimated_test_error)))"
   ]
  },
  {
   "cell_type": "code",
   "execution_count": 81,
   "metadata": {},
   "outputs": [
    {
     "name": "stdout",
     "output_type": "stream",
     "text": [
      "True test error: 6.827270787403901\n"
     ]
    }
   ],
   "source": [
    "# effective test MSE\n",
    "y_pred = model.best_estimator_.predict(X_test)\n",
    "print('True test error: {}'.format(mean_squared_error(y_pred, y_test)))"
   ]
  },
  {
   "cell_type": "code",
   "execution_count": null,
   "metadata": {},
   "outputs": [],
   "source": []
  },
  {
   "cell_type": "code",
   "execution_count": null,
   "metadata": {},
   "outputs": [],
   "source": []
  }
 ],
 "metadata": {
  "kernelspec": {
   "display_name": "dslab",
   "language": "python",
   "name": "dslab"
  },
  "language_info": {
   "codemirror_mode": {
    "name": "ipython",
    "version": 3
   },
   "file_extension": ".py",
   "mimetype": "text/x-python",
   "name": "python",
   "nbconvert_exporter": "python",
   "pygments_lexer": "ipython3",
   "version": "3.6.9"
  }
 },
 "nbformat": 4,
 "nbformat_minor": 2
}
