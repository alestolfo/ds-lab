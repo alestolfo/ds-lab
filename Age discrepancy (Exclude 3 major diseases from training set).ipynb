{
 "cells": [
  {
   "cell_type": "markdown",
   "metadata": {},
   "source": [
    "# Age discrepancy"
   ]
  },
  {
   "cell_type": "markdown",
   "metadata": {},
   "source": [
    "Now we will try to correlate age discrepancy with some scores of the behavioral dataset. Our model to predict age uses only the structural MRI features.\n",
    "Thing I would like to check: MULTIPLE TESTING/INBALANCE PROBLEMS?"
   ]
  },
  {
   "cell_type": "code",
   "execution_count": 1,
   "metadata": {},
   "outputs": [
    {
     "name": "stdout",
     "output_type": "stream",
     "text": [
      "WARNING:tensorflow:From /home/camillca/anaconda3/envs/dslab/lib/python3.6/site-packages/tensorflow/contrib/learn/python/learn/datasets/base.py:198: retry (from tensorflow.contrib.learn.python.learn.datasets.base) is deprecated and will be removed in a future version.\n",
      "Instructions for updating:\n",
      "Use the retry module or similar alternatives.\n"
     ]
    }
   ],
   "source": [
    "import warnings\n",
    "warnings.filterwarnings('ignore')\n",
    "from utils import create_dataset_mri, cv_for_cde, create_dataset_eeg\n",
    "from cde.density_estimator import MixtureDensityNetwork\n",
    "import numpy as np\n",
    "import tensorflow as tf\n",
    "from sklearn.model_selection import cross_val_score, train_test_split\n",
    "from sklearn.metrics import mean_squared_error\n",
    "from sklearn.preprocessing import StandardScaler\n",
    "from sklearn.model_selection import KFold\n",
    "from tensorflow.python.keras.activations import tanh\n",
    "from sklearn.impute import SimpleImputer\n",
    "import pandas as pd\n",
    "import tensorflow as tf\n",
    "import statsmodels.api as sm\n",
    "from statsmodels.formula.api import ols\n",
    "from scipy.stats import ttest_ind\n",
    "from statsmodels.stats.multitest import multipletests"
   ]
  },
  {
   "cell_type": "code",
   "execution_count": 2,
   "metadata": {},
   "outputs": [],
   "source": [
    "# Behavioral data\n",
    "behavioral = pd.read_csv('data/Behavioral/cleaned/HBNFinalSummaries.csv')\n",
    "# Create dataset MRI\n",
    "target = 'Age'\n",
    "data = create_dataset_mri(SCORE = target)\n",
    "autistics = create_dataset_mri(select_disease = 'Autism Spectrum Disorder', select_category = 'DX_01', SCORE = target)\n",
    "combined = create_dataset_mri(select_disease = 'ADHD-Combined Type', select_category = 'DX_01', SCORE = target)\n",
    "inattentive = create_dataset_mri(select_disease = 'ADHD-Inattentive Type', select_category = 'DX_01', SCORE = target)"
   ]
  },
  {
   "cell_type": "code",
   "execution_count": 3,
   "metadata": {},
   "outputs": [],
   "source": [
    "data = data.loc[~data['ID'].isin(list(set(autistics['ID']).union(set(combined['ID'])).union(set(inattentive['ID']))))]\n",
    "#data = data.loc[data['DX_01'].isin(['No Diagnosis Given'])]\n",
    "data.drop(columns=['DX_01_Cat', 'DX_01_Sub', 'DX_01'], inplace=True)"
   ]
  },
  {
   "cell_type": "code",
   "execution_count": 4,
   "metadata": {},
   "outputs": [],
   "source": [
    "# labels and features\n",
    "y = data[target]\n",
    "X = data.drop([target], axis=1)\n",
    "X = np.array(X)\n",
    "y = np.array(y)\n",
    "\n",
    "# autistics\n",
    "autistics = np.array(autistics)\n",
    "ID_autistics = autistics[:,0]\n",
    "X_autistics = autistics[:,2:]\n",
    "y_autistics = autistics[:, 1]\n",
    "y_autistics = y_autistics.reshape((-1,1))\n",
    "# combined\n",
    "combined = np.array(combined)\n",
    "ID_combined = combined[:,0]\n",
    "X_combined = combined[:,2:]\n",
    "y_combined = combined[:, 1]\n",
    "y_combined = y_combined.reshape((-1,1))\n",
    "#inattentive\n",
    "inattentive = np.array(inattentive)\n",
    "ID_inattentive = inattentive[:,0]\n",
    "X_inattentive = inattentive[:,2:]\n",
    "y_inattentive = inattentive[:, 1]\n",
    "y_inattentive = y_inattentive.reshape((-1,1))\n",
    "# split the dataset\n",
    "X_train, X_test, y_train, y_test = train_test_split(X, y, test_size=0.3, random_state=3)\n",
    "y_train = y_train.reshape((-1,1))\n",
    "y_test = y_test.reshape((-1,1))\n",
    "ID_train = X_train[:,0]\n",
    "X_train = X_train[:,1:]\n",
    "ID_test = X_test[:,0]\n",
    "X_test = X_test[:,1:]\n",
    "y_train = np.array(y_train, dtype=np.float64)\n",
    "X_train = np.array(X_train, dtype=np.float64)\n",
    "y_test = np.array(y_test, dtype=np.float64)\n",
    "X_test = np.array(X_test, dtype=np.float64)\n",
    "X_autistics = np.array(X_autistics, dtype=np.float64)\n",
    "y_autistics = np.array(y_autistics, dtype=np.float64)\n",
    "X_combined = np.array(X_combined, dtype=np.float64)\n",
    "y_combined  = np.array(y_combined, dtype=np.float64)\n",
    "X_inattentive = np.array(X_inattentive, dtype=np.float64)\n",
    "y_inattentive = np.array(y_inattentive, dtype=np.float64)"
   ]
  },
  {
   "cell_type": "code",
   "execution_count": 5,
   "metadata": {},
   "outputs": [],
   "source": [
    "# Now add again the patient with autism-combined-inattentive to the TEST set\n",
    "ID_test = np.concatenate((ID_test, ID_autistics, ID_combined, ID_inattentive))\n",
    "y_test = np.concatenate((y_test, y_autistics, y_combined, y_inattentive))\n",
    "X_test = np.concatenate((X_test, X_autistics, X_combined, X_inattentive))"
   ]
  },
  {
   "cell_type": "code",
   "execution_count": 6,
   "metadata": {},
   "outputs": [
    {
     "name": "stdout",
     "output_type": "stream",
     "text": [
      "1000/1000 [100%] ██████████████████████████████ Elapsed: 11s | loss: 693.184\n",
      "mean log-loss train: 1.4843\n",
      "Test MSE: 5.181866149917488\n"
     ]
    }
   ],
   "source": [
    "# Set model parameters\n",
    "ndim_x=X_train.shape[1]\n",
    "ndim_y=y_train.shape[1]\n",
    "# We try the \"faster decay rate for non-gaussian data\" proposed in the paper: h = n^(-1/(d+1))\n",
    "n = X_train.shape[0]\n",
    "d = X_train.shape[1]+y_train.shape[1]\n",
    "h = n**(-1/(d+1))\n",
    "# Define the model\n",
    "model = MixtureDensityNetwork('MDN', ndim_x, ndim_y, n_centers=10, hidden_sizes=(16, 16), hidden_nonlinearity=tf.nn.tanh,\n",
    "               n_training_epochs=1000, x_noise_std=h, y_noise_std=h, adaptive_noise_fn=None, entropy_reg_coef=0.0,\n",
    "               weight_decay=0.0, weight_normalization=True, data_normalization=True, dropout=0.0, l2_reg=0.0, l1_reg=0.0,\n",
    "               random_seed=42)\n",
    "# Fit\n",
    "model.fit(X_train, y_train)\n",
    "# Predict\n",
    "y_pred = model.mean_(X_test)\n",
    "y_pred = y_pred.reshape((-1,1))\n",
    "y_pred.shape\n",
    "print('Test MSE: {}'.format(mean_squared_error(y_pred, y_test)))"
   ]
  },
  {
   "cell_type": "code",
   "execution_count": 7,
   "metadata": {},
   "outputs": [],
   "source": [
    "# Define discrepancy\n",
    "std = model.std_(X_test)\n",
    "discrepancy = np.divide((y_test-y_pred), std)\n",
    "#discrepancy = y_test-y_pred"
   ]
  },
  {
   "cell_type": "code",
   "execution_count": 8,
   "metadata": {},
   "outputs": [
    {
     "data": {
      "text/plain": [
       "(679, 1)"
      ]
     },
     "execution_count": 8,
     "metadata": {},
     "output_type": "execute_result"
    }
   ],
   "source": [
    "discrepancy.shape"
   ]
  },
  {
   "cell_type": "code",
   "execution_count": 9,
   "metadata": {},
   "outputs": [],
   "source": [
    "# Get dataframe for test observations with behavioral data + discrepancy\n",
    "data = {'discrepancy':discrepancy[:,0]}\n",
    "discrepancy_df = pd.DataFrame(data)\n",
    "ID_df = pd.DataFrame({'EID':ID_test})\n",
    "discrepancy_merged = pd.concat([ID_df, discrepancy_df], axis=1)\n",
    "dataframe = pd.merge(discrepancy_merged, behavioral, how='inner', on='EID')\n",
    "dataframe = dataframe.drop(['Anonymized.ID', 'Study.Site'], axis = 1)"
   ]
  },
  {
   "cell_type": "code",
   "execution_count": 10,
   "metadata": {},
   "outputs": [
    {
     "data": {
      "text/plain": [
       "discrepancy        1.000000\n",
       "Age                0.369374\n",
       "DX_06_Confirmed    0.769753\n",
       "ASR_Total          0.303549\n",
       "CAARS_HR_Raw       0.452481\n",
       "CAARS_ADHD_Raw     0.352107\n",
       "CELF_SA_R          0.311133\n",
       "CLEF5M_MI_Raw      0.304408\n",
       "CLEF5M_CS_Raw      0.343292\n",
       "CLEF5M_FL_Raw      0.521993\n",
       "CLEF5M_TMI_Stnd    0.373414\n",
       "EVT2_RawScore      0.336129\n",
       "KBIT_NV_Raw        0.509033\n",
       "KBIT_V_Raw         0.596097\n",
       "Picture_Seq_Raw    0.377324\n",
       "PPVT4_RawScore     0.439020\n",
       "STAI_SA_T          0.403632\n",
       "STAI_TA_T          0.301668\n",
       "WAIS_DS_B_R        0.322735\n",
       "WAIS_DS_Total_R    0.368377\n",
       "Name: discrepancy, dtype: float64"
      ]
     },
     "execution_count": 10,
     "metadata": {},
     "output_type": "execute_result"
    }
   ],
   "source": [
    "# Get the correlations\n",
    "correlations = dataframe[dataframe.columns[1:]].corr()['discrepancy'][:]\n",
    "# Inspect correlations\n",
    "correlations[correlations > 0.3]  "
   ]
  },
  {
   "cell_type": "code",
   "execution_count": 11,
   "metadata": {},
   "outputs": [
    {
     "data": {
      "text/plain": [
       "ADHD-Combined Type                                                     217\n",
       "ADHD-Inattentive Type                                                  188\n",
       "Autism Spectrum Disorder                                                73\n",
       "No Diagnosis Given                                                      53\n",
       "Major Depressive Disorder                                               18\n",
       "Specific Learning Disorder with Impairment in Reading                   18\n",
       "No Diagnosis Given: Incomplete Eval                                     16\n",
       "Generalized Anxiety Disorder                                            15\n",
       "Social Anxiety (Social Phobia)                                          13\n",
       "Other Specified Anxiety Disorder                                         8\n",
       "Other Specified Attention-Deficit/Hyperactivity Disorder                 8\n",
       "Intellectual Disability-Mild                                             7\n",
       "ADHD-Hyperactive/Impulsive Type                                          6\n",
       "Separation Anxiety                                                       3\n",
       "Language Disorder                                                        3\n",
       "Persistent Depressive Disorder (Dysthymia)                               3\n",
       "Obsessive-Compulsive Disorder                                            3\n",
       "Specific Phobia                                                          3\n",
       "Tourettes Disorder                                                       2\n",
       "                                                                         2\n",
       "Other Specified Depressive Disorder                                      2\n",
       "Adjustment Disorders                                                     2\n",
       "Disruptive Mood Dysregulation Disorder                                   2\n",
       "Posttraumatic Stress Disorder                                            1\n",
       "Bipolar II Disorder                                                      1\n",
       "Specific Learning Disorder with Impairment in Written Expression         1\n",
       "Other Specified Schizophrenia Spectrum and Other Psychotic Disorder      1\n",
       "Selective Mutism                                                         1\n",
       "Unspecified Attention-Deficit/Hyperactivity Disorder                     1\n",
       "Intellectual Disability-Moderate                                         1\n",
       "Parent-Child Relational Problem                                          1\n",
       "Borderline Intellectual Functioning                                      1\n",
       "Major Neurocognitive Disorder Due to Epilepsy                            1\n",
       "Name: DX_01, dtype: int64"
      ]
     },
     "execution_count": 11,
     "metadata": {},
     "output_type": "execute_result"
    }
   ],
   "source": [
    "# Frequencies of major disturb in behavioral dataset\n",
    "dataframe['DX_01'].value_counts()"
   ]
  },
  {
   "cell_type": "markdown",
   "metadata": {},
   "source": [
    "## Consider the most frequent situations: ADHD Inattentive, ADHD Combined, Autism, Healthy. Specific impairment in Reading"
   ]
  },
  {
   "cell_type": "code",
   "execution_count": 12,
   "metadata": {},
   "outputs": [],
   "source": [
    "df = dataframe.loc[dataframe['DX_01'].isin(['ADHD-Combined Type', 'ADHD-Inattentive Type','No Diagnosis Given', 'Autism Spectrum Disorder'])]\n",
    "# Correct for inbalance\n",
    "df1 = dataframe.loc[dataframe['DX_01'].isin(['ADHD-Combined Type'])]\n",
    "df2 = dataframe.loc[dataframe['DX_01'].isin(['ADHD-Inattentive Type'])]\n",
    "df3 = dataframe.loc[dataframe['DX_01'].isin(['No Diagnosis Given'])]\n",
    "df4 = dataframe.loc[dataframe['DX_01'].isin(['Autism Spectrum Disorder'])]\n",
    "size = min(df1.shape[0], df2.shape[0], df3.shape[0], df4.shape[0])#, df5.shape[0])\n",
    "df1 = df1.head(size)\n",
    "df2 = df2.head(size)\n",
    "df3 = df3.head(size)\n",
    "df4 = df4.head(size)\n",
    "df = df1.append(df2, ignore_index=True)\n",
    "df = df.append(df3, ignore_index=True)\n",
    "df = df.append(df4, ignore_index=True)\n"
   ]
  },
  {
   "cell_type": "markdown",
   "metadata": {},
   "source": [
    "## t-test Healthy vs ADHD Inattentive"
   ]
  },
  {
   "cell_type": "code",
   "execution_count": 13,
   "metadata": {},
   "outputs": [
    {
     "data": {
      "text/plain": [
       "Ttest_indResult(statistic=0.2832262298846038, pvalue=0.7775809144068493)"
      ]
     },
     "execution_count": 13,
     "metadata": {},
     "output_type": "execute_result"
    }
   ],
   "source": [
    "adhd = df[df['DX_01'] == 'ADHD-Inattentive Type']['discrepancy']\n",
    "no_adhd = df[df['DX_01'] == 'No Diagnosis Given']['discrepancy']\n",
    "from scipy.stats import ttest_ind\n",
    "res = ttest_ind(np.array(adhd), np.array(no_adhd), equal_var=False)\n",
    "res"
   ]
  },
  {
   "cell_type": "code",
   "execution_count": 14,
   "metadata": {},
   "outputs": [
    {
     "data": {
      "text/plain": [
       "<matplotlib.lines.Line2D at 0x7f3618178898>"
      ]
     },
     "execution_count": 14,
     "metadata": {},
     "output_type": "execute_result"
    },
    {
     "data": {
      "image/png": "[encoded data removed]",
      "text/plain": [
       "<Figure size 432x288 with 1 Axes>"
      ]
     },
     "metadata": {
      "needs_background": "light"
     },
     "output_type": "display_data"
    }
   ],
   "source": [
    "import matplotlib.pyplot as plt\n",
    "plt.hist(adhd[:80], bins=20, color='c', edgecolor='k', alpha=0.5)     # take same number of obs as no_adhd\n",
    "plt.hist(no_adhd, bins=20, color='g', edgecolor='k', alpha=0.5)\n",
    "plt.axvline(x=np.mean(adhd), color = 'b')\n",
    "plt.axvline(x=np.mean(no_adhd), color = 'r')"
   ]
  },
  {
   "cell_type": "markdown",
   "metadata": {},
   "source": [
    "## t-test Healthy vs Autism"
   ]
  },
  {
   "cell_type": "code",
   "execution_count": 15,
   "metadata": {},
   "outputs": [
    {
     "data": {
      "text/plain": [
       "Ttest_indResult(statistic=3.176953437522702, pvalue=0.0019967494361041636)"
      ]
     },
     "execution_count": 15,
     "metadata": {},
     "output_type": "execute_result"
    }
   ],
   "source": [
    "autism = df[df['DX_01'] == 'Autism Spectrum Disorder']['discrepancy']\n",
    "healthy = df[df['DX_01'] == 'No Diagnosis Given']['discrepancy']\n",
    "from scipy.stats import ttest_ind\n",
    "res = ttest_ind(np.array(autism), np.array(healthy), equal_var=False)\n",
    "res"
   ]
  },
  {
   "cell_type": "code",
   "execution_count": 16,
   "metadata": {},
   "outputs": [
    {
     "data": {
      "text/plain": [
       "<matplotlib.lines.Line2D at 0x7f3577763198>"
      ]
     },
     "execution_count": 16,
     "metadata": {},
     "output_type": "execute_result"
    },
    {
     "data": {
      "image/png": "[encoded data removed]",
      "text/plain": [
       "<Figure size 432x288 with 1 Axes>"
      ]
     },
     "metadata": {
      "needs_background": "light"
     },
     "output_type": "display_data"
    }
   ],
   "source": [
    "import matplotlib.pyplot as plt\n",
    "plt.hist(autism, bins=20, color='c', edgecolor='k', alpha=0.5)     # take same number of obs as no_adhd\n",
    "plt.hist(healthy, bins=20, color='g', edgecolor='k', alpha=0.5)\n",
    "plt.axvline(x=np.mean(autism), color = 'b')\n",
    "plt.axvline(x=np.mean(healthy), color = 'r')"
   ]
  },
  {
   "cell_type": "markdown",
   "metadata": {},
   "source": [
    "# ANOVA"
   ]
  },
  {
   "cell_type": "code",
   "execution_count": 17,
   "metadata": {},
   "outputs": [
    {
     "data": {
      "text/plain": [
       "<matplotlib.axes._subplots.AxesSubplot at 0x7f35776e01d0>"
      ]
     },
     "execution_count": 17,
     "metadata": {},
     "output_type": "execute_result"
    },
    {
     "data": {
      "image/png": "[encoded data removed]",
      "text/plain": [
       "<Figure size 864x576 with 1 Axes>"
      ]
     },
     "metadata": {
      "needs_background": "light"
     },
     "output_type": "display_data"
    }
   ],
   "source": [
    "#Create a boxplot\n",
    "df.boxplot('discrepancy', by='DX_01', figsize=(12, 8))"
   ]
  },
  {
   "cell_type": "code",
   "execution_count": 18,
   "metadata": {},
   "outputs": [
    {
     "name": "stdout",
     "output_type": "stream",
     "text": [
      "             sum_sq     df         F    PR(>F)\n",
      "DX_01      3.052472    3.0  4.091317  0.007543\n",
      "Residual  51.728592  208.0       NaN       NaN\n"
     ]
    },
    {
     "data": {
      "text/html": [
       "<table class=\"simpletable\">\n",
       "<caption>OLS Regression Results</caption>\n",
       "<tr>\n",
       "  <th>Dep. Variable:</th>       <td>discrepancy</td>   <th>  R-squared:         </th> <td>   0.056</td>\n",
       "</tr>\n",
       "<tr>\n",
       "  <th>Model:</th>                   <td>OLS</td>       <th>  Adj. R-squared:    </th> <td>   0.042</td>\n",
       "</tr>\n",
       "<tr>\n",
       "  <th>Method:</th>             <td>Least Squares</td>  <th>  F-statistic:       </th> <td>   4.091</td>\n",
       "</tr>\n",
       "<tr>\n",
       "  <th>Date:</th>             <td>Wed, 04 Dec 2019</td> <th>  Prob (F-statistic):</th>  <td>0.00754</td>\n",
       "</tr>\n",
       "<tr>\n",
       "  <th>Time:</th>                 <td>22:22:06</td>     <th>  Log-Likelihood:    </th> <td> -151.29</td>\n",
       "</tr>\n",
       "<tr>\n",
       "  <th>No. Observations:</th>      <td>   212</td>      <th>  AIC:               </th> <td>   310.6</td>\n",
       "</tr>\n",
       "<tr>\n",
       "  <th>Df Residuals:</th>          <td>   208</td>      <th>  BIC:               </th> <td>   324.0</td>\n",
       "</tr>\n",
       "<tr>\n",
       "  <th>Df Model:</th>              <td>     3</td>      <th>                     </th>     <td> </td>   \n",
       "</tr>\n",
       "<tr>\n",
       "  <th>Covariance Type:</th>      <td>nonrobust</td>    <th>                     </th>     <td> </td>   \n",
       "</tr>\n",
       "</table>\n",
       "<table class=\"simpletable\">\n",
       "<tr>\n",
       "                  <td></td>                     <th>coef</th>     <th>std err</th>      <th>t</th>      <th>P>|t|</th>  <th>[0.025</th>    <th>0.975]</th>  \n",
       "</tr>\n",
       "<tr>\n",
       "  <th>Intercept</th>                         <td>    0.0658</td> <td>    0.069</td> <td>    0.961</td> <td> 0.338</td> <td>   -0.069</td> <td>    0.201</td>\n",
       "</tr>\n",
       "<tr>\n",
       "  <th>DX_01[T.ADHD-Inattentive Type]</th>    <td>   -0.1191</td> <td>    0.097</td> <td>   -1.229</td> <td> 0.220</td> <td>   -0.310</td> <td>    0.072</td>\n",
       "</tr>\n",
       "<tr>\n",
       "  <th>DX_01[T.Autism Spectrum Disorder]</th> <td>    0.1591</td> <td>    0.097</td> <td>    1.642</td> <td> 0.102</td> <td>   -0.032</td> <td>    0.350</td>\n",
       "</tr>\n",
       "<tr>\n",
       "  <th>DX_01[T.No Diagnosis Given]</th>       <td>   -0.1443</td> <td>    0.097</td> <td>   -1.490</td> <td> 0.138</td> <td>   -0.335</td> <td>    0.047</td>\n",
       "</tr>\n",
       "</table>\n",
       "<table class=\"simpletable\">\n",
       "<tr>\n",
       "  <th>Omnibus:</th>       <td> 7.123</td> <th>  Durbin-Watson:     </th> <td>   1.935</td>\n",
       "</tr>\n",
       "<tr>\n",
       "  <th>Prob(Omnibus):</th> <td> 0.028</td> <th>  Jarque-Bera (JB):  </th> <td>   8.213</td>\n",
       "</tr>\n",
       "<tr>\n",
       "  <th>Skew:</th>          <td> 0.286</td> <th>  Prob(JB):          </th> <td>  0.0165</td>\n",
       "</tr>\n",
       "<tr>\n",
       "  <th>Kurtosis:</th>      <td> 3.777</td> <th>  Cond. No.          </th> <td>    4.79</td>\n",
       "</tr>\n",
       "</table><br/><br/>Warnings:<br/>[1] Standard Errors assume that the covariance matrix of the errors is correctly specified."
      ],
      "text/plain": [
       "<class 'statsmodels.iolib.summary.Summary'>\n",
       "\"\"\"\n",
       "                            OLS Regression Results                            \n",
       "==============================================================================\n",
       "Dep. Variable:            discrepancy   R-squared:                       0.056\n",
       "Model:                            OLS   Adj. R-squared:                  0.042\n",
       "Method:                 Least Squares   F-statistic:                     4.091\n",
       "Date:                Wed, 04 Dec 2019   Prob (F-statistic):            0.00754\n",
       "Time:                        22:22:06   Log-Likelihood:                -151.29\n",
       "No. Observations:                 212   AIC:                             310.6\n",
       "Df Residuals:                     208   BIC:                             324.0\n",
       "Df Model:                           3                                         \n",
       "Covariance Type:            nonrobust                                         \n",
       "=====================================================================================================\n",
       "                                        coef    std err          t      P>|t|      [0.025      0.975]\n",
       "-----------------------------------------------------------------------------------------------------\n",
       "Intercept                             0.0658      0.069      0.961      0.338      -0.069       0.201\n",
       "DX_01[T.ADHD-Inattentive Type]       -0.1191      0.097     -1.229      0.220      -0.310       0.072\n",
       "DX_01[T.Autism Spectrum Disorder]     0.1591      0.097      1.642      0.102      -0.032       0.350\n",
       "DX_01[T.No Diagnosis Given]          -0.1443      0.097     -1.490      0.138      -0.335       0.047\n",
       "==============================================================================\n",
       "Omnibus:                        7.123   Durbin-Watson:                   1.935\n",
       "Prob(Omnibus):                  0.028   Jarque-Bera (JB):                8.213\n",
       "Skew:                           0.286   Prob(JB):                       0.0165\n",
       "Kurtosis:                       3.777   Cond. No.                         4.79\n",
       "==============================================================================\n",
       "\n",
       "Warnings:\n",
       "[1] Standard Errors assume that the covariance matrix of the errors is correctly specified.\n",
       "\"\"\""
      ]
     },
     "execution_count": 18,
     "metadata": {},
     "output_type": "execute_result"
    }
   ],
   "source": [
    "model = ols('discrepancy ~ DX_01',                 # Model formula\n",
    "            data = df).fit()\n",
    "                \n",
    "anova_result = sm.stats.anova_lm(model, typ=2)\n",
    "print (anova_result)\n",
    "model.summary()"
   ]
  },
  {
   "cell_type": "markdown",
   "metadata": {},
   "source": [
    "We got a significant F-test and significant pval for autism."
   ]
  },
  {
   "cell_type": "markdown",
   "metadata": {},
   "source": [
    "## Evaluate these quantities as an average over differen splits"
   ]
  },
  {
   "cell_type": "code",
   "execution_count": 19,
   "metadata": {
    "scrolled": true
   },
   "outputs": [],
   "source": [
    "def t_test(repetitions, correct_imbalance = True, multiple_testing_correction = 'fdr_bh'):\n",
    "    # Behavioral data\n",
    "    behavioral = pd.read_csv('data/Behavioral/cleaned/HBNFinalSummaries.csv')\n",
    "    # Create dataset MRI\n",
    "    target = 'Age'\n",
    "    data = create_dataset_mri(SCORE = target)\n",
    "    autistics = create_dataset_mri(select_disease = 'Autism Spectrum Disorder', select_category = 'DX_01', SCORE = target)\n",
    "    combined = create_dataset_mri(select_disease = 'ADHD-Combined Type', select_category = 'DX_01', SCORE = target)\n",
    "    inattentive = create_dataset_mri(select_disease = 'ADHD-Inattentive Type', select_category = 'DX_01', SCORE = target)\n",
    "    data = data.loc[~data['ID'].isin(list(set(autistics['ID']).union(set(combined['ID'])).union(set(inattentive['ID']))))]\n",
    "    data.drop(columns=['DX_01_Cat', 'DX_01_Sub', 'DX_01'], inplace=True)\n",
    "    # labels and features\n",
    "    y = data[target]\n",
    "    X = data.drop([target], axis=1)\n",
    "    X = np.array(X)\n",
    "    y = np.array(y)\n",
    "\n",
    "    # autistics\n",
    "    autistics = np.array(autistics)\n",
    "    ID_autistics = autistics[:,0]\n",
    "    X_autistics = autistics[:,2:]\n",
    "    y_autistics = autistics[:, 1]\n",
    "    y_autistics = y_autistics.reshape((-1,1))\n",
    "    X_autistics = np.array(X_autistics, dtype=np.float64)\n",
    "    y_autistics = np.array(y_autistics, dtype=np.float64)\n",
    "    \n",
    "    # combined\n",
    "    combined = np.array(combined)\n",
    "    ID_combined = combined[:,0]\n",
    "    X_combined = combined[:,2:]\n",
    "    y_combined = combined[:, 1]\n",
    "    y_combined = y_combined.reshape((-1,1))\n",
    "    X_combined = np.array(X_combined, dtype=np.float64)\n",
    "    y_combined  = np.array(y_combined, dtype=np.float64)\n",
    "    \n",
    "    #inattentive\n",
    "    inattentive = np.array(inattentive)\n",
    "    ID_inattentive = inattentive[:,0]\n",
    "    X_inattentive = inattentive[:,2:]\n",
    "    y_inattentive = inattentive[:, 1]\n",
    "    y_inattentive = y_inattentive.reshape((-1,1))\n",
    "    X_inattentive = np.array(X_inattentive, dtype=np.float64)\n",
    "    y_inattentive = np.array(y_inattentive, dtype=np.float64)\n",
    "    \n",
    "    # things I want to compute\n",
    "    t_adhd = []\n",
    "    t_adhd_combined = []\n",
    "    t_autism = []\n",
    "    \n",
    "    for i in range(repetitions):\n",
    "        # split the dataset\n",
    "        X_train, X_test, y_train, y_test = train_test_split(X, y, test_size=0.3, random_state=i)\n",
    "        y_train = y_train.reshape((-1,1))\n",
    "        y_test = y_test.reshape((-1,1))\n",
    "        ID_train = X_train[:,0]\n",
    "        X_train = X_train[:,1:]\n",
    "        ID_test = X_test[:,0]\n",
    "        X_test = X_test[:,1:]\n",
    "        y_train = np.array(y_train, dtype=np.float64)\n",
    "        X_train = np.array(X_train, dtype=np.float64)\n",
    "        y_test = np.array(y_test, dtype=np.float64)\n",
    "        X_test = np.array(X_test, dtype=np.float64)\n",
    "\n",
    "        # Now add again the patient with autism-combined-inattentive to the TEST set\n",
    "        ID_test = np.concatenate((ID_test, ID_autistics, ID_combined, ID_inattentive))\n",
    "        y_test = np.concatenate((y_test, y_autistics, y_combined, y_inattentive))\n",
    "        X_test = np.concatenate((X_test, X_autistics, X_combined, X_inattentive))\n",
    "    \n",
    "        # Set model parameters\n",
    "        ndim_x=X_train.shape[1]\n",
    "        ndim_y=y_train.shape[1]\n",
    "        # We try the \"faster decay rate for non-gaussian data\" proposed in the paper: h = n^(-1/(d+1))\n",
    "        n = X_train.shape[0]\n",
    "        d = X_train.shape[1]+y_train.shape[1]\n",
    "        h = n**(-1/(d+1))\n",
    "        model = MixtureDensityNetwork('{}'.format(i), ndim_x, ndim_y, n_centers=10, hidden_sizes=(16, 16), hidden_nonlinearity=tf.nn.tanh,\n",
    "               n_training_epochs=1000, x_noise_std=h, y_noise_std=h, adaptive_noise_fn=None, entropy_reg_coef=0.0,\n",
    "               weight_decay=0.0, weight_normalization=True, data_normalization=True, dropout=0.0, l2_reg=0.0, l1_reg=0.0,\n",
    "               random_seed=42)\n",
    "        # Fit\n",
    "        model.fit(X_train, y_train)\n",
    "        # Predict\n",
    "        y_pred = model.mean_(X_test)\n",
    "        y_pred = y_pred.reshape((-1,1))\n",
    "        # Define discrepancy\n",
    "        std = model.std_(X_test)\n",
    "        discrepancy = np.divide((y_test-y_pred), std)\n",
    "        # Get dataframe for test observations with behavioral data + discrepancy\n",
    "        data = {'discrepancy':discrepancy[:,0]}\n",
    "        discrepancy_df = pd.DataFrame(data)\n",
    "        ID_df = pd.DataFrame({'EID':ID_test})\n",
    "        discrepancy_merged = pd.concat([ID_df, discrepancy_df], axis=1)\n",
    "        dataframe = pd.merge(discrepancy_merged, behavioral, how='inner', on='EID')\n",
    "        dataframe = dataframe.drop(['Anonymized.ID', 'Study.Site'], axis = 1)\n",
    "        # Select most frequent diseases\n",
    "        df = dataframe.loc[dataframe['DX_01'].isin(['ADHD-Combined Type', 'ADHD-Inattentive Type','No Diagnosis Given', 'Autism Spectrum Disorder'])]\n",
    "        if correct_imbalance == True:\n",
    "            # Correct for inbalance\n",
    "            df1 = dataframe.loc[dataframe['DX_01'].isin(['ADHD-Combined Type'])]\n",
    "            df2 = dataframe.loc[dataframe['DX_01'].isin(['ADHD-Inattentive Type'])]\n",
    "            df3 = dataframe.loc[dataframe['DX_01'].isin(['No Diagnosis Given'])]\n",
    "            df4 = dataframe.loc[dataframe['DX_01'].isin(['Autism Spectrum Disorder'])]\n",
    "            size = min(df1.shape[0], df2.shape[0], df3.shape[0], df4.shape[0])\n",
    "            df1 = df1.head(size)\n",
    "            df2 = df2.head(size)\n",
    "            df3 = df3.head(size)\n",
    "            df4 = df4.head(size)\n",
    "            df = df1.append(df2, ignore_index=True)\n",
    "            df = df.append(df3, ignore_index=True)\n",
    "            df = df.append(df4, ignore_index=True)\n",
    "\n",
    "        \n",
    "        # t-test for autism vs healthy\n",
    "        autism = df[df['DX_01'] == 'Autism Spectrum Disorder']['discrepancy']\n",
    "        healthy = df[df['DX_01'] == 'No Diagnosis Given']['discrepancy']\n",
    "        res1 = ttest_ind(np.array(autism), np.array(healthy), equal_var=False)\n",
    "        \n",
    "        \n",
    "        # t-test for inattentive vs healthy\n",
    "        adhd = df[df['DX_01'] == 'ADHD-Inattentive Type']['discrepancy']\n",
    "        no_adhd = df[df['DX_01'] == 'No Diagnosis Given']['discrepancy']\n",
    "        res2 = ttest_ind(np.array(adhd), np.array(no_adhd), equal_var=False)\n",
    "        \n",
    "        \n",
    "        # t-test for combined vs healthy\n",
    "        combined = df[df['DX_01'] == 'ADHD-Combined Type']['discrepancy']\n",
    "        no_combined = df[df['DX_01'] == 'No Diagnosis Given']['discrepancy']\n",
    "        res3 = ttest_ind(np.array(combined), np.array(no_combined), equal_var=False)\n",
    "        \n",
    "        \n",
    "        # Correct p-values for multiple-testing\n",
    "        p_vals = [res1[1], res2[1], res3[1]]\n",
    "        corrected = multipletests(pvals = p_vals, alpha=0.05, method = multiple_testing_correction)\n",
    "        t_autism.append(corrected[1][0])\n",
    "        t_adhd.append(corrected[1][1])\n",
    "        t_adhd_combined.append(corrected[1][2])\n",
    "        \n",
    "    print('Mean t-test p-val (inattentive vs healthy): {} \\n Mean t-test p-val (combined vs healthy): {} \\n Mean t-test p-val (autism vs healthy): {}'.format(np.mean(t_adhd), np.mean(t_adhd_combined), np.mean(t_autism)))"
   ]
  },
  {
   "cell_type": "code",
   "execution_count": 20,
   "metadata": {},
   "outputs": [
    {
     "name": "stdout",
     "output_type": "stream",
     "text": [
      "1000/1000 [100%] ██████████████████████████████ Elapsed: 11s | loss: 689.001\n",
      "mean log-loss train: 1.4754\n",
      "1000/1000 [100%] ██████████████████████████████ Elapsed: 11s | loss: 682.280\n",
      "mean log-loss train: 1.4610\n",
      "1000/1000 [100%] ██████████████████████████████ Elapsed: 13s | loss: 657.662\n",
      "mean log-loss train: 1.4083\n",
      "1000/1000 [100%] ██████████████████████████████ Elapsed: 11s | loss: 663.465\n",
      "mean log-loss train: 1.4207\n",
      "1000/1000 [100%] ██████████████████████████████ Elapsed: 13s | loss: 676.130\n",
      "mean log-loss train: 1.4478\n",
      "1000/1000 [100%] ██████████████████████████████ Elapsed: 14s | loss: 705.456\n",
      "mean log-loss train: 1.5106\n",
      "1000/1000 [100%] ██████████████████████████████ Elapsed: 15s | loss: 664.106\n",
      "mean log-loss train: 1.4221\n",
      "1000/1000 [100%] ██████████████████████████████ Elapsed: 14s | loss: 671.066\n",
      "mean log-loss train: 1.4370\n",
      "1000/1000 [100%] ██████████████████████████████ Elapsed: 15s | loss: 702.781\n",
      "mean log-loss train: 1.5049\n",
      "1000/1000 [100%] ██████████████████████████████ Elapsed: 15s | loss: 653.393\n",
      "mean log-loss train: 1.3991\n",
      "Mean t-test p-val (inattentive vs healthy): 0.31658484773233153 \n",
      " Mean t-test p-val (combined vs healthy): 0.28307449531165585 \n",
      " Mean t-test p-val (autism vs healthy): 0.02949069705381497\n"
     ]
    }
   ],
   "source": [
    "t_test(10)"
   ]
  },
  {
   "cell_type": "markdown",
   "metadata": {},
   "source": [
    "Using the Benjamini-Hochberg correction there is (some) evidence for autism in the t-tests!"
   ]
  },
  {
   "cell_type": "markdown",
   "metadata": {},
   "source": [
    "# What if we control for Age?"
   ]
  },
  {
   "cell_type": "code",
   "execution_count": 23,
   "metadata": {},
   "outputs": [
    {
     "name": "stdout",
     "output_type": "stream",
     "text": [
      "             sum_sq     df          F        PR(>F)\n",
      "DX_01      2.717668    3.0   3.701932  1.265856e-02\n",
      "Age       10.107275    1.0  41.303548  9.435006e-10\n",
      "Residual  48.696732  199.0        NaN           NaN\n"
     ]
    }
   ],
   "source": [
    "df['Age'] = np.floor(df['Age'])\n",
    "#df = df.loc[df['Age'] 15]      # AGE INTERVAL\n",
    "\n",
    "model = ols('discrepancy ~ Age + DX_01',                 # Model formula\n",
    "            data = df).fit()\n",
    "                \n",
    "anova_result = sm.stats.anova_lm(model, typ=2)\n",
    "print (anova_result)"
   ]
  },
  {
   "cell_type": "code",
   "execution_count": 24,
   "metadata": {},
   "outputs": [
    {
     "data": {
      "text/html": [
       "<table class=\"simpletable\">\n",
       "<caption>OLS Regression Results</caption>\n",
       "<tr>\n",
       "  <th>Dep. Variable:</th>       <td>discrepancy</td>   <th>  R-squared:         </th> <td>   0.238</td>\n",
       "</tr>\n",
       "<tr>\n",
       "  <th>Model:</th>                   <td>OLS</td>       <th>  Adj. R-squared:    </th> <td>   0.223</td>\n",
       "</tr>\n",
       "<tr>\n",
       "  <th>Method:</th>             <td>Least Squares</td>  <th>  F-statistic:       </th> <td>   15.54</td>\n",
       "</tr>\n",
       "<tr>\n",
       "  <th>Date:</th>             <td>Wed, 20 Nov 2019</td> <th>  Prob (F-statistic):</th> <td>4.43e-11</td>\n",
       "</tr>\n",
       "<tr>\n",
       "  <th>Time:</th>                 <td>11:13:01</td>     <th>  Log-Likelihood:    </th> <td> -143.35</td>\n",
       "</tr>\n",
       "<tr>\n",
       "  <th>No. Observations:</th>      <td>   204</td>      <th>  AIC:               </th> <td>   296.7</td>\n",
       "</tr>\n",
       "<tr>\n",
       "  <th>Df Residuals:</th>          <td>   199</td>      <th>  BIC:               </th> <td>   313.3</td>\n",
       "</tr>\n",
       "<tr>\n",
       "  <th>Df Model:</th>              <td>     4</td>      <th>                     </th>     <td> </td>   \n",
       "</tr>\n",
       "<tr>\n",
       "  <th>Covariance Type:</th>      <td>nonrobust</td>    <th>                     </th>     <td> </td>   \n",
       "</tr>\n",
       "</table>\n",
       "<table class=\"simpletable\">\n",
       "<tr>\n",
       "                  <td></td>                     <th>coef</th>     <th>std err</th>      <th>t</th>      <th>P>|t|</th>  <th>[0.025</th>    <th>0.975]</th>  \n",
       "</tr>\n",
       "<tr>\n",
       "  <th>Intercept</th>                         <td>   -0.5716</td> <td>    0.112</td> <td>   -5.087</td> <td> 0.000</td> <td>   -0.793</td> <td>   -0.350</td>\n",
       "</tr>\n",
       "<tr>\n",
       "  <th>DX_01[T.ADHD-Inattentive Type]</th>    <td>    0.0088</td> <td>    0.100</td> <td>    0.088</td> <td> 0.930</td> <td>   -0.188</td> <td>    0.205</td>\n",
       "</tr>\n",
       "<tr>\n",
       "  <th>DX_01[T.Autism Spectrum Disorder]</th> <td>    0.1698</td> <td>    0.100</td> <td>    1.691</td> <td> 0.092</td> <td>   -0.028</td> <td>    0.368</td>\n",
       "</tr>\n",
       "<tr>\n",
       "  <th>DX_01[T.No Diagnosis Given]</th>       <td>   -0.1604</td> <td>    0.098</td> <td>   -1.633</td> <td> 0.104</td> <td>   -0.354</td> <td>    0.033</td>\n",
       "</tr>\n",
       "<tr>\n",
       "  <th>Age</th>                               <td>    0.0649</td> <td>    0.010</td> <td>    6.427</td> <td> 0.000</td> <td>    0.045</td> <td>    0.085</td>\n",
       "</tr>\n",
       "</table>\n",
       "<table class=\"simpletable\">\n",
       "<tr>\n",
       "  <th>Omnibus:</th>       <td>13.747</td> <th>  Durbin-Watson:     </th> <td>   1.961</td>\n",
       "</tr>\n",
       "<tr>\n",
       "  <th>Prob(Omnibus):</th> <td> 0.001</td> <th>  Jarque-Bera (JB):  </th> <td>  19.565</td>\n",
       "</tr>\n",
       "<tr>\n",
       "  <th>Skew:</th>          <td>-0.432</td> <th>  Prob(JB):          </th> <td>5.64e-05</td>\n",
       "</tr>\n",
       "<tr>\n",
       "  <th>Kurtosis:</th>      <td> 4.246</td> <th>  Cond. No.          </th> <td>    46.7</td>\n",
       "</tr>\n",
       "</table><br/><br/>Warnings:<br/>[1] Standard Errors assume that the covariance matrix of the errors is correctly specified."
      ],
      "text/plain": [
       "<class 'statsmodels.iolib.summary.Summary'>\n",
       "\"\"\"\n",
       "                            OLS Regression Results                            \n",
       "==============================================================================\n",
       "Dep. Variable:            discrepancy   R-squared:                       0.238\n",
       "Model:                            OLS   Adj. R-squared:                  0.223\n",
       "Method:                 Least Squares   F-statistic:                     15.54\n",
       "Date:                Wed, 20 Nov 2019   Prob (F-statistic):           4.43e-11\n",
       "Time:                        11:13:01   Log-Likelihood:                -143.35\n",
       "No. Observations:                 204   AIC:                             296.7\n",
       "Df Residuals:                     199   BIC:                             313.3\n",
       "Df Model:                           4                                         \n",
       "Covariance Type:            nonrobust                                         \n",
       "=====================================================================================================\n",
       "                                        coef    std err          t      P>|t|      [0.025      0.975]\n",
       "-----------------------------------------------------------------------------------------------------\n",
       "Intercept                            -0.5716      0.112     -5.087      0.000      -0.793      -0.350\n",
       "DX_01[T.ADHD-Inattentive Type]        0.0088      0.100      0.088      0.930      -0.188       0.205\n",
       "DX_01[T.Autism Spectrum Disorder]     0.1698      0.100      1.691      0.092      -0.028       0.368\n",
       "DX_01[T.No Diagnosis Given]          -0.1604      0.098     -1.633      0.104      -0.354       0.033\n",
       "Age                                   0.0649      0.010      6.427      0.000       0.045       0.085\n",
       "==============================================================================\n",
       "Omnibus:                       13.747   Durbin-Watson:                   1.961\n",
       "Prob(Omnibus):                  0.001   Jarque-Bera (JB):               19.565\n",
       "Skew:                          -0.432   Prob(JB):                     5.64e-05\n",
       "Kurtosis:                       4.246   Cond. No.                         46.7\n",
       "==============================================================================\n",
       "\n",
       "Warnings:\n",
       "[1] Standard Errors assume that the covariance matrix of the errors is correctly specified.\n",
       "\"\"\""
      ]
     },
     "execution_count": 24,
     "metadata": {},
     "output_type": "execute_result"
    }
   ],
   "source": [
    "model.summary()"
   ]
  },
  {
   "cell_type": "code",
   "execution_count": 25,
   "metadata": {
    "scrolled": false
   },
   "outputs": [
    {
     "data": {
      "text/plain": [
       "<matplotlib.axes._subplots.AxesSubplot at 0x7f2182525390>"
      ]
     },
     "execution_count": 25,
     "metadata": {},
     "output_type": "execute_result"
    },
    {
     "data": {
      "image/png": "[encoded data removed]",
      "text/plain": [
       "<Figure size 864x576 with 1 Axes>"
      ]
     },
     "metadata": {
      "needs_background": "light"
     },
     "output_type": "display_data"
    }
   ],
   "source": [
    "#Create a boxplot\n",
    "df.boxplot('discrepancy', by='Age', figsize=(12, 8))"
   ]
  },
  {
   "cell_type": "code",
   "execution_count": 26,
   "metadata": {},
   "outputs": [
    {
     "name": "stdout",
     "output_type": "stream",
     "text": [
      "               sum_sq     df         F    PR(>F)\n",
      "DX_01      156.882353    3.0  4.353078  0.005377\n",
      "Residual  2402.627451  200.0       NaN       NaN\n"
     ]
    },
    {
     "data": {
      "text/html": [
       "<table class=\"simpletable\">\n",
       "<caption>OLS Regression Results</caption>\n",
       "<tr>\n",
       "  <th>Dep. Variable:</th>           <td>Age</td>       <th>  R-squared:         </th> <td>   0.061</td>\n",
       "</tr>\n",
       "<tr>\n",
       "  <th>Model:</th>                   <td>OLS</td>       <th>  Adj. R-squared:    </th> <td>   0.047</td>\n",
       "</tr>\n",
       "<tr>\n",
       "  <th>Method:</th>             <td>Least Squares</td>  <th>  F-statistic:       </th> <td>   4.353</td>\n",
       "</tr>\n",
       "<tr>\n",
       "  <th>Date:</th>             <td>Wed, 20 Nov 2019</td> <th>  Prob (F-statistic):</th>  <td>0.00538</td>\n",
       "</tr>\n",
       "<tr>\n",
       "  <th>Time:</th>                 <td>11:13:18</td>     <th>  Log-Likelihood:    </th> <td> -541.02</td>\n",
       "</tr>\n",
       "<tr>\n",
       "  <th>No. Observations:</th>      <td>   204</td>      <th>  AIC:               </th> <td>   1090.</td>\n",
       "</tr>\n",
       "<tr>\n",
       "  <th>Df Residuals:</th>          <td>   200</td>      <th>  BIC:               </th> <td>   1103.</td>\n",
       "</tr>\n",
       "<tr>\n",
       "  <th>Df Model:</th>              <td>     3</td>      <th>                     </th>     <td> </td>   \n",
       "</tr>\n",
       "<tr>\n",
       "  <th>Covariance Type:</th>      <td>nonrobust</td>    <th>                     </th>     <td> </td>   \n",
       "</tr>\n",
       "</table>\n",
       "<table class=\"simpletable\">\n",
       "<tr>\n",
       "                  <td></td>                     <th>coef</th>     <th>std err</th>      <th>t</th>      <th>P>|t|</th>  <th>[0.025</th>    <th>0.975]</th>  \n",
       "</tr>\n",
       "<tr>\n",
       "  <th>Intercept</th>                         <td>    8.7647</td> <td>    0.485</td> <td>   18.059</td> <td> 0.000</td> <td>    7.808</td> <td>    9.722</td>\n",
       "</tr>\n",
       "<tr>\n",
       "  <th>DX_01[T.ADHD-Inattentive Type]</th>    <td>    1.8627</td> <td>    0.686</td> <td>    2.714</td> <td> 0.007</td> <td>    0.509</td> <td>    3.216</td>\n",
       "</tr>\n",
       "<tr>\n",
       "  <th>DX_01[T.Autism Spectrum Disorder]</th> <td>    2.1765</td> <td>    0.686</td> <td>    3.171</td> <td> 0.002</td> <td>    0.823</td> <td>    3.530</td>\n",
       "</tr>\n",
       "<tr>\n",
       "  <th>DX_01[T.No Diagnosis Given]</th>       <td>    0.7059</td> <td>    0.686</td> <td>    1.028</td> <td> 0.305</td> <td>   -0.648</td> <td>    2.059</td>\n",
       "</tr>\n",
       "</table>\n",
       "<table class=\"simpletable\">\n",
       "<tr>\n",
       "  <th>Omnibus:</th>       <td>18.905</td> <th>  Durbin-Watson:     </th> <td>   2.151</td>\n",
       "</tr>\n",
       "<tr>\n",
       "  <th>Prob(Omnibus):</th> <td> 0.000</td> <th>  Jarque-Bera (JB):  </th> <td>  21.549</td>\n",
       "</tr>\n",
       "<tr>\n",
       "  <th>Skew:</th>          <td> 0.786</td> <th>  Prob(JB):          </th> <td>2.09e-05</td>\n",
       "</tr>\n",
       "<tr>\n",
       "  <th>Kurtosis:</th>      <td> 3.248</td> <th>  Cond. No.          </th> <td>    4.79</td>\n",
       "</tr>\n",
       "</table><br/><br/>Warnings:<br/>[1] Standard Errors assume that the covariance matrix of the errors is correctly specified."
      ],
      "text/plain": [
       "<class 'statsmodels.iolib.summary.Summary'>\n",
       "\"\"\"\n",
       "                            OLS Regression Results                            \n",
       "==============================================================================\n",
       "Dep. Variable:                    Age   R-squared:                       0.061\n",
       "Model:                            OLS   Adj. R-squared:                  0.047\n",
       "Method:                 Least Squares   F-statistic:                     4.353\n",
       "Date:                Wed, 20 Nov 2019   Prob (F-statistic):            0.00538\n",
       "Time:                        11:13:18   Log-Likelihood:                -541.02\n",
       "No. Observations:                 204   AIC:                             1090.\n",
       "Df Residuals:                     200   BIC:                             1103.\n",
       "Df Model:                           3                                         \n",
       "Covariance Type:            nonrobust                                         \n",
       "=====================================================================================================\n",
       "                                        coef    std err          t      P>|t|      [0.025      0.975]\n",
       "-----------------------------------------------------------------------------------------------------\n",
       "Intercept                             8.7647      0.485     18.059      0.000       7.808       9.722\n",
       "DX_01[T.ADHD-Inattentive Type]        1.8627      0.686      2.714      0.007       0.509       3.216\n",
       "DX_01[T.Autism Spectrum Disorder]     2.1765      0.686      3.171      0.002       0.823       3.530\n",
       "DX_01[T.No Diagnosis Given]           0.7059      0.686      1.028      0.305      -0.648       2.059\n",
       "==============================================================================\n",
       "Omnibus:                       18.905   Durbin-Watson:                   2.151\n",
       "Prob(Omnibus):                  0.000   Jarque-Bera (JB):               21.549\n",
       "Skew:                           0.786   Prob(JB):                     2.09e-05\n",
       "Kurtosis:                       3.248   Cond. No.                         4.79\n",
       "==============================================================================\n",
       "\n",
       "Warnings:\n",
       "[1] Standard Errors assume that the covariance matrix of the errors is correctly specified.\n",
       "\"\"\""
      ]
     },
     "execution_count": 26,
     "metadata": {},
     "output_type": "execute_result"
    }
   ],
   "source": [
    "model = ols('Age ~ DX_01',                 # Model formula\n",
    "            data = df).fit()\n",
    "                \n",
    "anova_result = sm.stats.anova_lm(model, typ=2)\n",
    "print (anova_result)\n",
    "model.summary()"
   ]
  },
  {
   "cell_type": "code",
   "execution_count": 27,
   "metadata": {},
   "outputs": [
    {
     "name": "stdout",
     "output_type": "stream",
     "text": [
      "             sum_sq     df         F        PR(>F)\n",
      "Age       12.492536    1.0  49.08143  3.581192e-11\n",
      "Residual  51.414400  202.0       NaN           NaN\n"
     ]
    },
    {
     "data": {
      "text/html": [
       "<table class=\"simpletable\">\n",
       "<caption>OLS Regression Results</caption>\n",
       "<tr>\n",
       "  <th>Dep. Variable:</th>       <td>discrepancy</td>   <th>  R-squared:         </th> <td>   0.195</td>\n",
       "</tr>\n",
       "<tr>\n",
       "  <th>Model:</th>                   <td>OLS</td>       <th>  Adj. R-squared:    </th> <td>   0.191</td>\n",
       "</tr>\n",
       "<tr>\n",
       "  <th>Method:</th>             <td>Least Squares</td>  <th>  F-statistic:       </th> <td>   49.08</td>\n",
       "</tr>\n",
       "<tr>\n",
       "  <th>Date:</th>             <td>Wed, 20 Nov 2019</td> <th>  Prob (F-statistic):</th> <td>3.58e-11</td>\n",
       "</tr>\n",
       "<tr>\n",
       "  <th>Time:</th>                 <td>11:13:23</td>     <th>  Log-Likelihood:    </th> <td> -148.89</td>\n",
       "</tr>\n",
       "<tr>\n",
       "  <th>No. Observations:</th>      <td>   204</td>      <th>  AIC:               </th> <td>   301.8</td>\n",
       "</tr>\n",
       "<tr>\n",
       "  <th>Df Residuals:</th>          <td>   202</td>      <th>  BIC:               </th> <td>   308.4</td>\n",
       "</tr>\n",
       "<tr>\n",
       "  <th>Df Model:</th>              <td>     1</td>      <th>                     </th>     <td> </td>   \n",
       "</tr>\n",
       "<tr>\n",
       "  <th>Covariance Type:</th>      <td>nonrobust</td>    <th>                     </th>     <td> </td>   \n",
       "</tr>\n",
       "</table>\n",
       "<table class=\"simpletable\">\n",
       "<tr>\n",
       "      <td></td>         <th>coef</th>     <th>std err</th>      <th>t</th>      <th>P>|t|</th>  <th>[0.025</th>    <th>0.975]</th>  \n",
       "</tr>\n",
       "<tr>\n",
       "  <th>Intercept</th> <td>   -0.6168</td> <td>    0.105</td> <td>   -5.856</td> <td> 0.000</td> <td>   -0.825</td> <td>   -0.409</td>\n",
       "</tr>\n",
       "<tr>\n",
       "  <th>Age</th>       <td>    0.0699</td> <td>    0.010</td> <td>    7.006</td> <td> 0.000</td> <td>    0.050</td> <td>    0.090</td>\n",
       "</tr>\n",
       "</table>\n",
       "<table class=\"simpletable\">\n",
       "<tr>\n",
       "  <th>Omnibus:</th>       <td>16.838</td> <th>  Durbin-Watson:     </th> <td>   1.849</td>\n",
       "</tr>\n",
       "<tr>\n",
       "  <th>Prob(Omnibus):</th> <td> 0.000</td> <th>  Jarque-Bera (JB):  </th> <td>  25.790</td>\n",
       "</tr>\n",
       "<tr>\n",
       "  <th>Skew:</th>          <td>-0.492</td> <th>  Prob(JB):          </th> <td>2.51e-06</td>\n",
       "</tr>\n",
       "<tr>\n",
       "  <th>Kurtosis:</th>      <td> 4.437</td> <th>  Cond. No.          </th> <td>    31.7</td>\n",
       "</tr>\n",
       "</table><br/><br/>Warnings:<br/>[1] Standard Errors assume that the covariance matrix of the errors is correctly specified."
      ],
      "text/plain": [
       "<class 'statsmodels.iolib.summary.Summary'>\n",
       "\"\"\"\n",
       "                            OLS Regression Results                            \n",
       "==============================================================================\n",
       "Dep. Variable:            discrepancy   R-squared:                       0.195\n",
       "Model:                            OLS   Adj. R-squared:                  0.191\n",
       "Method:                 Least Squares   F-statistic:                     49.08\n",
       "Date:                Wed, 20 Nov 2019   Prob (F-statistic):           3.58e-11\n",
       "Time:                        11:13:23   Log-Likelihood:                -148.89\n",
       "No. Observations:                 204   AIC:                             301.8\n",
       "Df Residuals:                     202   BIC:                             308.4\n",
       "Df Model:                           1                                         \n",
       "Covariance Type:            nonrobust                                         \n",
       "==============================================================================\n",
       "                 coef    std err          t      P>|t|      [0.025      0.975]\n",
       "------------------------------------------------------------------------------\n",
       "Intercept     -0.6168      0.105     -5.856      0.000      -0.825      -0.409\n",
       "Age            0.0699      0.010      7.006      0.000       0.050       0.090\n",
       "==============================================================================\n",
       "Omnibus:                       16.838   Durbin-Watson:                   1.849\n",
       "Prob(Omnibus):                  0.000   Jarque-Bera (JB):               25.790\n",
       "Skew:                          -0.492   Prob(JB):                     2.51e-06\n",
       "Kurtosis:                       4.437   Cond. No.                         31.7\n",
       "==============================================================================\n",
       "\n",
       "Warnings:\n",
       "[1] Standard Errors assume that the covariance matrix of the errors is correctly specified.\n",
       "\"\"\""
      ]
     },
     "execution_count": 27,
     "metadata": {},
     "output_type": "execute_result"
    }
   ],
   "source": [
    "model = ols('discrepancy ~ Age',                 # Model formula\n",
    "            data = df).fit()\n",
    "                \n",
    "anova_result = sm.stats.anova_lm(model, typ=2)\n",
    "print (anova_result)\n",
    "model.summary()"
   ]
  },
  {
   "cell_type": "markdown",
   "metadata": {},
   "source": [
    "Boxplot for children aged <17:"
   ]
  },
  {
   "cell_type": "code",
   "execution_count": 41,
   "metadata": {},
   "outputs": [
    {
     "data": {
      "text/plain": [
       "<matplotlib.axes._subplots.AxesSubplot at 0x7ff63d8f75f8>"
      ]
     },
     "execution_count": 41,
     "metadata": {},
     "output_type": "execute_result"
    },
    {
     "data": {
      "image/png": "[encoded data removed]",
      "text/plain": [
       "<Figure size 864x576 with 1 Axes>"
      ]
     },
     "metadata": {
      "needs_background": "light"
     },
     "output_type": "display_data"
    }
   ],
   "source": [
    "df['Age'] = np.floor(dataframe['Age'])\n",
    "df = df.loc[df['Age']<17]\n",
    "#Create a boxplot\n",
    "df.boxplot('discrepancy', by='Age', figsize=(12, 8))"
   ]
  },
  {
   "cell_type": "markdown",
   "metadata": {},
   "source": [
    "## Comments\n",
    "Including age makes the p-val for autism less significant, but this makes sence since age is quite correlated with discrepancy of age itself (and with the diseases!)"
   ]
  },
  {
   "cell_type": "code",
   "execution_count": null,
   "metadata": {},
   "outputs": [],
   "source": []
  }
 ],
 "metadata": {
  "kernelspec": {
   "display_name": "dslab",
   "language": "python",
   "name": "dslab"
  },
  "language_info": {
   "codemirror_mode": {
    "name": "ipython",
    "version": 3
   },
   "file_extension": ".py",
   "mimetype": "text/x-python",
   "name": "python",
   "nbconvert_exporter": "python",
   "pygments_lexer": "ipython3",
   "version": "3.6.9"
  }
 },
 "nbformat": 4,
 "nbformat_minor": 2
}
