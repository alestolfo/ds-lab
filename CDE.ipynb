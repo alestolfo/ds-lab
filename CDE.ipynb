{
 "cells": [
  {
   "cell_type": "markdown",
   "metadata": {},
   "source": [
    "# Conditional density estimation with noise regularization"
   ]
  },
  {
   "cell_type": "markdown",
   "metadata": {},
   "source": [
    "IMPORTANT NOTE:\n",
    "The cde library will work only for tensorflow versions between 1.4 and 1.7.\n",
    "Here I am using tensorflow_gpu in version 1.7.\n",
    "Initially, we will predict the CDE of age given the MRI high-level features (DTI excluded for the moment).\n",
    "As a density estimation model for the moment I choose MDN."
   ]
  },
  {
   "cell_type": "code",
   "execution_count": 1,
   "metadata": {},
   "outputs": [],
   "source": [
    "import warnings\n",
    "warnings.filterwarnings('ignore')"
   ]
  },
  {
   "cell_type": "code",
   "execution_count": 2,
   "metadata": {},
   "outputs": [
    {
     "name": "stdout",
     "output_type": "stream",
     "text": [
      "WARNING:tensorflow:From /home/camillca/anaconda3/envs/dslab/lib/python3.6/site-packages/tensorflow/contrib/learn/python/learn/datasets/base.py:198: retry (from tensorflow.contrib.learn.python.learn.datasets.base) is deprecated and will be removed in a future version.\n",
      "Instructions for updating:\n",
      "Use the retry module or similar alternatives.\n"
     ]
    }
   ],
   "source": [
    "from utils import create_dataset_mri\n",
    "from cde.density_estimator import MixtureDensityNetwork\n",
    "import numpy as np\n",
    "import tensorflow as tf\n",
    "from sklearn.model_selection import cross_val_score, train_test_split\n",
    "from sklearn.metrics import mean_squared_error"
   ]
  },
  {
   "cell_type": "code",
   "execution_count": 3,
   "metadata": {},
   "outputs": [
    {
     "name": "stdout",
     "output_type": "stream",
     "text": [
      "1.7.0\n"
     ]
    }
   ],
   "source": [
    "import tensorflow as tf\n",
    "# torch version\n",
    "print(tf.__version__)"
   ]
  },
  {
   "cell_type": "code",
   "execution_count": 4,
   "metadata": {},
   "outputs": [],
   "source": [
    "# Create dataset\n",
    "target = 'Age'\n",
    "# use all MRI high-level features, no DTI\n",
    "data = create_dataset_mri(SCORE = target)\n",
    "# for the moment, remove the diagnosis colums\n",
    "try:\n",
    "    data.drop(columns=['DX_01_Cat'], inplace=True)\n",
    "except:\n",
    "    pass\n",
    "try:\n",
    "    data.drop(columns=['DX_01_Sub'], inplace=True)\n",
    "except:\n",
    "    pass\n",
    "try:\n",
    "    data.drop(columns=['DX_01'], inplace=True)\n",
    "except:\n",
    "    pass"
   ]
  },
  {
   "cell_type": "code",
   "execution_count": 5,
   "metadata": {},
   "outputs": [],
   "source": [
    "# labels and features\n",
    "y = data[target]\n",
    "X = data.drop([target, 'ID'], axis=1)"
   ]
  },
  {
   "cell_type": "code",
   "execution_count": 6,
   "metadata": {},
   "outputs": [
    {
     "name": "stdout",
     "output_type": "stream",
     "text": [
      "(1146, 369)\n",
      "(1146,)\n"
     ]
    }
   ],
   "source": [
    "print(X.shape)\n",
    "print(y.shape)\n",
    "y = np.array(y)\n",
    "X = np.array(X)\n",
    "y = y.reshape((1146,1))"
   ]
  },
  {
   "cell_type": "code",
   "execution_count": 7,
   "metadata": {},
   "outputs": [],
   "source": [
    "# split the dataset\n",
    "X_train, X_test, y_train, y_test = train_test_split(X, y, test_size=0.22, random_state=42)"
   ]
  },
  {
   "cell_type": "code",
   "execution_count": 8,
   "metadata": {},
   "outputs": [
    {
     "name": "stdout",
     "output_type": "stream",
     "text": [
      "0.9811924987692464\n"
     ]
    }
   ],
   "source": [
    "# Set model parameters\n",
    "ndim_x=369\n",
    "ndim_y=1\n",
    "# We try the \"faster decay rate for non-gaussian data\" proposed in the paper: h = n^(-1/(d+1))\n",
    "n = X.shape[0]\n",
    "d = X.shape[1]+y.shape[1]\n",
    "h = n**(-1/(d+1))\n",
    "print(h)"
   ]
  },
  {
   "cell_type": "code",
   "execution_count": 9,
   "metadata": {},
   "outputs": [],
   "source": [
    "model = MixtureDensityNetwork('MDN', ndim_x, ndim_y, n_centers=10, hidden_sizes=(16, 16), hidden_nonlinearity=tf.nn.tanh,\n",
    "               n_training_epochs=1000, x_noise_std=h, y_noise_std=h, adaptive_noise_fn=None, entropy_reg_coef=0.0,\n",
    "               weight_decay=0.0, weight_normalization=True, data_normalization=True, dropout=0.0, l2_reg=0.0, l1_reg=0.0,\n",
    "               random_seed=42)"
   ]
  },
  {
   "cell_type": "code",
   "execution_count": 10,
   "metadata": {},
   "outputs": [
    {
     "name": "stdout",
     "output_type": "stream",
     "text": [
      "1000/1000 [100%] ██████████████████████████████ Elapsed: 11s | loss: 1313.019\n",
      "mean log-loss train: 1.4703\n"
     ]
    }
   ],
   "source": [
    "model.fit(X_train, y_train)"
   ]
  },
  {
   "cell_type": "code",
   "execution_count": 16,
   "metadata": {},
   "outputs": [
    {
     "data": {
      "text/plain": [
       "(253, 1)"
      ]
     },
     "execution_count": 16,
     "metadata": {},
     "output_type": "execute_result"
    }
   ],
   "source": [
    "y_pred = model.mean_(X_test)\n",
    "y_pred = y_pred.reshape((-1,1))\n",
    "y_pred.shape"
   ]
  },
  {
   "cell_type": "code",
   "execution_count": 19,
   "metadata": {},
   "outputs": [
    {
     "data": {
      "text/plain": [
       "array([[ 9.86504173],\n",
       "       [ 7.66265774],\n",
       "       [ 7.37785149],\n",
       "       [12.88258266],\n",
       "       [10.84910107],\n",
       "       [ 6.29711723],\n",
       "       [ 6.00925112],\n",
       "       [ 7.65075493],\n",
       "       [ 8.8582077 ],\n",
       "       [11.84934425],\n",
       "       [15.25678921],\n",
       "       [ 7.12550068],\n",
       "       [11.75008297],\n",
       "       [12.01037979],\n",
       "       [ 9.29751682],\n",
       "       [10.82301521],\n",
       "       [ 7.17250156],\n",
       "       [12.62624741],\n",
       "       [ 7.9437933 ],\n",
       "       [ 7.89524841],\n",
       "       [ 8.08544064],\n",
       "       [ 8.68732262],\n",
       "       [ 9.20664024],\n",
       "       [12.39980888],\n",
       "       [ 8.14702988],\n",
       "       [17.71029472],\n",
       "       [10.34744263],\n",
       "       [16.85252953],\n",
       "       [ 7.22358322],\n",
       "       [11.3884058 ],\n",
       "       [ 6.19844437],\n",
       "       [16.12165451],\n",
       "       [15.25907135],\n",
       "       [13.61967373],\n",
       "       [10.03926849],\n",
       "       [19.51402664],\n",
       "       [12.89876842],\n",
       "       [ 7.49852324],\n",
       "       [17.07832336],\n",
       "       [ 7.8304534 ],\n",
       "       [13.6093483 ],\n",
       "       [ 9.09165859],\n",
       "       [ 6.66081667],\n",
       "       [ 7.53991699],\n",
       "       [17.0955658 ],\n",
       "       [11.52193928],\n",
       "       [12.10262489],\n",
       "       [10.51073647],\n",
       "       [ 6.69988823],\n",
       "       [ 9.94327831],\n",
       "       [ 7.20211554],\n",
       "       [ 8.45161343],\n",
       "       [ 8.40410328],\n",
       "       [ 8.0203228 ],\n",
       "       [ 7.58242702],\n",
       "       [16.24908829],\n",
       "       [ 8.75496101],\n",
       "       [14.94795799],\n",
       "       [ 7.54290247],\n",
       "       [ 6.90939808],\n",
       "       [ 8.65732574],\n",
       "       [ 8.38501453],\n",
       "       [16.82201004],\n",
       "       [ 6.34455776],\n",
       "       [ 9.57982063],\n",
       "       [ 7.98335314],\n",
       "       [12.08692169],\n",
       "       [ 8.37288666],\n",
       "       [ 6.11528969],\n",
       "       [ 7.33551025],\n",
       "       [ 9.61830902],\n",
       "       [10.9403162 ],\n",
       "       [14.55894089],\n",
       "       [ 8.42383003],\n",
       "       [ 9.21455193],\n",
       "       [ 8.5189209 ],\n",
       "       [11.63147354],\n",
       "       [ 9.25786877],\n",
       "       [ 5.93698692],\n",
       "       [10.48332596],\n",
       "       [ 9.32569885],\n",
       "       [10.04722214],\n",
       "       [ 6.85032511],\n",
       "       [ 6.12542772],\n",
       "       [ 8.98338699],\n",
       "       [12.96307182],\n",
       "       [12.75587273],\n",
       "       [17.39772415],\n",
       "       [15.43423557],\n",
       "       [ 5.52571487],\n",
       "       [ 7.31656551],\n",
       "       [ 7.87377357],\n",
       "       [ 7.25013542],\n",
       "       [ 6.73758316],\n",
       "       [ 8.31692696],\n",
       "       [ 7.83008718],\n",
       "       [10.99493217],\n",
       "       [ 7.40544033],\n",
       "       [14.09078217],\n",
       "       [ 6.87699604],\n",
       "       [12.27990818],\n",
       "       [15.91888046],\n",
       "       [17.09044266],\n",
       "       [ 6.99126577],\n",
       "       [13.03793812],\n",
       "       [ 6.69000292],\n",
       "       [ 7.20412254],\n",
       "       [ 7.42709446],\n",
       "       [12.72530842],\n",
       "       [ 7.97262478],\n",
       "       [11.10911655],\n",
       "       [13.93441582],\n",
       "       [13.24345779],\n",
       "       [ 6.89271545],\n",
       "       [ 5.27461004],\n",
       "       [11.79326248],\n",
       "       [19.14641953],\n",
       "       [16.23780823],\n",
       "       [11.93276978],\n",
       "       [15.96483517],\n",
       "       [ 7.01585484],\n",
       "       [ 6.86504984],\n",
       "       [15.30483055],\n",
       "       [17.83359528],\n",
       "       [ 6.10819769],\n",
       "       [10.51813889],\n",
       "       [ 8.44312859],\n",
       "       [ 8.48948383],\n",
       "       [ 5.8960042 ],\n",
       "       [10.59927464],\n",
       "       [ 6.83920383],\n",
       "       [ 7.72886038],\n",
       "       [12.38287354],\n",
       "       [ 7.57862902],\n",
       "       [16.71712494],\n",
       "       [17.54528427],\n",
       "       [11.41942787],\n",
       "       [ 8.35301113],\n",
       "       [16.07682419],\n",
       "       [13.07500172],\n",
       "       [ 7.05595207],\n",
       "       [ 8.4400053 ],\n",
       "       [15.72248173],\n",
       "       [15.72313499],\n",
       "       [11.81428242],\n",
       "       [11.84279633],\n",
       "       [14.55573845],\n",
       "       [10.51983166],\n",
       "       [10.86324692],\n",
       "       [12.96871567],\n",
       "       [ 8.87345219],\n",
       "       [17.99092484],\n",
       "       [14.79627705],\n",
       "       [17.42677689],\n",
       "       [12.1767416 ],\n",
       "       [17.06329727],\n",
       "       [ 7.00583839],\n",
       "       [ 8.12659168],\n",
       "       [10.37122631],\n",
       "       [ 9.32998753],\n",
       "       [12.79161453],\n",
       "       [12.53403473],\n",
       "       [13.97140408],\n",
       "       [ 8.96616364],\n",
       "       [12.5606823 ],\n",
       "       [ 9.52673149],\n",
       "       [ 6.37456322],\n",
       "       [ 6.9478302 ],\n",
       "       [ 5.4288249 ],\n",
       "       [ 7.48528147],\n",
       "       [ 9.9666729 ],\n",
       "       [12.80117607],\n",
       "       [15.95599365],\n",
       "       [ 7.84711218],\n",
       "       [12.29483604],\n",
       "       [14.95832157],\n",
       "       [15.71584702],\n",
       "       [10.74503899],\n",
       "       [10.60396004],\n",
       "       [ 6.04955673],\n",
       "       [ 8.15291405],\n",
       "       [10.28224754],\n",
       "       [ 9.80970383],\n",
       "       [ 7.43342304],\n",
       "       [11.30513763],\n",
       "       [14.18070984],\n",
       "       [ 7.50781298],\n",
       "       [ 8.81796074],\n",
       "       [17.76429176],\n",
       "       [ 8.32327843],\n",
       "       [10.5196209 ],\n",
       "       [16.58659744],\n",
       "       [ 7.74956274],\n",
       "       [14.51151466],\n",
       "       [16.56872749],\n",
       "       [17.09412193],\n",
       "       [14.13022614],\n",
       "       [ 9.44235611],\n",
       "       [14.54513645],\n",
       "       [ 8.82839298],\n",
       "       [ 7.46846104],\n",
       "       [ 6.67614746],\n",
       "       [ 7.1002388 ],\n",
       "       [ 6.68633366],\n",
       "       [15.16709137],\n",
       "       [ 8.44980431],\n",
       "       [14.228508  ],\n",
       "       [12.57978439],\n",
       "       [ 9.47333431],\n",
       "       [ 8.1959095 ],\n",
       "       [16.04120636],\n",
       "       [ 7.31804991],\n",
       "       [15.18392372],\n",
       "       [12.66950607],\n",
       "       [ 6.43116331],\n",
       "       [11.64230633],\n",
       "       [ 8.10161304],\n",
       "       [14.80849266],\n",
       "       [ 6.76360035],\n",
       "       [ 9.54065132],\n",
       "       [15.11523056],\n",
       "       [10.21354771],\n",
       "       [ 8.41291809],\n",
       "       [ 6.80735493],\n",
       "       [10.0567112 ],\n",
       "       [18.27379227],\n",
       "       [ 6.48338032],\n",
       "       [ 7.24993515],\n",
       "       [10.19281769],\n",
       "       [14.76827335],\n",
       "       [ 9.99303246],\n",
       "       [ 9.89758778],\n",
       "       [ 7.52810049],\n",
       "       [ 6.22331715],\n",
       "       [ 7.61055946],\n",
       "       [17.44058228],\n",
       "       [ 6.96128559],\n",
       "       [17.4211216 ],\n",
       "       [ 8.57409573],\n",
       "       [ 9.25089455],\n",
       "       [ 6.38643551],\n",
       "       [ 6.78290701],\n",
       "       [10.73555088],\n",
       "       [ 8.64426613],\n",
       "       [10.91049194],\n",
       "       [ 5.52051353],\n",
       "       [ 8.96134949],\n",
       "       [ 8.72041798],\n",
       "       [11.85401344],\n",
       "       [12.62637901],\n",
       "       [ 6.18562222],\n",
       "       [13.01703453],\n",
       "       [ 6.44199562]])"
      ]
     },
     "execution_count": 19,
     "metadata": {},
     "output_type": "execute_result"
    }
   ],
   "source": [
    "y_pred"
   ]
  },
  {
   "cell_type": "code",
   "execution_count": 18,
   "metadata": {},
   "outputs": [
    {
     "name": "stdout",
     "output_type": "stream",
     "text": [
      "Test MSE: 5.800377586364281\n"
     ]
    }
   ],
   "source": [
    "print('Test MSE: {}'.format(mean_squared_error(y_pred, y_test)))"
   ]
  },
  {
   "cell_type": "code",
   "execution_count": null,
   "metadata": {},
   "outputs": [],
   "source": []
  }
 ],
 "metadata": {
  "kernelspec": {
   "display_name": "dslab",
   "language": "python",
   "name": "dslab"
  },
  "language_info": {
   "codemirror_mode": {
    "name": "ipython",
    "version": 3
   },
   "file_extension": ".py",
   "mimetype": "text/x-python",
   "name": "python",
   "nbconvert_exporter": "python",
   "pygments_lexer": "ipython3",
   "version": "3.6.9"
  }
 },
 "nbformat": 4,
 "nbformat_minor": 2
}
