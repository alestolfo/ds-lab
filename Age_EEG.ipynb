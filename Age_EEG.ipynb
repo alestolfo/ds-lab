{
 "cells": [
  {
   "cell_type": "markdown",
   "metadata": {},
   "source": [
    "# Age prediction from eeg features"
   ]
  },
  {
   "cell_type": "code",
   "execution_count": 1,
   "metadata": {},
   "outputs": [],
   "source": [
    "# libraries\n",
    "import matplotlib.pyplot as plt\n",
    "import numpy as np\n",
    "from utils import visualize, create_dataset_age, create_dataset_eeg, cv\n",
    "from sklearn.svm import SVR\n",
    "from sklearn.model_selection import cross_val_score, train_test_split\n",
    "from sklearn.preprocessing import StandardScaler\n",
    "import statsmodels.api as sm\n",
    "from sklearn.linear_model import LinearRegression\n",
    "from sklearn.metrics import mean_squared_error\n",
    "from sklearn.model_selection import KFold\n",
    "from sklearn.ensemble import ExtraTreesRegressor, RandomForestRegressor\n",
    "import seaborn as sns\n",
    "from sklearn.feature_selection import SelectFromModel, SelectKBest, f_regression\n",
    "from sklearn.pipeline import Pipeline\n",
    "from sklearn.model_selection import GridSearchCV\n",
    "from sklearn.metrics import mean_squared_error, make_scorer\n",
    "from sklearn.impute import SimpleImputer\n",
    "import xgboost as xgb"
   ]
  },
  {
   "cell_type": "markdown",
   "metadata": {},
   "source": [
    "## Create dataset"
   ]
  },
  {
   "cell_type": "code",
   "execution_count": 2,
   "metadata": {},
   "outputs": [
    {
     "name": "stderr",
     "output_type": "stream",
     "text": [
      "/home/camillca/anaconda3/envs/dslab/lib/python3.6/site-packages/IPython/core/interactiveshell.py:3249: DtypeWarning: Columns (50,78,80,91,92,93,94,95,105,106,107,108,109,119,120,121,123,133,134,135,137,276,291,292,295,296,297,300,301,302,305,306,307) have mixed types. Specify dtype option on import or set low_memory=False.\n",
      "  if (await self.run_code(code, result,  async_=asy)):\n"
     ]
    }
   ],
   "source": [
    "target = 'Age'\n",
    "# use average and clusters eeg features\n",
    "# consider all the patients\n",
    "data = create_dataset_eeg(SCORE = target,  clusters = False)\n",
    "# for the moment, remove the diagnosis colums\n",
    "try:\n",
    "    data.drop(columns=['DX_01_Cat'], inplace=True)\n",
    "except:\n",
    "    pass\n",
    "try:\n",
    "    data.drop(columns=['DX_01_Sub'], inplace=True)\n",
    "except:\n",
    "    pass\n",
    "try:\n",
    "    data.drop(columns=['DX_01'], inplace=True)\n",
    "except:\n",
    "    pass\n"
   ]
  },
  {
   "cell_type": "code",
   "execution_count": 3,
   "metadata": {},
   "outputs": [],
   "source": [
    "# labels and features\n",
    "y = data[target]\n",
    "X = data.drop([target, 'id'], axis=1)"
   ]
  },
  {
   "cell_type": "markdown",
   "metadata": {},
   "source": [
    "## Fix a baseline (mean age)"
   ]
  },
  {
   "cell_type": "code",
   "execution_count": 4,
   "metadata": {},
   "outputs": [
    {
     "name": "stdout",
     "output_type": "stream",
     "text": [
      "mean_age = 10.47007356431853\n",
      "baseline_MSE = 12.92862647659113\n"
     ]
    }
   ],
   "source": [
    "# Baseline\n",
    "mean = np.mean(y)\n",
    "print('mean_age = {}'.format(mean))\n",
    "baseline_MSE = sum((mean - y)**2)/len(y)\n",
    "print('baseline_MSE = {}'.format(baseline_MSE))"
   ]
  },
  {
   "cell_type": "markdown",
   "metadata": {},
   "source": [
    "# Explore different regressors and feature selection procedures"
   ]
  },
  {
   "cell_type": "markdown",
   "metadata": {},
   "source": [
    "## Use AVERAGE features"
   ]
  },
  {
   "cell_type": "code",
   "execution_count": 5,
   "metadata": {},
   "outputs": [],
   "source": [
    "# split the dataset\n",
    "X_train, X_test, y_train, y_test = train_test_split(X, y, test_size=0.25, random_state=42)"
   ]
  },
  {
   "cell_type": "markdown",
   "metadata": {},
   "source": [
    "## ExtraTrees + SVR"
   ]
  },
  {
   "cell_type": "code",
   "execution_count": 6,
   "metadata": {},
   "outputs": [
    {
     "name": "stdout",
     "output_type": "stream",
     "text": [
      "Fitting 5 folds for each of 200 candidates, totalling 1000 fits\n"
     ]
    },
    {
     "name": "stderr",
     "output_type": "stream",
     "text": [
      "[Parallel(n_jobs=-1)]: Using backend LokyBackend with 12 concurrent workers.\n",
      "[Parallel(n_jobs=-1)]: Done  26 tasks      | elapsed:    4.7s\n",
      "[Parallel(n_jobs=-1)]: Done 176 tasks      | elapsed:   18.4s\n",
      "[Parallel(n_jobs=-1)]: Done 426 tasks      | elapsed:   50.0s\n",
      "[Parallel(n_jobs=-1)]: Done 776 tasks      | elapsed:  1.6min\n",
      "[Parallel(n_jobs=-1)]: Done 1000 out of 1000 | elapsed:  2.1min finished\n"
     ]
    },
    {
     "name": "stdout",
     "output_type": "stream",
     "text": [
      "Mean cross-validated score of the best estimator: 6.3042173028932895\n",
      "Selected hyperparameters: {'feat_select__estimator__n_estimators': 100, 'feat_select__max_features': 60, 'feat_select__threshold': -inf, 'imputation__strategy': 'mean', 'regression__C': 0.5, 'regression__epsilon': 0.3, 'regression__kernel': 'rbf'}\n",
      "Split: 2\n",
      "Average expected test MSE: 6.744339576237367\n",
      "True test error: 5.650461418846045\n"
     ]
    }
   ],
   "source": [
    "pipe = Pipeline([ ('imputation', SimpleImputer()), ('scaling', StandardScaler()),\n",
    "  ('feat_select', SelectFromModel(ExtraTreesRegressor(100))),\n",
    "  ('regression', SVR())\n",
    "])\n",
    "# Prepare sets of parameters for gridsearch\n",
    "parameters = {'imputation__strategy' : ['mean', 'median'],\n",
    "            'regression__C' : [0.5, 0.8, 1, 1.5, 2],\n",
    "            'regression__epsilon' : [0.05, 0.1, 0.3, 0.5],\n",
    "            'regression__kernel' : ['rbf'],\n",
    "            'feat_select__estimator__n_estimators' : [100],\n",
    "            'feat_select__threshold' : [-np.inf],\n",
    "            'feat_select__max_features' : [10, 20, 40, 50, 60]\n",
    "}\n",
    "model = GridSearchCV(estimator=pipe, param_grid=parameters, scoring = make_scorer(mean_squared_error), cv=5,\n",
    "                   iid=False, n_jobs=-1, verbose = 1)\n",
    "# inner CV (model selection)\n",
    "model = model.fit(X_train, y_train)\n",
    "# see what has been chosen\n",
    "print('Mean cross-validated score of the best estimator: {}'.format(model.best_score_)  )      \n",
    "print('Selected hyperparameters: {}'.format(model.best_params_) )\n",
    "# outer CV (model evaluation)\n",
    "estimated_test_error = cv(model.best_estimator_, data=X_train, labels=y_train, n_splits=2)\n",
    "print('\\nAverage expected test MSE: {}'.format(np.mean(estimated_test_error)))\n",
    "# effective test MSE\n",
    "y_pred = model.best_estimator_.predict(X_test)\n",
    "print('True test error: {}'.format(mean_squared_error(y_pred, y_test)))"
   ]
  },
  {
   "cell_type": "markdown",
   "metadata": {},
   "source": [
    "## Select KBEST + SVR"
   ]
  },
  {
   "cell_type": "code",
   "execution_count": 7,
   "metadata": {},
   "outputs": [
    {
     "name": "stdout",
     "output_type": "stream",
     "text": [
      "Fitting 5 folds for each of 240 candidates, totalling 1200 fits\n"
     ]
    },
    {
     "name": "stderr",
     "output_type": "stream",
     "text": [
      "[Parallel(n_jobs=-1)]: Using backend LokyBackend with 12 concurrent workers.\n",
      "[Parallel(n_jobs=-1)]: Done  36 tasks      | elapsed:    0.4s\n",
      "[Parallel(n_jobs=-1)]: Done 936 tasks      | elapsed:    6.0s\n",
      "[Parallel(n_jobs=-1)]: Done 1200 out of 1200 | elapsed:    8.2s finished\n"
     ]
    },
    {
     "name": "stdout",
     "output_type": "stream",
     "text": [
      "Mean cross-validated score of the best estimator: 6.190816603009944\n",
      "Selected hyperparameters: {'feat_select__k': 50, 'feat_select__score_func': <function f_regression at 0x7f35efb97840>, 'imputation__strategy': 'median', 'regression__C': 0.5, 'regression__epsilon': 0.3, 'regression__kernel': 'rbf'}\n",
      "Split: 6\n",
      "Average expected test MSE: 6.189660268693264\n",
      "True test error: 5.518191399323431\n"
     ]
    }
   ],
   "source": [
    "pipe = Pipeline([ ('imputation', SimpleImputer()),\n",
    "                 ('scaling', StandardScaler()),\n",
    "  ('feat_select', SelectKBest()),\n",
    "  ('regression', SVR())\n",
    "])\n",
    "# Prepare sets of parameters for gridsearch\n",
    "parameters = {'imputation__strategy' : ['mean', 'median', 'most_frequent'],\n",
    "              'regression__C' : [0.5, 0.8, 1, 1.5, 2],\n",
    "            'regression__epsilon' : [0.05, 0.1, 0.3, 0.5],\n",
    "            'regression__kernel' : ['rbf'],\n",
    "            'feat_select__score_func' : [f_regression],\n",
    "            'feat_select__k' : [10, 20, 30, 50]}\n",
    "model = GridSearchCV(estimator=pipe, param_grid=parameters, scoring = make_scorer(mean_squared_error), cv=5,\n",
    "                   iid=False, n_jobs=-1, verbose = 1)\n",
    "# inner CV (model selection)\n",
    "model = model.fit(X_train, y_train)\n",
    "# see what has been chosen\n",
    "print('Mean cross-validated score of the best estimator: {}'.format(model.best_score_)  )      \n",
    "print('Selected hyperparameters: {}'.format(model.best_params_) )\n",
    "# outer CV (model evaluation)\n",
    "estimated_test_error = cv(model.best_estimator_, data=X_train, labels=y_train, n_splits=6)\n",
    "print('\\nAverage expected test MSE: {}'.format(np.mean(estimated_test_error)))\n",
    "# effective test MSE\n",
    "y_pred = model.best_estimator_.predict(X_test)\n",
    "print('True test error: {}'.format(mean_squared_error(y_pred, y_test)))"
   ]
  },
  {
   "cell_type": "markdown",
   "metadata": {},
   "source": [
    "## Extra Trees + random forest"
   ]
  },
  {
   "cell_type": "code",
   "execution_count": 11,
   "metadata": {},
   "outputs": [
    {
     "name": "stdout",
     "output_type": "stream",
     "text": [
      "Fitting 5 folds for each of 864 candidates, totalling 4320 fits\n"
     ]
    },
    {
     "name": "stderr",
     "output_type": "stream",
     "text": [
      "[Parallel(n_jobs=-1)]: Using backend LokyBackend with 12 concurrent workers.\n",
      "[Parallel(n_jobs=-1)]: Done  26 tasks      | elapsed:    3.3s\n",
      "[Parallel(n_jobs=-1)]: Done 176 tasks      | elapsed:   10.7s\n",
      "[Parallel(n_jobs=-1)]: Done 426 tasks      | elapsed:   26.9s\n",
      "[Parallel(n_jobs=-1)]: Done 776 tasks      | elapsed:   56.2s\n",
      "[Parallel(n_jobs=-1)]: Done 1226 tasks      | elapsed:  1.9min\n",
      "[Parallel(n_jobs=-1)]: Done 1776 tasks      | elapsed:  2.6min\n",
      "[Parallel(n_jobs=-1)]: Done 2426 tasks      | elapsed:  3.2min\n",
      "[Parallel(n_jobs=-1)]: Done 3176 tasks      | elapsed:  3.8min\n",
      "[Parallel(n_jobs=-1)]: Done 4026 tasks      | elapsed:  4.5min\n",
      "[Parallel(n_jobs=-1)]: Done 4320 out of 4320 | elapsed:  4.8min finished\n",
      "/home/camillca/anaconda3/envs/dslab/lib/python3.6/site-packages/sklearn/ensemble/forest.py:245: FutureWarning: The default value of n_estimators will change from 10 in version 0.20 to 100 in 0.22.\n",
      "  \"10 in version 0.20 to 100 in 0.22.\", FutureWarning)\n"
     ]
    },
    {
     "name": "stdout",
     "output_type": "stream",
     "text": [
      "Mean cross-validated score of the best estimator: 6.36160901980003\n",
      "Selected hyperparameters: {'feat_select__estimator__min_samples_leaf': 1, 'feat_select__estimator__n_estimators': 100, 'feat_select__max_features': 20, 'feat_select__threshold': -inf, 'imputation__strategy': 'most_frequent', 'regression__max_depth': 12, 'regression__min_samples_leaf': 1}\n",
      "Split: 5\n",
      "Average expected test MSE: 5.725060630416737\n",
      "True test error: 5.6168491579637925\n"
     ]
    }
   ],
   "source": [
    "pipe = Pipeline([ ('imputation', SimpleImputer()), ('scaling', StandardScaler()),\n",
    "  ('feat_select', SelectFromModel(ExtraTreesRegressor())),\n",
    "  ('regression', RandomForestRegressor())\n",
    "])\n",
    "# Prepare sets of parameters for gridsearch\n",
    "parameters = {'imputation__strategy' : ['mean', 'median', 'most_frequent'],\n",
    "              'feat_select__estimator__n_estimators' : [50, 100],\n",
    "              'feat_select__estimator__min_samples_leaf' : [1, 5, 8],\n",
    "            'feat_select__threshold' : [-np.inf],\n",
    "            'feat_select__max_features' : [10, 20, 30, 50],\n",
    "            'regression__max_depth' : [3, 6, 12],\n",
    "            'regression__min_samples_leaf' : [1, 3, 5, 8]\n",
    "}\n",
    "model = GridSearchCV(estimator=pipe, param_grid=parameters, scoring = make_scorer(mean_squared_error), cv=5,\n",
    "                   iid=False, n_jobs=-1, verbose = 1)\n",
    "# inner CV (model selection)\n",
    "model = model.fit(X_train, y_train)\n",
    "# see what has been chosen\n",
    "print('Mean cross-validated score of the best estimator: {}'.format(model.best_score_)  )      \n",
    "print('Selected hyperparameters: {}'.format(model.best_params_) )\n",
    "# outer CV (model evaluation)\n",
    "estimated_test_error = cv(model.best_estimator_, data=X_train, labels=y_train, n_splits=5)\n",
    "print('\\nAverage expected test MSE: {}'.format(np.mean(estimated_test_error)))\n",
    "# effective test MSE\n",
    "y_pred = model.best_estimator_.predict(X_test)\n",
    "print('True test error: {}'.format(mean_squared_error(y_pred, y_test)))"
   ]
  },
  {
   "cell_type": "markdown",
   "metadata": {},
   "source": [
    "## Extra Trees + XGBoost"
   ]
  },
  {
   "cell_type": "code",
   "execution_count": 15,
   "metadata": {},
   "outputs": [
    {
     "name": "stdout",
     "output_type": "stream",
     "text": [
      "Fitting 5 folds for each of 1200 candidates, totalling 6000 fits\n"
     ]
    },
    {
     "name": "stderr",
     "output_type": "stream",
     "text": [
      "[Parallel(n_jobs=-1)]: Using backend LokyBackend with 12 concurrent workers.\n",
      "[Parallel(n_jobs=-1)]: Done  26 tasks      | elapsed:    4.9s\n",
      "[Parallel(n_jobs=-1)]: Done 176 tasks      | elapsed:   20.7s\n",
      "[Parallel(n_jobs=-1)]: Done 426 tasks      | elapsed:   56.7s\n",
      "[Parallel(n_jobs=-1)]: Done 776 tasks      | elapsed:  1.8min\n",
      "[Parallel(n_jobs=-1)]: Done 1226 tasks      | elapsed:  3.0min\n",
      "[Parallel(n_jobs=-1)]: Done 1776 tasks      | elapsed:  3.9min\n",
      "[Parallel(n_jobs=-1)]: Done 2426 tasks      | elapsed:  5.2min\n",
      "[Parallel(n_jobs=-1)]: Done 3176 tasks      | elapsed:  6.3min\n",
      "[Parallel(n_jobs=-1)]: Done 4026 tasks      | elapsed:  7.5min\n",
      "[Parallel(n_jobs=-1)]: Done 4976 tasks      | elapsed:  8.9min\n",
      "[Parallel(n_jobs=-1)]: Done 6000 out of 6000 | elapsed: 10.2min finished\n",
      "/home/camillca/anaconda3/envs/dslab/lib/python3.6/site-packages/xgboost/core.py:587: FutureWarning: Series.base is deprecated and will be removed in a future version\n",
      "  if getattr(data, 'base', None) is not None and \\\n"
     ]
    },
    {
     "name": "stdout",
     "output_type": "stream",
     "text": [
      "[21:11:47] WARNING: /home/conda/feedstock_root/build_artifacts/xgboost_1566327313563/work/src/objective/regression_obj.cu:152: reg:linear is now deprecated in favor of reg:squarederror.\n",
      "Mean cross-validated score of the best estimator: 5.849367200871323\n",
      "Selected hyperparameters: {'feat_select__estimator__min_samples_leaf': 2, 'feat_select__estimator__n_estimators': 100, 'feat_select__max_features': 10, 'feat_select__threshold': -inf, 'imputation__strategy': 'mean', 'regression__booster__alpha': 0.2, 'regression__booster__max_depth': 5}\n",
      "[21:11:47] WARNING: /home/conda/feedstock_root/build_artifacts/xgboost_1566327313563/work/src/objective/regression_obj.cu:152: reg:linear is now deprecated in favor of reg:squarederror.\n",
      "[21:11:48] WARNING: /home/conda/feedstock_root/build_artifacts/xgboost_1566327313563/work/src/objective/regression_obj.cu:152: reg:linear is now deprecated in favor of reg:squarederror.\n",
      "[21:11:48] WARNING: /home/conda/feedstock_root/build_artifacts/xgboost_1566327313563/work/src/objective/regression_obj.cu:152: reg:linear is now deprecated in favor of reg:squarederror.\n",
      "[21:11:49] WARNING: /home/conda/feedstock_root/build_artifacts/xgboost_1566327313563/work/src/objective/regression_obj.cu:152: reg:linear is now deprecated in favor of reg:squarederror.\n",
      "[21:11:49] WARNING: /home/conda/feedstock_root/build_artifacts/xgboost_1566327313563/work/src/objective/regression_obj.cu:152: reg:linear is now deprecated in favor of reg:squarederror.\n",
      "\n",
      "Average expected test MSE: 5.709788876848934\n",
      "True test error: 5.7186602007739324\n"
     ]
    }
   ],
   "source": [
    "pipe = Pipeline([ ('imputation', SimpleImputer()), ('scaling', StandardScaler()),\n",
    "  ('feat_select', SelectFromModel(ExtraTreesRegressor())),\n",
    "  ('regression', xgb.XGBRegressor())])\n",
    "# Prepare sets of parameters for gridsearch\n",
    "parameters = {'imputation__strategy' : ['mean', 'median', 'most_frequent'],\n",
    "              'feat_select__estimator__n_estimators' : [100],\n",
    "              'feat_select__estimator__min_samples_leaf' : [1, 2, 5, 6, 8],\n",
    "              'feat_select__threshold' : [-np.inf],\n",
    "              'feat_select__max_features' : [10, 20, 40, 50],\n",
    "              'regression__booster__alpha' : [0, 0.05, 0.1, 0.2],\n",
    "              'regression__booster__max_depth' : [3, 4, 5, 6, 7]\n",
    "}\n",
    "model = GridSearchCV(estimator=pipe, param_grid=parameters, scoring = make_scorer(mean_squared_error), cv=5,\n",
    "                   iid=False, n_jobs=-1, verbose = 1)\n",
    "# inner CV (model selection)\n",
    "model = model.fit(X_train, y_train)\n",
    "# see what has been chosen\n",
    "print('Mean cross-validated score of the best estimator: {}'.format(model.best_score_)  )      \n",
    "print('Selected hyperparameters: {}'.format(model.best_params_) )\n",
    "# outer CV (model evaluation)\n",
    "estimated_test_error = cv(model.best_estimator_, data=X_train, labels=y_train, n_splits=5)\n",
    "print('\\nAverage expected test MSE: {}'.format(np.mean(estimated_test_error)))\n",
    "# effective test MSE\n",
    "y_pred = model.best_estimator_.predict(X_test)\n",
    "print('True test error: {}'.format(mean_squared_error(y_pred, y_test)))"
   ]
  },
  {
   "cell_type": "markdown",
   "metadata": {},
   "source": [
    "## Select KBest + XGBoost"
   ]
  },
  {
   "cell_type": "code",
   "execution_count": 16,
   "metadata": {},
   "outputs": [
    {
     "name": "stdout",
     "output_type": "stream",
     "text": [
      "Fitting 5 folds for each of 144 candidates, totalling 720 fits\n"
     ]
    },
    {
     "name": "stderr",
     "output_type": "stream",
     "text": [
      "[Parallel(n_jobs=-1)]: Using backend LokyBackend with 12 concurrent workers.\n",
      "[Parallel(n_jobs=-1)]: Done  28 tasks      | elapsed:    0.5s\n",
      "[Parallel(n_jobs=-1)]: Done 328 tasks      | elapsed:    4.9s\n",
      "[Parallel(n_jobs=-1)]: Done 720 out of 720 | elapsed:   18.6s finished\n",
      "/home/camillca/anaconda3/envs/dslab/lib/python3.6/site-packages/xgboost/core.py:587: FutureWarning: Series.base is deprecated and will be removed in a future version\n",
      "  if getattr(data, 'base', None) is not None and \\\n"
     ]
    },
    {
     "name": "stdout",
     "output_type": "stream",
     "text": [
      "[21:12:08] WARNING: /home/conda/feedstock_root/build_artifacts/xgboost_1566327313563/work/src/objective/regression_obj.cu:152: reg:linear is now deprecated in favor of reg:squarederror.\n",
      "Mean cross-validated score of the best estimator: 5.818556164030554\n",
      "Selected hyperparameters: {'feat_select__k': 10, 'feat_select__score_func': <function f_regression at 0x7f35efb97840>, 'imputation__strategy': 'mean', 'regression__booster__alpha': 0, 'regression__booster__max_depth': 3}\n",
      "[21:12:08] WARNING: /home/conda/feedstock_root/build_artifacts/xgboost_1566327313563/work/src/objective/regression_obj.cu:152: reg:linear is now deprecated in favor of reg:squarederror.\n",
      "[21:12:08] WARNING: /home/conda/feedstock_root/build_artifacts/xgboost_1566327313563/work/src/objective/regression_obj.cu:152: reg:linear is now deprecated in favor of reg:squarederror.\n",
      "[21:12:08] WARNING: /home/conda/feedstock_root/build_artifacts/xgboost_1566327313563/work/src/objective/regression_obj.cu:152: reg:linear is now deprecated in favor of reg:squarederror.\n",
      "[21:12:08] WARNING: /home/conda/feedstock_root/build_artifacts/xgboost_1566327313563/work/src/objective/regression_obj.cu:152: reg:linear is now deprecated in favor of reg:squarederror.\n",
      "[21:12:08] WARNING: /home/conda/feedstock_root/build_artifacts/xgboost_1566327313563/work/src/objective/regression_obj.cu:152: reg:linear is now deprecated in favor of reg:squarederror.\n",
      "\n",
      "Average expected test MSE: 5.818556164030555\n",
      "True test error: 5.6838697117054755\n"
     ]
    }
   ],
   "source": [
    "pipe = Pipeline([('imputation', SimpleImputer()), ('scaling', StandardScaler()),\n",
    "  ('feat_select', SelectKBest()),\n",
    "  ('regression', xgb.XGBRegressor())])\n",
    "# Prepare sets of parameters for gridsearch\n",
    "parameters = {'imputation__strategy' : ['mean', 'median', 'most_frequent'],\n",
    "              'feat_select__score_func' : [f_regression],\n",
    "            'feat_select__k' : [10, 20, 40, 50],\n",
    "              'regression__booster__alpha' : [0, 0.05, 0.1, 0.2],\n",
    "              'regression__booster__max_depth' : [3, 4, 6]\n",
    "}\n",
    "model = GridSearchCV(estimator=pipe, param_grid=parameters, scoring = make_scorer(mean_squared_error), cv=5,\n",
    "                   iid=False, n_jobs=-1, verbose = 1)\n",
    "# inner CV (model selection)\n",
    "model = model.fit(X_train, y_train)\n",
    "# see what has been chosen\n",
    "print('Mean cross-validated score of the best estimator: {}'.format(model.best_score_)  )      \n",
    "print('Selected hyperparameters: {}'.format(model.best_params_) )\n",
    "# outer CV (model evaluation)\n",
    "estimated_test_error = cv(model.best_estimator_, data=X_train, labels=y_train, n_splits=5)\n",
    "print('\\nAverage expected test MSE: {}'.format(np.mean(estimated_test_error)))\n",
    "# effective test MSE\n",
    "y_pred = model.best_estimator_.predict(X_test)\n",
    "print('True test error: {}'.format(mean_squared_error(y_pred, y_test)))"
   ]
  },
  {
   "cell_type": "markdown",
   "metadata": {},
   "source": [
    "## Use CLUSTERS features"
   ]
  },
  {
   "cell_type": "code",
   "execution_count": 9,
   "metadata": {},
   "outputs": [],
   "source": [
    "target = 'Age'\n",
    "# use average and clusters eeg features\n",
    "# consider all the patients\n",
    "data = create_dataset_eeg(SCORE = target,  clusters = True)\n",
    "# for the moment, remove the diagnosis colums\n",
    "try:\n",
    "    data.drop(columns=['DX_01_Cat'], inplace=True)\n",
    "except:\n",
    "    pass\n",
    "try:\n",
    "    data.drop(columns=['DX_01_Sub'], inplace=True)\n",
    "except:\n",
    "    pass\n",
    "try:\n",
    "    data.drop(columns=['DX_01'], inplace=True)\n",
    "except:\n",
    "    pass\n",
    "# labels and features\n",
    "y = data[target]\n",
    "X = data.drop([target, 'id'], axis=1)\n",
    "# split the dataset\n",
    "X_train, X_test, y_train, y_test = train_test_split(X, y, test_size=0.25, random_state=42)"
   ]
  },
  {
   "cell_type": "markdown",
   "metadata": {},
   "source": [
    "## Select K BEst + SVR"
   ]
  },
  {
   "cell_type": "code",
   "execution_count": 18,
   "metadata": {},
   "outputs": [
    {
     "name": "stdout",
     "output_type": "stream",
     "text": [
      "Fitting 5 folds for each of 300 candidates, totalling 1500 fits\n"
     ]
    },
    {
     "name": "stderr",
     "output_type": "stream",
     "text": [
      "[Parallel(n_jobs=-1)]: Using backend LokyBackend with 12 concurrent workers.\n",
      "[Parallel(n_jobs=-1)]: Done  28 tasks      | elapsed:    0.6s\n",
      "[Parallel(n_jobs=-1)]: Done 328 tasks      | elapsed:    6.4s\n",
      "[Parallel(n_jobs=-1)]: Done 828 tasks      | elapsed:   21.6s\n",
      "[Parallel(n_jobs=-1)]: Done 1292 tasks      | elapsed:   42.4s\n",
      "[Parallel(n_jobs=-1)]: Done 1500 out of 1500 | elapsed:   52.0s finished\n"
     ]
    },
    {
     "name": "stdout",
     "output_type": "stream",
     "text": [
      "Mean cross-validated score of the best estimator: 5.867841716764488\n",
      "Selected hyperparameters: {'feat_select__k': 20, 'feat_select__score_func': <function f_regression at 0x7f35efb97840>, 'imputation__strategy': 'mean', 'regression__C': 0.5, 'regression__epsilon': 0.1, 'regression__kernel': 'rbf'}\n",
      "Split: 6\n",
      "Average expected test MSE: 5.824217259358503\n",
      "True test error: 5.878174239625014\n"
     ]
    }
   ],
   "source": [
    "pipe = Pipeline([ ('imputation', SimpleImputer()),\n",
    "                 ('scaling', StandardScaler()),\n",
    "  ('feat_select', SelectKBest()),\n",
    "  ('regression', SVR())\n",
    "])\n",
    "# Prepare sets of parameters for gridsearch\n",
    "parameters = {'imputation__strategy' : ['mean', 'median', 'most_frequent'],\n",
    "              'regression__C' : [0.5, 0.8, 1, 1.5, 2],\n",
    "            'regression__epsilon' : [0.05, 0.1, 0.3, 0.5],\n",
    "            'regression__kernel' : ['rbf'],\n",
    "            'feat_select__score_func' : [f_regression],\n",
    "            'feat_select__k' : [20, 80, 100, 120, 160]}\n",
    "model = GridSearchCV(estimator=pipe, param_grid=parameters, scoring = make_scorer(mean_squared_error), cv=5,\n",
    "                   iid=False, n_jobs=-1, verbose = 1)\n",
    "# inner CV (model selection)\n",
    "model = model.fit(X_train, y_train)\n",
    "# see what has been chosen\n",
    "print('Mean cross-validated score of the best estimator: {}'.format(model.best_score_)  )      \n",
    "print('Selected hyperparameters: {}'.format(model.best_params_) )\n",
    "# outer CV (model evaluation)\n",
    "estimated_test_error = cv(model.best_estimator_, data=X_train, labels=y_train, n_splits=6)\n",
    "print('\\nAverage expected test MSE: {}'.format(np.mean(estimated_test_error)))\n",
    "# effective test MSE\n",
    "y_pred = model.best_estimator_.predict(X_test)\n",
    "print('True test error: {}'.format(mean_squared_error(y_pred, y_test)))"
   ]
  },
  {
   "cell_type": "markdown",
   "metadata": {},
   "source": [
    "## ExtraTrees + SVR"
   ]
  },
  {
   "cell_type": "code",
   "execution_count": 19,
   "metadata": {},
   "outputs": [
    {
     "name": "stdout",
     "output_type": "stream",
     "text": [
      "Fitting 5 folds for each of 360 candidates, totalling 1800 fits\n"
     ]
    },
    {
     "name": "stderr",
     "output_type": "stream",
     "text": [
      "[Parallel(n_jobs=-1)]: Using backend LokyBackend with 12 concurrent workers.\n",
      "[Parallel(n_jobs=-1)]: Done  26 tasks      | elapsed:   23.7s\n",
      "[Parallel(n_jobs=-1)]: Done 176 tasks      | elapsed:  2.1min\n",
      "[Parallel(n_jobs=-1)]: Done 426 tasks      | elapsed:  4.7min\n",
      "[Parallel(n_jobs=-1)]: Done 776 tasks      | elapsed:  8.3min\n",
      "[Parallel(n_jobs=-1)]: Done 1226 tasks      | elapsed: 14.1min\n",
      "[Parallel(n_jobs=-1)]: Done 1776 tasks      | elapsed: 19.6min\n",
      "[Parallel(n_jobs=-1)]: Done 1800 out of 1800 | elapsed: 19.8min finished\n"
     ]
    },
    {
     "name": "stdout",
     "output_type": "stream",
     "text": [
      "Mean cross-validated score of the best estimator: 5.964519347941948\n",
      "Selected hyperparameters: {'feat_select__estimator__n_estimators': 100, 'feat_select__max_features': 200, 'feat_select__threshold': -inf, 'imputation__strategy': 'median', 'regression__C': 0.5, 'regression__epsilon': 0.5, 'regression__kernel': 'rbf'}\n",
      "Split: 2\n",
      "Average expected test MSE: 6.392642822161029\n",
      "True test error: 5.560921369455334\n"
     ]
    }
   ],
   "source": [
    "pipe = Pipeline([ ('imputation', SimpleImputer()), ('scaling', StandardScaler()),\n",
    "  ('feat_select', SelectFromModel(ExtraTreesRegressor(100))),\n",
    "  ('regression', SVR())\n",
    "])\n",
    "# Prepare sets of parameters for gridsearch\n",
    "parameters = {'imputation__strategy' : ['mean', 'median', 'most_frequent'],\n",
    "            'regression__C' : [0.5, 0.8, 1, 1.5, 2],\n",
    "            'regression__epsilon' : [0.05, 0.1, 0.3, 0.5],\n",
    "            'regression__kernel' : ['rbf'],\n",
    "            'feat_select__estimator__n_estimators' : [100],\n",
    "            'feat_select__threshold' : [-np.inf],\n",
    "            'feat_select__max_features' : [20, 50, 80, 100, 150, 200]\n",
    "}\n",
    "model = GridSearchCV(estimator=pipe, param_grid=parameters, scoring = make_scorer(mean_squared_error), cv=5,\n",
    "                   iid=False, n_jobs=-1, verbose = True)\n",
    "# inner CV (model selection)\n",
    "model = model.fit(X_train, y_train)\n",
    "# see what has been chosen\n",
    "print('Mean cross-validated score of the best estimator: {}'.format(model.best_score_)  )      \n",
    "print('Selected hyperparameters: {}'.format(model.best_params_) )\n",
    "# outer CV (model evaluation)\n",
    "estimated_test_error = cv(model.best_estimator_, data=X_train, labels=y_train, n_splits=2)\n",
    "print('\\nAverage expected test MSE: {}'.format(np.mean(estimated_test_error)))\n",
    "# effective test MSE\n",
    "y_pred = model.best_estimator_.predict(X_test)\n",
    "print('True test error: {}'.format(mean_squared_error(y_pred, y_test)))"
   ]
  },
  {
   "cell_type": "markdown",
   "metadata": {},
   "source": [
    "## ExtraTrees + Random Forest"
   ]
  },
  {
   "cell_type": "code",
   "execution_count": 20,
   "metadata": {},
   "outputs": [
    {
     "name": "stdout",
     "output_type": "stream",
     "text": [
      "Fitting 5 folds for each of 540 candidates, totalling 2700 fits\n"
     ]
    },
    {
     "name": "stderr",
     "output_type": "stream",
     "text": [
      "[Parallel(n_jobs=-1)]: Using backend LokyBackend with 12 concurrent workers.\n",
      "[Parallel(n_jobs=-1)]: Done  26 tasks      | elapsed:   19.8s\n",
      "[Parallel(n_jobs=-1)]: Done 176 tasks      | elapsed:  1.7min\n",
      "[Parallel(n_jobs=-1)]: Done 426 tasks      | elapsed:  4.1min\n",
      "[Parallel(n_jobs=-1)]: Done 776 tasks      | elapsed:  7.5min\n",
      "[Parallel(n_jobs=-1)]: Done 1226 tasks      | elapsed: 10.1min\n",
      "[Parallel(n_jobs=-1)]: Done 1776 tasks      | elapsed: 12.5min\n",
      "[Parallel(n_jobs=-1)]: Done 2426 tasks      | elapsed: 14.8min\n",
      "[Parallel(n_jobs=-1)]: Done 2700 out of 2700 | elapsed: 15.8min finished\n",
      "/home/camillca/anaconda3/envs/dslab/lib/python3.6/site-packages/sklearn/ensemble/forest.py:245: FutureWarning: The default value of n_estimators will change from 10 in version 0.20 to 100 in 0.22.\n",
      "  \"10 in version 0.20 to 100 in 0.22.\", FutureWarning)\n"
     ]
    },
    {
     "name": "stdout",
     "output_type": "stream",
     "text": [
      "Mean cross-validated score of the best estimator: 6.152210278575962\n",
      "Selected hyperparameters: {'feat_select__estimator__min_samples_leaf': 5, 'feat_select__estimator__n_estimators': 100, 'feat_select__max_features': 20, 'feat_select__threshold': -inf, 'imputation__strategy': 'mean', 'regression__max_depth': 12, 'regression__min_samples_leaf': 1}\n",
      "Split: 5\n",
      "Average expected test MSE: 5.815294210551212\n",
      "True test error: 5.536634191590833\n"
     ]
    }
   ],
   "source": [
    "pipe = Pipeline([ ('imputation', SimpleImputer()), ('scaling', StandardScaler()),\n",
    "  ('feat_select', SelectFromModel(ExtraTreesRegressor())),\n",
    "  ('regression', RandomForestRegressor())\n",
    "])\n",
    "# Prepare sets of parameters for gridsearch\n",
    "parameters = {'imputation__strategy' : ['mean', 'median','most_frequent'],\n",
    "              'feat_select__estimator__n_estimators' : [100],\n",
    "              'feat_select__estimator__min_samples_leaf' : [1, 5, 8],\n",
    "            'feat_select__threshold' : [-np.inf],\n",
    "            'feat_select__max_features' : [20, 30, 50, 100, 140],\n",
    "            'regression__max_depth' : [3, 6, 12],\n",
    "            'regression__min_samples_leaf' : [1, 3, 5, 8]\n",
    "}\n",
    "model = GridSearchCV(estimator=pipe, param_grid=parameters, scoring = make_scorer(mean_squared_error), cv=5,\n",
    "                   iid=False, n_jobs=-1, verbose = 1)\n",
    "# inner CV (model selection)\n",
    "model = model.fit(X_train, y_train)\n",
    "# see what has been chosen\n",
    "print('Mean cross-validated score of the best estimator: {}'.format(model.best_score_)  )      \n",
    "print('Selected hyperparameters: {}'.format(model.best_params_) )\n",
    "# outer CV (model evaluation)\n",
    "estimated_test_error = cv(model.best_estimator_, data=X_train, labels=y_train, n_splits=5)\n",
    "print('\\nAverage expected test MSE: {}'.format(np.mean(estimated_test_error)))\n",
    "# effective test MSE\n",
    "y_pred = model.best_estimator_.predict(X_test)\n",
    "print('True test error: {}'.format(mean_squared_error(y_pred, y_test)))"
   ]
  },
  {
   "cell_type": "markdown",
   "metadata": {},
   "source": [
    "## Extra Trees + xgboost"
   ]
  },
  {
   "cell_type": "code",
   "execution_count": 10,
   "metadata": {},
   "outputs": [
    {
     "name": "stdout",
     "output_type": "stream",
     "text": [
      "Fitting 5 folds for each of 900 candidates, totalling 4500 fits\n"
     ]
    },
    {
     "name": "stderr",
     "output_type": "stream",
     "text": [
      "[Parallel(n_jobs=-1)]: Using backend LokyBackend with 12 concurrent workers.\n",
      "[Parallel(n_jobs=-1)]: Done  26 tasks      | elapsed:   18.8s\n",
      "[Parallel(n_jobs=-1)]: Done 176 tasks      | elapsed:  1.7min\n",
      "[Parallel(n_jobs=-1)]: Done 426 tasks      | elapsed:  4.2min\n",
      "[Parallel(n_jobs=-1)]: Done 776 tasks      | elapsed:  7.7min\n",
      "[Parallel(n_jobs=-1)]: Done 1226 tasks      | elapsed: 11.1min\n",
      "[Parallel(n_jobs=-1)]: Done 1776 tasks      | elapsed: 15.1min\n",
      "[Parallel(n_jobs=-1)]: Done 2426 tasks      | elapsed: 18.0min\n",
      "[Parallel(n_jobs=-1)]: Done 3176 tasks      | elapsed: 21.2min\n",
      "[Parallel(n_jobs=-1)]: Done 4026 tasks      | elapsed: 24.6min\n",
      "[Parallel(n_jobs=-1)]: Done 4500 out of 4500 | elapsed: 26.5min finished\n",
      "/home/camillca/anaconda3/envs/dslab/lib/python3.6/site-packages/xgboost/core.py:587: FutureWarning: Series.base is deprecated and will be removed in a future version\n",
      "  if getattr(data, 'base', None) is not None and \\\n"
     ]
    },
    {
     "name": "stdout",
     "output_type": "stream",
     "text": [
      "[10:48:21] WARNING: /home/conda/feedstock_root/build_artifacts/xgboost_1566327313563/work/src/objective/regression_obj.cu:152: reg:linear is now deprecated in favor of reg:squarederror.\n",
      "Mean cross-validated score of the best estimator: 6.470145575832677\n",
      "Selected hyperparameters: {'feat_select__estimator__min_samples_leaf': 2, 'feat_select__estimator__n_estimators': 100, 'feat_select__max_features': 10, 'feat_select__threshold': -inf, 'imputation__strategy': 'most_frequent', 'regression__booster__alpha': 0.05, 'regression__booster__max_depth': 5}\n",
      "[10:48:23] WARNING: /home/conda/feedstock_root/build_artifacts/xgboost_1566327313563/work/src/objective/regression_obj.cu:152: reg:linear is now deprecated in favor of reg:squarederror.\n",
      "[10:48:25] WARNING: /home/conda/feedstock_root/build_artifacts/xgboost_1566327313563/work/src/objective/regression_obj.cu:152: reg:linear is now deprecated in favor of reg:squarederror.\n",
      "[10:48:27] WARNING: /home/conda/feedstock_root/build_artifacts/xgboost_1566327313563/work/src/objective/regression_obj.cu:152: reg:linear is now deprecated in favor of reg:squarederror.\n",
      "[10:48:29] WARNING: /home/conda/feedstock_root/build_artifacts/xgboost_1566327313563/work/src/objective/regression_obj.cu:152: reg:linear is now deprecated in favor of reg:squarederror.\n",
      "[10:48:31] WARNING: /home/conda/feedstock_root/build_artifacts/xgboost_1566327313563/work/src/objective/regression_obj.cu:152: reg:linear is now deprecated in favor of reg:squarederror.\n",
      "\n",
      "Average expected test MSE: 6.224413466578997\n",
      "True test error: 5.990736650448883\n"
     ]
    }
   ],
   "source": [
    "pipe = Pipeline([ ('imputation', SimpleImputer()), ('scaling', StandardScaler()),\n",
    "  ('feat_select', SelectFromModel(ExtraTreesRegressor())),\n",
    "  ('regression', xgb.XGBRegressor())])\n",
    "# Prepare sets of parameters for gridsearch\n",
    "parameters = {'imputation__strategy' : ['mean', 'median', 'most_frequent'],\n",
    "              'feat_select__estimator__n_estimators' : [100],\n",
    "              'feat_select__estimator__min_samples_leaf' : [1, 2, 5, 6, 8],\n",
    "              'feat_select__threshold' : [-np.inf],\n",
    "              'feat_select__max_features' : [10, 20, 30, 50, 100],\n",
    "              'regression__booster__alpha' : [0, 0.05, 0.1, 0.2],\n",
    "              'regression__booster__max_depth' : [3, 5, 6]\n",
    "}\n",
    "model = GridSearchCV(estimator=pipe, param_grid=parameters, scoring = make_scorer(mean_squared_error), cv=5,\n",
    "                   iid=False, n_jobs=-1, verbose = 1)\n",
    "# inner CV (model selection)\n",
    "model = model.fit(X_train, y_train)\n",
    "# see what has been chosen\n",
    "print('Mean cross-validated score of the best estimator: {}'.format(model.best_score_)  )      \n",
    "print('Selected hyperparameters: {}'.format(model.best_params_) )\n",
    "# outer CV (model evaluation)\n",
    "estimated_test_error = cv(model.best_estimator_, data=X_train, labels=y_train, n_splits=5)\n",
    "print('\\nAverage expected test MSE: {}'.format(np.mean(estimated_test_error)))\n",
    "# effective test MSE\n",
    "y_pred = model.best_estimator_.predict(X_test)\n",
    "print('True test error: {}'.format(mean_squared_error(y_pred, y_test)))"
   ]
  },
  {
   "cell_type": "markdown",
   "metadata": {},
   "source": [
    "## Select KBest + XGBoost"
   ]
  },
  {
   "cell_type": "code",
   "execution_count": 11,
   "metadata": {},
   "outputs": [
    {
     "name": "stdout",
     "output_type": "stream",
     "text": [
      "Fitting 5 folds for each of 300 candidates, totalling 1500 fits\n"
     ]
    },
    {
     "name": "stderr",
     "output_type": "stream",
     "text": [
      "[Parallel(n_jobs=-1)]: Using backend LokyBackend with 12 concurrent workers.\n",
      "[Parallel(n_jobs=-1)]: Done  26 tasks      | elapsed:    0.6s\n",
      "[Parallel(n_jobs=-1)]: Done 176 tasks      | elapsed:    3.3s\n",
      "[Parallel(n_jobs=-1)]: Done 426 tasks      | elapsed:   11.2s\n",
      "[Parallel(n_jobs=-1)]: Done 776 tasks      | elapsed:   29.8s\n",
      "[Parallel(n_jobs=-1)]: Done 1226 tasks      | elapsed:  1.1min\n",
      "[Parallel(n_jobs=-1)]: Done 1500 out of 1500 | elapsed:  1.6min finished\n",
      "/home/camillca/anaconda3/envs/dslab/lib/python3.6/site-packages/xgboost/core.py:587: FutureWarning: Series.base is deprecated and will be removed in a future version\n",
      "  if getattr(data, 'base', None) is not None and \\\n"
     ]
    },
    {
     "name": "stdout",
     "output_type": "stream",
     "text": [
      "[10:50:07] WARNING: /home/conda/feedstock_root/build_artifacts/xgboost_1566327313563/work/src/objective/regression_obj.cu:152: reg:linear is now deprecated in favor of reg:squarederror.\n",
      "Mean cross-validated score of the best estimator: 5.918984172407799\n",
      "Selected hyperparameters: {'feat_select__k': 20, 'feat_select__score_func': <function f_regression at 0x7f7c5df6a7b8>, 'imputation__strategy': 'mean', 'regression__booster__alpha': 0, 'regression__booster__max_depth': 3}\n",
      "[10:50:07] WARNING: /home/conda/feedstock_root/build_artifacts/xgboost_1566327313563/work/src/objective/regression_obj.cu:152: reg:linear is now deprecated in favor of reg:squarederror.\n",
      "[10:50:07] WARNING: /home/conda/feedstock_root/build_artifacts/xgboost_1566327313563/work/src/objective/regression_obj.cu:152: reg:linear is now deprecated in favor of reg:squarederror.\n",
      "[10:50:07] WARNING: /home/conda/feedstock_root/build_artifacts/xgboost_1566327313563/work/src/objective/regression_obj.cu:152: reg:linear is now deprecated in favor of reg:squarederror.\n",
      "[10:50:07] WARNING: /home/conda/feedstock_root/build_artifacts/xgboost_1566327313563/work/src/objective/regression_obj.cu:152: reg:linear is now deprecated in favor of reg:squarederror.\n",
      "[10:50:07] WARNING: /home/conda/feedstock_root/build_artifacts/xgboost_1566327313563/work/src/objective/regression_obj.cu:152: reg:linear is now deprecated in favor of reg:squarederror.\n",
      "\n",
      "Average expected test MSE: 5.918984172407798\n",
      "True test error: 5.6562893314878675\n"
     ]
    }
   ],
   "source": [
    "pipe = Pipeline([('imputation', SimpleImputer()), ('scaling', StandardScaler()),\n",
    "  ('feat_select', SelectKBest()),\n",
    "  ('regression', xgb.XGBRegressor())])\n",
    "# Prepare sets of parameters for gridsearch\n",
    "parameters = {'imputation__strategy' : ['mean', 'median', 'most_frequent'],\n",
    "              'feat_select__score_func' : [f_regression],\n",
    "            'feat_select__k' : [20, 40, 80, 100, 150],\n",
    "              'regression__booster__alpha' : [0, 0.05, 0.1, 0.2],\n",
    "              'regression__booster__max_depth' : [3, 4, 5, 6, 7]\n",
    "}\n",
    "model = GridSearchCV(estimator=pipe, param_grid=parameters, scoring = make_scorer(mean_squared_error), cv=5,\n",
    "                   iid=False, n_jobs=-1, verbose = 1)\n",
    "# inner CV (model selection)\n",
    "model = model.fit(X_train, y_train)\n",
    "# see what has been chosen\n",
    "print('Mean cross-validated score of the best estimator: {}'.format(model.best_score_)  )      \n",
    "print('Selected hyperparameters: {}'.format(model.best_params_) )\n",
    "# outer CV (model evaluation)\n",
    "estimated_test_error = cv(model.best_estimator_, data=X_train, labels=y_train, n_splits=5)\n",
    "print('\\nAverage expected test MSE: {}'.format(np.mean(estimated_test_error)))\n",
    "# effective test MSE\n",
    "y_pred = model.best_estimator_.predict(X_test)\n",
    "print('True test error: {}'.format(mean_squared_error(y_pred, y_test)))"
   ]
  },
  {
   "cell_type": "code",
   "execution_count": null,
   "metadata": {},
   "outputs": [],
   "source": []
  },
  {
   "cell_type": "code",
   "execution_count": null,
   "metadata": {},
   "outputs": [],
   "source": []
  }
 ],
 "metadata": {
  "kernelspec": {
   "display_name": "Python 3",
   "language": "python",
   "name": "python3"
  },
  "language_info": {
   "codemirror_mode": {
    "name": "ipython",
    "version": 3
   },
   "file_extension": ".py",
   "mimetype": "text/x-python",
   "name": "python",
   "nbconvert_exporter": "python",
   "pygments_lexer": "ipython3",
   "version": "3.6.9"
  }
 },
 "nbformat": 4,
 "nbformat_minor": 2
}
