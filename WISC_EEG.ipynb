{
 "cells": [
  {
   "cell_type": "markdown",
   "metadata": {},
   "source": [
    "# Age prediction from eeg features"
   ]
  },
  {
   "cell_type": "code",
   "execution_count": 1,
   "metadata": {},
   "outputs": [],
   "source": [
    "# libraries\n",
    "import matplotlib.pyplot as plt\n",
    "import numpy as np\n",
    "from utils import visualize, create_dataset_age, create_dataset_eeg, cv\n",
    "from sklearn.svm import SVR\n",
    "from sklearn.model_selection import cross_val_score, train_test_split\n",
    "from sklearn.preprocessing import StandardScaler\n",
    "import statsmodels.api as sm\n",
    "from sklearn.linear_model import LinearRegression\n",
    "from sklearn.metrics import mean_squared_error, r2_score, mean_absolute_error\n",
    "from sklearn.model_selection import KFold\n",
    "from sklearn.ensemble import ExtraTreesRegressor, RandomForestRegressor\n",
    "import seaborn as sns\n",
    "from sklearn.feature_selection import SelectFromModel, SelectKBest, f_regression\n",
    "from sklearn.pipeline import Pipeline\n",
    "from sklearn.model_selection import GridSearchCV\n",
    "from sklearn.metrics import mean_squared_error, make_scorer\n",
    "from sklearn.impute import SimpleImputer\n",
    "import xgboost as xgb\n",
    "import pandas as pd\n",
    "from sklearn.linear_model import Lasso"
   ]
  },
  {
   "cell_type": "markdown",
   "metadata": {},
   "source": [
    "## Create dataset"
   ]
  },
  {
   "cell_type": "code",
   "execution_count": 4,
   "metadata": {},
   "outputs": [
    {
     "name": "stdout",
     "output_type": "stream",
     "text": [
      "(1306, 62)\n",
      "(1034, 62)\n"
     ]
    }
   ],
   "source": [
    "target = 'WISC_FSIQ'\n",
    "# use average and clusters eeg features\n",
    "# consider all the patients\n",
    "data = create_dataset_eeg(SCORE = target,  clusters = False)\n",
    "# remove the diagnosis colums\n",
    "data.drop(columns=['DX_01_Cat', 'DX_01_Sub', 'DX_01'], inplace=True)\n",
    "data = data.rename(columns={'id':'ID'})\n",
    "\n",
    "print(data.shape)\n",
    "data.dropna(axis=0, inplace=True, subset=[target])\n",
    "print(data.shape)"
   ]
  },
  {
   "cell_type": "code",
   "execution_count": 5,
   "metadata": {},
   "outputs": [],
   "source": [
    "test_indices = pd.read_csv('data/test_IDS.csv')\n",
    "# Separate test and train set\n",
    "data_test = pd.merge(data, test_indices, on='ID', how='inner')\n",
    "data_train = data.loc[~data['ID'].isin(list((set(test_indices['ID']))))]\n",
    "# labels and features\n",
    "y_train = data_train[target]\n",
    "X_train = data_train.drop([target, 'ID'], axis=1)\n",
    "y_test = data_test[target]\n",
    "X_test = data_test.drop([target, 'ID'], axis=1)"
   ]
  },
  {
   "cell_type": "markdown",
   "metadata": {},
   "source": [
    "## Fix a baseline (mean age)"
   ]
  },
  {
   "cell_type": "code",
   "execution_count": 6,
   "metadata": {},
   "outputs": [
    {
     "name": "stdout",
     "output_type": "stream",
     "text": [
      "mean_age = 97.8016967126193\n",
      "baseline_MSE = 271.80691122509023\n"
     ]
    }
   ],
   "source": [
    "# Baseline\n",
    "mean = np.mean(y_train)\n",
    "print('mean_age = {}'.format(mean))\n",
    "baseline_MSE = sum((mean - y_train)**2)/len(y_train)\n",
    "print('baseline_MSE = {}'.format(baseline_MSE))"
   ]
  },
  {
   "cell_type": "code",
   "execution_count": 7,
   "metadata": {},
   "outputs": [
    {
     "name": "stdout",
     "output_type": "stream",
     "text": [
      "Baseline test error: 264.93297667068344\n"
     ]
    }
   ],
   "source": [
    "print('Baseline test error: {}'.format(sum((mean - y_test)**2)/len(y_test)))"
   ]
  },
  {
   "cell_type": "markdown",
   "metadata": {},
   "source": [
    "# Explore different regressors and feature selection procedures"
   ]
  },
  {
   "cell_type": "markdown",
   "metadata": {},
   "source": [
    "## Use AVERAGE features"
   ]
  },
  {
   "cell_type": "markdown",
   "metadata": {},
   "source": [
    "## ExtraTrees + SVR"
   ]
  },
  {
   "cell_type": "code",
   "execution_count": 8,
   "metadata": {},
   "outputs": [
    {
     "name": "stdout",
     "output_type": "stream",
     "text": [
      "Split: 1\r",
      "Fitting 5 folds for each of 96 candidates, totalling 480 fits\n"
     ]
    },
    {
     "name": "stderr",
     "output_type": "stream",
     "text": [
      "[Parallel(n_jobs=-1)]: Using backend LokyBackend with 4 concurrent workers.\n",
      "[Parallel(n_jobs=-1)]: Done  42 tasks      | elapsed:   17.4s\n",
      "[Parallel(n_jobs=-1)]: Done 192 tasks      | elapsed:  1.2min\n",
      "[Parallel(n_jobs=-1)]: Done 442 tasks      | elapsed:  2.6min\n",
      "[Parallel(n_jobs=-1)]: Done 480 out of 480 | elapsed:  2.8min finished\n"
     ]
    },
    {
     "name": "stdout",
     "output_type": "stream",
     "text": [
      "Split: 2\r",
      "Fitting 5 folds for each of 96 candidates, totalling 480 fits\n"
     ]
    },
    {
     "name": "stderr",
     "output_type": "stream",
     "text": [
      "[Parallel(n_jobs=-1)]: Using backend LokyBackend with 4 concurrent workers.\n",
      "[Parallel(n_jobs=-1)]: Done  42 tasks      | elapsed:   14.7s\n",
      "[Parallel(n_jobs=-1)]: Done 192 tasks      | elapsed:  1.0min\n",
      "[Parallel(n_jobs=-1)]: Done 442 tasks      | elapsed:  2.4min\n",
      "[Parallel(n_jobs=-1)]: Done 480 out of 480 | elapsed:  2.6min finished\n"
     ]
    },
    {
     "name": "stdout",
     "output_type": "stream",
     "text": [
      "Split: 3\r",
      "Fitting 5 folds for each of 96 candidates, totalling 480 fits\n"
     ]
    },
    {
     "name": "stderr",
     "output_type": "stream",
     "text": [
      "[Parallel(n_jobs=-1)]: Using backend LokyBackend with 4 concurrent workers.\n",
      "[Parallel(n_jobs=-1)]: Done  42 tasks      | elapsed:   15.7s\n",
      "[Parallel(n_jobs=-1)]: Done 192 tasks      | elapsed:  1.1min\n",
      "[Parallel(n_jobs=-1)]: Done 442 tasks      | elapsed:  2.5min\n",
      "[Parallel(n_jobs=-1)]: Done 480 out of 480 | elapsed:  2.7min finished\n"
     ]
    },
    {
     "name": "stdout",
     "output_type": "stream",
     "text": [
      "Split: 4\r",
      "Fitting 5 folds for each of 96 candidates, totalling 480 fits\n"
     ]
    },
    {
     "name": "stderr",
     "output_type": "stream",
     "text": [
      "[Parallel(n_jobs=-1)]: Using backend LokyBackend with 4 concurrent workers.\n",
      "[Parallel(n_jobs=-1)]: Done  42 tasks      | elapsed:   15.2s\n",
      "[Parallel(n_jobs=-1)]: Done 192 tasks      | elapsed:  1.1min\n",
      "[Parallel(n_jobs=-1)]: Done 442 tasks      | elapsed:  2.5min\n",
      "[Parallel(n_jobs=-1)]: Done 480 out of 480 | elapsed:  2.7min finished\n"
     ]
    },
    {
     "name": "stdout",
     "output_type": "stream",
     "text": [
      "Split: 5\r",
      "Fitting 5 folds for each of 96 candidates, totalling 480 fits\n"
     ]
    },
    {
     "name": "stderr",
     "output_type": "stream",
     "text": [
      "[Parallel(n_jobs=-1)]: Using backend LokyBackend with 4 concurrent workers.\n",
      "[Parallel(n_jobs=-1)]: Done  42 tasks      | elapsed:   14.8s\n",
      "[Parallel(n_jobs=-1)]: Done 192 tasks      | elapsed:  1.1min\n",
      "[Parallel(n_jobs=-1)]: Done 442 tasks      | elapsed:  2.4min\n",
      "[Parallel(n_jobs=-1)]: Done 480 out of 480 | elapsed:  2.6min finished\n"
     ]
    },
    {
     "name": "stdout",
     "output_type": "stream",
     "text": [
      "\n",
      "Average expected test MSE: 274.95693098612276\n",
      "\n",
      "Average expected test R^2: -0.023718056130110732\n",
      "\n",
      "Average expected test mae: 13.327003613981805\n",
      "Fitting 5 folds for each of 96 candidates, totalling 480 fits\n"
     ]
    },
    {
     "name": "stderr",
     "output_type": "stream",
     "text": [
      "[Parallel(n_jobs=-1)]: Using backend LokyBackend with 4 concurrent workers.\n",
      "[Parallel(n_jobs=-1)]: Done  42 tasks      | elapsed:   18.3s\n",
      "[Parallel(n_jobs=-1)]: Done 192 tasks      | elapsed:  1.3min\n",
      "[Parallel(n_jobs=-1)]: Done 442 tasks      | elapsed:  3.0min\n",
      "[Parallel(n_jobs=-1)]: Done 480 out of 480 | elapsed:  3.3min finished\n"
     ]
    },
    {
     "name": "stdout",
     "output_type": "stream",
     "text": [
      "Selected hyperparameters: {'feat_select__estimator__n_estimators': 100, 'feat_select__max_features': 10, 'feat_select__threshold': -inf, 'imputation__strategy': 'mean', 'regression__C': 0.5, 'regression__epsilon': 0.1, 'regression__kernel': 'rbf'}\n",
      "True test error: 266.6008561701238\n",
      "Test r2: -0.009019103370217385\n",
      "Test mae: 13.407295301720282\n"
     ]
    }
   ],
   "source": [
    "pipe = Pipeline([ ('imputation', SimpleImputer()), ('scaling', StandardScaler()),\n",
    "  ('feat_select', SelectFromModel(ExtraTreesRegressor(100))),\n",
    "  ('regression', SVR())\n",
    "])\n",
    "# Prepare sets of parameters for gridsearch\n",
    "parameters = {'imputation__strategy' : ['mean', 'median'],\n",
    "            'regression__C' : [0.5, 0.8, 1, 2],\n",
    "            'regression__epsilon' : [0.05, 0.1, 0.5],\n",
    "            'regression__kernel' : ['rbf'],\n",
    "            'feat_select__estimator__n_estimators' : [100],\n",
    "            'feat_select__threshold' : [-np.inf],\n",
    "            'feat_select__max_features' : [10, 20, 50, 60]\n",
    "}\n",
    "model = GridSearchCV(estimator=pipe, param_grid=parameters, scoring =  'neg_mean_squared_error', cv=5,\n",
    "                   iid=False, n_jobs=-1, verbose = 1)\n",
    "\n",
    "# outer CV (model evaluation)\n",
    "(estimated_test_error, r2, mae) = cv(model, data=X_train, labels=y_train, n_splits=5, want_r2 = True, want_mae = True)\n",
    "print('\\nAverage expected test MSE: {}'.format(np.mean(estimated_test_error)))\n",
    "print('\\nAverage expected test R^2: {}'.format(np.mean(r2)))\n",
    "print('\\nAverage expected test mae: {}'.format(np.mean(mae)))\n",
    "# effective test MSE\n",
    "model_fitted = model.fit(X_train, y_train)\n",
    "# see what has been chosen    \n",
    "print('Selected hyperparameters: {}'.format(model_fitted.best_params_) )\n",
    "y_pred = model_fitted.best_estimator_.predict(X_test)\n",
    "print('True test error: {}'.format(mean_squared_error(y_pred, y_test)))\n",
    "print('Test r2: {}'.format(r2_score(y_true= y_test, y_pred = y_pred)))\n",
    "print('Test mae: {}'.format(mean_absolute_error(y_true= y_test, y_pred = y_pred)))"
   ]
  },
  {
   "cell_type": "markdown",
   "metadata": {},
   "source": [
    "## Random forest"
   ]
  },
  {
   "cell_type": "code",
   "execution_count": 9,
   "metadata": {},
   "outputs": [
    {
     "name": "stdout",
     "output_type": "stream",
     "text": [
      "Split: 1\r",
      "Fitting 5 folds for each of 18 candidates, totalling 90 fits\n"
     ]
    },
    {
     "name": "stderr",
     "output_type": "stream",
     "text": [
      "[Parallel(n_jobs=-1)]: Using backend LokyBackend with 4 concurrent workers.\n",
      "[Parallel(n_jobs=-1)]: Done  76 tasks      | elapsed:    6.5s\n",
      "[Parallel(n_jobs=-1)]: Done  90 out of  90 | elapsed:   10.3s finished\n",
      "/Users/alestolfo/anaconda2/envs/ds-lab/lib/python3.6/site-packages/sklearn/ensemble/forest.py:248: FutureWarning: The default value of n_estimators will change from 10 in version 0.20 to 100 in 0.22.\n",
      "  \"10 in version 0.20 to 100 in 0.22.\", FutureWarning)\n",
      "[Parallel(n_jobs=-1)]: Using backend LokyBackend with 4 concurrent workers.\n"
     ]
    },
    {
     "name": "stdout",
     "output_type": "stream",
     "text": [
      "Split: 2\r",
      "Fitting 5 folds for each of 18 candidates, totalling 90 fits\n"
     ]
    },
    {
     "name": "stderr",
     "output_type": "stream",
     "text": [
      "[Parallel(n_jobs=-1)]: Done  76 tasks      | elapsed:    6.3s\n",
      "[Parallel(n_jobs=-1)]: Done  90 out of  90 | elapsed:   10.1s finished\n",
      "/Users/alestolfo/anaconda2/envs/ds-lab/lib/python3.6/site-packages/sklearn/ensemble/forest.py:248: FutureWarning: The default value of n_estimators will change from 10 in version 0.20 to 100 in 0.22.\n",
      "  \"10 in version 0.20 to 100 in 0.22.\", FutureWarning)\n",
      "[Parallel(n_jobs=-1)]: Using backend LokyBackend with 4 concurrent workers.\n"
     ]
    },
    {
     "name": "stdout",
     "output_type": "stream",
     "text": [
      "Split: 3\r",
      "Fitting 5 folds for each of 18 candidates, totalling 90 fits\n"
     ]
    },
    {
     "name": "stderr",
     "output_type": "stream",
     "text": [
      "[Parallel(n_jobs=-1)]: Done  76 tasks      | elapsed:    6.3s\n",
      "[Parallel(n_jobs=-1)]: Done  90 out of  90 | elapsed:   10.1s finished\n",
      "/Users/alestolfo/anaconda2/envs/ds-lab/lib/python3.6/site-packages/sklearn/ensemble/forest.py:248: FutureWarning: The default value of n_estimators will change from 10 in version 0.20 to 100 in 0.22.\n",
      "  \"10 in version 0.20 to 100 in 0.22.\", FutureWarning)\n",
      "[Parallel(n_jobs=-1)]: Using backend LokyBackend with 4 concurrent workers.\n"
     ]
    },
    {
     "name": "stdout",
     "output_type": "stream",
     "text": [
      "Split: 4\r",
      "Fitting 5 folds for each of 18 candidates, totalling 90 fits\n"
     ]
    },
    {
     "name": "stderr",
     "output_type": "stream",
     "text": [
      "[Parallel(n_jobs=-1)]: Done  76 tasks      | elapsed:    6.3s\n",
      "[Parallel(n_jobs=-1)]: Done  90 out of  90 | elapsed:   10.1s finished\n",
      "/Users/alestolfo/anaconda2/envs/ds-lab/lib/python3.6/site-packages/sklearn/ensemble/forest.py:248: FutureWarning: The default value of n_estimators will change from 10 in version 0.20 to 100 in 0.22.\n",
      "  \"10 in version 0.20 to 100 in 0.22.\", FutureWarning)\n",
      "[Parallel(n_jobs=-1)]: Using backend LokyBackend with 4 concurrent workers.\n"
     ]
    },
    {
     "name": "stdout",
     "output_type": "stream",
     "text": [
      "Split: 5\r",
      "Fitting 5 folds for each of 18 candidates, totalling 90 fits\n"
     ]
    },
    {
     "name": "stderr",
     "output_type": "stream",
     "text": [
      "[Parallel(n_jobs=-1)]: Done  76 tasks      | elapsed:    6.3s\n",
      "[Parallel(n_jobs=-1)]: Done  90 out of  90 | elapsed:   10.1s finished\n",
      "/Users/alestolfo/anaconda2/envs/ds-lab/lib/python3.6/site-packages/sklearn/ensemble/forest.py:248: FutureWarning: The default value of n_estimators will change from 10 in version 0.20 to 100 in 0.22.\n",
      "  \"10 in version 0.20 to 100 in 0.22.\", FutureWarning)\n",
      "[Parallel(n_jobs=-1)]: Using backend LokyBackend with 4 concurrent workers.\n"
     ]
    },
    {
     "name": "stdout",
     "output_type": "stream",
     "text": [
      "\n",
      "Average expected test MSE: 274.3428682212607\n",
      "\n",
      "Average expected test r2: -0.021821493684827532\n",
      "\n",
      "Average expected test mae: 13.309505016915091\n",
      "Fitting 5 folds for each of 18 candidates, totalling 90 fits\n"
     ]
    },
    {
     "name": "stderr",
     "output_type": "stream",
     "text": [
      "[Parallel(n_jobs=-1)]: Done  76 tasks      | elapsed:    7.5s\n"
     ]
    },
    {
     "name": "stdout",
     "output_type": "stream",
     "text": [
      "Selected hyperparameters: {'imputation__strategy': 'median', 'regression__max_depth': 2, 'regression__min_samples_leaf': 5}\n",
      "True test error: 272.6537164084988\n",
      "Test r2: -0.031927700507853984\n",
      "Test mae: 13.385779564610285\n"
     ]
    },
    {
     "name": "stderr",
     "output_type": "stream",
     "text": [
      "[Parallel(n_jobs=-1)]: Done  90 out of  90 | elapsed:   12.4s finished\n",
      "/Users/alestolfo/anaconda2/envs/ds-lab/lib/python3.6/site-packages/sklearn/ensemble/forest.py:248: FutureWarning: The default value of n_estimators will change from 10 in version 0.20 to 100 in 0.22.\n",
      "  \"10 in version 0.20 to 100 in 0.22.\", FutureWarning)\n"
     ]
    }
   ],
   "source": [
    "pipe = Pipeline([ ('imputation', SimpleImputer()), ('scaling', StandardScaler()),\n",
    "  ('regression', RandomForestRegressor())\n",
    "])\n",
    "# Prepare sets of parameters for gridsearch\n",
    "parameters = {'imputation__strategy' : ['mean', 'median', 'most_frequent'],\n",
    "            'regression__max_depth' : [2, 4],\n",
    "            'regression__min_samples_leaf' : [1, 3, 5]\n",
    "}\n",
    "model = GridSearchCV(estimator=pipe, param_grid=parameters, scoring =  'neg_mean_squared_error', cv=5,\n",
    "                   iid=False, n_jobs=-1, verbose = 1)\n",
    "\n",
    "# outer CV (model evaluation)\n",
    "(estimated_test_error, r2, mae) = cv(model, data=X_train, labels=y_train, n_splits=5, want_r2 = True, want_mae = True)\n",
    "print('\\nAverage expected test MSE: {}'.format(np.mean(estimated_test_error)))\n",
    "print('\\nAverage expected test r2: {}'.format(np.mean(r2)))\n",
    "print('\\nAverage expected test mae: {}'.format(np.mean(mae)))\n",
    "# effective test MSE\n",
    "model_fitted = model.fit(X_train, y_train)\n",
    "# see what has been chosen    \n",
    "print('Selected hyperparameters: {}'.format(model_fitted.best_params_) )\n",
    "y_pred = model_fitted.best_estimator_.predict(X_test)\n",
    "print('True test error: {}'.format(mean_squared_error(y_pred, y_test)))\n",
    "print('Test r2: {}'.format(r2_score(y_true= y_test, y_pred = y_pred)))\n",
    "print('Test mae: {}'.format(mean_absolute_error(y_true= y_test, y_pred = y_pred)))"
   ]
  },
  {
   "cell_type": "markdown",
   "metadata": {},
   "source": [
    "# XGBoost"
   ]
  },
  {
   "cell_type": "code",
   "execution_count": 10,
   "metadata": {},
   "outputs": [
    {
     "name": "stdout",
     "output_type": "stream",
     "text": [
      "Split: 1\r",
      "Fitting 5 folds for each of 36 candidates, totalling 180 fits\n"
     ]
    },
    {
     "name": "stderr",
     "output_type": "stream",
     "text": [
      "[Parallel(n_jobs=-1)]: Using backend LokyBackend with 4 concurrent workers.\n",
      "[Parallel(n_jobs=-1)]: Done  42 tasks      | elapsed:   10.6s\n",
      "[Parallel(n_jobs=-1)]: Done 180 out of 180 | elapsed:   52.9s finished\n"
     ]
    },
    {
     "name": "stdout",
     "output_type": "stream",
     "text": [
      "Split: 2\r",
      "Fitting 5 folds for each of 36 candidates, totalling 180 fits\n"
     ]
    },
    {
     "name": "stderr",
     "output_type": "stream",
     "text": [
      "[Parallel(n_jobs=-1)]: Using backend LokyBackend with 4 concurrent workers.\n",
      "[Parallel(n_jobs=-1)]: Done  42 tasks      | elapsed:    7.5s\n",
      "[Parallel(n_jobs=-1)]: Done 180 out of 180 | elapsed:   43.7s finished\n"
     ]
    },
    {
     "name": "stdout",
     "output_type": "stream",
     "text": [
      "Split: 3\r",
      "Fitting 5 folds for each of 36 candidates, totalling 180 fits\n"
     ]
    },
    {
     "name": "stderr",
     "output_type": "stream",
     "text": [
      "[Parallel(n_jobs=-1)]: Using backend LokyBackend with 4 concurrent workers.\n",
      "[Parallel(n_jobs=-1)]: Done  42 tasks      | elapsed:    6.5s\n",
      "[Parallel(n_jobs=-1)]: Done 180 out of 180 | elapsed:   42.2s finished\n"
     ]
    },
    {
     "name": "stdout",
     "output_type": "stream",
     "text": [
      "Split: 4\r",
      "Fitting 5 folds for each of 36 candidates, totalling 180 fits\n"
     ]
    },
    {
     "name": "stderr",
     "output_type": "stream",
     "text": [
      "[Parallel(n_jobs=-1)]: Using backend LokyBackend with 4 concurrent workers.\n",
      "[Parallel(n_jobs=-1)]: Done  42 tasks      | elapsed:    7.0s\n",
      "[Parallel(n_jobs=-1)]: Done 180 out of 180 | elapsed:   46.5s finished\n"
     ]
    },
    {
     "name": "stdout",
     "output_type": "stream",
     "text": [
      "Split: 5\r",
      "Fitting 5 folds for each of 36 candidates, totalling 180 fits\n"
     ]
    },
    {
     "name": "stderr",
     "output_type": "stream",
     "text": [
      "[Parallel(n_jobs=-1)]: Using backend LokyBackend with 4 concurrent workers.\n",
      "[Parallel(n_jobs=-1)]: Done  42 tasks      | elapsed:    7.2s\n",
      "[Parallel(n_jobs=-1)]: Done 180 out of 180 | elapsed:   41.7s finished\n"
     ]
    },
    {
     "name": "stdout",
     "output_type": "stream",
     "text": [
      "\n",
      "Average expected test MSE: 297.2700878903364\n",
      "\n",
      "Average expected test r2: -0.10794176343569686\n",
      "\n",
      "Average expected test mae: 13.766105148640085\n",
      "Fitting 5 folds for each of 36 candidates, totalling 180 fits\n"
     ]
    },
    {
     "name": "stderr",
     "output_type": "stream",
     "text": [
      "[Parallel(n_jobs=-1)]: Using backend LokyBackend with 4 concurrent workers.\n",
      "[Parallel(n_jobs=-1)]: Done  42 tasks      | elapsed:    8.1s\n",
      "[Parallel(n_jobs=-1)]: Done 180 out of 180 | elapsed:   50.6s finished\n"
     ]
    },
    {
     "name": "stdout",
     "output_type": "stream",
     "text": [
      "Selected hyperparameters: {'imputation__strategy': 'median', 'regression__booster__alpha': 0, 'regression__booster__max_depth': 3}\n",
      "True test error: 267.25223420539254\n",
      "Test r2: -0.011484410085821128\n",
      "Test mae: 13.535774985512534\n"
     ]
    }
   ],
   "source": [
    "pipe = Pipeline([ ('imputation', SimpleImputer()), ('scaling', StandardScaler()),\n",
    "  ('regression', xgb.XGBRegressor())])\n",
    "# Prepare sets of parameters for gridsearch\n",
    "parameters = {'imputation__strategy' : ['mean', 'median', 'most_frequent'],\n",
    "              'regression__booster__alpha' : [0, 0.05, 0.1, 0.2],\n",
    "              'regression__booster__max_depth' : [3, 4, 6]\n",
    "}\n",
    "model = GridSearchCV(estimator=pipe, param_grid=parameters, scoring =  'neg_mean_squared_error', cv=5,\n",
    "                   iid=False, n_jobs=-1, verbose = 1)\n",
    "\n",
    "# Nested CV\n",
    "(estimated_test_error, r2, mae) = cv(model, data=X_train, labels=y_train, n_splits=5, want_r2 = True, want_mae = True)\n",
    "print('\\nAverage expected test MSE: {}'.format(np.mean(estimated_test_error)))\n",
    "print('\\nAverage expected test r2: {}'.format(np.mean(r2)))\n",
    "print('\\nAverage expected test mae: {}'.format(np.mean(mae)))\n",
    "# effective test MSE\n",
    "model_fitted = model.fit(X_train, y_train)\n",
    "# see what has been chosen   \n",
    "print('Selected hyperparameters: {}'.format(model_fitted.best_params_) )\n",
    "y_pred = model_fitted.best_estimator_.predict(X_test)\n",
    "print('True test error: {}'.format(mean_squared_error(y_pred, y_test)))\n",
    "print('Test r2: {}'.format(r2_score(y_true= y_test, y_pred = y_pred)))\n",
    "print('Test mae: {}'.format(mean_absolute_error(y_true= y_test, y_pred = y_pred)))"
   ]
  },
  {
   "cell_type": "markdown",
   "metadata": {},
   "source": [
    "## Lasso"
   ]
  },
  {
   "cell_type": "code",
   "execution_count": 11,
   "metadata": {},
   "outputs": [
    {
     "name": "stdout",
     "output_type": "stream",
     "text": [
      "Split: 1\r",
      "Fitting 5 folds for each of 36 candidates, totalling 180 fits\n"
     ]
    },
    {
     "name": "stderr",
     "output_type": "stream",
     "text": [
      "[Parallel(n_jobs=-1)]: Using backend LokyBackend with 4 concurrent workers.\n",
      "[Parallel(n_jobs=-1)]: Done 180 out of 180 | elapsed:   18.2s finished\n",
      "[Parallel(n_jobs=-1)]: Using backend LokyBackend with 4 concurrent workers.\n"
     ]
    },
    {
     "name": "stdout",
     "output_type": "stream",
     "text": [
      "Split: 2\r",
      "Fitting 5 folds for each of 36 candidates, totalling 180 fits\n"
     ]
    },
    {
     "name": "stderr",
     "output_type": "stream",
     "text": [
      "[Parallel(n_jobs=-1)]: Done 180 out of 180 | elapsed:   18.3s finished\n",
      "[Parallel(n_jobs=-1)]: Using backend LokyBackend with 4 concurrent workers.\n"
     ]
    },
    {
     "name": "stdout",
     "output_type": "stream",
     "text": [
      "Split: 3\r",
      "Fitting 5 folds for each of 36 candidates, totalling 180 fits\n"
     ]
    },
    {
     "name": "stderr",
     "output_type": "stream",
     "text": [
      "[Parallel(n_jobs=-1)]: Done 180 out of 180 | elapsed:   17.3s finished\n",
      "[Parallel(n_jobs=-1)]: Using backend LokyBackend with 4 concurrent workers.\n"
     ]
    },
    {
     "name": "stdout",
     "output_type": "stream",
     "text": [
      "Split: 4\r",
      "Fitting 5 folds for each of 36 candidates, totalling 180 fits\n"
     ]
    },
    {
     "name": "stderr",
     "output_type": "stream",
     "text": [
      "[Parallel(n_jobs=-1)]: Done 180 out of 180 | elapsed:   18.2s finished\n",
      "[Parallel(n_jobs=-1)]: Using backend LokyBackend with 4 concurrent workers.\n"
     ]
    },
    {
     "name": "stdout",
     "output_type": "stream",
     "text": [
      "Split: 5\r",
      "Fitting 5 folds for each of 36 candidates, totalling 180 fits\n"
     ]
    },
    {
     "name": "stderr",
     "output_type": "stream",
     "text": [
      "[Parallel(n_jobs=-1)]: Done 180 out of 180 | elapsed:   16.3s finished\n",
      "[Parallel(n_jobs=-1)]: Using backend LokyBackend with 4 concurrent workers.\n"
     ]
    },
    {
     "name": "stdout",
     "output_type": "stream",
     "text": [
      "\n",
      "Average expected test MSE: 273.81072984414396\n",
      "\n",
      "Average expected test r2: -0.019793923531024226\n",
      "\n",
      "Average expected test mae: 13.307725404567583\n",
      "Fitting 5 folds for each of 36 candidates, totalling 180 fits\n",
      "Selected hyperparameters: {'imputation__strategy': 'mean', 'regression__alpha': 1.7}\n",
      "True test error: 264.93297667068344\n",
      "Test r2: -0.002706586969366098\n",
      "Test mae: 13.26155710673208\n"
     ]
    },
    {
     "name": "stderr",
     "output_type": "stream",
     "text": [
      "[Parallel(n_jobs=-1)]: Done 180 out of 180 | elapsed:   21.0s finished\n"
     ]
    }
   ],
   "source": [
    "pipe = Pipeline([('imputation', SimpleImputer()), ('scaling', StandardScaler()),\n",
    "  ('regression', Lasso())\n",
    "])\n",
    "# Prepare sets of parameters for gridsearch\n",
    "parameters = {'imputation__strategy' : ['mean', 'median', 'most_frequent'],\n",
    "              'regression__alpha' : [1, 1.2, 1.4, 1.7, 1.9, 2, 2.3, 2.5, 3, 3.5, 4, 6],\n",
    "}\n",
    "model = GridSearchCV(estimator=pipe, param_grid=parameters, scoring = 'neg_mean_squared_error', cv=5,\n",
    "                   iid=False, n_jobs=-1, verbose = 1)\n",
    "\n",
    "# outer CV (model evaluation)\n",
    "(estimated_test_error, r2, mae) = cv(model, data=X_train, labels=y_train, n_splits=5, want_r2=True, want_mae = True)\n",
    "print('\\nAverage expected test MSE: {}'.format(np.mean(estimated_test_error)))\n",
    "print('\\nAverage expected test r2: {}'.format(np.mean(r2)))\n",
    "print('\\nAverage expected test mae: {}'.format(np.mean(mae)))\n",
    "# effective test MSE\n",
    "model_fitted = model.fit(X_train, y_train)\n",
    "# see what has been chosen     \n",
    "print('Selected hyperparameters: {}'.format(model_fitted.best_params_) )\n",
    "y_pred = model_fitted.best_estimator_.predict(X_test)\n",
    "print('True test error: {}'.format(mean_squared_error(y_pred, y_test)))\n",
    "print('Test r2: {}'.format(r2_score(y_true= y_test, y_pred = y_pred)))\n",
    "print('Test mae: {}'.format(mean_absolute_error(y_true= y_test, y_pred = y_pred)))"
   ]
  },
  {
   "cell_type": "code",
   "execution_count": null,
   "metadata": {},
   "outputs": [],
   "source": []
  }
 ],
 "metadata": {
  "kernelspec": {
   "display_name": "Python 3.6 (ds-lab)",
   "language": "python",
   "name": "ds-lab"
  },
  "language_info": {
   "codemirror_mode": {
    "name": "ipython",
    "version": 3
   },
   "file_extension": ".py",
   "mimetype": "text/x-python",
   "name": "python",
   "nbconvert_exporter": "python",
   "pygments_lexer": "ipython3",
   "version": "3.6.7"
  }
 },
 "nbformat": 4,
 "nbformat_minor": 2
}
